{
  "cells": [
    {
      "cell_type": "code",
      "execution_count": 43,
      "metadata": {
        "id": "_nrd2yEgwOmS",
        "colab": {
          "base_uri": "https://localhost:8080/"
        },
        "outputId": "e3ebb6f7-1cb7-4e6b-fb53-97a80bf4646f"
      },
      "outputs": [
        {
          "output_type": "stream",
          "name": "stdout",
          "text": [
            "Requirement already satisfied: optuna in /usr/local/lib/python3.10/dist-packages (3.6.1)\n",
            "Requirement already satisfied: alembic>=1.5.0 in /usr/local/lib/python3.10/dist-packages (from optuna) (1.13.2)\n",
            "Requirement already satisfied: colorlog in /usr/local/lib/python3.10/dist-packages (from optuna) (6.8.2)\n",
            "Requirement already satisfied: numpy in /usr/local/lib/python3.10/dist-packages (from optuna) (1.25.2)\n",
            "Requirement already satisfied: packaging>=20.0 in /usr/local/lib/python3.10/dist-packages (from optuna) (24.1)\n",
            "Requirement already satisfied: sqlalchemy>=1.3.0 in /usr/local/lib/python3.10/dist-packages (from optuna) (2.0.31)\n",
            "Requirement already satisfied: tqdm in /usr/local/lib/python3.10/dist-packages (from optuna) (4.66.4)\n",
            "Requirement already satisfied: PyYAML in /usr/local/lib/python3.10/dist-packages (from optuna) (6.0.1)\n",
            "Requirement already satisfied: Mako in /usr/local/lib/python3.10/dist-packages (from alembic>=1.5.0->optuna) (1.3.5)\n",
            "Requirement already satisfied: typing-extensions>=4 in /usr/local/lib/python3.10/dist-packages (from alembic>=1.5.0->optuna) (4.12.2)\n",
            "Requirement already satisfied: greenlet!=0.4.17 in /usr/local/lib/python3.10/dist-packages (from sqlalchemy>=1.3.0->optuna) (3.0.3)\n",
            "Requirement already satisfied: MarkupSafe>=0.9.2 in /usr/local/lib/python3.10/dist-packages (from Mako->alembic>=1.5.0->optuna) (2.1.5)\n"
          ]
        }
      ],
      "source": [
        "!pip install optuna\n",
        "import numpy as np\n",
        "import pandas as pd\n",
        "from sklearn.feature_selection import SelectKBest, f_classif\n",
        "import re\n",
        "import pickle\n",
        "import gc\n",
        "import optuna\n",
        "from sklearn.pipeline import Pipeline\n",
        "from sklearn.compose import ColumnTransformer\n",
        "from sklearn.preprocessing import OrdinalEncoder\n",
        "\n",
        "# scikit-learn\n",
        "from sklearn.preprocessing import OneHotEncoder, LabelEncoder\n",
        "from sklearn.model_selection import StratifiedKFold\n",
        "from sklearn.metrics import roc_auc_score\n",
        "\n",
        "# LightGBM\n",
        "import lightgbm as lgb\n",
        "\n",
        "import warnings\n",
        "warnings.filterwarnings(\"ignore\")"
      ]
    },
    {
      "cell_type": "code",
      "execution_count": 44,
      "metadata": {
        "colab": {
          "base_uri": "https://localhost:8080/"
        },
        "id": "BjmqWyQlwTke",
        "outputId": "c0306b28-e740-42d5-d361-29e89ea1f467"
      },
      "outputs": [
        {
          "output_type": "stream",
          "name": "stdout",
          "text": [
            "Drive already mounted at /content/drive; to attempt to forcibly remount, call drive.mount(\"/content/drive\", force_remount=True).\n",
            "/content/drive/MyDrive\n"
          ]
        }
      ],
      "source": [
        "# Google Colaboratoryで作業する場合はこちらも実行してください。\n",
        "from google.colab import drive\n",
        "drive.mount('/content/drive')\n",
        "# %cd 以降にこのnotebookを置いているディレクトリを指定してください。\n",
        "%cd \"/content/drive/MyDrive\""
      ]
    },
    {
      "cell_type": "code",
      "execution_count": null,
      "metadata": {
        "id": "OVIjmdHEwYOi"
      },
      "outputs": [],
      "source": [
        "# データの読み込み\n",
        "# INPUT_DIRにtrain.csvなどのデータを置いているディレクトリを指定してください。\n",
        "INPUT_DIR = \"/content/drive/My Drive/GCI/cmp2/\"\n",
        "\n",
        "train = pd.read_csv(INPUT_DIR + \"train.csv\")\n",
        "test = pd.read_csv(INPUT_DIR + \"test.csv\")\n",
        "sample_sub = pd.read_csv(INPUT_DIR + \"sample_submission.csv\")"
      ]
    },
    {
      "cell_type": "code",
      "execution_count": null,
      "metadata": {
        "id": "YPtn1vHfuDOS"
      },
      "outputs": [],
      "source": [
        "\n",
        "train['DSCR'] = train['AMT_ANNUITY'] / train['AMT_INCOME_TOTAL'] * 100 #収入に対する年間返済額\n",
        "train['Repayment_Rate'] = train['AMT_ANNUITY'] / train['AMT_CREDIT'] * 100 #返済率\n",
        "train['DTI'] = train['AMT_CREDIT'] / train['AMT_INCOME_TOTAL'] #DTI クライアントがどれだけの負債を背負っているか\n",
        "# 返済率が4.65%を超えるかどうかに基づいて新しい特徴量を作成\n",
        "train['High_Repayment'] = (train['Repayment_Rate'] > 4.65).astype(int)\n"
      ]
    },
    {
      "cell_type": "code",
      "execution_count": null,
      "metadata": {
        "id": "WusMIzgQuGt-"
      },
      "outputs": [],
      "source": [
        "\n",
        "# High_Repaymentが1で、TARGETも1のデータのみをフィルタリング\n",
        "target_1_high_repayment = train[(train['High_Repayment'] == 1) & (train['TARGET'] == 1)]\n",
        "\n",
        "# High_Repaymentが1で、TARGETも1のデータ数をカウント\n",
        "count_target_1 = target_1_high_repayment.shape[0]\n",
        "\n",
        "# High Repaymentのデータの総数\n",
        "count_high_repayment = train[train['High_Repayment'] == 1].shape[0]\n",
        "# TARGETの全データの数\n",
        "total_target_count = train['TARGET'].count()\n",
        "\n",
        "# TARGETが1のデータの数をカウント\n",
        "count_target_1_total = train[train['TARGET'] == 1].shape[0]\n",
        "\n",
        "# 全データの数\n",
        "total_count = train.shape[0]\n",
        "\n",
        "\n",
        "# TARGETの総数（非欠損値の数）\n",
        "total_target_count = train['TARGET'].count()\n",
        "\n",
        "# TARGETが1の割合を計算\n",
        "percentage_target_1 = (count_target_1_total / total_count) * 100\n",
        "\n",
        "# 結果を表示\n",
        "print(f\"全データの中でTARGETが1のデータの数: {count_target_1_total}, TARGETの総数:{total_target_count}, 全データにおけるTARGETが1の割合: {percentage_target_1:.2f}%\")\n",
        "print(f\"High Repaymentの中でTARGETが1のデータの数: {count_target_1}, High Repaymentの総数: {count_high_repayment}, 割合は: {count_target_1/count_high_repayment * 100:.2f}%\")\n"
      ]
    },
    {
      "cell_type": "code",
      "execution_count": null,
      "metadata": {
        "id": "Tao1tWSfuKuV"
      },
      "outputs": [],
      "source": [
        "\n",
        "test['DSCR'] = test['AMT_ANNUITY'] / test['AMT_INCOME_TOTAL'] * 100 #\n",
        "test['Repayment_Rate'] = test['AMT_ANNUITY'] / test['AMT_CREDIT'] * 100 #返済率\n",
        "test['DTI'] = test['AMT_CREDIT'] / test['AMT_INCOME_TOTAL'] * 100 #DTI クライアントがどれだけの負債を背負っているか\n",
        "test['High_Repayment'] = (test['Repayment_Rate'] > 4.65).astype(int)\n"
      ]
    },
    {
      "cell_type": "code",
      "execution_count": null,
      "metadata": {
        "id": "PUWNnWzlzurH"
      },
      "outputs": [],
      "source": [
        "# [仮説]　外部機関によるスコアが平均的に高い方が貸し倒れリスクが低いと考えられる。\n",
        "train[\"EXT_SOURCE_mean\"] = train[[\"EXT_SOURCE_1\", \"EXT_SOURCE_2\", \"EXT_SOURCE_3\"]].mean(axis=1)\n",
        "train[\"EXT_SOURCE_max\"] = train[[\"EXT_SOURCE_1\", \"EXT_SOURCE_2\", \"EXT_SOURCE_3\"]].max(axis=1)\n",
        "train[\"EXT_SOURCE_min\"] = train[[\"EXT_SOURCE_1\", \"EXT_SOURCE_2\", \"EXT_SOURCE_3\"]].min(axis=1)\n",
        "train[\"EXT_SOURCE_std\"] = train[[\"EXT_SOURCE_1\", \"EXT_SOURCE_2\", \"EXT_SOURCE_3\"]].std(axis=1)\n",
        "train[\"EXT_SOURCE_count\"] = train[[\"EXT_SOURCE_1\", \"EXT_SOURCE_2\", \"EXT_SOURCE_3\"]].notnull().sum(axis=1)"
      ]
    },
    {
      "cell_type": "code",
      "execution_count": null,
      "metadata": {
        "id": "CjPT_bT4zzSP"
      },
      "outputs": [],
      "source": [
        "# [仮説]　外部機関によるスコアが平均的に高い方が貸し倒れリスクが低いと考えられる。\n",
        "test[\"EXT_SOURCE_mean\"] = test[[\"EXT_SOURCE_1\", \"EXT_SOURCE_2\", \"EXT_SOURCE_3\"]].mean(axis=1)\n",
        "test[\"EXT_SOURCE_max\"] = test[[\"EXT_SOURCE_1\", \"EXT_SOURCE_2\", \"EXT_SOURCE_3\"]].max(axis=1)\n",
        "test[\"EXT_SOURCE_min\"] = test[[\"EXT_SOURCE_1\", \"EXT_SOURCE_2\", \"EXT_SOURCE_3\"]].min(axis=1)\n",
        "test[\"EXT_SOURCE_std\"] = test[[\"EXT_SOURCE_1\", \"EXT_SOURCE_2\", \"EXT_SOURCE_3\"]].std(axis=1)\n",
        "test[\"EXT_SOURCE_count\"] = test[[\"EXT_SOURCE_1\", \"EXT_SOURCE_2\", \"EXT_SOURCE_3\"]].notnull().sum(axis=1)"
      ]
    },
    {
      "cell_type": "code",
      "execution_count": null,
      "metadata": {
        "id": "sytFgLvn_7Oj"
      },
      "outputs": [],
      "source": [
        "# OWN_CAR_AGEをグループ分け\n",
        "train[\"OWN_CAR_AGE\"] = train[\"OWN_CAR_AGE\"] // 10\n",
        "test[\"OWN_CAR_AGE\"] = test[\"OWN_CAR_AGE\"] // 10\n",
        "\n",
        "train[\"OWN_CAR_AGE\"].unique()\n",
        "# OWN_CAR_AGEをOne Hot Encoding\n",
        "train_car_age_ohe = pd.get_dummies(train[\"OWN_CAR_AGE\"]).add_prefix(\"OWN_CAR_AGE_\")\n",
        "test_car_age_ohe = pd.get_dummies(test[\"OWN_CAR_AGE\"]).add_prefix(\"OWN_CAR_AGE_\")\n",
        "\n",
        "train = pd.concat([train, train_car_age_ohe], axis=1)\n",
        "test = pd.concat([test, test_car_age_ohe], axis=1)\n",
        "\n",
        "train.drop('OWN_CAR_AGE', axis=1, inplace=True)\n",
        "test.drop('OWN_CAR_AGE', axis=1, inplace=True)"
      ]
    },
    {
      "cell_type": "code",
      "execution_count": null,
      "metadata": {
        "id": "MY-x_iylBL0D"
      },
      "outputs": [],
      "source": [
        "train['DOWN_PAYMENT'] = train['AMT_GOODS_PRICE'] - train['AMT_CREDIT']\n",
        "test['DOWN_PAYMENT'] = test['AMT_GOODS_PRICE'] - test['AMT_CREDIT']\n",
        "train['DOWN_PAYMENT_RATE'] = train['DOWN_PAYMENT'] / train['AMT_CREDIT'] * 100\n",
        "test['DOWN_PAYMENT_RATE'] = test['DOWN_PAYMENT'] / test['AMT_CREDIT'] * 100\n",
        "# DOWN_PAYMENT_RATEが10以下であれば1, それ以上であれば0をセット\n",
        "train['DOWN_PAYMENT_RATE_ALART'] = (train['DOWN_PAYMENT_RATE'] <=-30).astype(int) *100\n",
        "test['DOWN_PAYMENT_RATE_ALART'] = (test['DOWN_PAYMENT_RATE'] <= -30).astype(int) * 100"
      ]
    },
    {
      "cell_type": "code",
      "execution_count": null,
      "metadata": {
        "id": "LJVK_rMAL7RA"
      },
      "outputs": [],
      "source": [
        "train['EMPLOYMENT_TO_AGE_RATIO'] = train['DAYS_EMPLOYED'] / train['DAYS_BIRTH']\n",
        "test['EMPLOYMENT_TO_AGE_RATIO'] = test['DAYS_EMPLOYED'] / test['DAYS_BIRTH']"
      ]
    },
    {
      "cell_type": "code",
      "execution_count": null,
      "metadata": {
        "id": "b8Jn5lUgMfn4"
      },
      "outputs": [],
      "source": [
        "train['SOCIAL_CIRCLE_DEFAULT_RATE'] = train['DEF_30_CNT_SOCIAL_CIRCLE'] / train['OBS_30_CNT_SOCIAL_CIRCLE'].replace(0, 1)\n",
        "test['SOCIAL_CIRCLE_DEFAULT_RATE'] = test['DEF_30_CNT_SOCIAL_CIRCLE'] / test['OBS_30_CNT_SOCIAL_CIRCLE'].replace(0, 1)"
      ]
    },
    {
      "cell_type": "code",
      "execution_count": null,
      "metadata": {
        "id": "WdkuramcaVVK"
      },
      "outputs": [],
      "source": [
        "print(train.shape)\n",
        "print(test.shape)"
      ]
    },
    {
      "cell_type": "code",
      "execution_count": null,
      "metadata": {
        "id": "xAiZe4LJbPF-"
      },
      "outputs": [],
      "source": [
        "# カテゴリカルカラムの抽出\n",
        "categorical_columns = train.select_dtypes(include=['object', 'category']).columns.tolist()\n",
        "\n",
        "# 連続値カラムのリスト（仮）- TARGET カラムを除外して定義\n",
        "numerical_columns = [col for col in train.columns if col not in categorical_columns + ['TARGET']]\n",
        "\n",
        "# カテゴリカルデータのエンコーダーの初期化\n",
        "encoder = OrdinalEncoder()\n",
        "\n",
        "# トレーニングデータにエンコーダーを適用\n",
        "train_cat = encoder.fit_transform(train[categorical_columns])\n",
        "train_cat = pd.DataFrame(train_cat, columns=categorical_columns, index=train.index)\n",
        "\n",
        "# テストデータにエンコーダーを適用\n",
        "test_cat = encoder.transform(test[categorical_columns])\n",
        "test_cat = pd.DataFrame(test_cat, columns=categorical_columns, index=test.index)\n",
        "\n",
        "# カテゴリカルデータを数値データに結合\n",
        "train_processed = pd.concat([train[numerical_columns], train_cat], axis=1)\n",
        "test_processed = pd.concat([test[numerical_columns], test_cat], axis=1)"
      ]
    },
    {
      "cell_type": "code",
      "execution_count": null,
      "metadata": {
        "id": "XrCh9sgqwYyu"
      },
      "outputs": [],
      "source": [
        "X_train = train_processed\n",
        "y_train = train[\"TARGET\"]\n",
        "\n",
        "id_train = train_processed[[\"SK_ID_CURR\"]]\n",
        "for col in X_train.columns:\n",
        "    if X_train[col].dtype==\"O\":\n",
        "        X_train[col] = X_train[col].astype(\"category\")"
      ]
    },
    {
      "cell_type": "code",
      "execution_count": null,
      "metadata": {
        "id": "gcvoOxpYw_0G"
      },
      "outputs": [],
      "source": [
        "# 層化分割したバリデーションのindexのリスト作成\n",
        "cv = list(StratifiedKFold(n_splits=5, shuffle=True, random_state=123).split(X_train, y_train))\n",
        "\n",
        "# indexの確認：fold=0のtrainデータ\n",
        "print(\"index(train):\", cv[0][0])\n",
        "\n",
        "# indexの確認：fold=0のvalidデータ\n",
        "print(\"index(valid):\", cv[0][1])"
      ]
    },
    {
      "cell_type": "code",
      "execution_count": null,
      "metadata": {
        "id": "r50ykoxgZ-CP"
      },
      "outputs": [],
      "source": [
        "print(\"categorical_columns:\", categorical_columns)"
      ]
    },
    {
      "cell_type": "code",
      "execution_count": null,
      "metadata": {
        "id": "-mnbtz1uxEXu"
      },
      "outputs": [],
      "source": [
        "\"\"\"\n",
        "nfold = 0\n",
        "idx_tr, idx_va = cv[nfold][0], cv[nfold][1]\n",
        "\n",
        "# 学習データと検証データに分離\n",
        "x_tr, y_tr, id_tr = X_train.loc[idx_tr, :], y_train[idx_tr], id_train.loc[idx_tr, :]\n",
        "x_va, y_va, id_va = X_train.loc[idx_va, :], y_train[idx_va], id_train.loc[idx_va, :]\n",
        "print(x_tr.shape, y_tr.shape, id_tr.shape)\n",
        "print(x_va.shape, y_va.shape, id_va.shape)\n",
        "print(x_tr.isnull().sum())\n",
        "\"\"\""
      ]
    },
    {
      "cell_type": "code",
      "execution_count": null,
      "metadata": {
        "id": "bJB5nhsuxEy4"
      },
      "outputs": [],
      "source": [
        "nfold = 0\n",
        "idx_tr, idx_va = cv[nfold][0], cv[nfold][1]\n",
        "\n",
        "# 学習データと検証データに分離\n",
        "x_tr, y_tr, id_tr = X_train.loc[idx_tr, :], y_train[idx_tr], id_train.loc[idx_tr, :]\n",
        "x_va, y_va, id_va = X_train.loc[idx_va, :], y_train[idx_va], id_train.loc[idx_va, :]\n",
        "\n",
        "# モデルの学習\n",
        "params = {\n",
        "    'boosting_type': 'gbdt',\n",
        "    'objective': 'binary',\n",
        "    'metric': 'auc',\n",
        "    'learning_rate': 0.05,\n",
        "    'num_leaves': 32,\n",
        "    'n_estimators': 1000,\n",
        "    'max_depth': 10,\n",
        "    'min_child_samples': 100,\n",
        "    \"random_state\": 123,\n",
        "    \"importance_type\": \"gain\",\n",
        "}\n",
        "\n",
        "model = lgb.LGBMClassifier(**params)\n",
        "\n",
        "# 早期停止コールバックの作成\n",
        "early_stopping_callback = lgb.early_stopping(stopping_rounds=100, verbose=True)\n",
        "\n",
        "model.fit(x_tr, y_tr,\n",
        "          eval_set=[(x_va, y_va)],\n",
        "          callbacks=[early_stopping_callback]\n",
        "         )\n",
        "\n",
        "# モデルの保存\n",
        "with open(\"model_lgb_fold0.pickle\", \"wb\") as f:\n",
        "    pickle.dump(model, f, protocol=4)"
      ]
    },
    {
      "cell_type": "code",
      "execution_count": null,
      "metadata": {
        "id": "sk-6HI54xbm-"
      },
      "outputs": [],
      "source": [
        "'''モデル評価'''\n",
        "# 学習データの推論値取得とROC計算\n",
        "y_tr_pred = model.predict_proba(x_tr)[:,1]\n",
        "metric_tr = roc_auc_score(y_tr, y_tr_pred)\n",
        "\n",
        "# 検証データの推論値取得とROC計算\n",
        "y_va_pred = model.predict_proba(x_va)[:,1]\n",
        "metric_va = roc_auc_score(y_va, y_va_pred)\n",
        "\n",
        "# 評価値を入れる変数の作成（最初のfoldのときのみ）\n",
        "metrics = []\n",
        "\n",
        "# 評価値を格納\n",
        "metrics.append([nfold, metric_tr, metric_va])\n",
        "\n",
        "# 結果の表示\n",
        "print(\"[auc] tr:{:.4f}, va:{:.4f}\".format(metric_tr, metric_va))"
      ]
    },
    {
      "cell_type": "code",
      "execution_count": null,
      "metadata": {
        "id": "mh6nZLJPBcUk"
      },
      "outputs": [],
      "source": [
        "'''説明変数の重要度取得（学習したモデルから説明変数の重要度を取得）'''\n",
        "# 重要度の取得\n",
        "imp_fold = pd.DataFrame({\"col\":X_train.columns, \"imp\":model.feature_importances_, \"nfold\":nfold})\n",
        "# 確認（重要度の上位10個）\n",
        "#display(imp_fold.sort_values(\"imp\", ascending=False)[:10])\n",
        "display(imp_fold.sort_values(\"imp\", ascending=False))\n",
        "# 重要度を格納する5fold用データフレームの作成\n",
        "imp = pd.DataFrame()\n",
        "# imp_foldを5fold用データフレームに結合\n",
        "imp = pd.concat([imp, imp_fold])"
      ]
    },
    {
      "cell_type": "code",
      "execution_count": null,
      "metadata": {
        "id": "bd7Emdn5fMgb"
      },
      "outputs": [],
      "source": [
        "# impが1000以下の列名を取得\n",
        "low_importance_cols = imp[imp['imp'] <= 100]['col'].unique()\n",
        "\n",
        "# 低重要度の特徴量名を表示\n",
        "print(\"Low importance features (imp <= 100):\", low_importance_cols)"
      ]
    },
    {
      "cell_type": "code",
      "execution_count": null,
      "metadata": {
        "id": "TpfbxUW92VwO"
      },
      "outputs": [],
      "source": [
        "#目的関数の定義\n",
        "# 探索しないハイパーパラメータ\n",
        "params_base = {\n",
        "    \"boosting_type\": \"gbdt\",\n",
        "    \"objective\": \"binary\",\n",
        "    \"metric\": \"auc\",\n",
        "    \"verbosity\": -1,\n",
        "    \"learning_rate\": 0.05,\n",
        "    \"n_estimators\": 1000,\n",
        "    \"bagging_freq\": 1,\n",
        "    \"random_state\": 123,\n",
        "}\n",
        "\n",
        "# 目的関数の定義\n",
        "def objective(trial):\n",
        "    # 探索するハイパーパラメータ\n",
        "    params_tuning = {\n",
        "        \"num_leaves\": trial.suggest_int(\"num_leaves\", 8, 256),\n",
        "        \"min_child_samples\": trial.suggest_int(\"min_child_samples\", 5, 200),\n",
        "        \"min_sum_hessian_in_leaf\": trial.suggest_float(\"min_sum_hessian_in_leaf\", 1e-5, 1e-2, log=True),\n",
        "        \"feature_fraction\": trial.suggest_float(\"feature_fraction\", 0.5, 1.0),\n",
        "        \"bagging_fraction\": trial.suggest_float(\"bagging_fraction\", 0.5, 1.0),\n",
        "        \"lambda_l1\": trial.suggest_float(\"lambda_l1\", 1e-2, 1e+2, log=True),\n",
        "        \"lambda_l2\": trial.suggest_float(\"lambda_l2\", 1e-2, 1e+2, log=True),\n",
        "    }\n",
        "    params_tuning.update(params_base)\n",
        "\n",
        "    # モデル学習・評価\n",
        "    list_metrics = []\n",
        "    cv = list(StratifiedKFold(n_splits=5, shuffle=True, random_state=123).split(X_train, y_train))\n",
        "    list_fold = [0]  # 処理高速化のために1つめのfoldのみとする。\n",
        "    for nfold in list_fold:\n",
        "        idx_tr, idx_va = cv[nfold][0], cv[nfold][1]\n",
        "        x_tr, y_tr = X_train.loc[idx_tr, :], y_train[idx_tr]\n",
        "        x_va, y_va = X_train.loc[idx_va, :], y_train[idx_va]\n",
        "        model = lgb.LGBMClassifier(**params_tuning)\n",
        "        # 早期停止コールバックの作成\n",
        "        early_stopping_callback = lgb.early_stopping(stopping_rounds=30, verbose=True)\n",
        "\n",
        "        model.fit(x_tr,\n",
        "                  y_tr,\n",
        "                  eval_set=[(x_va,y_va)],\n",
        "                  callbacks=[early_stopping_callback]\n",
        "                 )\n",
        "        y_va_pred = model.predict_proba(x_va)[:,1]\n",
        "        metric_va = roc_auc_score(y_va, y_va_pred) # 評価指標をAUCにする\n",
        "        list_metrics.append(metric_va)\n",
        "\n",
        "    # 評価指標の算出\n",
        "    metrics = np.mean(list_metrics)\n",
        "\n",
        "    return metrics"
      ]
    },
    {
      "cell_type": "code",
      "execution_count": null,
      "metadata": {
        "id": "R62uSTUj2fbl"
      },
      "outputs": [],
      "source": [
        "#最適化処理（探索の実行）\n",
        "sampler = optuna.samplers.TPESampler(seed=123)\n",
        "study = optuna.create_study(sampler=sampler, direction=\"maximize\")\n",
        "study.optimize(objective, n_trials=100, n_jobs=-1)"
      ]
    },
    {
      "cell_type": "code",
      "execution_count": null,
      "metadata": {
        "id": "czkl4_Y_2f4g"
      },
      "outputs": [],
      "source": [
        "#探索結果の確認\n",
        "trial = study.best_trial\n",
        "print(\"acc(best)={:.4f}\".format(trial.value))\n",
        "display(trial.params)"
      ]
    },
    {
      "cell_type": "code",
      "execution_count": null,
      "metadata": {
        "id": "DJU4Ro2gU9pE"
      },
      "outputs": [],
      "source": [
        "# データセットの作成\n",
        "x_test = test_processed.copy()\n",
        "id_test = test_processed[\"SK_ID_CURR\"].copy()\n",
        "x_test.drop(columns=low_importance_cols, inplace=True)\n",
        "\n",
        "# カテゴリ変数をcategory型に変換\n",
        "for col in x_test.columns:\n",
        "    if x_test[col].dtype==\"O\":\n",
        "        x_test[col] = x_test[col].astype(\"category\")"
      ]
    },
    {
      "cell_type": "code",
      "execution_count": null,
      "metadata": {
        "id": "NBYV9c7iiAx7"
      },
      "outputs": [],
      "source": [
        "# 最適なハイパーパラメータを取得\n",
        "best_params = study.best_params\n",
        "best_params.update(params_base)\n",
        "\n",
        "# モデルの再訓練\n",
        "cv = list(StratifiedKFold(n_splits=5, shuffle=True, random_state=123).split(X_train, y_train))\n",
        "for nfold in range(5):\n",
        "    idx_tr, idx_va = cv[nfold][0], cv[nfold][1]\n",
        "    x_tr, y_tr = X_train.loc[idx_tr, :], y_train[idx_tr]\n",
        "    x_va, y_va = X_train.loc[idx_va, :], y_train[idx_va]\n",
        "    x_tr.drop(columns=low_importance_cols, inplace=True)\n",
        "    x_va.drop(columns=low_importance_cols, inplace=True)\n",
        "    model = lgb.LGBMClassifier(**best_params)\n",
        "    model.fit(x_tr, y_tr,\n",
        "              eval_set=[(x_va, y_va)],\n",
        "              callbacks=[lgb.early_stopping(stopping_rounds=30, verbose=True)]\n",
        "             )\n",
        "    fname_lgb = \"model_lgb_fold{}.pickle\".format(nfold)\n",
        "    with open(fname_lgb, \"wb\") as f:\n",
        "        pickle.dump(model, f, protocol=4)\n",
        "\n",
        "list_nfold=[0,1,2,3,4]\n",
        "\n",
        "# テストデータで予測\n",
        "pred = np.zeros((len(x_test), len(cv)))\n",
        "for nfold in range(5):\n",
        "    print(\"-\"*20, nfold, \"-\"*20)\n",
        "    fname_lgb = \"model_lgb_fold{}.pickle\".format(nfold)\n",
        "    with open(fname_lgb, \"rb\") as f:\n",
        "        model = pickle.load(f)\n",
        "    pred[:, nfold] = model.predict_proba(x_test)[:, 1]\n",
        "\n",
        "# 平均予測の計算\n",
        "pred_lgb = pred.mean(axis=1)\n",
        "\n",
        "\"\"\"\n",
        "# 平均予測の計算\n",
        "pred = pd.concat([\n",
        "    id_test,\n",
        "    pd.DataFrame({\"pred\": pred.mean(axis=1)}),\n",
        "], axis=1)\n",
        "\n",
        "# 提出ファイルの作成\n",
        "df_submit = pred.rename(columns={\"pred\": \"TARGET\"})\n",
        "print(df_submit.shape)\n",
        "display(df_submit.head())\n",
        "\n",
        "# ファイル出力\n",
        "df_submit.to_csv(\"submission_baseline.csv\", index=None)\n",
        "\"\"\""
      ]
    },
    {
      "cell_type": "code",
      "execution_count": null,
      "metadata": {
        "id": "nWBLvC_Gi-eh"
      },
      "outputs": [],
      "source": [
        "from google.colab import files\n",
        "#files.download('submission_baseline.csv')"
      ]
    },
    {
      "cell_type": "code",
      "execution_count": null,
      "metadata": {
        "id": "4BTq3keK6p5m"
      },
      "outputs": [],
      "source": [
        "X_train = train.drop([\"TARGET\"], axis=1)\n",
        "y_train = train[\"TARGET\"]\n",
        "\n",
        "id_train = train[[\"SK_ID_CURR\"]]\n",
        "for col in X_train.columns:\n",
        "    if X_train[col].dtype==\"O\":\n",
        "        X_train[col] = X_train[col].astype(\"category\")\n",
        "# データセットの作成\n",
        "x_test = test.copy()\n",
        "id_test = test[[\"SK_ID_CURR\"]].copy()\n",
        "#x_test.drop(columns=low_importance_cols, inplace=True)\n",
        "# カテゴリ変数をcategory型に変換\n",
        "for col in x_test.columns:\n",
        "    if x_test[col].dtype==\"O\":\n",
        "        x_test[col] = x_test[col].astype(\"category\")\n"
      ]
    },
    {
      "cell_type": "code",
      "execution_count": null,
      "metadata": {
        "id": "0Zu9cG2bZ0-0"
      },
      "outputs": [],
      "source": [
        "import xgboost as xgb\n",
        "from sklearn.metrics import roc_auc_score\n",
        "from sklearn.model_selection import train_test_split\n",
        "\n",
        "# モデルの設定\n",
        "xgb_params = {\n",
        "    'objective': 'binary:logistic',\n",
        "    'learning_rate': 0.05,\n",
        "    'n_estimators': 100,\n",
        "    'max_depth': 6,\n",
        "    'min_child_weight': 1,\n",
        "    'subsample': 0.8,\n",
        "    'colsample_bytree': 0.8,\n",
        "    'seed': 42,\n",
        "    'use_label_encoder': False  # ラベルエンコーダの警告を避けるために追加\n",
        "}\n",
        "\n",
        "x_tr, x_va, y_tr, y_va = train_test_split(X_train, y_train, test_size=0.2, random_state=42)\n",
        "print(x_tr.shape)\n",
        "\n",
        "# データをXGBoost用に変換\n",
        "dtrain = xgb.DMatrix(x_tr, label=y_tr, enable_categorical=True)\n",
        "dvalid = xgb.DMatrix(x_va, label=y_va, enable_categorical=True)\n",
        "\n",
        "\n",
        "# モデルの訓練\n",
        "xgb_model = xgb.train(xgb_params, dtrain, num_boost_round=100)\n",
        "\n",
        "# モデルの評価\n",
        "y_valid_pred = xgb_model.predict(dvalid)\n",
        "auc_score = roc_auc_score(y_va, y_valid_pred)\n",
        "print(\"XGBoost AUC: {:.4f}\".format(auc_score))\n",
        "\n",
        "# テストデータをXGBoost用に変換\n",
        "dtest = xgb.DMatrix(x_test, enable_categorical=True)\n",
        "# テストデータで予測\n",
        "pred_xgb = xgb_model.predict(dtest)\n",
        "\n",
        "# 結果の表示（例として先頭の10件を表示）\n",
        "print(\"Test predictions (first 10):\", pred_xgb[:10])"
      ]
    },
    {
      "cell_type": "code",
      "execution_count": null,
      "metadata": {
        "id": "tAYWzegbe9hT"
      },
      "outputs": [],
      "source": [
        "X_train = train_processed.copy()\n",
        "y_train = train[\"TARGET\"].copy()\n",
        "\n",
        "id_train = train_processed[[\"SK_ID_CURR\"]]\n",
        "for col in X_train.columns:\n",
        "    if X_train[col].dtype==\"O\":\n",
        "        X_train[col] = X_train[col].astype(\"category\")\n",
        "\n",
        "x_test = test_processed.copy()\n",
        "id_test = test[[\"SK_ID_CURR\"]].copy()\n",
        "# カテゴリ変数をcategory型に変換\n",
        "for col in x_test.columns:\n",
        "    if x_test[col].dtype==\"O\":\n",
        "        x_test[col] = x_test[col].astype(\"category\")"
      ]
    },
    {
      "cell_type": "code",
      "execution_count": null,
      "metadata": {
        "id": "ybq-hoJodUSC"
      },
      "outputs": [],
      "source": [
        "!pip install catboost\n",
        "from catboost import CatBoostClassifier, Pool\n",
        "from sklearn.metrics import roc_auc_score\n",
        "import matplotlib.pyplot as plt\n",
        "\n",
        "# モデルの設定\n",
        "cat_params = {\n",
        "    'iterations': 500,\n",
        "    'learning_rate': 0.1,\n",
        "    'depth': 6,\n",
        "    'loss_function': 'Logloss',\n",
        "    'eval_metric': 'AUC',\n",
        "    'verbose': 10,\n",
        "    'random_seed': 42\n",
        "}\n",
        "\n",
        "x_tr, x_va, y_tr, y_va = train_test_split(X_train, y_train, test_size=0.2, random_state=42)\n",
        "\n",
        "# データをCatBoost用に変換\n",
        "train_pool = Pool(data=x_tr, label=y_tr)\n",
        "valid_pool = Pool(data=x_va, label=y_va)\n",
        "\n",
        "# モデルの訓練\n",
        "cat_model = CatBoostClassifier(**cat_params)\n",
        "cat_model.fit(train_pool, eval_set=[(x_tr, y_tr), (x_va, y_va)], use_best_model=True, early_stopping_rounds=50)\n",
        "\n",
        "# 学習曲線のプロット\n",
        "evals_result = cat_model.get_evals_result()\n",
        "\n",
        "plt.figure(figsize=(10, 6))\n",
        "plt.plot(evals_result['validation_1']['AUC'], label='Validation AUC')\n",
        "plt.plot(evals_result['validation_0']['AUC'], label='Training AUC')\n",
        "plt.xlabel('Iterations')\n",
        "plt.ylabel('AUC')\n",
        "plt.title('Learning Curve')\n",
        "plt.legend()\n",
        "plt.show()\n",
        "\n",
        "# モデルの評価\n",
        "y_valid_pred = cat_model.predict_proba(x_va)[:, 1]\n",
        "auc_score = roc_auc_score(y_va, y_valid_pred)\n",
        "print(\"CatBoost Validation AUC: {:.4f}\".format(auc_score))"
      ]
    },
    {
      "cell_type": "code",
      "execution_count": null,
      "metadata": {
        "id": "6ElC6ndHdbfC"
      },
      "outputs": [],
      "source": [
        "# テストデータをCatBoost用に変換\n",
        "test_pool = Pool(data=x_test)\n",
        "\n",
        "# テストデータでの予測\n",
        "pred_cat = cat_model.predict_proba(test_pool)[:, 1]\n",
        "print(pred_cat)"
      ]
    },
    {
      "cell_type": "code",
      "execution_count": null,
      "metadata": {
        "id": "g2tI0WtnoNtV"
      },
      "outputs": [],
      "source": [
        "# すべてのモデルの予測を平均化\n",
        "#final_pred = (pred_lgb + pred_xgb + pred_cat) / 3\n",
        "final_pred = (pred_lgb + pred_cat) / 2"
      ]
    },
    {
      "cell_type": "code",
      "execution_count": null,
      "metadata": {
        "id": "DFlaDF-ozl3b"
      },
      "outputs": [],
      "source": [
        "# 提出ファイルの作成\n",
        "submission = pd.DataFrame({\n",
        "    'SK_ID_CURR': id_test['SK_ID_CURR'],\n",
        "    'TARGET': final_pred\n",
        "})\n",
        "\n",
        "# ファイルの保存\n",
        "submission.to_csv('submission_ensemble.csv', index=False)\n",
        "from google.colab import files\n",
        "files.download('submission_ensemble.csv')"
      ]
    },
    {
      "cell_type": "code",
      "source": [
        "# 各モデルから予測値を取得し、データフレームにまとめる\n",
        "df_predictions = pd.DataFrame({\n",
        "    'SK_ID_CURR': id_test['SK_ID_CURR'],  # テスト識別子\n",
        "    'pred_lgb': pred_lgb,                 # LightGBMの予測\n",
        "    'pred_xgb': pred_xgb,                 # XGBoostの予測\n",
        "    'pred_cat': pred_cat                  # CatBoostの予測\n",
        "})\n",
        "\n",
        "# 予測値を全て表示\n",
        "print(df_predictions)"
      ],
      "metadata": {
        "id": "5zPyWRF9mmkE"
      },
      "execution_count": null,
      "outputs": []
    },
    {
      "cell_type": "code",
      "source": [],
      "metadata": {
        "id": "w563LyQbm2Pa"
      },
      "execution_count": null,
      "outputs": []
    }
  ],
  "metadata": {
    "colab": {
      "provenance": []
    },
    "kernelspec": {
      "display_name": "Python 3",
      "name": "python3"
    },
    "language_info": {
      "name": "python"
    }
  },
  "nbformat": 4,
  "nbformat_minor": 0
}