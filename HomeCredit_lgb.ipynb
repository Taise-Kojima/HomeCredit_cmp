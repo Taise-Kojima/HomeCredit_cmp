{
  "cells": [
    {
      "cell_type": "markdown",
      "metadata": {
        "id": "view-in-github",
        "colab_type": "text"
      },
      "source": [
        "<a href=\"https://colab.research.google.com/github/Taise-Kojima/HomeCredit_cmp/blob/main/HomeCredit_lgb.ipynb\" target=\"_parent\"><img src=\"https://colab.research.google.com/assets/colab-badge.svg\" alt=\"Open In Colab\"/></a>"
      ]
    },
    {
      "cell_type": "code",
      "execution_count": 257,
      "metadata": {
        "id": "_nrd2yEgwOmS",
        "colab": {
          "base_uri": "https://localhost:8080/"
        },
        "outputId": "a349a933-0011-47dd-efc4-80c5468bf04f"
      },
      "outputs": [
        {
          "output_type": "stream",
          "name": "stdout",
          "text": [
            "Requirement already satisfied: optuna in /usr/local/lib/python3.10/dist-packages (3.6.1)\n",
            "Requirement already satisfied: alembic>=1.5.0 in /usr/local/lib/python3.10/dist-packages (from optuna) (1.13.2)\n",
            "Requirement already satisfied: colorlog in /usr/local/lib/python3.10/dist-packages (from optuna) (6.8.2)\n",
            "Requirement already satisfied: numpy in /usr/local/lib/python3.10/dist-packages (from optuna) (1.25.2)\n",
            "Requirement already satisfied: packaging>=20.0 in /usr/local/lib/python3.10/dist-packages (from optuna) (24.1)\n",
            "Requirement already satisfied: sqlalchemy>=1.3.0 in /usr/local/lib/python3.10/dist-packages (from optuna) (2.0.31)\n",
            "Requirement already satisfied: tqdm in /usr/local/lib/python3.10/dist-packages (from optuna) (4.66.4)\n",
            "Requirement already satisfied: PyYAML in /usr/local/lib/python3.10/dist-packages (from optuna) (6.0.1)\n",
            "Requirement already satisfied: Mako in /usr/local/lib/python3.10/dist-packages (from alembic>=1.5.0->optuna) (1.3.5)\n",
            "Requirement already satisfied: typing-extensions>=4 in /usr/local/lib/python3.10/dist-packages (from alembic>=1.5.0->optuna) (4.12.2)\n",
            "Requirement already satisfied: greenlet!=0.4.17 in /usr/local/lib/python3.10/dist-packages (from sqlalchemy>=1.3.0->optuna) (3.0.3)\n",
            "Requirement already satisfied: MarkupSafe>=0.9.2 in /usr/local/lib/python3.10/dist-packages (from Mako->alembic>=1.5.0->optuna) (2.1.5)\n"
          ]
        }
      ],
      "source": [
        "!pip install optuna\n",
        "import numpy as np\n",
        "import pandas as pd\n",
        "from sklearn.feature_selection import SelectKBest, f_classif\n",
        "import re\n",
        "import pickle\n",
        "import gc\n",
        "import optuna\n",
        "\n",
        "# scikit-learn\n",
        "from sklearn.preprocessing import OneHotEncoder, LabelEncoder\n",
        "from sklearn.model_selection import StratifiedKFold\n",
        "from sklearn.metrics import roc_auc_score\n",
        "from sklearn.pipeline import Pipeline\n",
        "from sklearn.compose import ColumnTransformer\n",
        "from sklearn.utils import resample\n",
        "from sklearn.preprocessing import OrdinalEncoder\n",
        "from sklearn.neighbors import KNeighborsRegressor\n",
        "from sklearn.preprocessing import StandardScaler\n",
        "\n",
        "# LightGBM\n",
        "import lightgbm as lgb\n",
        "\n",
        "import warnings\n",
        "warnings.filterwarnings(\"ignore\")"
      ]
    },
    {
      "cell_type": "code",
      "execution_count": 258,
      "metadata": {
        "id": "BjmqWyQlwTke",
        "colab": {
          "base_uri": "https://localhost:8080/"
        },
        "outputId": "da4f168a-a598-4cc0-f159-0b8d5b6ca8a3"
      },
      "outputs": [
        {
          "output_type": "stream",
          "name": "stdout",
          "text": [
            "Drive already mounted at /content/drive; to attempt to forcibly remount, call drive.mount(\"/content/drive\", force_remount=True).\n",
            "/content/drive/MyDrive\n"
          ]
        }
      ],
      "source": [
        "# Google Colaboratoryで作業する場合はこちらも実行してください。\n",
        "from google.colab import drive\n",
        "drive.mount('/content/drive')\n",
        "# %cd 以降にこのnotebookを置いているディレクトリを指定してください。\n",
        "%cd \"/content/drive/MyDrive\""
      ]
    },
    {
      "cell_type": "code",
      "execution_count": 259,
      "metadata": {
        "id": "OVIjmdHEwYOi",
        "colab": {
          "base_uri": "https://localhost:8080/",
          "height": 35
        },
        "outputId": "4e124c77-38a9-4f28-9543-1629569c32e2"
      },
      "outputs": [
        {
          "output_type": "execute_result",
          "data": {
            "text/plain": [
              "\"\\ndf = pd.read_csv(INPUT + 'kaggle/application_train.csv')\\ntest_df = pd.read_csv(INPUT + 'kaggle/application_test.csv')\\nsample_df = pd.read_csv(INPUT + 'kaggle/sample_submission.csv')\\n\""
            ],
            "application/vnd.google.colaboratory.intrinsic+json": {
              "type": "string"
            }
          },
          "metadata": {},
          "execution_count": 259
        }
      ],
      "source": [
        "# データの読み込み\n",
        "# INPUT_DIRにtrain.csvなどのデータを置いているディレクトリを指定してください。\n",
        "\n",
        "INPUT_DIR = \"/content/drive/My Drive/GCI/cmp2/\"\n",
        "\n",
        "train = pd.read_csv(INPUT_DIR + \"train.csv\")\n",
        "test = pd.read_csv(INPUT_DIR + \"test.csv\")\n",
        "sample_sub = pd.read_csv(INPUT_DIR + \"sample_submission.csv\")\n",
        "\"\"\"\n",
        "df = pd.read_csv(INPUT + 'kaggle/application_train.csv')\n",
        "test_df = pd.read_csv(INPUT + 'kaggle/application_test.csv')\n",
        "sample_df = pd.read_csv(INPUT + 'kaggle/sample_submission.csv')\n",
        "\"\"\""
      ]
    },
    {
      "cell_type": "code",
      "source": [
        "# コンペのデータセットのファイルパス\n",
        "\"\"\"\n",
        "INPUT_DIR = \"/content/drive/My Drive/GCI/cmp2/\"\n",
        "train_comp = pd.read_csv(INPUT_DIR + \"train.csv\")\n",
        "test_comp = pd.read_csv(INPUT_DIR + \"test.csv\")\n",
        "sample_sub_comp = pd.read_csv(INPUT_DIR + \"sample_submission.csv\")\n",
        "\n",
        "# Kaggleのデータセットのファイルパス\n",
        "INPUT_KAGGLE_DIR = \"/content/drive/My Drive/GCI/cmp2/kaggle/\"\n",
        "train_kaggle = pd.read_csv(INPUT_KAGGLE_DIR + 'application_train.csv')\n",
        "test_kaggle = pd.read_csv(INPUT_KAGGLE_DIR + 'application_test.csv')\n",
        "sample_sub_kaggle = pd.read_csv(INPUT_KAGGLE_DIR + 'sample_submission.csv')\n",
        "\n",
        "# コンペデータのカラムに存在するカラムのみを選択\n",
        "common_columns_train = train_comp.columns.intersection(train_kaggle.columns)\n",
        "common_columns_test = test_comp.columns.intersection(test_kaggle.columns)\n",
        "\n",
        "train = train_kaggle[common_columns_train]\n",
        "test = test_kaggle[common_columns_test]\n",
        "\"\"\""
      ],
      "metadata": {
        "colab": {
          "base_uri": "https://localhost:8080/",
          "height": 87
        },
        "id": "n9eVMyySLIZw",
        "outputId": "a651ea5d-f05f-47dd-97c7-4d4a3fae54d7"
      },
      "execution_count": 260,
      "outputs": [
        {
          "output_type": "execute_result",
          "data": {
            "text/plain": [
              "'\\nINPUT_DIR = \"/content/drive/My Drive/GCI/cmp2/\"\\ntrain_comp = pd.read_csv(INPUT_DIR + \"train.csv\")\\ntest_comp = pd.read_csv(INPUT_DIR + \"test.csv\")\\nsample_sub_comp = pd.read_csv(INPUT_DIR + \"sample_submission.csv\")\\n\\n# Kaggleのデータセットのファイルパス\\nINPUT_KAGGLE_DIR = \"/content/drive/My Drive/GCI/cmp2/kaggle/\"\\ntrain_kaggle = pd.read_csv(INPUT_KAGGLE_DIR + \\'application_train.csv\\')\\ntest_kaggle = pd.read_csv(INPUT_KAGGLE_DIR + \\'application_test.csv\\')\\nsample_sub_kaggle = pd.read_csv(INPUT_KAGGLE_DIR + \\'sample_submission.csv\\')\\n\\n# コンペデータのカラムに存在するカラムのみを選択\\ncommon_columns_train = train_comp.columns.intersection(train_kaggle.columns)\\ncommon_columns_test = test_comp.columns.intersection(test_kaggle.columns)\\n\\ntrain = train_kaggle[common_columns_train]\\ntest = test_kaggle[common_columns_test]\\n'"
            ],
            "application/vnd.google.colaboratory.intrinsic+json": {
              "type": "string"
            }
          },
          "metadata": {},
          "execution_count": 260
        }
      ]
    },
    {
      "cell_type": "code",
      "source": [
        "\n",
        "#ダウンサンプリング 1対10から1対7にする\n",
        "\n",
        "# クラスごとのデータを分ける\n",
        "class_0 = train[train['TARGET'] == 0]\n",
        "class_1 = train[train['TARGET'] == 1]\n",
        "\n",
        "# クラス1のサンプル数を取得\n",
        "n_class_1 = len(class_1)\n",
        "\n",
        "# クラス0をダウンサンプリングして、クラス1のサンプル数の4倍にする\n",
        "n_samples_class_0 = n_class_1 * 7\n",
        "class_0_downsampled = resample(class_0,\n",
        "                               replace=False,  # サンプルの重複を許可しない\n",
        "                               n_samples=n_samples_class_0,  # クラス1のサンプル数の4倍にする\n",
        "                               random_state=42)  # 再現性のためのシード\n",
        "\n",
        "# ダウンサンプリングされたデータとクラス1のデータを結合\n",
        "train_downsampled = pd.concat([class_0_downsampled, class_1])\n",
        "\n",
        "# シャッフルしてデータセットを混ぜる\n",
        "train = train_downsampled.sample(frac=1, random_state=42).reset_index(drop=True)\n"
      ],
      "metadata": {
        "id": "ZJ8cW_iw6rC4"
      },
      "execution_count": 261,
      "outputs": []
    },
    {
      "cell_type": "code",
      "source": [
        "#フラグの平均、分散、合計\n",
        "flag_columns = ['FLAG_OWN_CAR',\n",
        "                 'FLAG_OWN_REALTY',\n",
        "                 'FLAG_MOBIL',\n",
        "                 'FLAG_EMP_PHONE',\n",
        "                 'FLAG_WORK_PHONE',\n",
        "                 'FLAG_CONT_MOBILE',\n",
        "                 'FLAG_PHONE',\n",
        "                 'FLAG_EMAIL',\n",
        "                 'REG_REGION_NOT_LIVE_REGION',\n",
        "                 'REG_REGION_NOT_WORK_REGION',\n",
        "                 'LIVE_REGION_NOT_WORK_REGION',\n",
        "                 'REG_CITY_NOT_WORK_CITY',\n",
        "                 'LIVE_CITY_NOT_WORK_CITY']\n",
        "\n",
        "# FLAG_OWN_CARとFLAG_OWN_REALTYを数値データに変換\n",
        "train['FLAG_OWN_CAR'] = train['FLAG_OWN_CAR'].apply(lambda x: 1 if x == 'Y' else 0)\n",
        "train['FLAG_OWN_REALTY'] = train['FLAG_OWN_REALTY'].apply(lambda x: 1 if x == 'Y' else 0)\n",
        "test['FLAG_OWN_CAR'] = test['FLAG_OWN_CAR'].apply(lambda x: 1 if x == 'Y' else 0)\n",
        "test['FLAG_OWN_REALTY'] = test['FLAG_OWN_REALTY'].apply(lambda x: 1 if x == 'Y' else 0)\n",
        "\n",
        "\n",
        "train['FLAG_AVELEGE'] = train[flag_columns].mean(axis=1)\n",
        "test['FLAG_AVELEGE'] = test[flag_columns].mean(axis=1)\n",
        "train['FLAG_STD'] = train[flag_columns].std(axis=1)\n",
        "test['FLAG_STD'] = test[flag_columns].std(axis=1)\n",
        "train['FLAG_SUM'] = train[flag_columns].sum(axis=1)\n",
        "test['FLAG_SUM'] = test[flag_columns].sum(axis=1)\n"
      ],
      "metadata": {
        "id": "7Aj-O4i44NjL"
      },
      "execution_count": 262,
      "outputs": []
    },
    {
      "cell_type": "code",
      "source": [
        "print(train['CNT_FAM_MEMBERS'].dtype)\n",
        "\n",
        "# CNT_FAM_MEMBERS を数値型に強制変換\n",
        "train['CNT_FAM_MEMBERS'] = pd.to_numeric(train['CNT_FAM_MEMBERS'], errors='coerce')\n",
        "test['CNT_FAM_MEMBERS'] = pd.to_numeric(test['CNT_FAM_MEMBERS'], errors='coerce')\n",
        "\n",
        "# 平均値を再計算\n",
        "TRAIN_CNT_FAM_MEMBERS_MEAN = train['CNT_FAM_MEMBERS'].mean()\n",
        "TEST_CNT_FAM_MEMBERS_MEAN = test['CNT_FAM_MEMBERS'].mean()\n",
        "\n",
        "# 欠損値を平均値で埋める\n",
        "train['CNT_FAM_MEMBERS'].fillna(TRAIN_CNT_FAM_MEMBERS_MEAN, inplace=True)\n",
        "test['CNT_FAM_MEMBERS'].fillna(TEST_CNT_FAM_MEMBERS_MEAN, inplace=True)\n",
        "\n",
        "# 結果の確認\n",
        "print(\"Updated Train CNT_FAM_MEMBERS Mean:\", TRAIN_CNT_FAM_MEMBERS_MEAN)\n",
        "print(\"Updated Test CNT_FAM_MEMBERS Mean:\", TEST_CNT_FAM_MEMBERS_MEAN)"
      ],
      "metadata": {
        "colab": {
          "base_uri": "https://localhost:8080/"
        },
        "id": "B4iEeVlWeTa3",
        "outputId": "84b66c22-3986-47e4-86fd-d958295b4032"
      },
      "execution_count": 263,
      "outputs": [
        {
          "output_type": "stream",
          "name": "stdout",
          "text": [
            "float64\n",
            "Updated Train CNT_FAM_MEMBERS Mean: 2.154694933342981\n",
            "Updated Test CNT_FAM_MEMBERS Mean: 2.153593495934959\n"
          ]
        }
      ]
    },
    {
      "cell_type": "code",
      "source": [
        "with pd.option_context('display.max_rows', None, 'display.max_columns', None):\n",
        "    print(train.isnull().sum())"
      ],
      "metadata": {
        "colab": {
          "base_uri": "https://localhost:8080/"
        },
        "id": "MbXFr25bn84u",
        "outputId": "22aaa979-9145-4033-84cb-79033563c84a"
      },
      "execution_count": 264,
      "outputs": [
        {
          "output_type": "stream",
          "name": "stdout",
          "text": [
            "SK_ID_CURR                         0\n",
            "TARGET                             0\n",
            "NAME_CONTRACT_TYPE                 0\n",
            "CODE_GENDER                        0\n",
            "FLAG_OWN_CAR                       0\n",
            "FLAG_OWN_REALTY                    0\n",
            "CNT_CHILDREN                       0\n",
            "AMT_INCOME_TOTAL                   0\n",
            "AMT_CREDIT                         0\n",
            "AMT_ANNUITY                        3\n",
            "AMT_GOODS_PRICE                  104\n",
            "NAME_TYPE_SUITE                  466\n",
            "NAME_INCOME_TYPE                   0\n",
            "NAME_EDUCATION_TYPE                0\n",
            "NAME_FAMILY_STATUS                 0\n",
            "NAME_HOUSING_TYPE                  0\n",
            "REGION_POPULATION_RELATIVE         0\n",
            "DAYS_BIRTH                         0\n",
            "DAYS_EMPLOYED                      0\n",
            "DAYS_REGISTRATION                  0\n",
            "DAYS_ID_PUBLISH                    0\n",
            "OWN_CAR_AGE                    73134\n",
            "FLAG_MOBIL                         0\n",
            "FLAG_EMP_PHONE                     0\n",
            "FLAG_WORK_PHONE                    0\n",
            "FLAG_CONT_MOBILE                   0\n",
            "FLAG_PHONE                         0\n",
            "FLAG_EMAIL                         0\n",
            "OCCUPATION_TYPE                34379\n",
            "CNT_FAM_MEMBERS                    0\n",
            "REGION_RATING_CLIENT               0\n",
            "REGION_RATING_CLIENT_W_CITY        0\n",
            "REG_REGION_NOT_LIVE_REGION         0\n",
            "REG_REGION_NOT_WORK_REGION         0\n",
            "LIVE_REGION_NOT_WORK_REGION        0\n",
            "REG_CITY_NOT_LIVE_CITY             0\n",
            "REG_CITY_NOT_WORK_CITY             0\n",
            "LIVE_CITY_NOT_WORK_CITY            0\n",
            "ORGANIZATION_TYPE                  0\n",
            "EXT_SOURCE_1                   76797\n",
            "EXT_SOURCE_2                     228\n",
            "EXT_SOURCE_3                   35327\n",
            "OBS_30_CNT_SOCIAL_CIRCLE         354\n",
            "DEF_30_CNT_SOCIAL_CIRCLE         354\n",
            "OBS_60_CNT_SOCIAL_CIRCLE         354\n",
            "DEF_60_CNT_SOCIAL_CIRCLE         354\n",
            "DAYS_LAST_PHONE_CHANGE             0\n",
            "AMT_REQ_CREDIT_BUREAU_HOUR     15124\n",
            "AMT_REQ_CREDIT_BUREAU_MON      15124\n",
            "AMT_REQ_CREDIT_BUREAU_QRT      15124\n",
            "AMT_REQ_CREDIT_BUREAU_YEAR     15124\n",
            "FLAG_AVELEGE                       0\n",
            "FLAG_STD                           0\n",
            "FLAG_SUM                           0\n",
            "dtype: int64\n"
          ]
        }
      ]
    },
    {
      "cell_type": "code",
      "source": [
        "train_income_org = train.groupby('ORGANIZATION_TYPE')['AMT_INCOME_TOTAL'].median().to_dict()\n",
        "train['ORGANIZATIOM_MEDIAN'] = train['ORGANIZATION_TYPE'].map(train_income_org)\n",
        "\n",
        "test_income_org = test.groupby('ORGANIZATION_TYPE')['AMT_INCOME_TOTAL'].median().to_dict()\n",
        "test['ORGANIZATIOM_MEDIAN'] = test['ORGANIZATION_TYPE'].map(test_income_org)\n",
        "\n",
        "train['ORGANIZATION_DIFFERNCE'] = train['AMT_INCOME_TOTAL'] - train['ORGANIZATIOM_MEDIAN']\n",
        "test['ORGANIZATION_DIFFERNCE'] = test['AMT_INCOME_TOTAL'] - test['ORGANIZATIOM_MEDIAN']\n"
      ],
      "metadata": {
        "id": "cce-5Lz4475v"
      },
      "execution_count": 265,
      "outputs": []
    },
    {
      "cell_type": "code",
      "source": [
        "train[\"DAYS_ID_PUBLISH\"] = train[\"DAYS_ID_PUBLISH\"].abs()\n",
        "test[\"DAYS_ID_PUBLISH\"] = test[\"DAYS_ID_PUBLISH\"].abs()\n",
        "\n",
        "\"\"\"\n",
        "import matplotlib.pyplot as plt\n",
        "# 'DAYS_ID_PUBLISH' を 500 の間隔でビン分割\n",
        "train['DAYS_ID_PUBLISH_BIN'] = pd.cut(train['DAYS_ID_PUBLISH'], bins=range(int(train['DAYS_ID_PUBLISH'].min()), int(train['DAYS_ID_PUBLISH'].max()) + 500, 500))\n",
        "\n",
        "# 各ビンで TARGET が 1 の割合を計算\n",
        "grouped = train.groupby('DAYS_ID_PUBLISH_BIN')['TARGET'].mean() * 100  # 結果をパーセンテージで\n",
        "\n",
        "# 可視化\n",
        "plt.figure(figsize=(10, 6))\n",
        "grouped.plot(kind='bar', color='skyblue')\n",
        "plt.title('TARGET = 1の割合（DAYS_ID_PUBLISH毎の500日間隔のビン）')\n",
        "plt.xlabel('DAYS_ID_PUBLISH Bin')\n",
        "plt.ylabel('TARGET = 1の割合 (%)')\n",
        "plt.xticks(rotation=45)\n",
        "plt.grid(True)\n",
        "plt.show()\n",
        "\"\"\""
      ],
      "metadata": {
        "colab": {
          "base_uri": "https://localhost:8080/",
          "height": 70
        },
        "id": "0FCCjtX1o_1_",
        "outputId": "8803efb8-81f1-40dd-b4ff-e341414180c4"
      },
      "execution_count": 266,
      "outputs": [
        {
          "output_type": "execute_result",
          "data": {
            "text/plain": [
              "\"\\nimport matplotlib.pyplot as plt\\n# 'DAYS_ID_PUBLISH' を 500 の間隔でビン分割\\ntrain['DAYS_ID_PUBLISH_BIN'] = pd.cut(train['DAYS_ID_PUBLISH'], bins=range(int(train['DAYS_ID_PUBLISH'].min()), int(train['DAYS_ID_PUBLISH'].max()) + 500, 500))\\n\\n# 各ビンで TARGET が 1 の割合を計算\\ngrouped = train.groupby('DAYS_ID_PUBLISH_BIN')['TARGET'].mean() * 100  # 結果をパーセンテージで\\n\\n# 可視化\\nplt.figure(figsize=(10, 6))\\ngrouped.plot(kind='bar', color='skyblue')\\nplt.title('TARGET = 1の割合（DAYS_ID_PUBLISH毎の500日間隔のビン）')\\nplt.xlabel('DAYS_ID_PUBLISH Bin')\\nplt.ylabel('TARGET = 1の割合 (%)')\\nplt.xticks(rotation=45)\\nplt.grid(True)\\nplt.show()\\n\""
            ],
            "application/vnd.google.colaboratory.intrinsic+json": {
              "type": "string"
            }
          },
          "metadata": {},
          "execution_count": 266
        }
      ]
    },
    {
      "cell_type": "code",
      "source": [
        "\"\"\"\n",
        "# 'DAYS_ID_PUBLISH' を 500 の間隔でビン分割\n",
        "train['DAYS_ID_PUBLISH_BIN'] = pd.cut(train['DAYS_ID_PUBLISH'], bins=range(int(train['DAYS_ID_PUBLISH'].min()), int(train['DAYS_ID_PUBLISH'].max()) + 500, 500))\n",
        "test['DAYS_ID_PUBLISH_BIN'] = pd.cut(test['DAYS_ID_PUBLISH'], bins=range(int(train['DAYS_ID_PUBLISH'].min()), int(train['DAYS_ID_PUBLISH'].max()) + 500, 500))\n",
        "\n",
        "# trainデータセットで TARGET が 1 の割合を計算\n",
        "rate_per_bin = train.groupby('DAYS_ID_PUBLISH_BIN')['TARGET'].mean()\n",
        "\n",
        "# 新しい特徴量 'DAYS_ID_PUBLISH_RATE' を追加\n",
        "train['DAYS_ID_PUBLISH_RATE'] = train['DAYS_ID_PUBLISH_BIN'].map(rate_per_bin)\n",
        "test['DAYS_ID_PUBLISH_RATE'] = test['DAYS_ID_PUBLISH_BIN'].map(rate_per_bin)\n",
        "\"\"\""
      ],
      "metadata": {
        "id": "QEuOJJqor6Un",
        "colab": {
          "base_uri": "https://localhost:8080/",
          "height": 87
        },
        "outputId": "a2d3f3e8-7ab9-4556-f03f-1dbe94ca9f87"
      },
      "execution_count": 267,
      "outputs": [
        {
          "output_type": "execute_result",
          "data": {
            "text/plain": [
              "\"\\n# 'DAYS_ID_PUBLISH' を 500 の間隔でビン分割\\ntrain['DAYS_ID_PUBLISH_BIN'] = pd.cut(train['DAYS_ID_PUBLISH'], bins=range(int(train['DAYS_ID_PUBLISH'].min()), int(train['DAYS_ID_PUBLISH'].max()) + 500, 500))\\ntest['DAYS_ID_PUBLISH_BIN'] = pd.cut(test['DAYS_ID_PUBLISH'], bins=range(int(train['DAYS_ID_PUBLISH'].min()), int(train['DAYS_ID_PUBLISH'].max()) + 500, 500))\\n\\n# trainデータセットで TARGET が 1 の割合を計算\\nrate_per_bin = train.groupby('DAYS_ID_PUBLISH_BIN')['TARGET'].mean()\\n\\n# 新しい特徴量 'DAYS_ID_PUBLISH_RATE' を追加\\ntrain['DAYS_ID_PUBLISH_RATE'] = train['DAYS_ID_PUBLISH_BIN'].map(rate_per_bin)\\ntest['DAYS_ID_PUBLISH_RATE'] = test['DAYS_ID_PUBLISH_BIN'].map(rate_per_bin)\\n\""
            ],
            "application/vnd.google.colaboratory.intrinsic+json": {
              "type": "string"
            }
          },
          "metadata": {},
          "execution_count": 267
        }
      ]
    },
    {
      "cell_type": "code",
      "source": [
        "# AMT_ANNUITYの平均値を計算\n",
        "mean_amt_annuity = train['AMT_ANNUITY'].mean()\n",
        "mean_amt_annuity_test = test['AMT_ANNUITY'].mean()\n",
        "\n",
        "# 欠損値を平均値で補完\n",
        "train['AMT_ANNUITY'].fillna(mean_amt_annuity, inplace=True)\n",
        "test['AMT_ANNUITY'].fillna(mean_amt_annuity_test, inplace=True)\n",
        "\n",
        "mean_amt_annuity = train['AMT_GOODS_PRICE'].mean()\n",
        "train['AMT_GOODS_PRICE'].fillna(mean_amt_annuity, inplace=True)\n",
        "\n",
        "mean_amt_annuity_test = test['AMT_GOODS_PRICE'].mean()\n",
        "test['AMT_GOODS_PRICE'].fillna(mean_amt_annuity_test, inplace=True)\n",
        "\n",
        "# EXT_SOURCE_2の欠損値を平均値で補完\n",
        "train[\"EXT_SOURCE_2\"].fillna(train[\"EXT_SOURCE_2\"].mean(), inplace=True)\n",
        "test[\"EXT_SOURCE_2\"].fillna(train[\"EXT_SOURCE_2\"].mean(), inplace=True)"
      ],
      "metadata": {
        "id": "Qgs8udnbXPxh"
      },
      "execution_count": 268,
      "outputs": []
    },
    {
      "cell_type": "code",
      "source": [
        "with pd.option_context('display.max_rows', None, 'display.max_columns', None):\n",
        "    print(train.isnull().sum())"
      ],
      "metadata": {
        "colab": {
          "base_uri": "https://localhost:8080/"
        },
        "id": "eVhDvMx9kVSE",
        "outputId": "37a2d0bc-ed63-4bb2-e00b-79e0b4006dbf"
      },
      "execution_count": 269,
      "outputs": [
        {
          "output_type": "stream",
          "name": "stdout",
          "text": [
            "SK_ID_CURR                         0\n",
            "TARGET                             0\n",
            "NAME_CONTRACT_TYPE                 0\n",
            "CODE_GENDER                        0\n",
            "FLAG_OWN_CAR                       0\n",
            "FLAG_OWN_REALTY                    0\n",
            "CNT_CHILDREN                       0\n",
            "AMT_INCOME_TOTAL                   0\n",
            "AMT_CREDIT                         0\n",
            "AMT_ANNUITY                        0\n",
            "AMT_GOODS_PRICE                    0\n",
            "NAME_TYPE_SUITE                  466\n",
            "NAME_INCOME_TYPE                   0\n",
            "NAME_EDUCATION_TYPE                0\n",
            "NAME_FAMILY_STATUS                 0\n",
            "NAME_HOUSING_TYPE                  0\n",
            "REGION_POPULATION_RELATIVE         0\n",
            "DAYS_BIRTH                         0\n",
            "DAYS_EMPLOYED                      0\n",
            "DAYS_REGISTRATION                  0\n",
            "DAYS_ID_PUBLISH                    0\n",
            "OWN_CAR_AGE                    73134\n",
            "FLAG_MOBIL                         0\n",
            "FLAG_EMP_PHONE                     0\n",
            "FLAG_WORK_PHONE                    0\n",
            "FLAG_CONT_MOBILE                   0\n",
            "FLAG_PHONE                         0\n",
            "FLAG_EMAIL                         0\n",
            "OCCUPATION_TYPE                34379\n",
            "CNT_FAM_MEMBERS                    0\n",
            "REGION_RATING_CLIENT               0\n",
            "REGION_RATING_CLIENT_W_CITY        0\n",
            "REG_REGION_NOT_LIVE_REGION         0\n",
            "REG_REGION_NOT_WORK_REGION         0\n",
            "LIVE_REGION_NOT_WORK_REGION        0\n",
            "REG_CITY_NOT_LIVE_CITY             0\n",
            "REG_CITY_NOT_WORK_CITY             0\n",
            "LIVE_CITY_NOT_WORK_CITY            0\n",
            "ORGANIZATION_TYPE                  0\n",
            "EXT_SOURCE_1                   76797\n",
            "EXT_SOURCE_2                       0\n",
            "EXT_SOURCE_3                   35327\n",
            "OBS_30_CNT_SOCIAL_CIRCLE         354\n",
            "DEF_30_CNT_SOCIAL_CIRCLE         354\n",
            "OBS_60_CNT_SOCIAL_CIRCLE         354\n",
            "DEF_60_CNT_SOCIAL_CIRCLE         354\n",
            "DAYS_LAST_PHONE_CHANGE             0\n",
            "AMT_REQ_CREDIT_BUREAU_HOUR     15124\n",
            "AMT_REQ_CREDIT_BUREAU_MON      15124\n",
            "AMT_REQ_CREDIT_BUREAU_QRT      15124\n",
            "AMT_REQ_CREDIT_BUREAU_YEAR     15124\n",
            "FLAG_AVELEGE                       0\n",
            "FLAG_STD                           0\n",
            "FLAG_SUM                           0\n",
            "ORGANIZATIOM_MEDIAN                0\n",
            "ORGANIZATION_DIFFERNCE             0\n",
            "dtype: int64\n"
          ]
        }
      ]
    },
    {
      "cell_type": "code",
      "source": [
        "train['DAYS_EMPLOYED_REC'] = train['DAYS_EMPLOYED'] - train['DAYS_BIRTH']\n",
        "test['DAYS_EMPLOYED_REC'] = test['DAYS_EMPLOYED'] - test['DAYS_BIRTH']\n",
        "train['INCOME_PER_PERSON'] = train['AMT_INCOME_TOTAL'] / train['CNT_FAM_MEMBERS']\n",
        "test['INCOME_PER_PERSON'] = test['AMT_INCOME_TOTAL'] / test['CNT_FAM_MEMBERS']\n",
        "train['CHILDREM_RAITON'] = train['CNT_CHILDREN'] / train['CNT_FAM_MEMBERS']\n",
        "test['CHILDREM_RAITON'] = test['CNT_CHILDREN'] / test['CNT_FAM_MEMBERS']\n"
      ],
      "metadata": {
        "id": "nMNpXJgLKYCo"
      },
      "execution_count": 270,
      "outputs": []
    },
    {
      "cell_type": "code",
      "execution_count": 271,
      "metadata": {
        "id": "YPtn1vHfuDOS"
      },
      "outputs": [],
      "source": [
        "\n",
        "train['DSCR'] = train['AMT_ANNUITY'] / train['AMT_INCOME_TOTAL'] * 100 #収入に対する年間返済額\n",
        "train['Repayment_Rate'] = train['AMT_ANNUITY'] / train['AMT_CREDIT'] * 100 #返済率\n",
        "train['DTI'] = train['AMT_CREDIT'] / train['AMT_INCOME_TOTAL'] #DTI クライアントがどれだけの負債を背負っているか\n",
        "# 返済率が4.65%を超えるかどうかに基づいて新しい特徴量を作成\n",
        "train['High_Repayment'] = (train['Repayment_Rate'] > 4.65).astype(int)\n"
      ]
    },
    {
      "cell_type": "code",
      "execution_count": 272,
      "metadata": {
        "id": "WusMIzgQuGt-",
        "colab": {
          "base_uri": "https://localhost:8080/",
          "height": 122
        },
        "outputId": "7f3edccd-b287-463d-a24c-eb6deaa839a7"
      },
      "outputs": [
        {
          "output_type": "execute_result",
          "data": {
            "text/plain": [
              "'\\n# High_Repaymentが1で、TARGETも1のデータのみをフィルタリング\\ntarget_1_high_repayment = train[(train[\\'High_Repayment\\'] == 1) & (train[\\'TARGET\\'] == 1)]\\n\\n# High_Repaymentが1で、TARGETも1のデータ数をカウント\\ncount_target_1 = target_1_high_repayment.shape[0]\\n\\n# High Repaymentのデータの総数\\ncount_high_repayment = train[train[\\'High_Repayment\\'] == 1].shape[0]\\n# TARGETの全データの数\\ntotal_target_count = train[\\'TARGET\\'].count()\\n\\n# TARGETが1のデータの数をカウント\\ncount_target_1_total = train[train[\\'TARGET\\'] == 1].shape[0]\\n\\n# 全データの数\\ntotal_count = train.shape[0]\\n\\n\\n# TARGETの総数（非欠損値の数）\\ntotal_target_count = train[\\'TARGET\\'].count()\\n\\n# TARGETが1の割合を計算\\npercentage_target_1 = (count_target_1_total / total_count) * 100\\n\\n# 結果を表示\\nprint(f\"全データの中でTARGETが1のデータの数: {count_target_1_total}, TARGETの総数:{total_target_count}, 全データにおけるTARGETが1の割合: {percentage_target_1:.2f}%\")\\nprint(f\"High Repaymentの中でTARGETが1のデータの数: {count_target_1}, High Repaymentの総数: {count_high_repayment}, 割合は: {count_target_1/count_high_repayment * 100:.2f}%\")\\n'"
            ],
            "application/vnd.google.colaboratory.intrinsic+json": {
              "type": "string"
            }
          },
          "metadata": {},
          "execution_count": 272
        }
      ],
      "source": [
        "\"\"\"\n",
        "# High_Repaymentが1で、TARGETも1のデータのみをフィルタリング\n",
        "target_1_high_repayment = train[(train['High_Repayment'] == 1) & (train['TARGET'] == 1)]\n",
        "\n",
        "# High_Repaymentが1で、TARGETも1のデータ数をカウント\n",
        "count_target_1 = target_1_high_repayment.shape[0]\n",
        "\n",
        "# High Repaymentのデータの総数\n",
        "count_high_repayment = train[train['High_Repayment'] == 1].shape[0]\n",
        "# TARGETの全データの数\n",
        "total_target_count = train['TARGET'].count()\n",
        "\n",
        "# TARGETが1のデータの数をカウント\n",
        "count_target_1_total = train[train['TARGET'] == 1].shape[0]\n",
        "\n",
        "# 全データの数\n",
        "total_count = train.shape[0]\n",
        "\n",
        "\n",
        "# TARGETの総数（非欠損値の数）\n",
        "total_target_count = train['TARGET'].count()\n",
        "\n",
        "# TARGETが1の割合を計算\n",
        "percentage_target_1 = (count_target_1_total / total_count) * 100\n",
        "\n",
        "# 結果を表示\n",
        "print(f\"全データの中でTARGETが1のデータの数: {count_target_1_total}, TARGETの総数:{total_target_count}, 全データにおけるTARGETが1の割合: {percentage_target_1:.2f}%\")\n",
        "print(f\"High Repaymentの中でTARGETが1のデータの数: {count_target_1}, High Repaymentの総数: {count_high_repayment}, 割合は: {count_target_1/count_high_repayment * 100:.2f}%\")\n",
        "\"\"\""
      ]
    },
    {
      "cell_type": "code",
      "execution_count": 273,
      "metadata": {
        "id": "Tao1tWSfuKuV"
      },
      "outputs": [],
      "source": [
        "\n",
        "test['DSCR'] = test['AMT_ANNUITY'] / test['AMT_INCOME_TOTAL'] * 100 #\n",
        "test['Repayment_Rate'] = test['AMT_ANNUITY'] / test['AMT_CREDIT'] * 100 #返済率\n",
        "test['DTI'] = test['AMT_CREDIT'] / test['AMT_INCOME_TOTAL'] * 100 #DTI クライアントがどれだけの負債を背負っているか\n",
        "test['High_Repayment'] = (test['Repayment_Rate'] > 4.65).astype(int)\n"
      ]
    },
    {
      "cell_type": "code",
      "execution_count": 274,
      "metadata": {
        "id": "PUWNnWzlzurH",
        "colab": {
          "base_uri": "https://localhost:8080/",
          "height": 87
        },
        "outputId": "7cd46769-4393-4598-eacc-2cfd6ffacd42"
      },
      "outputs": [
        {
          "output_type": "execute_result",
          "data": {
            "text/plain": [
              "'\\n# 中央値\\ntrain[\"EXT_SOURCE_median\"] = train[[\"EXT_SOURCE_1\", \"EXT_SOURCE_2\", \"EXT_SOURCE_3\"]].median(axis=1)\\n# 最頻値（一つの列に複数の最頻値がある場合は、最初のものを選択）\\ntrain[\"EXT_SOURCE_mode\"] = train[[\"EXT_SOURCE_1\", \"EXT_SOURCE_2\", \"EXT_SOURCE_3\"]].mode(axis=1)[0]\\n# 範囲\\ntrain[\"EXT_SOURCE_range\"] = train[\"EXT_SOURCE_max\"] - train[\"EXT_SOURCE_min\"]\\n# 分散\\ntrain[\"EXT_SOURCE_var\"] = train[[\"EXT_SOURCE_1\", \"EXT_SOURCE_2\", \"EXT_SOURCE_3\"]].var(axis=1)\\n# 歪度\\ntrain[\"EXT_SOURCE_skew\"] = train[[\"EXT_SOURCE_1\", \"EXT_SOURCE_2\", \"EXT_SOURCE_3\"]].skew(axis=1)\\n# 尖度\\ntrain[\"EXT_SOURCE_kurtosis\"] = train[[\"EXT_SOURCE_1\", \"EXT_SOURCE_2\", \"EXT_SOURCE_3\"]].kurt(axis=1)\\n'"
            ],
            "application/vnd.google.colaboratory.intrinsic+json": {
              "type": "string"
            }
          },
          "metadata": {},
          "execution_count": 274
        }
      ],
      "source": [
        "# [仮説]　外部機関によるスコアが平均的に高い方が貸し倒れリスクが低いと考えられる。\n",
        "train[\"EXT_SOURCE_mean\"] = train[[\"EXT_SOURCE_1\", \"EXT_SOURCE_2\", \"EXT_SOURCE_3\"]].mean(axis=1)\n",
        "train[\"EXT_SOURCE_max\"] = train[[\"EXT_SOURCE_1\", \"EXT_SOURCE_2\", \"EXT_SOURCE_3\"]].max(axis=1)\n",
        "train[\"EXT_SOURCE_min\"] = train[[\"EXT_SOURCE_1\", \"EXT_SOURCE_2\", \"EXT_SOURCE_3\"]].min(axis=1)\n",
        "train[\"EXT_SOURCE_std\"] = train[[\"EXT_SOURCE_1\", \"EXT_SOURCE_2\", \"EXT_SOURCE_3\"]].std(axis=1)\n",
        "train[\"EXT_SOURCE_count\"] = train[[\"EXT_SOURCE_1\", \"EXT_SOURCE_2\", \"EXT_SOURCE_3\"]].notnull().sum(axis=1)\n",
        "\"\"\"\n",
        "# 中央値\n",
        "train[\"EXT_SOURCE_median\"] = train[[\"EXT_SOURCE_1\", \"EXT_SOURCE_2\", \"EXT_SOURCE_3\"]].median(axis=1)\n",
        "# 最頻値（一つの列に複数の最頻値がある場合は、最初のものを選択）\n",
        "train[\"EXT_SOURCE_mode\"] = train[[\"EXT_SOURCE_1\", \"EXT_SOURCE_2\", \"EXT_SOURCE_3\"]].mode(axis=1)[0]\n",
        "# 範囲\n",
        "train[\"EXT_SOURCE_range\"] = train[\"EXT_SOURCE_max\"] - train[\"EXT_SOURCE_min\"]\n",
        "# 分散\n",
        "train[\"EXT_SOURCE_var\"] = train[[\"EXT_SOURCE_1\", \"EXT_SOURCE_2\", \"EXT_SOURCE_3\"]].var(axis=1)\n",
        "# 歪度\n",
        "train[\"EXT_SOURCE_skew\"] = train[[\"EXT_SOURCE_1\", \"EXT_SOURCE_2\", \"EXT_SOURCE_3\"]].skew(axis=1)\n",
        "# 尖度\n",
        "train[\"EXT_SOURCE_kurtosis\"] = train[[\"EXT_SOURCE_1\", \"EXT_SOURCE_2\", \"EXT_SOURCE_3\"]].kurt(axis=1)\n",
        "\"\"\""
      ]
    },
    {
      "cell_type": "code",
      "execution_count": 275,
      "metadata": {
        "id": "CjPT_bT4zzSP",
        "colab": {
          "base_uri": "https://localhost:8080/",
          "height": 87
        },
        "outputId": "5d1e5c4d-3a42-4378-8473-f7bc32ff6bb5"
      },
      "outputs": [
        {
          "output_type": "execute_result",
          "data": {
            "text/plain": [
              "'\\n# 中央値\\ntest[\"EXT_SOURCE_median\"] = test[[\"EXT_SOURCE_1\", \"EXT_SOURCE_2\", \"EXT_SOURCE_3\"]].median(axis=1)\\n# 最頻値（一つの列に複数の最頻値がある場合は、最初のものを選択）\\ntest[\"EXT_SOURCE_mode\"] = test[[\"EXT_SOURCE_1\", \"EXT_SOURCE_2\", \"EXT_SOURCE_3\"]].mode(axis=1)[0]\\n# 範囲\\ntest[\"EXT_SOURCE_range\"] = test[\"EXT_SOURCE_max\"] - test[\"EXT_SOURCE_min\"]\\n# 分散\\ntest[\"EXT_SOURCE_var\"] = test[[\"EXT_SOURCE_1\", \"EXT_SOURCE_2\", \"EXT_SOURCE_3\"]].var(axis=1)\\n# 歪度\\ntest[\"EXT_SOURCE_skew\"] = test[[\"EXT_SOURCE_1\", \"EXT_SOURCE_2\", \"EXT_SOURCE_3\"]].skew(axis=1)\\n# 尖度\\ntest[\"EXT_SOURCE_kurtosis\"] = test[[\"EXT_SOURCE_1\", \"EXT_SOURCE_2\", \"EXT_SOURCE_3\"]].kurt(axis=1)\\n'"
            ],
            "application/vnd.google.colaboratory.intrinsic+json": {
              "type": "string"
            }
          },
          "metadata": {},
          "execution_count": 275
        }
      ],
      "source": [
        "# [仮説]　外部機関によるスコアが平均的に高い方が貸し倒れリスクが低いと考えられる。\n",
        "test[\"EXT_SOURCE_mean\"] = test[[\"EXT_SOURCE_1\", \"EXT_SOURCE_2\", \"EXT_SOURCE_3\"]].mean(axis=1)\n",
        "test[\"EXT_SOURCE_max\"] = test[[\"EXT_SOURCE_1\", \"EXT_SOURCE_2\", \"EXT_SOURCE_3\"]].max(axis=1)\n",
        "test[\"EXT_SOURCE_min\"] = test[[\"EXT_SOURCE_1\", \"EXT_SOURCE_2\", \"EXT_SOURCE_3\"]].min(axis=1)\n",
        "test[\"EXT_SOURCE_std\"] = test[[\"EXT_SOURCE_1\", \"EXT_SOURCE_2\", \"EXT_SOURCE_3\"]].std(axis=1)\n",
        "test[\"EXT_SOURCE_count\"] = test[[\"EXT_SOURCE_1\", \"EXT_SOURCE_2\", \"EXT_SOURCE_3\"]].notnull().sum(axis=1)\n",
        "\"\"\"\n",
        "# 中央値\n",
        "test[\"EXT_SOURCE_median\"] = test[[\"EXT_SOURCE_1\", \"EXT_SOURCE_2\", \"EXT_SOURCE_3\"]].median(axis=1)\n",
        "# 最頻値（一つの列に複数の最頻値がある場合は、最初のものを選択）\n",
        "test[\"EXT_SOURCE_mode\"] = test[[\"EXT_SOURCE_1\", \"EXT_SOURCE_2\", \"EXT_SOURCE_3\"]].mode(axis=1)[0]\n",
        "# 範囲\n",
        "test[\"EXT_SOURCE_range\"] = test[\"EXT_SOURCE_max\"] - test[\"EXT_SOURCE_min\"]\n",
        "# 分散\n",
        "test[\"EXT_SOURCE_var\"] = test[[\"EXT_SOURCE_1\", \"EXT_SOURCE_2\", \"EXT_SOURCE_3\"]].var(axis=1)\n",
        "# 歪度\n",
        "test[\"EXT_SOURCE_skew\"] = test[[\"EXT_SOURCE_1\", \"EXT_SOURCE_2\", \"EXT_SOURCE_3\"]].skew(axis=1)\n",
        "# 尖度\n",
        "test[\"EXT_SOURCE_kurtosis\"] = test[[\"EXT_SOURCE_1\", \"EXT_SOURCE_2\", \"EXT_SOURCE_3\"]].kurt(axis=1)\n",
        "\"\"\""
      ]
    },
    {
      "cell_type": "code",
      "execution_count": 276,
      "metadata": {
        "id": "sytFgLvn_7Oj"
      },
      "outputs": [],
      "source": [
        "# OWN_CAR_AGEをグループ分け\n",
        "train[\"OWN_CAR_AGE\"] = train[\"OWN_CAR_AGE\"] // 10\n",
        "test[\"OWN_CAR_AGE\"] = test[\"OWN_CAR_AGE\"] // 10\n",
        "\n",
        "\n",
        "# OWN_CAR_AGEをOne Hot Encoding\n",
        "train_car_age_ohe = pd.get_dummies(train[\"OWN_CAR_AGE\"]).add_prefix(\"OWN_CAR_AGE_\")\n",
        "test_car_age_ohe = pd.get_dummies(test[\"OWN_CAR_AGE\"]).add_prefix(\"OWN_CAR_AGE_\")\n",
        "\n",
        "train = pd.concat([train, train_car_age_ohe], axis=1)\n",
        "test = pd.concat([test, test_car_age_ohe], axis=1)\n",
        "\n",
        "train.drop('OWN_CAR_AGE', axis=1, inplace=True)\n",
        "test.drop('OWN_CAR_AGE', axis=1, inplace=True)\n"
      ]
    },
    {
      "cell_type": "code",
      "execution_count": 277,
      "metadata": {
        "id": "MY-x_iylBL0D"
      },
      "outputs": [],
      "source": [
        "train['DOWN_PAYMENT'] = train['AMT_GOODS_PRICE'] - train['AMT_CREDIT']\n",
        "test['DOWN_PAYMENT'] = test['AMT_GOODS_PRICE'] - test['AMT_CREDIT']\n",
        "train['DOWN_PAYMENT_RATE'] = train['DOWN_PAYMENT'] / train['AMT_CREDIT'] * 100\n",
        "test['DOWN_PAYMENT_RATE'] = test['DOWN_PAYMENT'] / test['AMT_CREDIT'] * 100\n",
        "# DOWN_PAYMENT_RATEが-30以下であれば1, それ以上であれば0をセット\n",
        "train['DOWN_PAYMENT_RATE_ALART'] = (train['DOWN_PAYMENT_RATE'] <=-30).astype(int) *100\n",
        "test['DOWN_PAYMENT_RATE_ALART'] = (test['DOWN_PAYMENT_RATE'] <= -30).astype(int) * 100\n"
      ]
    },
    {
      "cell_type": "code",
      "execution_count": 278,
      "metadata": {
        "id": "LJVK_rMAL7RA"
      },
      "outputs": [],
      "source": [
        "train['EMPLOYMENT_TO_AGE_RATIO'] = train['DAYS_EMPLOYED'] / train['DAYS_BIRTH']\n",
        "test['EMPLOYMENT_TO_AGE_RATIO'] = test['DAYS_EMPLOYED'] / test['DAYS_BIRTH']\n"
      ]
    },
    {
      "cell_type": "code",
      "execution_count": 279,
      "metadata": {
        "id": "b8Jn5lUgMfn4"
      },
      "outputs": [],
      "source": [
        "train['SOCIAL_CIRCLE_DEFAULT_RATE'] = train['DEF_30_CNT_SOCIAL_CIRCLE'] / train['OBS_30_CNT_SOCIAL_CIRCLE'].replace(0, 1)\n",
        "test['SOCIAL_CIRCLE_DEFAULT_RATE'] = test['DEF_30_CNT_SOCIAL_CIRCLE'] / test['OBS_30_CNT_SOCIAL_CIRCLE'].replace(0, 1)\n"
      ]
    },
    {
      "cell_type": "code",
      "source": [
        "\n",
        "train_client_age = train['DAYS_BIRTH'] // 365 * (-1)\n",
        "train_loan_years = train['AMT_CREDIT'] / train['AMT_ANNUITY']\n",
        "test_client_age = test['DAYS_BIRTH'] // 365 * (-1)\n",
        "test_loan_years = test['AMT_CREDIT'] / test['AMT_ANNUITY']\n",
        "train['FINISH_AGE'] = train_client_age + train_loan_years\n",
        "test['FINISH_AGE'] = test_client_age + test_loan_years\n"
      ],
      "metadata": {
        "id": "xSXbsAulHFBe"
      },
      "execution_count": 280,
      "outputs": []
    },
    {
      "cell_type": "code",
      "source": [
        "def calculate_w_city_rate(region_rating):\n",
        "    if region_rating == 1:\n",
        "        return 4.745279\n",
        "    elif region_rating == 2:\n",
        "        return 7.936173\n",
        "    elif region_rating == 3:\n",
        "        return 11.351307\n",
        "    else:\n",
        "        return None\n",
        "\n",
        "train['W_CITY_RATE'] = train['REGION_RATING_CLIENT_W_CITY'].apply(calculate_w_city_rate)\n",
        "test['W_CITY_RATE'] = test['REGION_RATING_CLIENT_W_CITY'].apply(calculate_w_city_rate)\n"
      ],
      "metadata": {
        "id": "JzRkT7fZyPoL"
      },
      "execution_count": 281,
      "outputs": []
    },
    {
      "cell_type": "code",
      "source": [
        "train['CITY_EVALUATION'] = train['REGION_RATING_CLIENT_W_CITY'] - train['REGION_RATING_CLIENT']\n",
        "test['CITY_EVALUATION'] = test['REGION_RATING_CLIENT_W_CITY'] - test['REGION_RATING_CLIENT']\n"
      ],
      "metadata": {
        "id": "oPcMt67vJ_cv"
      },
      "execution_count": 282,
      "outputs": []
    },
    {
      "cell_type": "code",
      "source": [
        "\"\"\"\n",
        "# 'CITY_EVALUATION' がマイナスのサブセットをフィルタリング\n",
        "negative_city_eval = train[train['CITY_EVALUATION'] == -1]\n",
        "\n",
        "# 'TARGET' が 1 のレコードの割合を計算（CITY_EVALUATIONがマイナスのサブセットで）\n",
        "target_ones_percentage_negative = (negative_city_eval[negative_city_eval['TARGET'] == 1].shape[0] / negative_city_eval.shape[0]) * 100\n",
        "\n",
        "# 全体で 'TARGET' が 1 のレコードの割合を計算\n",
        "total_target_ones_percentage = (train[train['TARGET'] == 1].shape[0] / train.shape[0]) * 100\n",
        "\n",
        "print(f\"全体でTARGETが1である人の割合: {total_target_ones_percentage:.2f}%\")\n",
        "print(f\"CITY_EVALUATIONがマイナスの人々の中でTARGETが1である人の割合: {target_ones_percentage_negative:.2f}%\")\n",
        "\"\"\""
      ],
      "metadata": {
        "colab": {
          "base_uri": "https://localhost:8080/",
          "height": 87
        },
        "id": "ohC-Oc-QKwSk",
        "outputId": "bc3dfa03-ad49-4051-8778-51b0ab84fff6"
      },
      "execution_count": 283,
      "outputs": [
        {
          "output_type": "execute_result",
          "data": {
            "text/plain": [
              "'\\n# \\'CITY_EVALUATION\\' がマイナスのサブセットをフィルタリング\\nnegative_city_eval = train[train[\\'CITY_EVALUATION\\'] == -1]\\n\\n# \\'TARGET\\' が 1 のレコードの割合を計算（CITY_EVALUATIONがマイナスのサブセットで）\\ntarget_ones_percentage_negative = (negative_city_eval[negative_city_eval[\\'TARGET\\'] == 1].shape[0] / negative_city_eval.shape[0]) * 100\\n\\n# 全体で \\'TARGET\\' が 1 のレコードの割合を計算\\ntotal_target_ones_percentage = (train[train[\\'TARGET\\'] == 1].shape[0] / train.shape[0]) * 100\\n\\nprint(f\"全体でTARGETが1である人の割合: {total_target_ones_percentage:.2f}%\")\\nprint(f\"CITY_EVALUATIONがマイナスの人々の中でTARGETが1である人の割合: {target_ones_percentage_negative:.2f}%\")\\n'"
            ],
            "application/vnd.google.colaboratory.intrinsic+json": {
              "type": "string"
            }
          },
          "metadata": {},
          "execution_count": 283
        }
      ]
    },
    {
      "cell_type": "code",
      "source": [
        "\"\"\"\n",
        "train['RATIO_QRT_YEAR'] = train['AMT_REQ_CREDIT_BUREAU_QRT'] / train['AMT_REQ_CREDIT_BUREAU_YEAR']\n",
        "train['RATIO_MON_YEAR'] = train['AMT_REQ_CREDIT_BUREAU_MON'] / train['AMT_REQ_CREDIT_BUREAU_YEAR']\n",
        "train['RATIO_HOUR_YEAR'] = train['AMT_REQ_CREDIT_BUREAU_HOUR'] / train['AMT_REQ_CREDIT_BUREAU_YEAR']\n",
        "\n",
        "train['TREND_MON_YEAR'] = train['AMT_REQ_CREDIT_BUREAU_MON'] - (train['AMT_REQ_CREDIT_BUREAU_YEAR'] / 12)\n",
        "train['TREND_QRT_YEAR'] = train['AMT_REQ_CREDIT_BUREAU_QRT'] - (train['AMT_REQ_CREDIT_BUREAU_YEAR'] / 4)\n",
        "\n",
        "train['SEASONALITY_QRT'] = train['AMT_REQ_CREDIT_BUREAU_QRT'] / train['AMT_REQ_CREDIT_BUREAU_QRT'].mean()\n",
        "train['SEASONALITY_MON'] = train['AMT_REQ_CREDIT_BUREAU_MON'] / train['AMT_REQ_CREDIT_BUREAU_MON'].mean()\n",
        "\n",
        "train['CUMULATIVE_YEAR'] = train['AMT_REQ_CREDIT_BUREAU_HOUR'] + train['AMT_REQ_CREDIT_BUREAU_MON'] * 30 + train['AMT_REQ_CREDIT_BUREAU_QRT'] * 90\n",
        "\n",
        "test['RATIO_QRT_YEAR'] = test['AMT_REQ_CREDIT_BUREAU_QRT'] / test['AMT_REQ_CREDIT_BUREAU_YEAR']\n",
        "test['RATIO_MON_YEAR'] = test['AMT_REQ_CREDIT_BUREAU_MON'] / test['AMT_REQ_CREDIT_BUREAU_YEAR']\n",
        "test['RATIO_HOUR_YEAR'] = test['AMT_REQ_CREDIT_BUREAU_HOUR'] / test['AMT_REQ_CREDIT_BUREAU_YEAR']\n",
        "\n",
        "test['TREND_MON_YEAR'] = test['AMT_REQ_CREDIT_BUREAU_MON'] - (test['AMT_REQ_CREDIT_BUREAU_YEAR'] / 12)\n",
        "test['TREND_QRT_YEAR'] = test['AMT_REQ_CREDIT_BUREAU_QRT'] - (test['AMT_REQ_CREDIT_BUREAU_YEAR'] / 4)\n",
        "\n",
        "test['SEASONALITY_QRT'] = test['AMT_REQ_CREDIT_BUREAU_QRT'] / test['AMT_REQ_CREDIT_BUREAU_QRT'].mean()\n",
        "test['SEASONALITY_MON'] = test['AMT_REQ_CREDIT_BUREAU_MON'] / test['AMT_REQ_CREDIT_BUREAU_MON'].mean()\n",
        "\n",
        "test['CUMULATIVE_YEAR'] = test['AMT_REQ_CREDIT_BUREAU_HOUR'] + test['AMT_REQ_CREDIT_BUREAU_MON'] * 30 + test['AMT_REQ_CREDIT_BUREAU_QRT'] * 90\n",
        "\"\"\""
      ],
      "metadata": {
        "id": "-Z0o-PaMP22s",
        "colab": {
          "base_uri": "https://localhost:8080/",
          "height": 122
        },
        "outputId": "53ba4031-e1d1-495b-ff63-681909e5afe2"
      },
      "execution_count": 284,
      "outputs": [
        {
          "output_type": "execute_result",
          "data": {
            "text/plain": [
              "\"\\ntrain['RATIO_QRT_YEAR'] = train['AMT_REQ_CREDIT_BUREAU_QRT'] / train['AMT_REQ_CREDIT_BUREAU_YEAR']\\ntrain['RATIO_MON_YEAR'] = train['AMT_REQ_CREDIT_BUREAU_MON'] / train['AMT_REQ_CREDIT_BUREAU_YEAR']\\ntrain['RATIO_HOUR_YEAR'] = train['AMT_REQ_CREDIT_BUREAU_HOUR'] / train['AMT_REQ_CREDIT_BUREAU_YEAR']\\n\\ntrain['TREND_MON_YEAR'] = train['AMT_REQ_CREDIT_BUREAU_MON'] - (train['AMT_REQ_CREDIT_BUREAU_YEAR'] / 12)\\ntrain['TREND_QRT_YEAR'] = train['AMT_REQ_CREDIT_BUREAU_QRT'] - (train['AMT_REQ_CREDIT_BUREAU_YEAR'] / 4)\\n\\ntrain['SEASONALITY_QRT'] = train['AMT_REQ_CREDIT_BUREAU_QRT'] / train['AMT_REQ_CREDIT_BUREAU_QRT'].mean()\\ntrain['SEASONALITY_MON'] = train['AMT_REQ_CREDIT_BUREAU_MON'] / train['AMT_REQ_CREDIT_BUREAU_MON'].mean()\\n\\ntrain['CUMULATIVE_YEAR'] = train['AMT_REQ_CREDIT_BUREAU_HOUR'] + train['AMT_REQ_CREDIT_BUREAU_MON'] * 30 + train['AMT_REQ_CREDIT_BUREAU_QRT'] * 90\\n\\ntest['RATIO_QRT_YEAR'] = test['AMT_REQ_CREDIT_BUREAU_QRT'] / test['AMT_REQ_CREDIT_BUREAU_YEAR']\\ntest['RATIO_MON_YEAR'] = test['AMT_REQ_CREDIT_BUREAU_MON'] / test['AMT_REQ_CREDIT_BUREAU_YEAR']\\ntest['RATIO_HOUR_YEAR'] = test['AMT_REQ_CREDIT_BUREAU_HOUR'] / test['AMT_REQ_CREDIT_BUREAU_YEAR']\\n\\ntest['TREND_MON_YEAR'] = test['AMT_REQ_CREDIT_BUREAU_MON'] - (test['AMT_REQ_CREDIT_BUREAU_YEAR'] / 12)\\ntest['TREND_QRT_YEAR'] = test['AMT_REQ_CREDIT_BUREAU_QRT'] - (test['AMT_REQ_CREDIT_BUREAU_YEAR'] / 4)\\n\\ntest['SEASONALITY_QRT'] = test['AMT_REQ_CREDIT_BUREAU_QRT'] / test['AMT_REQ_CREDIT_BUREAU_QRT'].mean()\\ntest['SEASONALITY_MON'] = test['AMT_REQ_CREDIT_BUREAU_MON'] / test['AMT_REQ_CREDIT_BUREAU_MON'].mean()\\n\\ntest['CUMULATIVE_YEAR'] = test['AMT_REQ_CREDIT_BUREAU_HOUR'] + test['AMT_REQ_CREDIT_BUREAU_MON'] * 30 + test['AMT_REQ_CREDIT_BUREAU_QRT'] * 90\\n\""
            ],
            "application/vnd.google.colaboratory.intrinsic+json": {
              "type": "string"
            }
          },
          "metadata": {},
          "execution_count": 284
        }
      ]
    },
    {
      "cell_type": "code",
      "source": [],
      "metadata": {
        "id": "G0cQtx3NW8XT"
      },
      "execution_count": 284,
      "outputs": []
    },
    {
      "cell_type": "code",
      "source": [],
      "metadata": {
        "id": "SgUdj1jCi82A"
      },
      "execution_count": 284,
      "outputs": []
    },
    {
      "cell_type": "markdown",
      "source": [],
      "metadata": {
        "id": "B4y9pEjtQOFN"
      }
    },
    {
      "cell_type": "code",
      "source": [
        "with pd.option_context('display.max_rows', None, 'display.max_columns', None):\n",
        "    print(train.isnull().sum())\n"
      ],
      "metadata": {
        "colab": {
          "base_uri": "https://localhost:8080/"
        },
        "id": "XzlK8fpyn695",
        "outputId": "865bcd9f-8c68-45d0-e6ff-dc012f03aa7f"
      },
      "execution_count": 285,
      "outputs": [
        {
          "output_type": "stream",
          "name": "stdout",
          "text": [
            "SK_ID_CURR                         0\n",
            "TARGET                             0\n",
            "NAME_CONTRACT_TYPE                 0\n",
            "CODE_GENDER                        0\n",
            "FLAG_OWN_CAR                       0\n",
            "FLAG_OWN_REALTY                    0\n",
            "CNT_CHILDREN                       0\n",
            "AMT_INCOME_TOTAL                   0\n",
            "AMT_CREDIT                         0\n",
            "AMT_ANNUITY                        0\n",
            "AMT_GOODS_PRICE                    0\n",
            "NAME_TYPE_SUITE                  466\n",
            "NAME_INCOME_TYPE                   0\n",
            "NAME_EDUCATION_TYPE                0\n",
            "NAME_FAMILY_STATUS                 0\n",
            "NAME_HOUSING_TYPE                  0\n",
            "REGION_POPULATION_RELATIVE         0\n",
            "DAYS_BIRTH                         0\n",
            "DAYS_EMPLOYED                      0\n",
            "DAYS_REGISTRATION                  0\n",
            "DAYS_ID_PUBLISH                    0\n",
            "FLAG_MOBIL                         0\n",
            "FLAG_EMP_PHONE                     0\n",
            "FLAG_WORK_PHONE                    0\n",
            "FLAG_CONT_MOBILE                   0\n",
            "FLAG_PHONE                         0\n",
            "FLAG_EMAIL                         0\n",
            "OCCUPATION_TYPE                34379\n",
            "CNT_FAM_MEMBERS                    0\n",
            "REGION_RATING_CLIENT               0\n",
            "REGION_RATING_CLIENT_W_CITY        0\n",
            "REG_REGION_NOT_LIVE_REGION         0\n",
            "REG_REGION_NOT_WORK_REGION         0\n",
            "LIVE_REGION_NOT_WORK_REGION        0\n",
            "REG_CITY_NOT_LIVE_CITY             0\n",
            "REG_CITY_NOT_WORK_CITY             0\n",
            "LIVE_CITY_NOT_WORK_CITY            0\n",
            "ORGANIZATION_TYPE                  0\n",
            "EXT_SOURCE_1                   76797\n",
            "EXT_SOURCE_2                       0\n",
            "EXT_SOURCE_3                   35327\n",
            "OBS_30_CNT_SOCIAL_CIRCLE         354\n",
            "DEF_30_CNT_SOCIAL_CIRCLE         354\n",
            "OBS_60_CNT_SOCIAL_CIRCLE         354\n",
            "DEF_60_CNT_SOCIAL_CIRCLE         354\n",
            "DAYS_LAST_PHONE_CHANGE             0\n",
            "AMT_REQ_CREDIT_BUREAU_HOUR     15124\n",
            "AMT_REQ_CREDIT_BUREAU_MON      15124\n",
            "AMT_REQ_CREDIT_BUREAU_QRT      15124\n",
            "AMT_REQ_CREDIT_BUREAU_YEAR     15124\n",
            "FLAG_AVELEGE                       0\n",
            "FLAG_STD                           0\n",
            "FLAG_SUM                           0\n",
            "ORGANIZATIOM_MEDIAN                0\n",
            "ORGANIZATION_DIFFERNCE             0\n",
            "DAYS_EMPLOYED_REC                  0\n",
            "INCOME_PER_PERSON                  0\n",
            "CHILDREM_RAITON                    0\n",
            "DSCR                               0\n",
            "Repayment_Rate                     0\n",
            "DTI                                0\n",
            "High_Repayment                     0\n",
            "EXT_SOURCE_mean                    0\n",
            "EXT_SOURCE_max                     0\n",
            "EXT_SOURCE_min                     0\n",
            "EXT_SOURCE_std                 24997\n",
            "EXT_SOURCE_count                   0\n",
            "OWN_CAR_AGE_0.0                    0\n",
            "OWN_CAR_AGE_1.0                    0\n",
            "OWN_CAR_AGE_2.0                    0\n",
            "OWN_CAR_AGE_3.0                    0\n",
            "OWN_CAR_AGE_4.0                    0\n",
            "OWN_CAR_AGE_5.0                    0\n",
            "OWN_CAR_AGE_6.0                    0\n",
            "OWN_CAR_AGE_9.0                    0\n",
            "DOWN_PAYMENT                       0\n",
            "DOWN_PAYMENT_RATE                  0\n",
            "DOWN_PAYMENT_RATE_ALART            0\n",
            "EMPLOYMENT_TO_AGE_RATIO            0\n",
            "SOCIAL_CIRCLE_DEFAULT_RATE       354\n",
            "FINISH_AGE                         0\n",
            "W_CITY_RATE                        0\n",
            "CITY_EVALUATION                    0\n",
            "dtype: int64\n"
          ]
        }
      ]
    },
    {
      "cell_type": "code",
      "source": [
        "\"\"\"\n",
        "# 数値カラムの抽出\n",
        "numerical_columns = train.select_dtypes(include=[np.number]).columns\n",
        "\n",
        "# 0と1以外の値を持ち、かつユニークな値が5つ以上の数値カラムを抽出\n",
        "filtered_columns = []\n",
        "for col in numerical_columns:\n",
        "    unique_values = train[col].unique()\n",
        "    if not np.all(np.isin(unique_values, [0, 1])) and len(unique_values) >= 5:\n",
        "        filtered_columns.append(col)\n",
        "\n",
        "# 条件に一致するカラムのデータフレーム\n",
        "filtered_df = train[filtered_columns]\n",
        "\n",
        "import pandas as pd\n",
        "\n",
        "# Pandasの表示設定を調整\n",
        "pd.set_option('display.max_columns', None)  # 列の折り返しを無効にする\n",
        "pd.set_option('display.max_rows', None)  # 行の折り返しを無効にする\n",
        "pd.set_option('display.max_colwidth', None)  # 列幅の制限を無効にする\n",
        "pd.set_option('display.width', 1000)  # コンソールの幅を広げる\n",
        "\n",
        "\n",
        "\n",
        "# 条件に一致するカラムのデータフレームを表示\n",
        "print(filtered_df)\n",
        "\"\"\""
      ],
      "metadata": {
        "id": "d-8lezZHlGzz"
      },
      "execution_count": 288,
      "outputs": []
    },
    {
      "cell_type": "code",
      "execution_count": 223,
      "metadata": {
        "id": "xAiZe4LJbPF-",
        "colab": {
          "base_uri": "https://localhost:8080/"
        },
        "outputId": "a00e96bf-bd50-4141-fd3b-6cb61fa856c4"
      },
      "outputs": [
        {
          "output_type": "stream",
          "name": "stdout",
          "text": [
            "(110568, 96)\n",
            "(61500, 96)\n"
          ]
        }
      ],
      "source": [
        "# カテゴリカルカラムの抽出\n",
        "categorical_columns = train.select_dtypes(include=['object', 'category']).columns.tolist()\n",
        "\n",
        "# 連続値カラムのリスト（仮）- TARGET カラムを除外して定義\n",
        "numerical_columns = [col for col in train.columns if col not in categorical_columns + ['TARGET']]\n",
        "\n",
        "# カテゴリカルデータのエンコーダーの初期化\n",
        "encoder = OrdinalEncoder(handle_unknown='use_encoded_value', unknown_value=-1)\n",
        "\n",
        "# トレーニングデータにエンコーダーを適用\n",
        "train_cat = encoder.fit_transform(train[categorical_columns])\n",
        "train_cat = pd.DataFrame(train_cat, columns=categorical_columns, index=train.index)\n",
        "\n",
        "# テストデータにエンコーダーを適用\n",
        "test_cat = encoder.transform(test[categorical_columns])\n",
        "test_cat = pd.DataFrame(test_cat, columns=categorical_columns, index=test.index)\n",
        "\n",
        "# カテゴリカルデータを数値データに結合\n",
        "train_processed = pd.concat([train[numerical_columns], train_cat], axis=1)\n",
        "test_processed = pd.concat([test[numerical_columns], test_cat], axis=1)\n",
        "\"\"\"\n",
        "com_categorical_columns = combined_df.select_dtypes(include=['object', 'category']).columns.tolist()\n",
        "com_numerical_columns = [col for col in combined_df.columns if col not in com_categorical_columns + ['TARGET']]\n",
        "com_cat = encoder.fit_transform(combined_df[com_categorical_columns])\n",
        "com_cat = pd.DataFrame(com_cat, columns=com_categorical_columns, index=combined_df.index)\n",
        "combined_df_processed = pd.concat([combined_df[com_numerical_columns], com_cat], axis=1)\n",
        "# combined_df を元の train と test に分割\n",
        "train = combined_df.iloc[:n_train]\n",
        "test = combined_df.iloc[n_train:]\n",
        "\"\"\"\n",
        "print(train_processed.shape)\n",
        "print(test_processed.shape)"
      ]
    },
    {
      "cell_type": "code",
      "execution_count": 224,
      "metadata": {
        "id": "XrCh9sgqwYyu"
      },
      "outputs": [],
      "source": [
        "X_train = train_processed\n",
        "y_train = train[\"TARGET\"]\n",
        "id_train = train_processed[[\"SK_ID_CURR\"]]\n",
        "for col in X_train.columns:\n",
        "    if X_train[col].dtype==\"O\":\n",
        "        X_train[col] = X_train[col].astype(\"category\")"
      ]
    },
    {
      "cell_type": "code",
      "execution_count": 225,
      "metadata": {
        "id": "gcvoOxpYw_0G",
        "colab": {
          "base_uri": "https://localhost:8080/"
        },
        "outputId": "5cf28f2e-db62-450d-a182-82861222c35b"
      },
      "outputs": [
        {
          "output_type": "stream",
          "name": "stdout",
          "text": [
            "index(train): [     1      2      3 ... 110564 110565 110566]\n",
            "index(valid): [     0      7      8 ... 110560 110563 110567]\n"
          ]
        }
      ],
      "source": [
        "# 層化分割したバリデーションのindexのリスト作成\n",
        "cv = list(StratifiedKFold(n_splits=5, shuffle=True, random_state=123).split(X_train, y_train))\n",
        "\n",
        "# indexの確認：fold=0のtrainデータ\n",
        "print(\"index(train):\", cv[0][0])\n",
        "\n",
        "# indexの確認：fold=0のvalidデータ\n",
        "print(\"index(valid):\", cv[0][1])"
      ]
    },
    {
      "cell_type": "code",
      "execution_count": 226,
      "metadata": {
        "id": "bJB5nhsuxEy4",
        "colab": {
          "base_uri": "https://localhost:8080/"
        },
        "outputId": "15eb4545-469f-4302-efb1-e9647c3239d3"
      },
      "outputs": [
        {
          "output_type": "stream",
          "name": "stdout",
          "text": [
            "[LightGBM] [Info] Number of positive: 11057, number of negative: 77397\n",
            "[LightGBM] [Info] Auto-choosing row-wise multi-threading, the overhead of testing was 0.097358 seconds.\n",
            "You can set `force_row_wise=true` to remove the overhead.\n",
            "And if memory is not enough, you can set `force_col_wise=true`.\n",
            "[LightGBM] [Info] Total Bins 8816\n",
            "[LightGBM] [Info] Number of data points in the train set: 88454, number of used features: 92\n",
            "[LightGBM] [Info] [binary:BoostFromScore]: pavg=0.125003 -> initscore=-1.945884\n",
            "[LightGBM] [Info] Start training from score -1.945884\n",
            "Training until validation scores don't improve for 100 rounds\n",
            "Early stopping, best iteration is:\n",
            "[426]\tvalid_0's auc: 0.761509\n"
          ]
        }
      ],
      "source": [
        "nfold = 0\n",
        "idx_tr, idx_va = cv[nfold][0], cv[nfold][1]\n",
        "\n",
        "# 学習データと検証データに分離\n",
        "x_tr, y_tr, id_tr = X_train.loc[idx_tr, :], y_train[idx_tr], id_train.loc[idx_tr, :]\n",
        "x_va, y_va, id_va = X_train.loc[idx_va, :], y_train[idx_va], id_train.loc[idx_va, :]\n",
        "\n",
        "# モデルの学習\n",
        "params = {\n",
        "    'boosting_type': 'gbdt',\n",
        "    'objective': 'binary',\n",
        "    'metric': 'auc',\n",
        "    'learning_rate': 0.05,\n",
        "    'num_leaves': 32,\n",
        "    'n_estimators': 1000,\n",
        "    'max_depth': 10,\n",
        "    'min_child_samples': 20,\n",
        "    \"random_state\": 123,\n",
        "    \"importance_type\": \"gain\",\n",
        "}\n",
        "\n",
        "model = lgb.LGBMClassifier(**params)\n",
        "\n",
        "# 早期停止コールバックの作成\n",
        "early_stopping_callback = lgb.early_stopping(stopping_rounds=100, verbose=True)\n",
        "\n",
        "model.fit(x_tr, y_tr,\n",
        "          eval_set=[(x_va, y_va)],\n",
        "          callbacks=[early_stopping_callback]\n",
        "         )\n",
        "\n",
        "# モデルの保存\n",
        "with open(\"model_lgb_fold0.pickle\", \"wb\") as f:\n",
        "    pickle.dump(model, f, protocol=4)"
      ]
    },
    {
      "cell_type": "code",
      "execution_count": 227,
      "metadata": {
        "id": "sk-6HI54xbm-",
        "colab": {
          "base_uri": "https://localhost:8080/"
        },
        "outputId": "1aed9775-19af-4364-e830-e237e4abb781"
      },
      "outputs": [
        {
          "output_type": "stream",
          "name": "stdout",
          "text": [
            "[auc] tr:0.8908, va:0.7615\n"
          ]
        }
      ],
      "source": [
        "'''モデル評価'''\n",
        "# 学習データの推論値取得とROC計算\n",
        "y_tr_pred = model.predict_proba(x_tr)[:,1]\n",
        "metric_tr = roc_auc_score(y_tr, y_tr_pred)\n",
        "\n",
        "# 検証データの推論値取得とROC計算\n",
        "y_va_pred = model.predict_proba(x_va)[:,1]\n",
        "metric_va = roc_auc_score(y_va, y_va_pred)\n",
        "\n",
        "# 評価値を入れる変数の作成（最初のfoldのときのみ）\n",
        "metrics = []\n",
        "\n",
        "# 評価値を格納\n",
        "metrics.append([nfold, metric_tr, metric_va])\n",
        "\n",
        "# 結果の表示\n",
        "print(\"[auc] tr:{:.4f}, va:{:.4f}\".format(metric_tr, metric_va))"
      ]
    },
    {
      "cell_type": "code",
      "execution_count": 228,
      "metadata": {
        "id": "mh6nZLJPBcUk",
        "colab": {
          "base_uri": "https://localhost:8080/",
          "height": 677
        },
        "outputId": "a32ab3fa-777d-4b1a-84cb-353a11dcd8da"
      },
      "outputs": [
        {
          "output_type": "display_data",
          "data": {
            "text/plain": [
              "                       col           imp  nfold\n",
              "52         EXT_SOURCE_mean  48362.276472      0\n",
              "49          Repayment_Rate  11566.655731      0\n",
              "30            EXT_SOURCE_3   7237.747344      0\n",
              "57       EXT_SOURCE_median   6894.281384      0\n",
              "55          EXT_SOURCE_std   5527.205230      0\n",
              "72       DOWN_PAYMENT_RATE   5512.713101      0\n",
              "12         DAYS_ID_PUBLISH   5004.676628      0\n",
              "54          EXT_SOURCE_min   4995.315532      0\n",
              "9               DAYS_BIRTH   4745.470467      0\n",
              "76              FINISH_AGE   4462.474145      0\n",
              "11       DAYS_REGISTRATION   4347.054826      0\n",
              "53          EXT_SOURCE_max   4313.162886      0\n",
              "6              AMT_ANNUITY   4082.085148      0\n",
              "35  DAYS_LAST_PHONE_CHANGE   3895.944141      0\n",
              "7          AMT_GOODS_PRICE   3834.148596      0\n",
              "45       DAYS_EMPLOYED_REC   3764.563491      0\n",
              "71            DOWN_PAYMENT   3745.279965      0\n",
              "10           DAYS_EMPLOYED   3568.220068      0\n",
              "28            EXT_SOURCE_1   3515.964901      0\n",
              "0               SK_ID_CURR   3382.947937      0"
            ],
            "text/html": [
              "\n",
              "  <div id=\"df-334ba9e5-9020-492c-b338-502ddd7ac87d\" class=\"colab-df-container\">\n",
              "    <div>\n",
              "<style scoped>\n",
              "    .dataframe tbody tr th:only-of-type {\n",
              "        vertical-align: middle;\n",
              "    }\n",
              "\n",
              "    .dataframe tbody tr th {\n",
              "        vertical-align: top;\n",
              "    }\n",
              "\n",
              "    .dataframe thead th {\n",
              "        text-align: right;\n",
              "    }\n",
              "</style>\n",
              "<table border=\"1\" class=\"dataframe\">\n",
              "  <thead>\n",
              "    <tr style=\"text-align: right;\">\n",
              "      <th></th>\n",
              "      <th>col</th>\n",
              "      <th>imp</th>\n",
              "      <th>nfold</th>\n",
              "    </tr>\n",
              "  </thead>\n",
              "  <tbody>\n",
              "    <tr>\n",
              "      <th>52</th>\n",
              "      <td>EXT_SOURCE_mean</td>\n",
              "      <td>48362.276472</td>\n",
              "      <td>0</td>\n",
              "    </tr>\n",
              "    <tr>\n",
              "      <th>49</th>\n",
              "      <td>Repayment_Rate</td>\n",
              "      <td>11566.655731</td>\n",
              "      <td>0</td>\n",
              "    </tr>\n",
              "    <tr>\n",
              "      <th>30</th>\n",
              "      <td>EXT_SOURCE_3</td>\n",
              "      <td>7237.747344</td>\n",
              "      <td>0</td>\n",
              "    </tr>\n",
              "    <tr>\n",
              "      <th>57</th>\n",
              "      <td>EXT_SOURCE_median</td>\n",
              "      <td>6894.281384</td>\n",
              "      <td>0</td>\n",
              "    </tr>\n",
              "    <tr>\n",
              "      <th>55</th>\n",
              "      <td>EXT_SOURCE_std</td>\n",
              "      <td>5527.205230</td>\n",
              "      <td>0</td>\n",
              "    </tr>\n",
              "    <tr>\n",
              "      <th>72</th>\n",
              "      <td>DOWN_PAYMENT_RATE</td>\n",
              "      <td>5512.713101</td>\n",
              "      <td>0</td>\n",
              "    </tr>\n",
              "    <tr>\n",
              "      <th>12</th>\n",
              "      <td>DAYS_ID_PUBLISH</td>\n",
              "      <td>5004.676628</td>\n",
              "      <td>0</td>\n",
              "    </tr>\n",
              "    <tr>\n",
              "      <th>54</th>\n",
              "      <td>EXT_SOURCE_min</td>\n",
              "      <td>4995.315532</td>\n",
              "      <td>0</td>\n",
              "    </tr>\n",
              "    <tr>\n",
              "      <th>9</th>\n",
              "      <td>DAYS_BIRTH</td>\n",
              "      <td>4745.470467</td>\n",
              "      <td>0</td>\n",
              "    </tr>\n",
              "    <tr>\n",
              "      <th>76</th>\n",
              "      <td>FINISH_AGE</td>\n",
              "      <td>4462.474145</td>\n",
              "      <td>0</td>\n",
              "    </tr>\n",
              "    <tr>\n",
              "      <th>11</th>\n",
              "      <td>DAYS_REGISTRATION</td>\n",
              "      <td>4347.054826</td>\n",
              "      <td>0</td>\n",
              "    </tr>\n",
              "    <tr>\n",
              "      <th>53</th>\n",
              "      <td>EXT_SOURCE_max</td>\n",
              "      <td>4313.162886</td>\n",
              "      <td>0</td>\n",
              "    </tr>\n",
              "    <tr>\n",
              "      <th>6</th>\n",
              "      <td>AMT_ANNUITY</td>\n",
              "      <td>4082.085148</td>\n",
              "      <td>0</td>\n",
              "    </tr>\n",
              "    <tr>\n",
              "      <th>35</th>\n",
              "      <td>DAYS_LAST_PHONE_CHANGE</td>\n",
              "      <td>3895.944141</td>\n",
              "      <td>0</td>\n",
              "    </tr>\n",
              "    <tr>\n",
              "      <th>7</th>\n",
              "      <td>AMT_GOODS_PRICE</td>\n",
              "      <td>3834.148596</td>\n",
              "      <td>0</td>\n",
              "    </tr>\n",
              "    <tr>\n",
              "      <th>45</th>\n",
              "      <td>DAYS_EMPLOYED_REC</td>\n",
              "      <td>3764.563491</td>\n",
              "      <td>0</td>\n",
              "    </tr>\n",
              "    <tr>\n",
              "      <th>71</th>\n",
              "      <td>DOWN_PAYMENT</td>\n",
              "      <td>3745.279965</td>\n",
              "      <td>0</td>\n",
              "    </tr>\n",
              "    <tr>\n",
              "      <th>10</th>\n",
              "      <td>DAYS_EMPLOYED</td>\n",
              "      <td>3568.220068</td>\n",
              "      <td>0</td>\n",
              "    </tr>\n",
              "    <tr>\n",
              "      <th>28</th>\n",
              "      <td>EXT_SOURCE_1</td>\n",
              "      <td>3515.964901</td>\n",
              "      <td>0</td>\n",
              "    </tr>\n",
              "    <tr>\n",
              "      <th>0</th>\n",
              "      <td>SK_ID_CURR</td>\n",
              "      <td>3382.947937</td>\n",
              "      <td>0</td>\n",
              "    </tr>\n",
              "  </tbody>\n",
              "</table>\n",
              "</div>\n",
              "    <div class=\"colab-df-buttons\">\n",
              "\n",
              "  <div class=\"colab-df-container\">\n",
              "    <button class=\"colab-df-convert\" onclick=\"convertToInteractive('df-334ba9e5-9020-492c-b338-502ddd7ac87d')\"\n",
              "            title=\"Convert this dataframe to an interactive table.\"\n",
              "            style=\"display:none;\">\n",
              "\n",
              "  <svg xmlns=\"http://www.w3.org/2000/svg\" height=\"24px\" viewBox=\"0 -960 960 960\">\n",
              "    <path d=\"M120-120v-720h720v720H120Zm60-500h600v-160H180v160Zm220 220h160v-160H400v160Zm0 220h160v-160H400v160ZM180-400h160v-160H180v160Zm440 0h160v-160H620v160ZM180-180h160v-160H180v160Zm440 0h160v-160H620v160Z\"/>\n",
              "  </svg>\n",
              "    </button>\n",
              "\n",
              "  <style>\n",
              "    .colab-df-container {\n",
              "      display:flex;\n",
              "      gap: 12px;\n",
              "    }\n",
              "\n",
              "    .colab-df-convert {\n",
              "      background-color: #E8F0FE;\n",
              "      border: none;\n",
              "      border-radius: 50%;\n",
              "      cursor: pointer;\n",
              "      display: none;\n",
              "      fill: #1967D2;\n",
              "      height: 32px;\n",
              "      padding: 0 0 0 0;\n",
              "      width: 32px;\n",
              "    }\n",
              "\n",
              "    .colab-df-convert:hover {\n",
              "      background-color: #E2EBFA;\n",
              "      box-shadow: 0px 1px 2px rgba(60, 64, 67, 0.3), 0px 1px 3px 1px rgba(60, 64, 67, 0.15);\n",
              "      fill: #174EA6;\n",
              "    }\n",
              "\n",
              "    .colab-df-buttons div {\n",
              "      margin-bottom: 4px;\n",
              "    }\n",
              "\n",
              "    [theme=dark] .colab-df-convert {\n",
              "      background-color: #3B4455;\n",
              "      fill: #D2E3FC;\n",
              "    }\n",
              "\n",
              "    [theme=dark] .colab-df-convert:hover {\n",
              "      background-color: #434B5C;\n",
              "      box-shadow: 0px 1px 3px 1px rgba(0, 0, 0, 0.15);\n",
              "      filter: drop-shadow(0px 1px 2px rgba(0, 0, 0, 0.3));\n",
              "      fill: #FFFFFF;\n",
              "    }\n",
              "  </style>\n",
              "\n",
              "    <script>\n",
              "      const buttonEl =\n",
              "        document.querySelector('#df-334ba9e5-9020-492c-b338-502ddd7ac87d button.colab-df-convert');\n",
              "      buttonEl.style.display =\n",
              "        google.colab.kernel.accessAllowed ? 'block' : 'none';\n",
              "\n",
              "      async function convertToInteractive(key) {\n",
              "        const element = document.querySelector('#df-334ba9e5-9020-492c-b338-502ddd7ac87d');\n",
              "        const dataTable =\n",
              "          await google.colab.kernel.invokeFunction('convertToInteractive',\n",
              "                                                    [key], {});\n",
              "        if (!dataTable) return;\n",
              "\n",
              "        const docLinkHtml = 'Like what you see? Visit the ' +\n",
              "          '<a target=\"_blank\" href=https://colab.research.google.com/notebooks/data_table.ipynb>data table notebook</a>'\n",
              "          + ' to learn more about interactive tables.';\n",
              "        element.innerHTML = '';\n",
              "        dataTable['output_type'] = 'display_data';\n",
              "        await google.colab.output.renderOutput(dataTable, element);\n",
              "        const docLink = document.createElement('div');\n",
              "        docLink.innerHTML = docLinkHtml;\n",
              "        element.appendChild(docLink);\n",
              "      }\n",
              "    </script>\n",
              "  </div>\n",
              "\n",
              "\n",
              "<div id=\"df-07885282-eb41-4167-9d81-b77f8da14663\">\n",
              "  <button class=\"colab-df-quickchart\" onclick=\"quickchart('df-07885282-eb41-4167-9d81-b77f8da14663')\"\n",
              "            title=\"Suggest charts\"\n",
              "            style=\"display:none;\">\n",
              "\n",
              "<svg xmlns=\"http://www.w3.org/2000/svg\" height=\"24px\"viewBox=\"0 0 24 24\"\n",
              "     width=\"24px\">\n",
              "    <g>\n",
              "        <path d=\"M19 3H5c-1.1 0-2 .9-2 2v14c0 1.1.9 2 2 2h14c1.1 0 2-.9 2-2V5c0-1.1-.9-2-2-2zM9 17H7v-7h2v7zm4 0h-2V7h2v10zm4 0h-2v-4h2v4z\"/>\n",
              "    </g>\n",
              "</svg>\n",
              "  </button>\n",
              "\n",
              "<style>\n",
              "  .colab-df-quickchart {\n",
              "      --bg-color: #E8F0FE;\n",
              "      --fill-color: #1967D2;\n",
              "      --hover-bg-color: #E2EBFA;\n",
              "      --hover-fill-color: #174EA6;\n",
              "      --disabled-fill-color: #AAA;\n",
              "      --disabled-bg-color: #DDD;\n",
              "  }\n",
              "\n",
              "  [theme=dark] .colab-df-quickchart {\n",
              "      --bg-color: #3B4455;\n",
              "      --fill-color: #D2E3FC;\n",
              "      --hover-bg-color: #434B5C;\n",
              "      --hover-fill-color: #FFFFFF;\n",
              "      --disabled-bg-color: #3B4455;\n",
              "      --disabled-fill-color: #666;\n",
              "  }\n",
              "\n",
              "  .colab-df-quickchart {\n",
              "    background-color: var(--bg-color);\n",
              "    border: none;\n",
              "    border-radius: 50%;\n",
              "    cursor: pointer;\n",
              "    display: none;\n",
              "    fill: var(--fill-color);\n",
              "    height: 32px;\n",
              "    padding: 0;\n",
              "    width: 32px;\n",
              "  }\n",
              "\n",
              "  .colab-df-quickchart:hover {\n",
              "    background-color: var(--hover-bg-color);\n",
              "    box-shadow: 0 1px 2px rgba(60, 64, 67, 0.3), 0 1px 3px 1px rgba(60, 64, 67, 0.15);\n",
              "    fill: var(--button-hover-fill-color);\n",
              "  }\n",
              "\n",
              "  .colab-df-quickchart-complete:disabled,\n",
              "  .colab-df-quickchart-complete:disabled:hover {\n",
              "    background-color: var(--disabled-bg-color);\n",
              "    fill: var(--disabled-fill-color);\n",
              "    box-shadow: none;\n",
              "  }\n",
              "\n",
              "  .colab-df-spinner {\n",
              "    border: 2px solid var(--fill-color);\n",
              "    border-color: transparent;\n",
              "    border-bottom-color: var(--fill-color);\n",
              "    animation:\n",
              "      spin 1s steps(1) infinite;\n",
              "  }\n",
              "\n",
              "  @keyframes spin {\n",
              "    0% {\n",
              "      border-color: transparent;\n",
              "      border-bottom-color: var(--fill-color);\n",
              "      border-left-color: var(--fill-color);\n",
              "    }\n",
              "    20% {\n",
              "      border-color: transparent;\n",
              "      border-left-color: var(--fill-color);\n",
              "      border-top-color: var(--fill-color);\n",
              "    }\n",
              "    30% {\n",
              "      border-color: transparent;\n",
              "      border-left-color: var(--fill-color);\n",
              "      border-top-color: var(--fill-color);\n",
              "      border-right-color: var(--fill-color);\n",
              "    }\n",
              "    40% {\n",
              "      border-color: transparent;\n",
              "      border-right-color: var(--fill-color);\n",
              "      border-top-color: var(--fill-color);\n",
              "    }\n",
              "    60% {\n",
              "      border-color: transparent;\n",
              "      border-right-color: var(--fill-color);\n",
              "    }\n",
              "    80% {\n",
              "      border-color: transparent;\n",
              "      border-right-color: var(--fill-color);\n",
              "      border-bottom-color: var(--fill-color);\n",
              "    }\n",
              "    90% {\n",
              "      border-color: transparent;\n",
              "      border-bottom-color: var(--fill-color);\n",
              "    }\n",
              "  }\n",
              "</style>\n",
              "\n",
              "  <script>\n",
              "    async function quickchart(key) {\n",
              "      const quickchartButtonEl =\n",
              "        document.querySelector('#' + key + ' button');\n",
              "      quickchartButtonEl.disabled = true;  // To prevent multiple clicks.\n",
              "      quickchartButtonEl.classList.add('colab-df-spinner');\n",
              "      try {\n",
              "        const charts = await google.colab.kernel.invokeFunction(\n",
              "            'suggestCharts', [key], {});\n",
              "      } catch (error) {\n",
              "        console.error('Error during call to suggestCharts:', error);\n",
              "      }\n",
              "      quickchartButtonEl.classList.remove('colab-df-spinner');\n",
              "      quickchartButtonEl.classList.add('colab-df-quickchart-complete');\n",
              "    }\n",
              "    (() => {\n",
              "      let quickchartButtonEl =\n",
              "        document.querySelector('#df-07885282-eb41-4167-9d81-b77f8da14663 button');\n",
              "      quickchartButtonEl.style.display =\n",
              "        google.colab.kernel.accessAllowed ? 'block' : 'none';\n",
              "    })();\n",
              "  </script>\n",
              "</div>\n",
              "\n",
              "    </div>\n",
              "  </div>\n"
            ],
            "application/vnd.google.colaboratory.intrinsic+json": {
              "type": "dataframe",
              "summary": "{\n  \"name\": \"imp = pd\",\n  \"rows\": 20,\n  \"fields\": [\n    {\n      \"column\": \"col\",\n      \"properties\": {\n        \"dtype\": \"string\",\n        \"num_unique_values\": 20,\n        \"samples\": [\n          \"EXT_SOURCE_mean\",\n          \"DAYS_EMPLOYED\",\n          \"DAYS_EMPLOYED_REC\"\n        ],\n        \"semantic_type\": \"\",\n        \"description\": \"\"\n      }\n    },\n    {\n      \"column\": \"imp\",\n      \"properties\": {\n        \"dtype\": \"number\",\n        \"std\": 9882.924910268728,\n        \"min\": 3382.9479370117188,\n        \"max\": 48362.276472091675,\n        \"num_unique_values\": 20,\n        \"samples\": [\n          48362.276472091675,\n          3568.2200684547424,\n          3764.5634912252426\n        ],\n        \"semantic_type\": \"\",\n        \"description\": \"\"\n      }\n    },\n    {\n      \"column\": \"nfold\",\n      \"properties\": {\n        \"dtype\": \"number\",\n        \"std\": 0,\n        \"min\": 0,\n        \"max\": 0,\n        \"num_unique_values\": 1,\n        \"samples\": [\n          0\n        ],\n        \"semantic_type\": \"\",\n        \"description\": \"\"\n      }\n    }\n  ]\n}"
            }
          },
          "metadata": {}
        }
      ],
      "source": [
        "'''説明変数の重要度取得（学習したモデルから説明変数の重要度を取得）'''\n",
        "# 重要度の取得\n",
        "imp_fold = pd.DataFrame({\"col\":X_train.columns, \"imp\":model.feature_importances_, \"nfold\":nfold})\n",
        "# 確認（重要度の上位10個）\n",
        "display(imp_fold.sort_values(\"imp\", ascending=False)[:20])\n",
        "#display(imp_fold.sort_values(\"imp\", ascending=False))\n",
        "# 重要度を格納する5fold用データフレームの作成\n",
        "imp = pd.DataFrame()\n",
        "# imp_foldを5fold用データフレームに結合\n",
        "imp = pd.concat([imp, imp_fold])"
      ]
    },
    {
      "cell_type": "code",
      "execution_count": 229,
      "metadata": {
        "id": "bd7Emdn5fMgb",
        "colab": {
          "base_uri": "https://localhost:8080/"
        },
        "outputId": "d47698bd-3149-4f53-ffc2-90fe0ba28b61"
      },
      "outputs": [
        {
          "output_type": "stream",
          "name": "stdout",
          "text": [
            "Low importance features (imp <= 100): ['FLAG_OWN_CAR' 'FLAG_MOBIL' 'FLAG_EMP_PHONE' 'FLAG_CONT_MOBILE'\n",
            " 'FLAG_EMAIL' 'REG_REGION_NOT_LIVE_REGION' 'REG_REGION_NOT_WORK_REGION'\n",
            " 'LIVE_REGION_NOT_WORK_REGION' 'AMT_REQ_CREDIT_BUREAU_HOUR'\n",
            " 'AMT_REQ_CREDIT_BUREAU_MON' 'FLAG_SUM' 'EXT_SOURCE_count'\n",
            " 'EXT_SOURCE_mode' 'EXT_SOURCE_var' 'EXT_SOURCE_kurtosis'\n",
            " 'OWN_CAR_AGE_2.0' 'OWN_CAR_AGE_3.0' 'OWN_CAR_AGE_4.0' 'OWN_CAR_AGE_5.0'\n",
            " 'OWN_CAR_AGE_6.0' 'OWN_CAR_AGE_9.0' 'DOWN_PAYMENT_RATE_ALART'\n",
            " 'W_CITY_RATE' 'CITY_EVALUATION' 'RATIO_HOUR_YEAR' 'SEASONALITY_QRT'\n",
            " 'SEASONALITY_MON']\n"
          ]
        }
      ],
      "source": [
        "# impが1000以下の列名を取得\n",
        "low_importance_cols = imp[imp['imp'] <= 100]['col'].unique()\n",
        "\n",
        "# 低重要度の特徴量名を表示\n",
        "print(\"Low importance features (imp <= 100):\", low_importance_cols)"
      ]
    },
    {
      "cell_type": "code",
      "source": [
        "\"\"\"\n",
        "acc(best)=0.7650\n",
        "{'num_leaves': 8,\n",
        " 'min_child_samples': 162,\n",
        " 'min_sum_hessian_in_leaf': 0.005601209352739659,\n",
        " 'feature_fraction': 0.9837355499283265,\n",
        " 'bagging_fraction': 0.9194559319217107,\n",
        " 'lambda_l1': 1.599804930752984,\n",
        " 'lambda_l2': 2.007013372654526}\n",
        "\"\"\""
      ],
      "metadata": {
        "id": "OPmphjrRfZl3",
        "colab": {
          "base_uri": "https://localhost:8080/",
          "height": 53
        },
        "outputId": "3d8f6b72-cfe2-49d1-932f-972cf1ff58ad"
      },
      "execution_count": 230,
      "outputs": [
        {
          "output_type": "execute_result",
          "data": {
            "text/plain": [
              "\"\\nacc(best)=0.7650\\n{'num_leaves': 8,\\n 'min_child_samples': 162,\\n 'min_sum_hessian_in_leaf': 0.005601209352739659,\\n 'feature_fraction': 0.9837355499283265,\\n 'bagging_fraction': 0.9194559319217107,\\n 'lambda_l1': 1.599804930752984,\\n 'lambda_l2': 2.007013372654526}\\n\""
            ],
            "application/vnd.google.colaboratory.intrinsic+json": {
              "type": "string"
            }
          },
          "metadata": {},
          "execution_count": 230
        }
      ]
    },
    {
      "cell_type": "code",
      "execution_count": 233,
      "metadata": {
        "id": "TpfbxUW92VwO"
      },
      "outputs": [],
      "source": [
        "#目的関数の定義\n",
        "# 探索しないハイパーパラメータ\n",
        "\"\"\"\n",
        "params_base = {\n",
        "    \"boosting_type\": \"gbdt\",\n",
        "    \"objective\": \"binary\",\n",
        "    \"metric\": \"auc\",\n",
        "    \"verbosity\": -1,\n",
        "    \"learning_rate\": 0.05,\n",
        "    \"n_estimators\": 1000,\n",
        "    \"bagging_freq\": 1,\n",
        "    \"random_state\": 123,\n",
        "}\n",
        "\n",
        "# 目的関数の定義\n",
        "def objective(trial):\n",
        "    # 探索するハイパーパラメータ\n",
        "    params_tuning = {\n",
        "        #\"learning_rate\": trial.suggest_float(\"learning_rate\", 1e-4, 1e-1, log=True),\n",
        "        #\"boosting_type\": trial.suggest_categorical(\"boosting_type\", [\"gbdt\"]),\n",
        "        \"num_leaves\": trial.suggest_int(\"num_leaves\", 8, 256),\n",
        "        \"min_child_samples\": trial.suggest_int(\"min_child_samples\", 5, 200),\n",
        "        \"min_sum_hessian_in_leaf\": trial.suggest_float(\"min_sum_hessian_in_leaf\", 1e-5, 1e-2, log=True),\n",
        "        \"feature_fraction\": trial.suggest_float(\"feature_fraction\", 0.5, 1.0),\n",
        "        \"bagging_fraction\": trial.suggest_float(\"bagging_fraction\", 0.5, 1.0),\n",
        "        \"lambda_l1\": trial.suggest_float(\"lambda_l1\", 1e-2, 1e+2, log=True),\n",
        "        \"lambda_l2\": trial.suggest_float(\"lambda_l2\", 1e-2, 1e+2, log=True),\n",
        "    }\n",
        "    params_tuning.update(params_base)\n",
        "\n",
        "params_base = {\n",
        "    \"objective\": \"binary\",\n",
        "    \"metric\": \"auc\",\n",
        "    \"verbosity\": -1,\n",
        "    \"n_estimators\": 1000,\n",
        "    \"bagging_freq\": 1,\n",
        "    \"random_state\": 123,\n",
        "    \"num_leaves\": 8,\n",
        "    \"min_child_samples\": 162,\n",
        "    \"min_sum_hessian_in_leaf\": 0.005601209352739659,\n",
        "    \"feature_fraction\": 0.9837355499283265,\n",
        "    \"bagging_fraction\": 0.9194559319217107,\n",
        "    \"lambda_l1\": 1.599804930752984,\n",
        "    \"lambda_l2\": 2.007013372654526\n",
        "}\n",
        "\n",
        "def objective(trial):\n",
        "    # 探索するハイパーパラメータ\n",
        "    params_tuning = {\n",
        "        \"learning_rate\": trial.suggest_float(\"learning_rate\", 0.01, 1, log=True),\n",
        "        \"boosting_type\": trial.suggest_categorical(\"boosting_type\", [\"gbdt\"]),\n",
        "    }\n",
        "    params_tuning.update(params_base)\n",
        "\"\"\"\n",
        "params_base = {\n",
        "    \"boosting_type\": \"gbdt\",\n",
        "    \"objective\": \"binary\",\n",
        "    \"metric\": \"auc\",\n",
        "    \"verbosity\": -1,\n",
        "    \"learning_rate\": 0.05,\n",
        "    \"n_estimators\": 1000,\n",
        "    \"bagging_freq\": 1,\n",
        "    \"random_state\": 123,\n",
        "}\n",
        "\n",
        "# 目的関数の定義\n",
        "def objective(trial):\n",
        "    params_tuning = {\n",
        "        \"learning_rate\": trial.suggest_float(\"learning_rate\", 1e-4, 1e-1, log=True),\n",
        "        \"num_leaves\": trial.suggest_int(\"num_leaves\", 8, 256),\n",
        "        \"min_child_samples\": trial.suggest_int(\"min_child_samples\", 5, 200),\n",
        "        \"min_sum_hessian_in_leaf\": trial.suggest_float(\"min_sum_hessian_in_leaf\", 1e-5, 1e-2, log=True),\n",
        "        \"feature_fraction\": trial.suggest_float(\"feature_fraction\", 0.5, 1.0),\n",
        "        \"bagging_fraction\": trial.suggest_float(\"bagging_fraction\", 0.5, 1.0),\n",
        "        \"lambda_l1\": trial.suggest_float(\"lambda_l1\", 1e-2, 1e+2, log=True),\n",
        "        \"lambda_l2\": trial.suggest_float(\"lambda_l2\", 1e-2, 1e+2, log=True),\n",
        "        \"max_depth\": trial.suggest_int(\"max_depth\", 3, 15),\n",
        "        \"colsample_bytree\": trial.suggest_float(\"colsample_bytree\", 0.5, 1.0),\n",
        "        \"subsample\": trial.suggest_float(\"subsample\", 0.5, 1.0)\n",
        "    }\n",
        "    params_tuning.update(params_base)\n",
        "    # モデル学習・評価\n",
        "    list_metrics = []\n",
        "    cv = list(StratifiedKFold(n_splits=5, shuffle=True, random_state=123).split(X_train, y_train))\n",
        "    list_fold = [0]  # 処理高速化のために1つめのfoldのみとする。\n",
        "    for nfold in list_fold:\n",
        "        idx_tr, idx_va = cv[nfold][0], cv[nfold][1]\n",
        "        x_tr, y_tr = X_train.loc[idx_tr, :], y_train[idx_tr]\n",
        "        x_va, y_va = X_train.loc[idx_va, :], y_train[idx_va]\n",
        "        model = lgb.LGBMClassifier(**params_tuning)\n",
        "        # 早期停止コールバックの作成\n",
        "        early_stopping_callback = lgb.early_stopping(stopping_rounds=30, verbose=True)\n",
        "\n",
        "        model.fit(x_tr,\n",
        "                  y_tr,\n",
        "                  eval_set=[(x_va,y_va)],\n",
        "                  callbacks=[early_stopping_callback]\n",
        "                 )\n",
        "        y_va_pred = model.predict_proba(x_va)[:,1]\n",
        "        metric_va = roc_auc_score(y_va, y_va_pred) # 評価指標をAUCにする\n",
        "        list_metrics.append(metric_va)\n",
        "\n",
        "    # 評価指標の算出\n",
        "    metrics = np.mean(list_metrics)\n",
        "\n",
        "    return metrics"
      ]
    },
    {
      "cell_type": "code",
      "execution_count": 234,
      "metadata": {
        "colab": {
          "base_uri": "https://localhost:8080/"
        },
        "id": "R62uSTUj2fbl",
        "outputId": "aa539ff5-f995-40d4-ed41-d747df227863"
      },
      "outputs": [
        {
          "output_type": "stream",
          "name": "stderr",
          "text": [
            "[I 2024-07-06 09:58:00,012] A new study created in memory with name: no-name-217cf231-fe0a-4c62-8d1b-fb070f185920\n",
            "  0%|          | 0/100 [00:00<?, ?it/s]"
          ]
        },
        {
          "output_type": "stream",
          "name": "stdout",
          "text": [
            "Training until validation scores don't improve for 30 rounds\n",
            "Training until validation scores don't improve for 30 rounds\n",
            "Early stopping, best iteration is:\n",
            "[376]\tvalid_0's auc: 0.764452\n",
            "Early stopping, best iteration is:\n",
            "[144]\tvalid_0's auc: 0.758006\n"
          ]
        },
        {
          "output_type": "stream",
          "name": "stderr",
          "text": [
            "[I 2024-07-06 09:58:29,470] Trial 0 finished with value: 0.764452203861385 and parameters: {'learning_rate': 0.0010447974505026832, 'num_leaves': 21, 'min_child_samples': 52, 'min_sum_hessian_in_leaf': 1.0349777218598777e-05, 'feature_fraction': 0.9598337981462592, 'bagging_fraction': 0.927575343165203, 'lambda_l1': 0.7315581815207891, 'lambda_l2': 0.10997125404295074, 'max_depth': 6, 'colsample_bytree': 0.9274550172454935, 'subsample': 0.8523032164241231}. Best is trial 0 with value: 0.764452203861385.\n",
            "  1%|          | 1/100 [00:29<48:35, 29.45s/it][I 2024-07-06 09:58:29,516] Trial 1 finished with value: 0.7580062411888548 and parameters: {'learning_rate': 0.008290563272941375, 'num_leaves': 183, 'min_child_samples': 129, 'min_sum_hessian_in_leaf': 1.1603691095248478e-05, 'feature_fraction': 0.6993667196797119, 'bagging_fraction': 0.9443992352407684, 'lambda_l1': 0.3149567923047817, 'lambda_l2': 0.03902280095277057, 'max_depth': 12, 'colsample_bytree': 0.7212676789885142, 'subsample': 0.7476566441123769}. Best is trial 0 with value: 0.764452203861385.\n"
          ]
        },
        {
          "output_type": "stream",
          "name": "stdout",
          "text": [
            "Training until validation scores don't improve for 30 rounds\n",
            "Training until validation scores don't improve for 30 rounds\n",
            "Early stopping, best iteration is:\n",
            "[155]\tvalid_0's auc: 0.757623\n"
          ]
        },
        {
          "output_type": "stream",
          "name": "stderr",
          "text": [
            "[I 2024-07-06 09:58:58,050] Trial 2 finished with value: 0.7576231877554531 and parameters: {'learning_rate': 0.00011769617707854874, 'num_leaves': 168, 'min_child_samples': 86, 'min_sum_hessian_in_leaf': 0.0009999568241737078, 'feature_fraction': 0.5793260243380735, 'bagging_fraction': 0.6489534481285947, 'lambda_l1': 0.85632390095231, 'lambda_l2': 0.02917435448051276, 'max_depth': 15, 'colsample_bytree': 0.9165010012198714, 'subsample': 0.9741379389695695}. Best is trial 0 with value: 0.764452203861385.\n",
            "  3%|▎         | 3/100 [00:58<29:27, 18.22s/it]"
          ]
        },
        {
          "output_type": "stream",
          "name": "stdout",
          "text": [
            "Early stopping, best iteration is:\n",
            "[145]\tvalid_0's auc: 0.757396\n"
          ]
        },
        {
          "output_type": "stream",
          "name": "stderr",
          "text": [
            "[I 2024-07-06 09:59:00,533] Trial 3 finished with value: 0.7573962575303738 and parameters: {'learning_rate': 0.0009356784069310613, 'num_leaves': 256, 'min_child_samples': 164, 'min_sum_hessian_in_leaf': 0.00037404003997683387, 'feature_fraction': 0.7107109950974875, 'bagging_fraction': 0.9037571845395368, 'lambda_l1': 0.6028376000044589, 'lambda_l2': 6.17516389067629, 'max_depth': 15, 'colsample_bytree': 0.7363818563748877, 'subsample': 0.7905721712326792}. Best is trial 0 with value: 0.764452203861385.\n",
            "  4%|▍         | 4/100 [01:00<20:26, 12.78s/it]"
          ]
        },
        {
          "output_type": "stream",
          "name": "stdout",
          "text": [
            "Training until validation scores don't improve for 30 rounds\n",
            "Training until validation scores don't improve for 30 rounds\n",
            "Early stopping, best iteration is:\n",
            "[139]\tvalid_0's auc: 0.759014\n"
          ]
        },
        {
          "output_type": "stream",
          "name": "stderr",
          "text": [
            "[I 2024-07-06 09:59:21,890] Trial 4 finished with value: 0.7590143109824732 and parameters: {'learning_rate': 0.0029014521167319437, 'num_leaves': 146, 'min_child_samples': 168, 'min_sum_hessian_in_leaf': 0.00013822600996093583, 'feature_fraction': 0.6461490861499504, 'bagging_fraction': 0.8325875519686485, 'lambda_l1': 0.36329126877711, 'lambda_l2': 0.23407946675296917, 'max_depth': 13, 'colsample_bytree': 0.8637998990989091, 'subsample': 0.8160418489510028}. Best is trial 0 with value: 0.764452203861385.\n",
            "  5%|▌         | 5/100 [01:21<24:43, 15.61s/it]"
          ]
        },
        {
          "output_type": "stream",
          "name": "stdout",
          "text": [
            "Training until validation scores don't improve for 30 rounds\n",
            "Early stopping, best iteration is:\n",
            "[684]\tvalid_0's auc: 0.762784\n"
          ]
        },
        {
          "output_type": "stream",
          "name": "stderr",
          "text": [
            "[I 2024-07-06 09:59:31,127] Trial 5 finished with value: 0.7627835365739649 and parameters: {'learning_rate': 0.00016538459140823955, 'num_leaves': 126, 'min_child_samples': 22, 'min_sum_hessian_in_leaf': 0.00010849239097300872, 'feature_fraction': 0.8062464388876494, 'bagging_fraction': 0.7486286981265259, 'lambda_l1': 0.013523883819120345, 'lambda_l2': 0.35996444355045604, 'max_depth': 3, 'colsample_bytree': 0.8960315601643567, 'subsample': 0.9352369855382618}. Best is trial 0 with value: 0.764452203861385.\n",
            "  6%|▌         | 6/100 [01:31<21:15, 13.57s/it]"
          ]
        },
        {
          "output_type": "stream",
          "name": "stdout",
          "text": [
            "Training until validation scores don't improve for 30 rounds\n",
            "Early stopping, best iteration is:\n",
            "[182]\tvalid_0's auc: 0.760106\n"
          ]
        },
        {
          "output_type": "stream",
          "name": "stderr",
          "text": [
            "[I 2024-07-06 09:59:58,836] Trial 6 finished with value: 0.7601064255451224 and parameters: {'learning_rate': 0.0006328092372837808, 'num_leaves': 201, 'min_child_samples': 9, 'min_sum_hessian_in_leaf': 1.2582115025300028e-05, 'feature_fraction': 0.5388000599169983, 'bagging_fraction': 0.8948776629327013, 'lambda_l1': 0.04048575654516128, 'lambda_l2': 1.2694928754276469, 'max_depth': 12, 'colsample_bytree': 0.8929645079532499, 'subsample': 0.5993198100061143}. Best is trial 0 with value: 0.764452203861385.\n",
            "  7%|▋         | 7/100 [01:58<27:55, 18.01s/it]"
          ]
        },
        {
          "output_type": "stream",
          "name": "stdout",
          "text": [
            "Training until validation scores don't improve for 30 rounds\n",
            "Early stopping, best iteration is:\n",
            "[820]\tvalid_0's auc: 0.756682\n"
          ]
        },
        {
          "output_type": "stream",
          "name": "stderr",
          "text": [
            "[I 2024-07-06 10:00:18,232] Trial 7 finished with value: 0.756668405523957 and parameters: {'learning_rate': 0.00011967294296643889, 'num_leaves': 232, 'min_child_samples': 116, 'min_sum_hessian_in_leaf': 0.00033952178605002094, 'feature_fraction': 0.8388543307012878, 'bagging_fraction': 0.8507706364086629, 'lambda_l1': 80.98967527527688, 'lambda_l2': 14.237628636816517, 'max_depth': 6, 'colsample_bytree': 0.6527221680222963, 'subsample': 0.8931402472454618}. Best is trial 0 with value: 0.764452203861385.\n",
            "  8%|▊         | 8/100 [02:18<28:16, 18.44s/it]"
          ]
        },
        {
          "output_type": "stream",
          "name": "stdout",
          "text": [
            "Training until validation scores don't improve for 30 rounds\n",
            "Early stopping, best iteration is:\n",
            "[562]\tvalid_0's auc: 0.759404\n"
          ]
        },
        {
          "output_type": "stream",
          "name": "stderr",
          "text": [
            "[I 2024-07-06 10:00:37,317] Trial 8 finished with value: 0.7594040019894023 and parameters: {'learning_rate': 0.0003952271017852067, 'num_leaves': 126, 'min_child_samples': 165, 'min_sum_hessian_in_leaf': 2.0561714984270487e-05, 'feature_fraction': 0.8821611602373313, 'bagging_fraction': 0.5569805550996506, 'lambda_l1': 47.13050914429204, 'lambda_l2': 0.46491554337956253, 'max_depth': 6, 'colsample_bytree': 0.7106220719169118, 'subsample': 0.7223799299133711}. Best is trial 0 with value: 0.764452203861385.\n",
            "  9%|▉         | 9/100 [02:37<28:16, 18.64s/it]"
          ]
        },
        {
          "output_type": "stream",
          "name": "stdout",
          "text": [
            "Training until validation scores don't improve for 30 rounds\n",
            "Early stopping, best iteration is:\n",
            "[172]\tvalid_0's auc: 0.760934\n"
          ]
        },
        {
          "output_type": "stream",
          "name": "stderr",
          "text": [
            "[I 2024-07-06 10:00:41,921] Trial 9 finished with value: 0.7609341590100852 and parameters: {'learning_rate': 0.0004259183826131878, 'num_leaves': 86, 'min_child_samples': 48, 'min_sum_hessian_in_leaf': 0.0004713251054666427, 'feature_fraction': 0.7552435184911879, 'bagging_fraction': 0.9106461099196668, 'lambda_l1': 0.15412767950831852, 'lambda_l2': 0.04482901428478504, 'max_depth': 13, 'colsample_bytree': 0.8844701353888849, 'subsample': 0.5191283703884937}. Best is trial 0 with value: 0.764452203861385.\n",
            " 10%|█         | 10/100 [02:41<21:32, 14.36s/it]"
          ]
        },
        {
          "output_type": "stream",
          "name": "stdout",
          "text": [
            "Training until validation scores don't improve for 30 rounds\n",
            "Early stopping, best iteration is:\n",
            "[323]\tvalid_0's auc: 0.762796\n"
          ]
        },
        {
          "output_type": "stream",
          "name": "stderr",
          "text": [
            "[I 2024-07-06 10:01:11,995] Trial 11 finished with value: 0.7627961012201918 and parameters: {'learning_rate': 0.08534229895267732, 'num_leaves': 19, 'min_child_samples': 61, 'min_sum_hessian_in_leaf': 0.008236760260535539, 'feature_fraction': 0.9973967280317946, 'bagging_fraction': 0.9985781522552883, 'lambda_l1': 8.2190853279403, 'lambda_l2': 85.70537244123847, 'max_depth': 8, 'colsample_bytree': 0.512855792331159, 'subsample': 0.654719872422669}. Best is trial 0 with value: 0.764452203861385.\n",
            " 11%|█         | 11/100 [03:11<28:22, 19.13s/it]"
          ]
        },
        {
          "output_type": "stream",
          "name": "stdout",
          "text": [
            "Training until validation scores don't improve for 30 rounds\n",
            "Early stopping, best iteration is:\n",
            "[959]\tvalid_0's auc: 0.760827\n"
          ]
        },
        {
          "output_type": "stream",
          "name": "stderr",
          "text": [
            "[I 2024-07-06 10:01:22,674] Trial 10 finished with value: 0.7608274343067195 and parameters: {'learning_rate': 0.0002703278286831621, 'num_leaves': 202, 'min_child_samples': 165, 'min_sum_hessian_in_leaf': 0.0035890694503018525, 'feature_fraction': 0.6467287171809901, 'bagging_fraction': 0.5307066825513029, 'lambda_l1': 39.2047161903979, 'lambda_l2': 2.8926744625121876, 'max_depth': 3, 'colsample_bytree': 0.8008468658025072, 'subsample': 0.9180947115047232}. Best is trial 0 with value: 0.764452203861385.\n",
            " 12%|█▏        | 12/100 [03:22<24:18, 16.57s/it]"
          ]
        },
        {
          "output_type": "stream",
          "name": "stdout",
          "text": [
            "Training until validation scores don't improve for 30 rounds\n",
            "Early stopping, best iteration is:\n",
            "[582]\tvalid_0's auc: 0.763352\n"
          ]
        },
        {
          "output_type": "stream",
          "name": "stderr",
          "text": [
            "[I 2024-07-06 10:01:56,360] Trial 12 finished with value: 0.7633521616052832 and parameters: {'learning_rate': 0.09698013306276007, 'num_leaves': 12, 'min_child_samples': 63, 'min_sum_hessian_in_leaf': 0.009978224270810269, 'feature_fraction': 0.9972722325615363, 'bagging_fraction': 0.9962213317195638, 'lambda_l1': 4.391074296517736, 'lambda_l2': 65.4302151137479, 'max_depth': 8, 'colsample_bytree': 0.5137427631760679, 'subsample': 0.6752505651437508}. Best is trial 0 with value: 0.764452203861385.\n",
            " 13%|█▎        | 13/100 [03:56<31:31, 21.74s/it]"
          ]
        },
        {
          "output_type": "stream",
          "name": "stdout",
          "text": [
            "Training until validation scores don't improve for 30 rounds\n",
            "Early stopping, best iteration is:\n",
            "[740]\tvalid_0's auc: 0.763475\n"
          ]
        },
        {
          "output_type": "stream",
          "name": "stderr",
          "text": [
            "[I 2024-07-06 10:02:13,544] Trial 13 finished with value: 0.7634751717355291 and parameters: {'learning_rate': 0.09627635291261769, 'num_leaves': 10, 'min_child_samples': 64, 'min_sum_hessian_in_leaf': 0.007384691717413064, 'feature_fraction': 0.9862355542553062, 'bagging_fraction': 0.9985511983224579, 'lambda_l1': 6.189939213102396, 'lambda_l2': 95.99879798725034, 'max_depth': 8, 'colsample_bytree': 0.5199398182090906, 'subsample': 0.6427696219206946}. Best is trial 0 with value: 0.764452203861385.\n",
            " 14%|█▍        | 14/100 [04:13<29:11, 20.36s/it]"
          ]
        },
        {
          "output_type": "stream",
          "name": "stdout",
          "text": [
            "Training until validation scores don't improve for 30 rounds\n",
            "Early stopping, best iteration is:\n",
            "[537]\tvalid_0's auc: 0.762205\n"
          ]
        },
        {
          "output_type": "stream",
          "name": "stderr",
          "text": [
            "[I 2024-07-06 10:02:30,970] Trial 14 finished with value: 0.7622052075971235 and parameters: {'learning_rate': 0.09164616919698144, 'num_leaves': 9, 'min_child_samples': 80, 'min_sum_hessian_in_leaf': 4.777539413369745e-05, 'feature_fraction': 0.9971710667981887, 'bagging_fraction': 0.9941425038520215, 'lambda_l1': 4.239007479503954, 'lambda_l2': 76.79728444422253, 'max_depth': 9, 'colsample_bytree': 0.5020449042776498, 'subsample': 0.8397478846475412}. Best is trial 0 with value: 0.764452203861385.\n",
            " 15%|█▌        | 15/100 [04:30<27:35, 19.48s/it]"
          ]
        },
        {
          "output_type": "stream",
          "name": "stdout",
          "text": [
            "Training until validation scores don't improve for 30 rounds\n",
            "Early stopping, best iteration is:\n",
            "[297]\tvalid_0's auc: 0.761793\n"
          ]
        },
        {
          "output_type": "stream",
          "name": "stderr",
          "text": [
            "[I 2024-07-06 10:02:43,093] Trial 15 finished with value: 0.7617930610245421 and parameters: {'learning_rate': 0.020124902197262574, 'num_leaves': 58, 'min_child_samples': 91, 'min_sum_hessian_in_leaf': 4.772746347529236e-05, 'feature_fraction': 0.9106838430344515, 'bagging_fraction': 0.7854362096994564, 'lambda_l1': 4.121590173653815, 'lambda_l2': 0.012421759842927082, 'max_depth': 6, 'colsample_bytree': 0.9956911601852396, 'subsample': 0.8481454859222984}. Best is trial 0 with value: 0.764452203861385.\n",
            " 16%|█▌        | 16/100 [04:43<24:10, 17.27s/it]"
          ]
        },
        {
          "output_type": "stream",
          "name": "stdout",
          "text": [
            "Training until validation scores don't improve for 30 rounds\n",
            "Early stopping, best iteration is:\n",
            "[350]\tvalid_0's auc: 0.762125\n"
          ]
        },
        {
          "output_type": "stream",
          "name": "stderr",
          "text": [
            "[I 2024-07-06 10:03:05,827] Trial 16 finished with value: 0.7621251827669895 and parameters: {'learning_rate': 0.02151338554119601, 'num_leaves': 58, 'min_child_samples': 35, 'min_sum_hessian_in_leaf': 0.0017951380914561369, 'feature_fraction': 0.911789076460292, 'bagging_fraction': 0.7669726031563903, 'lambda_l1': 10.786778494174527, 'lambda_l2': 0.130105069471115, 'max_depth': 6, 'colsample_bytree': 0.9764568016268864, 'subsample': 0.5651960522069641}. Best is trial 0 with value: 0.764452203861385.\n",
            " 17%|█▋        | 17/100 [05:05<26:09, 18.91s/it]"
          ]
        },
        {
          "output_type": "stream",
          "name": "stdout",
          "text": [
            "Training until validation scores don't improve for 30 rounds\n",
            "Early stopping, best iteration is:\n",
            "[354]\tvalid_0's auc: 0.762155\n"
          ]
        },
        {
          "output_type": "stream",
          "name": "stderr",
          "text": [
            "[I 2024-07-06 10:03:12,915] Trial 17 finished with value: 0.7621546498539734 and parameters: {'learning_rate': 0.0029884975933960763, 'num_leaves': 55, 'min_child_samples': 34, 'min_sum_hessian_in_leaf': 0.0014348895079371378, 'feature_fraction': 0.9322959708599066, 'bagging_fraction': 0.703314524276456, 'lambda_l1': 13.687907846211539, 'lambda_l2': 0.13193430395269695, 'max_depth': 5, 'colsample_bytree': 0.589257152178867, 'subsample': 0.5251073400539749}. Best is trial 0 with value: 0.764452203861385.\n",
            " 18%|█▊        | 18/100 [05:12<20:59, 15.36s/it]"
          ]
        },
        {
          "output_type": "stream",
          "name": "stdout",
          "text": [
            "Training until validation scores don't improve for 30 rounds\n",
            "Early stopping, best iteration is:\n",
            "[372]\tvalid_0's auc: 0.762625\n"
          ]
        },
        {
          "output_type": "stream",
          "name": "stderr",
          "text": [
            "[I 2024-07-06 10:03:31,986] Trial 18 finished with value: 0.7626247957310118 and parameters: {'learning_rate': 0.001592375368333599, 'num_leaves': 51, 'min_child_samples': 118, 'min_sum_hessian_in_leaf': 0.001210294675044161, 'feature_fraction': 0.9476877335100262, 'bagging_fraction': 0.6737501164443519, 'lambda_l1': 0.09310283320837849, 'lambda_l2': 15.27256857048525, 'max_depth': 4, 'colsample_bytree': 0.596015854375865, 'subsample': 0.644081395051664}. Best is trial 0 with value: 0.764452203861385.\n",
            " 19%|█▉        | 19/100 [05:31<22:14, 16.47s/it]"
          ]
        },
        {
          "output_type": "stream",
          "name": "stdout",
          "text": [
            "Training until validation scores don't improve for 30 rounds\n",
            "Early stopping, best iteration is:\n",
            "[195]\tvalid_0's auc: 0.760587\n"
          ]
        },
        {
          "output_type": "stream",
          "name": "stderr",
          "text": [
            "[I 2024-07-06 10:03:45,286] Trial 19 finished with value: 0.7605870606580734 and parameters: {'learning_rate': 0.0012650709087342667, 'num_leaves': 95, 'min_child_samples': 138, 'min_sum_hessian_in_leaf': 0.0038971024687622876, 'feature_fraction': 0.8411599503030082, 'bagging_fraction': 0.8399528757925534, 'lambda_l1': 1.2571013877910782, 'lambda_l2': 17.23905107670008, 'max_depth': 10, 'colsample_bytree': 0.6225280409119237, 'subsample': 0.6553846277763284}. Best is trial 0 with value: 0.764452203861385.\n",
            " 20%|██        | 20/100 [05:45<20:41, 15.52s/it]"
          ]
        },
        {
          "output_type": "stream",
          "name": "stdout",
          "text": [
            "Training until validation scores don't improve for 30 rounds\n",
            "Early stopping, best iteration is:\n",
            "[275]\tvalid_0's auc: 0.762483\n"
          ]
        },
        {
          "output_type": "stream",
          "name": "stderr",
          "text": [
            "[I 2024-07-06 10:04:13,426] Trial 20 finished with value: 0.7624825646836214 and parameters: {'learning_rate': 0.007736492355383567, 'num_leaves': 89, 'min_child_samples': 71, 'min_sum_hessian_in_leaf': 0.003932121731697802, 'feature_fraction': 0.8216803821981087, 'bagging_fraction': 0.938875834822767, 'lambda_l1': 1.9926683413021542, 'lambda_l2': 2.6242121639160936, 'max_depth': 10, 'colsample_bytree': 0.8115246860607562, 'subsample': 0.7098861821696638}. Best is trial 0 with value: 0.764452203861385.\n",
            " 21%|██        | 21/100 [06:13<25:25, 19.31s/it]"
          ]
        },
        {
          "output_type": "stream",
          "name": "stdout",
          "text": [
            "Early stopping, best iteration is:\n",
            "[213]\tvalid_0's auc: 0.76229\n"
          ]
        },
        {
          "output_type": "stream",
          "name": "stderr",
          "text": [
            "[I 2024-07-06 10:04:15,255] Trial 21 finished with value: 0.762289532827008 and parameters: {'learning_rate': 0.007583365123276808, 'num_leaves': 92, 'min_child_samples': 191, 'min_sum_hessian_in_leaf': 0.00016069124702317337, 'feature_fraction': 0.8087978477842024, 'bagging_fraction': 0.9438601532585347, 'lambda_l1': 1.7171368417616029, 'lambda_l2': 2.017671934327117, 'max_depth': 8, 'colsample_bytree': 0.8213056025885297, 'subsample': 0.7274116164069616}. Best is trial 0 with value: 0.764452203861385.\n",
            " 22%|██▏       | 22/100 [06:15<18:17, 14.07s/it]"
          ]
        },
        {
          "output_type": "stream",
          "name": "stdout",
          "text": [
            "Training until validation scores don't improve for 30 rounds\n",
            "Training until validation scores don't improve for 30 rounds\n",
            "Early stopping, best iteration is:\n",
            "[274]\tvalid_0's auc: 0.762465\n"
          ]
        },
        {
          "output_type": "stream",
          "name": "stderr",
          "text": [
            "[I 2024-07-06 10:04:43,828] Trial 22 finished with value: 0.7624651200185478 and parameters: {'learning_rate': 0.02612731029002847, 'num_leaves': 31, 'min_child_samples': 57, 'min_sum_hessian_in_leaf': 0.00867881351905776, 'feature_fraction': 0.9645916447077175, 'bagging_fraction': 0.9637874862426263, 'lambda_l1': 2.8715510689749326, 'lambda_l2': 37.46537786793828, 'max_depth': 8, 'colsample_bytree': 0.5570212993460051, 'subsample': 0.6904931230679443}. Best is trial 0 with value: 0.764452203861385.\n",
            " 23%|██▎       | 23/100 [06:43<23:37, 18.42s/it]"
          ]
        },
        {
          "output_type": "stream",
          "name": "stdout",
          "text": [
            "Training until validation scores don't improve for 30 rounds\n",
            "Early stopping, best iteration is:\n",
            "[310]\tvalid_0's auc: 0.763731\n"
          ]
        },
        {
          "output_type": "stream",
          "name": "stderr",
          "text": [
            "[I 2024-07-06 10:04:51,130] Trial 23 finished with value: 0.7637311016128367 and parameters: {'learning_rate': 0.05494141991718617, 'num_leaves': 30, 'min_child_samples': 57, 'min_sum_hessian_in_leaf': 0.006454266318426069, 'feature_fraction': 0.9739419953997795, 'bagging_fraction': 0.9996296897185446, 'lambda_l1': 3.7223922735396373, 'lambda_l2': 41.23467412572657, 'max_depth': 8, 'colsample_bytree': 0.5607465453714334, 'subsample': 0.6213153853569727}. Best is trial 0 with value: 0.764452203861385.\n",
            " 24%|██▍       | 24/100 [06:51<19:06, 15.08s/it]"
          ]
        },
        {
          "output_type": "stream",
          "name": "stdout",
          "text": [
            "Training until validation scores don't improve for 30 rounds\n",
            "Early stopping, best iteration is:\n",
            "[452]\tvalid_0's auc: 0.763578\n",
            "Early stopping, best iteration is:\n",
            "[354]\tvalid_0's auc: 0.761131\n"
          ]
        },
        {
          "output_type": "stream",
          "name": "stderr",
          "text": [
            "[I 2024-07-06 10:05:31,288] Trial 24 finished with value: 0.7635780821712906 and parameters: {'learning_rate': 0.035863458730458805, 'num_leaves': 31, 'min_child_samples': 103, 'min_sum_hessian_in_leaf': 0.009701448753018715, 'feature_fraction': 0.9980208452249386, 'bagging_fraction': 0.9939324168450677, 'lambda_l1': 6.393992078239713, 'lambda_l2': 37.20921649424311, 'max_depth': 7, 'colsample_bytree': 0.6786572640341793, 'subsample': 0.7738007583245624}. Best is trial 0 with value: 0.764452203861385.\n",
            " 25%|██▌       | 25/100 [07:31<28:15, 22.61s/it][I 2024-07-06 10:05:33,010] Trial 25 finished with value: 0.7611309864369131 and parameters: {'learning_rate': 0.03238932891393627, 'num_leaves': 36, 'min_child_samples': 44, 'min_sum_hessian_in_leaf': 0.0024983070917386336, 'feature_fraction': 0.8793832646273941, 'bagging_fraction': 0.9023973549777838, 'lambda_l1': 19.022617685498723, 'lambda_l2': 30.377409751255446, 'max_depth': 7, 'colsample_bytree': 0.5520561687216653, 'subsample': 0.6055960685410715}. Best is trial 0 with value: 0.764452203861385.\n",
            " 26%|██▌       | 26/100 [07:32<20:09, 16.34s/it]"
          ]
        },
        {
          "output_type": "stream",
          "name": "stdout",
          "text": [
            "Training until validation scores don't improve for 30 rounds\n",
            "Training until validation scores don't improve for 30 rounds\n",
            "Early stopping, best iteration is:\n",
            "[304]\tvalid_0's auc: 0.761278\n"
          ]
        },
        {
          "output_type": "stream",
          "name": "stderr",
          "text": [
            "[I 2024-07-06 10:06:06,882] Trial 26 finished with value: 0.7612776487657853 and parameters: {'learning_rate': 0.04959007758672841, 'num_leaves': 37, 'min_child_samples': 103, 'min_sum_hessian_in_leaf': 0.000720598162060585, 'feature_fraction': 0.886085864999692, 'bagging_fraction': 0.8923510234280223, 'lambda_l1': 23.552739255447033, 'lambda_l2': 28.79699397980601, 'max_depth': 7, 'colsample_bytree': 0.6648503503883314, 'subsample': 0.7729804955744185}. Best is trial 0 with value: 0.764452203861385.\n",
            " 27%|██▋       | 27/100 [08:06<26:16, 21.60s/it]"
          ]
        },
        {
          "output_type": "stream",
          "name": "stdout",
          "text": [
            "Training until validation scores don't improve for 30 rounds\n",
            "Early stopping, best iteration is:\n",
            "[517]\tvalid_0's auc: 0.762174\n"
          ]
        },
        {
          "output_type": "stream",
          "name": "stderr",
          "text": [
            "[I 2024-07-06 10:06:16,236] Trial 27 finished with value: 0.7621740951398003 and parameters: {'learning_rate': 0.014227106531581438, 'num_leaves': 35, 'min_child_samples': 98, 'min_sum_hessian_in_leaf': 0.0007564320186078503, 'feature_fraction': 0.8803575505977622, 'bagging_fraction': 0.8792152698842168, 'lambda_l1': 23.746598136294327, 'lambda_l2': 7.509898565329444, 'max_depth': 5, 'colsample_bytree': 0.6801240204309343, 'subsample': 0.7768270362509445}. Best is trial 0 with value: 0.764452203861385.\n",
            " 28%|██▊       | 28/100 [08:16<21:30, 17.93s/it]"
          ]
        },
        {
          "output_type": "stream",
          "name": "stdout",
          "text": [
            "Training until validation scores don't improve for 30 rounds\n",
            "Early stopping, best iteration is:\n",
            "[234]\tvalid_0's auc: 0.761908\n"
          ]
        },
        {
          "output_type": "stream",
          "name": "stderr",
          "text": [
            "[I 2024-07-06 10:06:43,449] Trial 28 finished with value: 0.7619077882109215 and parameters: {'learning_rate': 0.014615958010591342, 'num_leaves': 73, 'min_child_samples': 100, 'min_sum_hessian_in_leaf': 3.831309406646451e-05, 'feature_fraction': 0.955100862285181, 'bagging_fraction': 0.9621832632229314, 'lambda_l1': 0.6674209471860851, 'lambda_l2': 8.640482697806092, 'max_depth': 10, 'colsample_bytree': 0.7724966062897343, 'subsample': 0.8628301329247284}. Best is trial 0 with value: 0.764452203861385.\n",
            " 29%|██▉       | 29/100 [08:43<24:30, 20.71s/it]"
          ]
        },
        {
          "output_type": "stream",
          "name": "stdout",
          "text": [
            "Training until validation scores don't improve for 30 rounds\n",
            "Early stopping, best iteration is:\n",
            "[209]\tvalid_0's auc: 0.760826\n"
          ]
        },
        {
          "output_type": "stream",
          "name": "stderr",
          "text": [
            "[I 2024-07-06 10:06:51,122] Trial 29 finished with value: 0.7608260133050628 and parameters: {'learning_rate': 0.04895310426237201, 'num_leaves': 75, 'min_child_samples': 12, 'min_sum_hessian_in_leaf': 0.0051631107271414844, 'feature_fraction': 0.9525706331785078, 'bagging_fraction': 0.9628741600766967, 'lambda_l1': 0.3546507662615135, 'lambda_l2': 0.7620987003350266, 'max_depth': 9, 'colsample_bytree': 0.7722524335432962, 'subsample': 0.8807319458600134}. Best is trial 0 with value: 0.764452203861385.\n",
            " 30%|███       | 30/100 [08:51<19:36, 16.80s/it]"
          ]
        },
        {
          "output_type": "stream",
          "name": "stdout",
          "text": [
            "Training until validation scores don't improve for 30 rounds\n",
            "Early stopping, best iteration is:\n",
            "[163]\tvalid_0's auc: 0.760186\n"
          ]
        },
        {
          "output_type": "stream",
          "name": "stderr",
          "text": [
            "[I 2024-07-06 10:07:14,859] Trial 30 finished with value: 0.7601858333613793 and parameters: {'learning_rate': 0.04580190690983515, 'num_leaves': 111, 'min_child_samples': 142, 'min_sum_hessian_in_leaf': 0.005851809333675166, 'feature_fraction': 0.921606616260817, 'bagging_fraction': 0.8064792519760353, 'lambda_l1': 0.2938669686949517, 'lambda_l2': 0.05818508761104751, 'max_depth': 11, 'colsample_bytree': 0.958185749582654, 'subsample': 0.7508389371204612}. Best is trial 0 with value: 0.764452203861385.\n",
            " 31%|███       | 31/100 [09:14<21:42, 18.88s/it]"
          ]
        },
        {
          "output_type": "stream",
          "name": "stdout",
          "text": [
            "Early stopping, best iteration is:\n",
            "[282]\tvalid_0's auc: 0.762693\n"
          ]
        },
        {
          "output_type": "stream",
          "name": "stderr",
          "text": [
            "[I 2024-07-06 10:07:15,897] Trial 31 finished with value: 0.7626925924679433 and parameters: {'learning_rate': 0.004971798128786635, 'num_leaves': 106, 'min_child_samples': 136, 'min_sum_hessian_in_leaf': 0.0021723931368887307, 'feature_fraction': 0.7669277521161317, 'bagging_fraction': 0.805864691429499, 'lambda_l1': 0.16179390165818547, 'lambda_l2': 0.0521251314082392, 'max_depth': 5, 'colsample_bytree': 0.6949729696985146, 'subsample': 0.7500755296852836}. Best is trial 0 with value: 0.764452203861385.\n",
            " 32%|███▏      | 32/100 [09:15<15:19, 13.53s/it]"
          ]
        },
        {
          "output_type": "stream",
          "name": "stdout",
          "text": [
            "Training until validation scores don't improve for 30 rounds\n",
            "Training until validation scores don't improve for 30 rounds\n",
            "Early stopping, best iteration is:\n",
            "[293]\tvalid_0's auc: 0.762267\n"
          ]
        },
        {
          "output_type": "stream",
          "name": "stderr",
          "text": [
            "[I 2024-07-06 10:07:46,209] Trial 32 finished with value: 0.7622667968005025 and parameters: {'learning_rate': 0.05687313709778091, 'num_leaves': 23, 'min_child_samples': 75, 'min_sum_hessian_in_leaf': 0.0024728177406478464, 'feature_fraction': 0.9780185679285749, 'bagging_fraction': 0.937983331507455, 'lambda_l1': 5.532389522502334, 'lambda_l2': 45.348362812804446, 'max_depth': 7, 'colsample_bytree': 0.551633933258343, 'subsample': 0.6183289254205049}. Best is trial 0 with value: 0.764452203861385.\n",
            " 33%|███▎      | 33/100 [09:46<20:43, 18.56s/it]"
          ]
        },
        {
          "output_type": "stream",
          "name": "stdout",
          "text": [
            "Training until validation scores don't improve for 30 rounds\n",
            "Early stopping, best iteration is:\n",
            "[363]\tvalid_0's auc: 0.762933\n"
          ]
        },
        {
          "output_type": "stream",
          "name": "stderr",
          "text": [
            "[I 2024-07-06 10:07:53,624] Trial 33 finished with value: 0.7629328913270286 and parameters: {'learning_rate': 0.06270323761701749, 'num_leaves': 25, 'min_child_samples': 79, 'min_sum_hessian_in_leaf': 0.0027343827492175322, 'feature_fraction': 0.9734613184915374, 'bagging_fraction': 0.9330330125935806, 'lambda_l1': 7.525251467544432, 'lambda_l2': 45.25191047093412, 'max_depth': 7, 'colsample_bytree': 0.5592311858857009, 'subsample': 0.6080390964329521}. Best is trial 0 with value: 0.764452203861385.\n",
            " 34%|███▍      | 34/100 [09:53<16:44, 15.22s/it]"
          ]
        },
        {
          "output_type": "stream",
          "name": "stdout",
          "text": [
            "Training until validation scores don't improve for 30 rounds\n",
            "Early stopping, best iteration is:\n",
            "[780]\tvalid_0's auc: 0.763939\n"
          ]
        },
        {
          "output_type": "stream",
          "name": "stderr",
          "text": [
            "[I 2024-07-06 10:08:36,467] Trial 34 finished with value: 0.7639387174338206 and parameters: {'learning_rate': 0.03473262289482439, 'num_leaves': 9, 'min_child_samples': 52, 'min_sum_hessian_in_leaf': 0.00615692540331154, 'feature_fraction': 0.9688864134847036, 'bagging_fraction': 0.973842963076213, 'lambda_l1': 1.1327561161542081, 'lambda_l2': 99.83649870576609, 'max_depth': 9, 'colsample_bytree': 0.6302748632360798, 'subsample': 0.9896945561081669}. Best is trial 0 with value: 0.764452203861385.\n",
            " 35%|███▌      | 35/100 [10:36<25:27, 23.51s/it]"
          ]
        },
        {
          "output_type": "stream",
          "name": "stdout",
          "text": [
            "Training until validation scores don't improve for 30 rounds\n",
            "Early stopping, best iteration is:\n",
            "[852]\tvalid_0's auc: 0.763697\n"
          ]
        },
        {
          "output_type": "stream",
          "name": "stderr",
          "text": [
            "[I 2024-07-06 10:08:48,785] Trial 35 finished with value: 0.7636973528234928 and parameters: {'learning_rate': 0.0019457086556711094, 'num_leaves': 8, 'min_child_samples': 48, 'min_sum_hessian_in_leaf': 0.005441297553300735, 'feature_fraction': 0.9370674731719286, 'bagging_fraction': 0.9709181927288792, 'lambda_l1': 2.4566419957729533, 'lambda_l2': 97.27303241896537, 'max_depth': 9, 'colsample_bytree': 0.6363899869015579, 'subsample': 0.9944960376594003}. Best is trial 0 with value: 0.764452203861385.\n",
            " 36%|███▌      | 36/100 [10:48<21:29, 20.15s/it]"
          ]
        },
        {
          "output_type": "stream",
          "name": "stdout",
          "text": [
            "Training until validation scores don't improve for 30 rounds\n",
            "Early stopping, best iteration is:\n",
            "[269]\tvalid_0's auc: 0.762409\n"
          ]
        },
        {
          "output_type": "stream",
          "name": "stderr",
          "text": [
            "[I 2024-07-06 10:09:09,151] Trial 36 finished with value: 0.7624088221766006 and parameters: {'learning_rate': 0.03345660270403631, 'num_leaves': 48, 'min_child_samples': 46, 'min_sum_hessian_in_leaf': 8.748331410093118e-05, 'feature_fraction': 0.9310260753751988, 'bagging_fraction': 0.867323519198589, 'lambda_l1': 0.8026626936949288, 'lambda_l2': 4.835886794751306, 'max_depth': 9, 'colsample_bytree': 0.6379815806069562, 'subsample': 0.9875854581123824}. Best is trial 0 with value: 0.764452203861385.\n",
            " 37%|███▋      | 37/100 [11:09<21:13, 20.21s/it]"
          ]
        },
        {
          "output_type": "stream",
          "name": "stdout",
          "text": [
            "Training until validation scores don't improve for 30 rounds\n",
            "Early stopping, best iteration is:\n",
            "[182]\tvalid_0's auc: 0.759232\n"
          ]
        },
        {
          "output_type": "stream",
          "name": "stderr",
          "text": [
            "[I 2024-07-06 10:09:21,497] Trial 37 finished with value: 0.7592319859993942 and parameters: {'learning_rate': 0.002113727400911588, 'num_leaves': 157, 'min_child_samples': 25, 'min_sum_hessian_in_leaf': 0.0002136821660117996, 'feature_fraction': 0.6900141808053757, 'bagging_fraction': 0.85847357304732, 'lambda_l1': 1.0252524942945125, 'lambda_l2': 0.018845923001297202, 'max_depth': 9, 'colsample_bytree': 0.73930418901136, 'subsample': 0.991625551712378}. Best is trial 0 with value: 0.764452203861385.\n",
            " 38%|███▊      | 38/100 [11:21<18:27, 17.86s/it]"
          ]
        },
        {
          "output_type": "stream",
          "name": "stdout",
          "text": [
            "Training until validation scores don't improve for 30 rounds\n",
            "Early stopping, best iteration is:\n",
            "[161]\tvalid_0's auc: 0.758085\n"
          ]
        },
        {
          "output_type": "stream",
          "name": "stderr",
          "text": [
            "[I 2024-07-06 10:09:42,843] Trial 38 finished with value: 0.7580853872416488 and parameters: {'learning_rate': 0.0021303430748853135, 'num_leaves': 158, 'min_child_samples': 28, 'min_sum_hessian_in_leaf': 0.005331635539138496, 'feature_fraction': 0.7248127000990126, 'bagging_fraction': 0.6094124259326466, 'lambda_l1': 1.307879776519682, 'lambda_l2': 17.685027514552086, 'max_depth': 11, 'colsample_bytree': 0.6176259020030901, 'subsample': 0.9565298047857851}. Best is trial 0 with value: 0.764452203861385.\n",
            " 39%|███▉      | 39/100 [11:42<19:12, 18.90s/it]"
          ]
        },
        {
          "output_type": "stream",
          "name": "stdout",
          "text": [
            "Training until validation scores don't improve for 30 rounds\n",
            "Early stopping, best iteration is:\n",
            "[210]\tvalid_0's auc: 0.761679\n"
          ]
        },
        {
          "output_type": "stream",
          "name": "stderr",
          "text": [
            "[I 2024-07-06 10:09:57,710] Trial 39 finished with value: 0.761679287405064 and parameters: {'learning_rate': 0.0007759501905866207, 'num_leaves': 70, 'min_child_samples': 22, 'min_sum_hessian_in_leaf': 0.005418551066875253, 'feature_fraction': 0.8998398730732533, 'bagging_fraction': 0.920069406556922, 'lambda_l1': 2.3106923237412555, 'lambda_l2': 20.880864927978497, 'max_depth': 11, 'colsample_bytree': 0.6066551408785555, 'subsample': 0.9472624542867023}. Best is trial 0 with value: 0.764452203861385.\n",
            " 40%|████      | 40/100 [11:57<17:41, 17.69s/it]"
          ]
        },
        {
          "output_type": "stream",
          "name": "stdout",
          "text": [
            "Training until validation scores don't improve for 30 rounds\n",
            "Early stopping, best iteration is:\n",
            "[148]\tvalid_0's auc: 0.761687\n"
          ]
        },
        {
          "output_type": "stream",
          "name": "stderr",
          "text": [
            "[I 2024-07-06 10:10:09,591] Trial 40 finished with value: 0.7616867476637611 and parameters: {'learning_rate': 0.0008407473079152034, 'num_leaves': 66, 'min_child_samples': 15, 'min_sum_hessian_in_leaf': 2.3735598469207736e-05, 'feature_fraction': 0.8564910967174378, 'bagging_fraction': 0.9159473202510305, 'lambda_l1': 2.4658407043251476, 'lambda_l2': 0.22838735888365594, 'max_depth': 11, 'colsample_bytree': 0.9306004272173682, 'subsample': 0.9452613801791949}. Best is trial 0 with value: 0.764452203861385.\n",
            " 41%|████      | 41/100 [12:09<15:40, 15.95s/it]"
          ]
        },
        {
          "output_type": "stream",
          "name": "stdout",
          "text": [
            "Training until validation scores don't improve for 30 rounds\n",
            "Early stopping, best iteration is:\n",
            "[202]\tvalid_0's auc: 0.760865\n"
          ]
        },
        {
          "output_type": "stream",
          "name": "stderr",
          "text": [
            "[I 2024-07-06 10:10:26,837] Trial 41 finished with value: 0.7608645299289125 and parameters: {'learning_rate': 0.004203392518939076, 'num_leaves': 44, 'min_child_samples': 50, 'min_sum_hessian_in_leaf': 1.0530524270673364e-05, 'feature_fraction': 0.5005254133344303, 'bagging_fraction': 0.9692279112499419, 'lambda_l1': 0.03273414977435369, 'lambda_l2': 0.2276635902937915, 'max_depth': 15, 'colsample_bytree': 0.8407380785057883, 'subsample': 0.921288863927733}. Best is trial 0 with value: 0.764452203861385.\n",
            " 42%|████▏     | 42/100 [12:26<15:47, 16.34s/it]"
          ]
        },
        {
          "output_type": "stream",
          "name": "stdout",
          "text": [
            "Training until validation scores don't improve for 30 rounds\n",
            "Early stopping, best iteration is:\n",
            "[332]\tvalid_0's auc: 0.762574\n"
          ]
        },
        {
          "output_type": "stream",
          "name": "stderr",
          "text": [
            "[I 2024-07-06 10:10:47,322] Trial 42 finished with value: 0.7625742940800323 and parameters: {'learning_rate': 0.004310688415465743, 'num_leaves': 45, 'min_child_samples': 52, 'min_sum_hessian_in_leaf': 0.009940003253672789, 'feature_fraction': 0.9474994899630318, 'bagging_fraction': 0.9752801016744604, 'lambda_l1': 0.6960431042660262, 'lambda_l2': 56.176815729275276, 'max_depth': 7, 'colsample_bytree': 0.6593252755465521, 'subsample': 0.8020700018765954}. Best is trial 0 with value: 0.764452203861385.\n",
            " 43%|████▎     | 43/100 [12:47<16:42, 17.58s/it]"
          ]
        },
        {
          "output_type": "stream",
          "name": "stdout",
          "text": [
            "Training until validation scores don't improve for 30 rounds\n",
            "Early stopping, best iteration is:\n",
            "[300]\tvalid_0's auc: 0.76232\n"
          ]
        },
        {
          "output_type": "stream",
          "name": "stderr",
          "text": [
            "[I 2024-07-06 10:10:56,251] Trial 43 finished with value: 0.762319598230479 and parameters: {'learning_rate': 0.013716095358247764, 'num_leaves': 20, 'min_child_samples': 111, 'min_sum_hessian_in_leaf': 0.0035891932344372266, 'feature_fraction': 0.9344517872039119, 'bagging_fraction': 0.9614285310107105, 'lambda_l1': 0.5621095318042775, 'lambda_l2': 50.11799957425566, 'max_depth': 7, 'colsample_bytree': 0.6549546625209351, 'subsample': 0.8999559146152191}. Best is trial 0 with value: 0.764452203861385.\n",
            " 44%|████▍     | 44/100 [12:56<13:59, 14.99s/it]"
          ]
        },
        {
          "output_type": "stream",
          "name": "stdout",
          "text": [
            "Training until validation scores don't improve for 30 rounds\n",
            "Early stopping, best iteration is:\n",
            "[609]\tvalid_0's auc: 0.763091\n"
          ]
        },
        {
          "output_type": "stream",
          "name": "stderr",
          "text": [
            "[I 2024-07-06 10:11:26,462] Trial 44 finished with value: 0.7630913704065188 and parameters: {'learning_rate': 0.001378599362466304, 'num_leaves': 19, 'min_child_samples': 40, 'min_sum_hessian_in_leaf': 0.0036976178083363426, 'feature_fraction': 0.9669634475048097, 'bagging_fraction': 0.9729372784024855, 'lambda_l1': 3.1404547216909764, 'lambda_l2': 9.905643117877803, 'max_depth': 4, 'colsample_bytree': 0.7110085160785626, 'subsample': 0.9009254330906274}. Best is trial 0 with value: 0.764452203861385.\n",
            " 45%|████▌     | 45/100 [13:26<17:55, 19.56s/it]"
          ]
        },
        {
          "output_type": "stream",
          "name": "stdout",
          "text": [
            "Training until validation scores don't improve for 30 rounds\n",
            "Early stopping, best iteration is:\n",
            "[627]\tvalid_0's auc: 0.76342\n"
          ]
        },
        {
          "output_type": "stream",
          "name": "stderr",
          "text": [
            "[I 2024-07-06 10:11:39,874] Trial 45 finished with value: 0.7634199770396046 and parameters: {'learning_rate': 0.0012433994872789198, 'num_leaves': 8, 'min_child_samples': 89, 'min_sum_hessian_in_leaf': 0.0004902692578996263, 'feature_fraction': 0.9732785726212287, 'bagging_fraction': 0.9805661314853135, 'lambda_l1': 0.4223794251630497, 'lambda_l2': 91.83484064858672, 'max_depth': 6, 'colsample_bytree': 0.7186960549864345, 'subsample': 0.9688200155066856}. Best is trial 0 with value: 0.764452203861385.\n",
            " 46%|████▌     | 46/100 [13:39<15:56, 17.71s/it]"
          ]
        },
        {
          "output_type": "stream",
          "name": "stdout",
          "text": [
            "Training until validation scores don't improve for 30 rounds\n",
            "Early stopping, best iteration is:\n",
            "[536]\tvalid_0's auc: 0.763415\n"
          ]
        },
        {
          "output_type": "stream",
          "name": "stderr",
          "text": [
            "[I 2024-07-06 10:12:01,146] Trial 46 finished with value: 0.7634154148763915 and parameters: {'learning_rate': 0.0003636864224254549, 'num_leaves': 10, 'min_child_samples': 88, 'min_sum_hessian_in_leaf': 0.006233021701388237, 'feature_fraction': 0.9982245770196166, 'bagging_fraction': 0.9815046269720168, 'lambda_l1': 1.6707408829402528, 'lambda_l2': 24.081740638829295, 'max_depth': 9, 'colsample_bytree': 0.587023152855819, 'subsample': 0.8177963419279825}. Best is trial 0 with value: 0.764452203861385.\n",
            " 47%|████▋     | 47/100 [14:01<16:35, 18.78s/it]"
          ]
        },
        {
          "output_type": "stream",
          "name": "stdout",
          "text": [
            "Training until validation scores don't improve for 30 rounds\n",
            "Early stopping, best iteration is:\n",
            "[381]\tvalid_0's auc: 0.76351\n"
          ]
        },
        {
          "output_type": "stream",
          "name": "stderr",
          "text": [
            "[I 2024-07-06 10:12:15,516] Trial 47 finished with value: 0.7635104911056515 and parameters: {'learning_rate': 0.0005194611845005386, 'num_leaves': 29, 'min_child_samples': 68, 'min_sum_hessian_in_leaf': 0.0067127281521697, 'feature_fraction': 0.6280717008254582, 'bagging_fraction': 0.9224108852729933, 'lambda_l1': 0.22904620642154172, 'lambda_l2': 30.1775946166018, 'max_depth': 9, 'colsample_bytree': 0.5851267152872572, 'subsample': 0.8302058016429947}. Best is trial 0 with value: 0.764452203861385.\n",
            " 48%|████▊     | 48/100 [14:15<15:07, 17.46s/it]"
          ]
        },
        {
          "output_type": "stream",
          "name": "stdout",
          "text": [
            "Training until validation scores don't improve for 30 rounds\n",
            "Early stopping, best iteration is:\n",
            "[306]\tvalid_0's auc: 0.762766\n"
          ]
        },
        {
          "output_type": "stream",
          "name": "stderr",
          "text": [
            "[I 2024-07-06 10:12:33,290] Trial 48 finished with value: 0.7627660171193305 and parameters: {'learning_rate': 0.0356922777768817, 'num_leaves': 30, 'min_child_samples': 66, 'min_sum_hessian_in_leaf': 7.811799778033506e-05, 'feature_fraction': 0.6196466276811157, 'bagging_fraction': 0.9266887217878307, 'lambda_l1': 0.17891842141721814, 'lambda_l2': 33.515661131547816, 'max_depth': 8, 'colsample_bytree': 0.6864883980748361, 'subsample': 0.8208531544672554}. Best is trial 0 with value: 0.764452203861385.\n",
            " 49%|████▉     | 49/100 [14:33<14:55, 17.55s/it]"
          ]
        },
        {
          "output_type": "stream",
          "name": "stdout",
          "text": [
            "Training until validation scores don't improve for 30 rounds\n",
            "Early stopping, best iteration is:\n",
            "[112]\tvalid_0's auc: 0.758466\n"
          ]
        },
        {
          "output_type": "stream",
          "name": "stderr",
          "text": [
            "[I 2024-07-06 10:12:59,642] Trial 50 finished with value: 0.7584659352247614 and parameters: {'learning_rate': 0.07245294200943504, 'num_leaves': 205, 'min_child_samples': 56, 'min_sum_hessian_in_leaf': 0.0015380882793927322, 'feature_fraction': 0.8616095434927916, 'bagging_fraction': 0.7193826801315952, 'lambda_l1': 3.8065845762854775, 'lambda_l2': 4.507018152124552, 'max_depth': 10, 'colsample_bytree': 0.6407878976938368, 'subsample': 0.5713520091766577}. Best is trial 0 with value: 0.764452203861385.\n",
            " 50%|█████     | 50/100 [14:59<16:49, 20.19s/it]"
          ]
        },
        {
          "output_type": "stream",
          "name": "stdout",
          "text": [
            "Training until validation scores don't improve for 30 rounds\n",
            "Early stopping, best iteration is:\n",
            "[375]\tvalid_0's auc: 0.761103\n"
          ]
        },
        {
          "output_type": "stream",
          "name": "stderr",
          "text": [
            "[I 2024-07-06 10:13:11,594] Trial 49 finished with value: 0.7611028468646347 and parameters: {'learning_rate': 0.011093496234680858, 'num_leaves': 201, 'min_child_samples': 57, 'min_sum_hessian_in_leaf': 1.6078197890096437e-05, 'feature_fraction': 0.9104339149257579, 'bagging_fraction': 0.9988029241373939, 'lambda_l1': 9.768235860012, 'lambda_l2': 69.74536881426044, 'max_depth': 8, 'colsample_bytree': 0.6896108672253446, 'subsample': 0.9998245539663252}. Best is trial 0 with value: 0.764452203861385.\n",
            " 51%|█████     | 51/100 [15:11<14:28, 17.72s/it]"
          ]
        },
        {
          "output_type": "stream",
          "name": "stdout",
          "text": [
            "Training until validation scores don't improve for 30 rounds\n",
            "Early stopping, best iteration is:\n",
            "[318]\tvalid_0's auc: 0.763122\n"
          ]
        },
        {
          "output_type": "stream",
          "name": "stderr",
          "text": [
            "[I 2024-07-06 10:13:35,732] Trial 51 finished with value: 0.7631218658499647 and parameters: {'learning_rate': 0.009882723739192372, 'num_leaves': 41, 'min_child_samples': 35, 'min_sum_hessian_in_leaf': 0.00026181486321433174, 'feature_fraction': 0.7859519382766645, 'bagging_fraction': 0.8887065016362558, 'lambda_l1': 10.540910271287443, 'lambda_l2': 1.1549951422487184, 'max_depth': 6, 'colsample_bytree': 0.7683562593825961, 'subsample': 0.9947032127870425}. Best is trial 0 with value: 0.764452203861385.\n",
            " 52%|█████▏    | 52/100 [15:35<15:42, 19.65s/it]"
          ]
        },
        {
          "output_type": "stream",
          "name": "stdout",
          "text": [
            "Training until validation scores don't improve for 30 rounds\n",
            "Early stopping, best iteration is:\n",
            "[330]\tvalid_0's auc: 0.764078\n"
          ]
        },
        {
          "output_type": "stream",
          "name": "stderr",
          "text": [
            "[I 2024-07-06 10:13:40,561] Trial 52 finished with value: 0.7640782373596293 and parameters: {'learning_rate': 0.0005674075177850957, 'num_leaves': 21, 'min_child_samples': 69, 'min_sum_hessian_in_leaf': 0.007235673582451418, 'feature_fraction': 0.5893944354038653, 'bagging_fraction': 0.9513466877877176, 'lambda_l1': 0.08687370300400708, 'lambda_l2': 12.352352625786954, 'max_depth': 9, 'colsample_bytree': 0.5768915094697926, 'subsample': 0.8381973185977578}. Best is trial 0 with value: 0.764452203861385.\n",
            " 53%|█████▎    | 53/100 [15:40<11:54, 15.20s/it]"
          ]
        },
        {
          "output_type": "stream",
          "name": "stdout",
          "text": [
            "Training until validation scores don't improve for 30 rounds\n",
            "Early stopping, best iteration is:\n",
            "[377]\tvalid_0's auc: 0.763459\n"
          ]
        },
        {
          "output_type": "stream",
          "name": "stderr",
          "text": [
            "[I 2024-07-06 10:14:12,220] Trial 54 finished with value: 0.7634594098355751 and parameters: {'learning_rate': 0.00021993245099068265, 'num_leaves': 23, 'min_child_samples': 83, 'min_sum_hessian_in_leaf': 0.00998449129346018, 'feature_fraction': 0.6000515397374406, 'bagging_fraction': 0.9518424583352824, 'lambda_l1': 0.09123883970873474, 'lambda_l2': 10.694033641984653, 'max_depth': 10, 'colsample_bytree': 0.533372795446037, 'subsample': 0.8673106248160695}. Best is trial 0 with value: 0.764452203861385.\n",
            " 54%|█████▍    | 54/100 [16:12<15:26, 20.14s/it]"
          ]
        },
        {
          "output_type": "stream",
          "name": "stdout",
          "text": [
            "Early stopping, best iteration is:\n",
            "[523]\tvalid_0's auc: 0.763652\n"
          ]
        },
        {
          "output_type": "stream",
          "name": "stderr",
          "text": [
            "[I 2024-07-06 10:14:13,541] Trial 53 finished with value: 0.7636523295078473 and parameters: {'learning_rate': 0.0005550001378762126, 'num_leaves': 19, 'min_child_samples': 66, 'min_sum_hessian_in_leaf': 0.007593891129434018, 'feature_fraction': 0.6856608674331461, 'bagging_fraction': 0.9465314127082729, 'lambda_l1': 0.10329744637112558, 'lambda_l2': 11.280826134827029, 'max_depth': 9, 'colsample_bytree': 0.5798721916928982, 'subsample': 0.8406410816456239}. Best is trial 0 with value: 0.764452203861385.\n",
            " 55%|█████▌    | 55/100 [16:13<10:52, 14.49s/it]"
          ]
        },
        {
          "output_type": "stream",
          "name": "stdout",
          "text": [
            "Training until validation scores don't improve for 30 rounds\n",
            "Training until validation scores don't improve for 30 rounds\n",
            "Early stopping, best iteration is:\n",
            "[396]\tvalid_0's auc: 0.762652\n"
          ]
        },
        {
          "output_type": "stream",
          "name": "stderr",
          "text": [
            "[I 2024-07-06 10:14:46,237] Trial 55 finished with value: 0.7626521313155109 and parameters: {'learning_rate': 0.000997760637067148, 'num_leaves': 17, 'min_child_samples': 125, 'min_sum_hessian_in_leaf': 0.007864707708949556, 'feature_fraction': 0.559431424500922, 'bagging_fraction': 0.9857608366095233, 'lambda_l1': 0.016482848482863723, 'lambda_l2': 92.69575977863163, 'max_depth': 13, 'colsample_bytree': 0.6343432647914016, 'subsample': 0.7909656877734411}. Best is trial 0 with value: 0.764452203861385.\n",
            " 56%|█████▌    | 56/100 [16:46<14:38, 19.96s/it]"
          ]
        },
        {
          "output_type": "stream",
          "name": "stdout",
          "text": [
            "Early stopping, best iteration is:\n",
            "[146]\tvalid_0's auc: 0.755181\n"
          ]
        },
        {
          "output_type": "stream",
          "name": "stderr",
          "text": [
            "[I 2024-07-06 10:14:48,345] Trial 56 finished with value: 0.7551811590138249 and parameters: {'learning_rate': 0.0006865463439628512, 'num_leaves': 253, 'min_child_samples': 73, 'min_sum_hessian_in_leaf': 0.0071759519565507655, 'feature_fraction': 0.6616711598739782, 'bagging_fraction': 0.9034220215710962, 'lambda_l1': 0.03647604867953283, 'lambda_l2': 0.6903772896885163, 'max_depth': 14, 'colsample_bytree': 0.5724041312900607, 'subsample': 0.9274551403942528}. Best is trial 0 with value: 0.764452203861385.\n",
            " 57%|█████▋    | 57/100 [16:48<10:27, 14.60s/it]"
          ]
        },
        {
          "output_type": "stream",
          "name": "stdout",
          "text": [
            "Training until validation scores don't improve for 30 rounds\n",
            "Training until validation scores don't improve for 30 rounds\n",
            "Early stopping, best iteration is:\n",
            "[159]\tvalid_0's auc: 0.762647\n"
          ]
        },
        {
          "output_type": "stream",
          "name": "stderr",
          "text": [
            "[I 2024-07-06 10:15:10,441] Trial 57 finished with value: 0.762647344783615 and parameters: {'learning_rate': 0.0005717434994437854, 'num_leaves': 61, 'min_child_samples': 72, 'min_sum_hessian_in_leaf': 0.004495656872762337, 'feature_fraction': 0.6697467995448065, 'bagging_fraction': 0.9494014799862414, 'lambda_l1': 0.07582346670648821, 'lambda_l2': 13.198482729537888, 'max_depth': 14, 'colsample_bytree': 0.569379525447425, 'subsample': 0.9179922901763438}. Best is trial 0 with value: 0.764452203861385.\n",
            " 58%|█████▊    | 58/100 [17:10<11:47, 16.85s/it]"
          ]
        },
        {
          "output_type": "stream",
          "name": "stdout",
          "text": [
            "Training until validation scores don't improve for 30 rounds\n",
            "Early stopping, best iteration is:\n",
            "[237]\tvalid_0's auc: 0.764067\n"
          ]
        },
        {
          "output_type": "stream",
          "name": "stderr",
          "text": [
            "[I 2024-07-06 10:15:19,172] Trial 58 finished with value: 0.7640671124124495 and parameters: {'learning_rate': 0.0005181468943195719, 'num_leaves': 61, 'min_child_samples': 42, 'min_sum_hessian_in_leaf': 0.0032183939974158235, 'feature_fraction': 0.6733425632678735, 'bagging_fraction': 0.9460010836474568, 'lambda_l1': 0.0760752787628096, 'lambda_l2': 14.468195873212295, 'max_depth': 12, 'colsample_bytree': 0.6058940640363834, 'subsample': 0.8572460240070585}. Best is trial 0 with value: 0.764452203861385.\n",
            " 59%|█████▉    | 59/100 [17:19<09:50, 14.41s/it]"
          ]
        },
        {
          "output_type": "stream",
          "name": "stdout",
          "text": [
            "Training until validation scores don't improve for 30 rounds\n",
            "Early stopping, best iteration is:\n",
            "[390]\tvalid_0's auc: 0.762991\n"
          ]
        },
        {
          "output_type": "stream",
          "name": "stderr",
          "text": [
            "[I 2024-07-06 10:15:38,621] Trial 59 finished with value: 0.7629914702505826 and parameters: {'learning_rate': 0.002026721499271667, 'num_leaves': 15, 'min_child_samples': 39, 'min_sum_hessian_in_leaf': 0.0029209276212153698, 'feature_fraction': 0.73795068897159, 'bagging_fraction': 0.8259170306857825, 'lambda_l1': 0.06156542601396077, 'lambda_l2': 63.07022570040637, 'max_depth': 8, 'colsample_bytree': 0.5333093810265257, 'subsample': 0.8401270530934017}. Best is trial 0 with value: 0.764452203861385.\n",
            " 60%|██████    | 60/100 [17:38<10:37, 15.93s/it]"
          ]
        },
        {
          "output_type": "stream",
          "name": "stdout",
          "text": [
            "Training until validation scores don't improve for 30 rounds\n",
            "Early stopping, best iteration is:\n",
            "[301]\tvalid_0's auc: 0.76086\n"
          ]
        },
        {
          "output_type": "stream",
          "name": "stderr",
          "text": [
            "[I 2024-07-06 10:15:50,722] Trial 60 finished with value: 0.7608597994891872 and parameters: {'learning_rate': 0.00037228181395145183, 'num_leaves': 51, 'min_child_samples': 41, 'min_sum_hessian_in_leaf': 0.0029710486213894156, 'feature_fraction': 0.5907045710597352, 'bagging_fraction': 0.6144010566156569, 'lambda_l1': 0.011756464854967282, 'lambda_l2': 65.75618982342904, 'max_depth': 10, 'colsample_bytree': 0.6052954143689618, 'subsample': 0.9689154317906832}. Best is trial 0 with value: 0.764452203861385.\n",
            " 61%|██████    | 61/100 [17:50<09:36, 14.78s/it]"
          ]
        },
        {
          "output_type": "stream",
          "name": "stdout",
          "text": [
            "Training until validation scores don't improve for 30 rounds\n",
            "Early stopping, best iteration is:\n",
            "[200]\tvalid_0's auc: 0.760972\n"
          ]
        },
        {
          "output_type": "stream",
          "name": "stderr",
          "text": [
            "[I 2024-07-06 10:16:00,681] Trial 61 finished with value: 0.7609718342513752 and parameters: {'learning_rate': 0.0002599127055052786, 'num_leaves': 54, 'min_child_samples': 32, 'min_sum_hessian_in_leaf': 0.0010498539478945603, 'feature_fraction': 0.5826871275734614, 'bagging_fraction': 0.8755930842425013, 'lambda_l1': 0.021944959552338522, 'lambda_l2': 0.08083084634418432, 'max_depth': 12, 'colsample_bytree': 0.6129901730435446, 'subsample': 0.9698691927303322}. Best is trial 0 with value: 0.764452203861385.\n",
            " 62%|██████▏   | 62/100 [18:00<08:26, 13.33s/it]"
          ]
        },
        {
          "output_type": "stream",
          "name": "stdout",
          "text": [
            "Training until validation scores don't improve for 30 rounds\n",
            "Early stopping, best iteration is:\n",
            "[251]\tvalid_0's auc: 0.763633\n"
          ]
        },
        {
          "output_type": "stream",
          "name": "stderr",
          "text": [
            "[I 2024-07-06 10:16:16,969] Trial 62 finished with value: 0.7636325476689964 and parameters: {'learning_rate': 0.0002994988380456343, 'num_leaves': 39, 'min_child_samples': 62, 'min_sum_hessian_in_leaf': 0.004554036656541239, 'feature_fraction': 0.6906496442140476, 'bagging_fraction': 0.9474021435618779, 'lambda_l1': 0.02425090637017646, 'lambda_l2': 5.8115431501440655, 'max_depth': 12, 'colsample_bytree': 0.6219442603665556, 'subsample': 0.8626979536931041}. Best is trial 0 with value: 0.764452203861385.\n",
            " 63%|██████▎   | 63/100 [18:16<08:46, 14.22s/it]"
          ]
        },
        {
          "output_type": "stream",
          "name": "stdout",
          "text": [
            "Training until validation scores don't improve for 30 rounds\n",
            "Early stopping, best iteration is:\n",
            "[638]\tvalid_0's auc: 0.763055\n"
          ]
        },
        {
          "output_type": "stream",
          "name": "stderr",
          "text": [
            "[I 2024-07-06 10:16:32,864] Trial 63 finished with value: 0.7630545739425691 and parameters: {'learning_rate': 0.00016458855939696084, 'num_leaves': 9, 'min_child_samples': 61, 'min_sum_hessian_in_leaf': 0.00431887316299067, 'feature_fraction': 0.710165777982057, 'bagging_fraction': 0.9470732468526096, 'lambda_l1': 0.1111110870829263, 'lambda_l2': 1.6072055074502098, 'max_depth': 9, 'colsample_bytree': 0.5310831218416652, 'subsample': 0.8541400462327261}. Best is trial 0 with value: 0.764452203861385.\n",
            " 64%|██████▍   | 64/100 [18:32<08:49, 14.72s/it]"
          ]
        },
        {
          "output_type": "stream",
          "name": "stdout",
          "text": [
            "Training until validation scores don't improve for 30 rounds\n",
            "Early stopping, best iteration is:\n",
            "[634]\tvalid_0's auc: 0.763139\n"
          ]
        },
        {
          "output_type": "stream",
          "name": "stderr",
          "text": [
            "[I 2024-07-06 10:16:51,812] Trial 64 finished with value: 0.7631392731202579 and parameters: {'learning_rate': 0.00046748555978662034, 'num_leaves': 8, 'min_child_samples': 50, 'min_sum_hessian_in_leaf': 0.0019739895693297554, 'feature_fraction': 0.7077639991966366, 'bagging_fraction': 0.9074239374157267, 'lambda_l1': 0.13592668489388218, 'lambda_l2': 22.71453018004507, 'max_depth': 9, 'colsample_bytree': 0.5345773741058332, 'subsample': 0.8813729122278953}. Best is trial 0 with value: 0.764452203861385.\n",
            " 65%|██████▌   | 65/100 [18:51<09:19, 15.99s/it]"
          ]
        },
        {
          "output_type": "stream",
          "name": "stdout",
          "text": [
            "Training until validation scores don't improve for 30 rounds\n",
            "Early stopping, best iteration is:\n",
            "[294]\tvalid_0's auc: 0.763481\n"
          ]
        },
        {
          "output_type": "stream",
          "name": "stderr",
          "text": [
            "[I 2024-07-06 10:17:03,738] Trial 65 finished with value: 0.7634812109925696 and parameters: {'learning_rate': 0.0010412772852564885, 'num_leaves': 26, 'min_child_samples': 50, 'min_sum_hessian_in_leaf': 0.001937329574946862, 'feature_fraction': 0.5611374011055018, 'bagging_fraction': 0.9091308682375958, 'lambda_l1': 0.05737160995432196, 'lambda_l2': 3.3085882791951184, 'max_depth': 9, 'colsample_bytree': 0.5727061235523333, 'subsample': 0.8821565432575273}. Best is trial 0 with value: 0.764452203861385.\n",
            " 66%|██████▌   | 66/100 [19:03<08:22, 14.77s/it]"
          ]
        },
        {
          "output_type": "stream",
          "name": "stdout",
          "text": [
            "Training until validation scores don't improve for 30 rounds\n",
            "Early stopping, best iteration is:\n",
            "[154]\tvalid_0's auc: 0.760818\n"
          ]
        },
        {
          "output_type": "stream",
          "name": "stderr",
          "text": [
            "[I 2024-07-06 10:17:20,822] Trial 66 finished with value: 0.7608184969541951 and parameters: {'learning_rate': 0.0010789485184642864, 'num_leaves': 134, 'min_child_samples': 5, 'min_sum_hessian_in_leaf': 0.0077200956791845165, 'feature_fraction': 0.5651038668967553, 'bagging_fraction': 0.9274650790088594, 'lambda_l1': 0.05227590637751627, 'lambda_l2': 3.624603470328758, 'max_depth': 10, 'colsample_bytree': 0.5777104419264522, 'subsample': 0.7266161049002332}. Best is trial 0 with value: 0.764452203861385.\n",
            " 67%|██████▋   | 67/100 [19:20<08:30, 15.47s/it]"
          ]
        },
        {
          "output_type": "stream",
          "name": "stdout",
          "text": [
            "Training until validation scores don't improve for 30 rounds\n",
            "Early stopping, best iteration is:\n",
            "[271]\tvalid_0's auc: 0.761733\n"
          ]
        },
        {
          "output_type": "stream",
          "name": "stderr",
          "text": [
            "[I 2024-07-06 10:17:35,960] Trial 67 finished with value: 0.7617328741254297 and parameters: {'learning_rate': 0.0016586043595791461, 'num_leaves': 82, 'min_child_samples': 18, 'min_sum_hessian_in_leaf': 0.007261990403991103, 'feature_fraction': 0.6390466841916252, 'bagging_fraction': 0.9369151818842275, 'lambda_l1': 0.05015578085775939, 'lambda_l2': 12.494299377093615, 'max_depth': 8, 'colsample_bytree': 0.6015041307210671, 'subsample': 0.8030802084364729}. Best is trial 0 with value: 0.764452203861385.\n",
            " 68%|██████▊   | 68/100 [19:35<08:11, 15.37s/it]"
          ]
        },
        {
          "output_type": "stream",
          "name": "stdout",
          "text": [
            "Training until validation scores don't improve for 30 rounds\n",
            "Early stopping, best iteration is:\n",
            "[205]\tvalid_0's auc: 0.760449\n"
          ]
        },
        {
          "output_type": "stream",
          "name": "stderr",
          "text": [
            "[I 2024-07-06 10:17:46,963] Trial 68 finished with value: 0.7604487186678482 and parameters: {'learning_rate': 0.0006142658584814267, 'num_leaves': 80, 'min_child_samples': 18, 'min_sum_hessian_in_leaf': 0.006293321686445007, 'feature_fraction': 0.6639825993045226, 'bagging_fraction': 0.961160891773223, 'lambda_l1': 0.4676335394536111, 'lambda_l2': 0.4241885886908455, 'max_depth': 8, 'colsample_bytree': 0.5965646761341111, 'subsample': 0.8030686320913776}. Best is trial 0 with value: 0.764452203861385.\n",
            " 69%|██████▉   | 69/100 [19:46<07:15, 14.06s/it]"
          ]
        },
        {
          "output_type": "stream",
          "name": "stdout",
          "text": [
            "Training until validation scores don't improve for 30 rounds\n",
            "Early stopping, best iteration is:\n",
            "[264]\tvalid_0's auc: 0.763463\n"
          ]
        },
        {
          "output_type": "stream",
          "name": "stderr",
          "text": [
            "[I 2024-07-06 10:18:05,421] Trial 69 finished with value: 0.7634632054057895 and parameters: {'learning_rate': 0.0006521977730678183, 'num_leaves': 31, 'min_child_samples': 55, 'min_sum_hessian_in_leaf': 0.0032269421861782824, 'feature_fraction': 0.5301433090855507, 'bagging_fraction': 0.9997529364931873, 'lambda_l1': 0.4563584981220225, 'lambda_l2': 6.944958510043672, 'max_depth': 8, 'colsample_bytree': 0.8785422853358862, 'subsample': 0.6804119049548152}. Best is trial 0 with value: 0.764452203861385.\n",
            " 70%|███████   | 70/100 [20:05<07:41, 15.38s/it]"
          ]
        },
        {
          "output_type": "stream",
          "name": "stdout",
          "text": [
            "Training until validation scores don't improve for 30 rounds\n",
            "Early stopping, best iteration is:\n",
            "[257]\tvalid_0's auc: 0.763869\n"
          ]
        },
        {
          "output_type": "stream",
          "name": "stderr",
          "text": [
            "[I 2024-07-06 10:18:17,800] Trial 70 finished with value: 0.7638689200761358 and parameters: {'learning_rate': 0.002856595353820252, 'num_leaves': 34, 'min_child_samples': 80, 'min_sum_hessian_in_leaf': 0.0033180307192072797, 'feature_fraction': 0.522184428349115, 'bagging_fraction': 0.9851631635325986, 'lambda_l1': 0.2635477479291286, 'lambda_l2': 47.61004936235142, 'max_depth': 11, 'colsample_bytree': 0.5023327385254639, 'subsample': 0.690712250447318}. Best is trial 0 with value: 0.764452203861385.\n",
            " 71%|███████   | 71/100 [20:17<06:59, 14.48s/it]"
          ]
        },
        {
          "output_type": "stream",
          "name": "stdout",
          "text": [
            "Training until validation scores don't improve for 30 rounds\n",
            "Early stopping, best iteration is:\n",
            "[452]\tvalid_0's auc: 0.762196\n"
          ]
        },
        {
          "output_type": "stream",
          "name": "stderr",
          "text": [
            "[I 2024-07-06 10:18:34,396] Trial 71 finished with value: 0.7621957093228926 and parameters: {'learning_rate': 0.0028754239311032854, 'num_leaves': 18, 'min_child_samples': 45, 'min_sum_hessian_in_leaf': 0.005438755953465557, 'feature_fraction': 0.7612833389461917, 'bagging_fraction': 0.9821387222267177, 'lambda_l1': 0.24912556208592523, 'lambda_l2': 39.99746749141701, 'max_depth': 4, 'colsample_bytree': 0.501435203408519, 'subsample': 0.5394262967675303}. Best is trial 0 with value: 0.764452203861385.\n",
            " 72%|███████▏  | 72/100 [20:34<07:03, 15.11s/it]"
          ]
        },
        {
          "output_type": "stream",
          "name": "stdout",
          "text": [
            "Training until validation scores don't improve for 30 rounds\n",
            "Early stopping, best iteration is:\n",
            "[467]\tvalid_0's auc: 0.764046\n"
          ]
        },
        {
          "output_type": "stream",
          "name": "stderr",
          "text": [
            "[I 2024-07-06 10:18:58,141] Trial 72 finished with value: 0.7640457973876007 and parameters: {'learning_rate': 0.0026633739522731034, 'num_leaves': 16, 'min_child_samples': 79, 'min_sum_hessian_in_leaf': 0.00538047635963766, 'feature_fraction': 0.5230287558003592, 'bagging_fraction': 0.9842920170495539, 'lambda_l1': 0.23548757287526154, 'lambda_l2': 16.42384340016237, 'max_depth': 12, 'colsample_bytree': 0.5034311076736175, 'subsample': 0.6601553268028173}. Best is trial 0 with value: 0.764452203861385.\n",
            " 73%|███████▎  | 73/100 [20:58<07:57, 17.70s/it]"
          ]
        },
        {
          "output_type": "stream",
          "name": "stdout",
          "text": [
            "Early stopping, best iteration is:\n",
            "[237]\tvalid_0's auc: 0.762703\n",
            "Training until validation scores don't improve for 30 rounds\n"
          ]
        },
        {
          "output_type": "stream",
          "name": "stderr",
          "text": [
            "[I 2024-07-06 10:19:03,182] Trial 73 finished with value: 0.7627026703612708 and parameters: {'learning_rate': 0.006173490338421696, 'num_leaves': 39, 'min_child_samples': 81, 'min_sum_hessian_in_leaf': 0.004779094044206477, 'feature_fraction': 0.5307511909731917, 'bagging_fraction': 0.9597196276451025, 'lambda_l1': 0.13261359201503742, 'lambda_l2': 17.35874151778062, 'max_depth': 12, 'colsample_bytree': 0.5167511320220726, 'subsample': 0.626401462956761}. Best is trial 0 with value: 0.764452203861385.\n",
            " 74%|███████▍  | 74/100 [21:03<06:01, 13.90s/it]"
          ]
        },
        {
          "output_type": "stream",
          "name": "stdout",
          "text": [
            "Training until validation scores don't improve for 30 rounds\n",
            "Early stopping, best iteration is:\n",
            "[295]\tvalid_0's auc: 0.763567\n"
          ]
        },
        {
          "output_type": "stream",
          "name": "stderr",
          "text": [
            "[I 2024-07-06 10:19:26,193] Trial 74 finished with value: 0.7635666393684768 and parameters: {'learning_rate': 0.005430512623995202, 'num_leaves': 36, 'min_child_samples': 93, 'min_sum_hessian_in_leaf': 0.0040853135024058115, 'feature_fraction': 0.5194543901819108, 'bagging_fraction': 0.9859233334363731, 'lambda_l1': 1.1632999982062406, 'lambda_l2': 16.580662207127155, 'max_depth': 12, 'colsample_bytree': 0.5203062813442225, 'subsample': 0.6303739226435748}. Best is trial 0 with value: 0.764452203861385.\n",
            " 75%|███████▌  | 75/100 [21:26<06:55, 16.64s/it]"
          ]
        },
        {
          "output_type": "stream",
          "name": "stdout",
          "text": [
            "Training until validation scores don't improve for 30 rounds\n",
            "Early stopping, best iteration is:\n",
            "[426]\tvalid_0's auc: 0.764193\n"
          ]
        },
        {
          "output_type": "stream",
          "name": "stderr",
          "text": [
            "[I 2024-07-06 10:19:48,659] Trial 75 finished with value: 0.7641925345060336 and parameters: {'learning_rate': 0.002673859924875233, 'num_leaves': 34, 'min_child_samples': 76, 'min_sum_hessian_in_leaf': 0.0023308553522766403, 'feature_fraction': 0.5038767371526028, 'bagging_fraction': 0.9858307963876541, 'lambda_l1': 1.4900179306972379, 'lambda_l2': 78.82673507341788, 'max_depth': 13, 'colsample_bytree': 0.5504752964213225, 'subsample': 0.6951412407392924}. Best is trial 0 with value: 0.764452203861385.\n",
            " 76%|███████▌  | 76/100 [21:48<07:21, 18.39s/it]"
          ]
        },
        {
          "output_type": "stream",
          "name": "stdout",
          "text": [
            "Training until validation scores don't improve for 30 rounds\n",
            "Early stopping, best iteration is:\n",
            "[328]\tvalid_0's auc: 0.763003\n"
          ]
        },
        {
          "output_type": "stream",
          "name": "stderr",
          "text": [
            "[I 2024-07-06 10:20:00,270] Trial 76 finished with value: 0.7630026699873231 and parameters: {'learning_rate': 0.003480343618187318, 'num_leaves': 26, 'min_child_samples': 60, 'min_sum_hessian_in_leaf': 0.0058790772659115965, 'feature_fraction': 0.5055664513165844, 'bagging_fraction': 0.9726141421665673, 'lambda_l1': 0.8532977517521018, 'lambda_l2': 98.01178825245826, 'max_depth': 13, 'colsample_bytree': 0.5015620704938152, 'subsample': 0.5888992075059931}. Best is trial 0 with value: 0.764452203861385.\n",
            " 77%|███████▋  | 77/100 [22:00<06:16, 16.35s/it]"
          ]
        },
        {
          "output_type": "stream",
          "name": "stdout",
          "text": [
            "Training until validation scores don't improve for 30 rounds\n",
            "Early stopping, best iteration is:\n",
            "[260]\tvalid_0's auc: 0.763148\n"
          ]
        },
        {
          "output_type": "stream",
          "name": "stderr",
          "text": [
            "[I 2024-07-06 10:20:20,501] Trial 77 finished with value: 0.7631483039597333 and parameters: {'learning_rate': 0.0027901007369747276, 'num_leaves': 48, 'min_child_samples': 75, 'min_sum_hessian_in_leaf': 0.001619077821795565, 'feature_fraction': 0.5008768028007188, 'bagging_fraction': 0.9872972474852623, 'lambda_l1': 0.19919008885966896, 'lambda_l2': 50.864715490994286, 'max_depth': 13, 'colsample_bytree': 0.544373635729301, 'subsample': 0.7066563663730274}. Best is trial 0 with value: 0.764452203861385.\n",
            " 78%|███████▊  | 78/100 [22:20<06:25, 17.52s/it]"
          ]
        },
        {
          "output_type": "stream",
          "name": "stdout",
          "text": [
            "Training until validation scores don't improve for 30 rounds\n",
            "Early stopping, best iteration is:\n",
            "[220]\tvalid_0's auc: 0.761711\n"
          ]
        },
        {
          "output_type": "stream",
          "name": "stderr",
          "text": [
            "[I 2024-07-06 10:20:26,851] Trial 78 finished with value: 0.7617109420867035 and parameters: {'learning_rate': 0.002674849727567774, 'num_leaves': 47, 'min_child_samples': 76, 'min_sum_hessian_in_leaf': 0.0026031892630044855, 'feature_fraction': 0.5552704139579003, 'bagging_fraction': 0.9855467892420322, 'lambda_l1': 1.6146062686728788, 'lambda_l2': 0.025470040313312046, 'max_depth': 14, 'colsample_bytree': 0.5468011367754297, 'subsample': 0.702309414912049}. Best is trial 0 with value: 0.764452203861385.\n",
            " 79%|███████▉  | 79/100 [22:26<04:57, 14.17s/it]"
          ]
        },
        {
          "output_type": "stream",
          "name": "stdout",
          "text": [
            "Training until validation scores don't improve for 30 rounds\n",
            "Early stopping, best iteration is:\n",
            "[163]\tvalid_0's auc: 0.760841\n"
          ]
        },
        {
          "output_type": "stream",
          "name": "stderr",
          "text": [
            "[I 2024-07-06 10:20:41,379] Trial 79 finished with value: 0.760841438651993 and parameters: {'learning_rate': 0.0024367445987620783, 'num_leaves': 58, 'min_child_samples': 94, 'min_sum_hessian_in_leaf': 0.0008169231820375268, 'feature_fraction': 0.5154460766704922, 'bagging_fraction': 0.9345929057430515, 'lambda_l1': 0.32083640665248797, 'lambda_l2': 0.03273440050944016, 'max_depth': 14, 'colsample_bytree': 0.5579649952160268, 'subsample': 0.6567537642852774}. Best is trial 0 with value: 0.764452203861385.\n",
            " 80%|████████  | 80/100 [22:41<04:45, 14.27s/it]"
          ]
        },
        {
          "output_type": "stream",
          "name": "stdout",
          "text": [
            "Training until validation scores don't improve for 30 rounds\n",
            "Early stopping, best iteration is:\n",
            "[185]\tvalid_0's auc: 0.758156\n"
          ]
        },
        {
          "output_type": "stream",
          "name": "stderr",
          "text": [
            "[I 2024-07-06 10:20:52,020] Trial 80 finished with value: 0.7581555024549673 and parameters: {'learning_rate': 0.023796847986922446, 'num_leaves': 66, 'min_child_samples': 84, 'min_sum_hessian_in_leaf': 0.0023128302441576924, 'feature_fraction': 0.5462253367322815, 'bagging_fraction': 0.5372924283088534, 'lambda_l1': 0.30502955837802614, 'lambda_l2': 22.92973797018531, 'max_depth': 11, 'colsample_bytree': 0.556500861600414, 'subsample': 0.662022609342444}. Best is trial 0 with value: 0.764452203861385.\n",
            " 81%|████████  | 81/100 [22:52<04:10, 13.19s/it]"
          ]
        },
        {
          "output_type": "stream",
          "name": "stdout",
          "text": [
            "Training until validation scores don't improve for 30 rounds\n",
            "Early stopping, best iteration is:\n",
            "[352]\tvalid_0's auc: 0.762828\n"
          ]
        },
        {
          "output_type": "stream",
          "name": "stderr",
          "text": [
            "[I 2024-07-06 10:21:16,881] Trial 81 finished with value: 0.7628283542183182 and parameters: {'learning_rate': 0.0015614656644854803, 'num_leaves': 34, 'min_child_samples': 109, 'min_sum_hessian_in_leaf': 0.002231738698115799, 'feature_fraction': 0.5389418691100348, 'bagging_fraction': 0.9558893655585049, 'lambda_l1': 0.6063515355786536, 'lambda_l2': 27.295152138712655, 'max_depth': 11, 'colsample_bytree': 0.5206517516884626, 'subsample': 0.6619540279687107}. Best is trial 0 with value: 0.764452203861385.\n",
            " 82%|████████▏ | 82/100 [23:16<05:00, 16.69s/it]"
          ]
        },
        {
          "output_type": "stream",
          "name": "stdout",
          "text": [
            "Training until validation scores don't improve for 30 rounds\n",
            "Early stopping, best iteration is:\n",
            "[370]\tvalid_0's auc: 0.762125\n"
          ]
        },
        {
          "output_type": "stream",
          "name": "stderr",
          "text": [
            "[I 2024-07-06 10:21:27,079] Trial 82 finished with value: 0.7621246218452828 and parameters: {'learning_rate': 0.0034464785781000906, 'num_leaves': 34, 'min_child_samples': 69, 'min_sum_hessian_in_leaf': 0.003546032157712731, 'feature_fraction': 0.9841862348077179, 'bagging_fraction': 0.969761639830548, 'lambda_l1': 2.118103766247564, 'lambda_l2': 71.79506858411295, 'max_depth': 11, 'colsample_bytree': 0.5257722949682238, 'subsample': 0.6723144176597186}. Best is trial 0 with value: 0.764452203861385.\n",
            " 83%|████████▎ | 83/100 [23:27<04:10, 14.74s/it]"
          ]
        },
        {
          "output_type": "stream",
          "name": "stdout",
          "text": [
            "Training until validation scores don't improve for 30 rounds\n",
            "Early stopping, best iteration is:\n",
            "[622]\tvalid_0's auc: 0.763673\n"
          ]
        },
        {
          "output_type": "stream",
          "name": "stderr",
          "text": [
            "[I 2024-07-06 10:21:54,768] Trial 83 finished with value: 0.7636733453744526 and parameters: {'learning_rate': 0.0018616400753689421, 'num_leaves': 12, 'min_child_samples': 67, 'min_sum_hessian_in_leaf': 0.0035530745926631553, 'feature_fraction': 0.9426723361253542, 'bagging_fraction': 0.9706237551301864, 'lambda_l1': 3.0992121667492065, 'lambda_l2': 78.92154821297464, 'max_depth': 12, 'colsample_bytree': 0.9161987403592706, 'subsample': 0.6872083373175648}. Best is trial 0 with value: 0.764452203861385.\n",
            " 84%|████████▍ | 84/100 [23:54<04:57, 18.62s/it]"
          ]
        },
        {
          "output_type": "stream",
          "name": "stdout",
          "text": [
            "Early stopping, best iteration is:\n",
            "[443]\tvalid_0's auc: 0.763145\n"
          ]
        },
        {
          "output_type": "stream",
          "name": "stderr",
          "text": [
            "[I 2024-07-06 10:21:57,214] Trial 84 finished with value: 0.7631446579686408 and parameters: {'learning_rate': 0.0019538490038727404, 'num_leaves': 14, 'min_child_samples': 54, 'min_sum_hessian_in_leaf': 0.00872129315894633, 'feature_fraction': 0.6009094194414843, 'bagging_fraction': 0.9977384120289269, 'lambda_l1': 3.12356889540349, 'lambda_l2': 44.68386902296795, 'max_depth': 13, 'colsample_bytree': 0.9137741757116422, 'subsample': 0.743862264596184}. Best is trial 0 with value: 0.764452203861385.\n",
            " 85%|████████▌ | 85/100 [23:57<03:26, 13.77s/it]"
          ]
        },
        {
          "output_type": "stream",
          "name": "stdout",
          "text": [
            "Training until validation scores don't improve for 30 rounds\n",
            "Training until validation scores don't improve for 30 rounds\n",
            "Early stopping, best iteration is:\n",
            "[444]\tvalid_0's auc: 0.762635\n"
          ]
        },
        {
          "output_type": "stream",
          "name": "stderr",
          "text": [
            "[I 2024-07-06 10:22:27,578] Trial 85 finished with value: 0.7626353597564852 and parameters: {'learning_rate': 0.000804784497377169, 'num_leaves': 23, 'min_child_samples': 54, 'min_sum_hessian_in_leaf': 0.0013119112666848801, 'feature_fraction': 0.9640746536342599, 'bagging_fraction': 0.748282736538044, 'lambda_l1': 5.195735625611351, 'lambda_l2': 39.17957325799912, 'max_depth': 13, 'colsample_bytree': 0.6331126903744312, 'subsample': 0.6443495593205523}. Best is trial 0 with value: 0.764452203861385.\n",
            " 86%|████████▌ | 86/100 [24:27<04:22, 18.75s/it]"
          ]
        },
        {
          "output_type": "stream",
          "name": "stdout",
          "text": [
            "Early stopping, best iteration is:\n",
            "[319]\tvalid_0's auc: 0.76327\n"
          ]
        },
        {
          "output_type": "stream",
          "name": "stderr",
          "text": [
            "[I 2024-07-06 10:22:29,796] Trial 86 finished with value: 0.7632695004431282 and parameters: {'learning_rate': 0.0007832051989071149, 'num_leaves': 26, 'min_child_samples': 30, 'min_sum_hessian_in_leaf': 0.0005518479817843734, 'feature_fraction': 0.5169593361027678, 'bagging_fraction': 0.9203614427533008, 'lambda_l1': 1.0484208365646712, 'lambda_l2': 36.16030255325995, 'max_depth': 10, 'colsample_bytree': 0.6346683686858419, 'subsample': 0.643777660246928}. Best is trial 0 with value: 0.764452203861385.\n",
            " 87%|████████▋ | 87/100 [24:29<02:59, 13.79s/it]"
          ]
        },
        {
          "output_type": "stream",
          "name": "stdout",
          "text": [
            "Training until validation scores don't improve for 30 rounds\n",
            "Training until validation scores don't improve for 30 rounds\n",
            "Early stopping, best iteration is:\n",
            "[305]\tvalid_0's auc: 0.761844\n"
          ]
        },
        {
          "output_type": "stream",
          "name": "stderr",
          "text": [
            "[I 2024-07-06 10:22:48,495] Trial 88 finished with value: 0.7618443666633011 and parameters: {'learning_rate': 0.004200643804803273, 'num_leaves': 15, 'min_child_samples': 45, 'min_sum_hessian_in_leaf': 0.005050138503974134, 'feature_fraction': 0.9575674567248715, 'bagging_fraction': 0.5036898093305769, 'lambda_l1': 1.4121417277161226, 'lambda_l2': 55.311076553906595, 'max_depth': 12, 'colsample_bytree': 0.8479558214134668, 'subsample': 0.9812103734549122}. Best is trial 0 with value: 0.764452203861385.\n",
            " 88%|████████▊ | 88/100 [24:48<03:03, 15.26s/it]"
          ]
        },
        {
          "output_type": "stream",
          "name": "stdout",
          "text": [
            "Training until validation scores don't improve for 30 rounds\n",
            "Early stopping, best iteration is:\n",
            "[284]\tvalid_0's auc: 0.762632\n"
          ]
        },
        {
          "output_type": "stream",
          "name": "stderr",
          "text": [
            "[I 2024-07-06 10:22:57,974] Trial 87 finished with value: 0.762631994226246 and parameters: {'learning_rate': 0.0014282120944279246, 'num_leaves': 42, 'min_child_samples': 31, 'min_sum_hessian_in_leaf': 0.005065475379243401, 'feature_fraction': 0.5211653999314628, 'bagging_fraction': 0.9219040407233243, 'lambda_l1': 1.3800174557959108, 'lambda_l2': 0.010606974081190807, 'max_depth': 10, 'colsample_bytree': 0.6694551842071625, 'subsample': 0.7372268545943862}. Best is trial 0 with value: 0.764452203861385.\n",
            " 89%|████████▉ | 89/100 [24:57<02:28, 13.53s/it]"
          ]
        },
        {
          "output_type": "stream",
          "name": "stdout",
          "text": [
            "Training until validation scores don't improve for 30 rounds\n",
            "Early stopping, best iteration is:\n",
            "[146]\tvalid_0's auc: 0.760447\n"
          ]
        },
        {
          "output_type": "stream",
          "name": "stderr",
          "text": [
            "[I 2024-07-06 10:23:19,345] Trial 90 finished with value: 0.7604471293896798 and parameters: {'learning_rate': 0.001234620851132424, 'num_leaves': 102, 'min_child_samples': 78, 'min_sum_hessian_in_leaf': 0.0031191175026389043, 'feature_fraction': 0.5784886479863277, 'bagging_fraction': 0.890847967373156, 'lambda_l1': 0.8244912145382054, 'lambda_l2': 0.3117886168502721, 'max_depth': 11, 'colsample_bytree': 0.5098010205168717, 'subsample': 0.7624858464606931}. Best is trial 0 with value: 0.764452203861385.\n",
            " 90%|█████████ | 90/100 [25:19<02:38, 15.88s/it]"
          ]
        },
        {
          "output_type": "stream",
          "name": "stdout",
          "text": [
            "Early stopping, best iteration is:\n",
            "[265]\tvalid_0's auc: 0.761847\n",
            "Training until validation scores don't improve for 30 rounds\n"
          ]
        },
        {
          "output_type": "stream",
          "name": "stderr",
          "text": [
            "[I 2024-07-06 10:23:25,409] Trial 89 finished with value: 0.7618471151796633 and parameters: {'learning_rate': 0.001499615114268065, 'num_leaves': 101, 'min_child_samples': 151, 'min_sum_hessian_in_leaf': 0.006246011446474814, 'feature_fraction': 0.5759893201210572, 'bagging_fraction': 0.9753822413804597, 'lambda_l1': 0.7787519512661408, 'lambda_l2': 79.4769386495328, 'max_depth': 10, 'colsample_bytree': 0.5098676841024034, 'subsample': 0.9522398052353623}. Best is trial 0 with value: 0.764452203861385.\n",
            " 91%|█████████ | 91/100 [25:25<01:56, 12.94s/it]"
          ]
        },
        {
          "output_type": "stream",
          "name": "stdout",
          "text": [
            "Training until validation scores don't improve for 30 rounds\n",
            "Early stopping, best iteration is:\n",
            "[380]\tvalid_0's auc: 0.762576\n"
          ]
        },
        {
          "output_type": "stream",
          "name": "stderr",
          "text": [
            "[I 2024-07-06 10:23:49,132] Trial 92 finished with value: 0.7625756028973476 and parameters: {'learning_rate': 0.00230893359155022, 'num_leaves': 13, 'min_child_samples': 66, 'min_sum_hessian_in_leaf': 0.0036512749525721166, 'feature_fraction': 0.9363962961110097, 'bagging_fraction': 0.9628950903713374, 'lambda_l1': 2.5025274633511536, 'lambda_l2': 56.17322693517108, 'max_depth': 12, 'colsample_bytree': 0.9545388534156062, 'subsample': 0.6793758807242858}. Best is trial 0 with value: 0.764452203861385.\n",
            " 92%|█████████▏| 92/100 [25:49<02:09, 16.17s/it]"
          ]
        },
        {
          "output_type": "stream",
          "name": "stdout",
          "text": [
            "Training until validation scores don't improve for 30 rounds\n",
            "Early stopping, best iteration is:\n",
            "[492]\tvalid_0's auc: 0.762592\n"
          ]
        },
        {
          "output_type": "stream",
          "name": "stderr",
          "text": [
            "[I 2024-07-06 10:23:58,958] Trial 91 finished with value: 0.7625919631137886 and parameters: {'learning_rate': 0.0023650008537629084, 'num_leaves': 29, 'min_child_samples': 60, 'min_sum_hessian_in_leaf': 2.822046049178199e-05, 'feature_fraction': 0.9220229975325506, 'bagging_fraction': 0.9556223644974404, 'lambda_l1': 2.475737192609115, 'lambda_l2': 77.06082161741293, 'max_depth': 5, 'colsample_bytree': 0.5427469143002571, 'subsample': 0.7010321495855495}. Best is trial 0 with value: 0.764452203861385.\n",
            " 93%|█████████▎| 93/100 [25:58<01:39, 14.27s/it]"
          ]
        },
        {
          "output_type": "stream",
          "name": "stdout",
          "text": [
            "Training until validation scores don't improve for 30 rounds\n",
            "Early stopping, best iteration is:\n",
            "[440]\tvalid_0's auc: 0.763453\n"
          ]
        },
        {
          "output_type": "stream",
          "name": "stderr",
          "text": [
            "[I 2024-07-06 10:24:21,801] Trial 93 finished with value: 0.7634525104985846 and parameters: {'learning_rate': 0.0016801163885354585, 'num_leaves': 19, 'min_child_samples': 191, 'min_sum_hessian_in_leaf': 0.004130801684761853, 'feature_fraction': 0.9246751172941378, 'bagging_fraction': 0.9742708802442395, 'lambda_l1': 1.7303849340837822, 'lambda_l2': 81.22980038123096, 'max_depth': 12, 'colsample_bytree': 0.927365811755206, 'subsample': 0.7110534297447043}. Best is trial 0 with value: 0.764452203861385.\n",
            " 94%|█████████▍| 94/100 [26:21<01:41, 16.84s/it]"
          ]
        },
        {
          "output_type": "stream",
          "name": "stdout",
          "text": [
            "Training until validation scores don't improve for 30 rounds\n",
            "Early stopping, best iteration is:\n",
            "[389]\tvalid_0's auc: 0.763564\n"
          ]
        },
        {
          "output_type": "stream",
          "name": "stderr",
          "text": [
            "[I 2024-07-06 10:24:33,599] Trial 94 finished with value: 0.7635637786677736 and parameters: {'learning_rate': 0.0037768269588186252, 'num_leaves': 22, 'min_child_samples': 40, 'min_sum_hessian_in_leaf': 0.008846471798584384, 'feature_fraction': 0.94161083464269, 'bagging_fraction': 0.9743241657909892, 'lambda_l1': 4.192737462934216, 'lambda_l2': 30.276524973412684, 'max_depth': 12, 'colsample_bytree': 0.9059669188289672, 'subsample': 0.6895448057746459}. Best is trial 0 with value: 0.764452203861385.\n",
            " 95%|█████████▌| 95/100 [26:33<01:16, 15.33s/it]"
          ]
        },
        {
          "output_type": "stream",
          "name": "stdout",
          "text": [
            "Training until validation scores don't improve for 30 rounds\n",
            "Early stopping, best iteration is:\n",
            "[429]\tvalid_0's auc: 0.763218\n"
          ]
        },
        {
          "output_type": "stream",
          "name": "stderr",
          "text": [
            "[I 2024-07-06 10:24:58,967] Trial 95 finished with value: 0.763218176106979 and parameters: {'learning_rate': 0.00196448618744628, 'num_leaves': 23, 'min_child_samples': 38, 'min_sum_hessian_in_leaf': 0.008977807888223572, 'feature_fraction': 0.8979411581098955, 'bagging_fraction': 0.992716549643277, 'lambda_l1': 7.402267053925221, 'lambda_l2': 97.9553092157178, 'max_depth': 12, 'colsample_bytree': 0.9971628790092031, 'subsample': 0.6891282438139771}. Best is trial 0 with value: 0.764452203861385.\n",
            " 96%|█████████▌| 96/100 [26:58<01:13, 18.34s/it]"
          ]
        },
        {
          "output_type": "stream",
          "name": "stdout",
          "text": [
            "Training until validation scores don't improve for 30 rounds\n",
            "Early stopping, best iteration is:\n",
            "[774]\tvalid_0's auc: 0.763907\n"
          ]
        },
        {
          "output_type": "stream",
          "name": "stderr",
          "text": [
            "[I 2024-07-06 10:25:13,917] Trial 96 finished with value: 0.7639071562391322 and parameters: {'learning_rate': 0.078310825305361, 'num_leaves': 8, 'min_child_samples': 87, 'min_sum_hessian_in_leaf': 0.003376090054667338, 'feature_fraction': 0.9844544596370038, 'bagging_fraction': 0.9891754104714496, 'lambda_l1': 3.164204610454465, 'lambda_l2': 65.48377606919472, 'max_depth': 13, 'colsample_bytree': 0.9539190910148163, 'subsample': 0.6330447087725402}. Best is trial 0 with value: 0.764452203861385.\n",
            " 97%|█████████▋| 97/100 [27:13<00:51, 17.32s/it]"
          ]
        },
        {
          "output_type": "stream",
          "name": "stdout",
          "text": [
            "Training until validation scores don't improve for 30 rounds\n",
            "Early stopping, best iteration is:\n",
            "[734]\tvalid_0's auc: 0.763241\n"
          ]
        },
        {
          "output_type": "stream",
          "name": "stderr",
          "text": [
            "[I 2024-07-06 10:25:33,097] Trial 97 finished with value: 0.7632414543578007 and parameters: {'learning_rate': 0.0031212635945016055, 'num_leaves': 8, 'min_child_samples': 71, 'min_sum_hessian_in_leaf': 0.0033393880418021364, 'feature_fraction': 0.988007484469037, 'bagging_fraction': 0.9416902312384624, 'lambda_l1': 4.941271852173478, 'lambda_l2': 64.09644793949676, 'max_depth': 3, 'colsample_bytree': 0.9567575640979562, 'subsample': 0.9075736262902907}. Best is trial 0 with value: 0.764452203861385.\n",
            " 98%|█████████▊| 98/100 [27:33<00:35, 17.88s/it]"
          ]
        },
        {
          "output_type": "stream",
          "name": "stdout",
          "text": [
            "Training until validation scores don't improve for 30 rounds\n",
            "Early stopping, best iteration is:\n",
            "[670]\tvalid_0's auc: 0.763923\n"
          ]
        },
        {
          "output_type": "stream",
          "name": "stderr",
          "text": [
            "[I 2024-07-06 10:25:47,337] Trial 98 finished with value: 0.7639229742312568 and parameters: {'learning_rate': 0.04303192503675656, 'num_leaves': 8, 'min_child_samples': 177, 'min_sum_hessian_in_leaf': 5.753907560687888e-05, 'feature_fraction': 0.9854825813782634, 'bagging_fraction': 0.9408226779869826, 'lambda_l1': 0.07975679633056094, 'lambda_l2': 56.93937839790908, 'max_depth': 15, 'colsample_bytree': 0.9635206252817013, 'subsample': 0.5986025823743526}. Best is trial 0 with value: 0.764452203861385.\n",
            " 99%|█████████▉| 99/100 [27:47<00:16, 16.79s/it]"
          ]
        },
        {
          "output_type": "stream",
          "name": "stdout",
          "text": [
            "Early stopping, best iteration is:\n",
            "[295]\tvalid_0's auc: 0.762906\n"
          ]
        },
        {
          "output_type": "stream",
          "name": "stderr",
          "text": [
            "[I 2024-07-06 10:25:54,693] Trial 99 finished with value: 0.7629060792694556 and parameters: {'learning_rate': 0.043316974174301276, 'num_leaves': 32, 'min_child_samples': 85, 'min_sum_hessian_in_leaf': 0.0026953323482206376, 'feature_fraction': 0.979249994284433, 'bagging_fraction': 0.99046013268317, 'lambda_l1': 0.07732203131575864, 'lambda_l2': 20.257761593357976, 'max_depth': 13, 'colsample_bytree': 0.6483571828137971, 'subsample': 0.5914643386158251}. Best is trial 0 with value: 0.764452203861385.\n",
            "100%|██████████| 100/100 [27:54<00:00, 16.75s/it]\n"
          ]
        }
      ],
      "source": [
        "# tqdm進捗バーを表示するためのコールバック関数を定義\n",
        "import tqdm\n",
        "\n",
        "def tqdm_callback(study, trial):\n",
        "    bar.update(1)\n",
        "\n",
        "# 既存のコードをそのまま使用しますが、最後に`tqdm`を統合します。\n",
        "sampler = optuna.samplers.TPESampler(seed=123)\n",
        "study = optuna.create_study(sampler=sampler, direction=\"maximize\")\n",
        "\n",
        "# n_trialsの数だけ進捗バーが更新されるように設定\n",
        "with tqdm.tqdm(total=100) as bar:\n",
        "    study.optimize(objective, n_trials=100, callbacks=[tqdm_callback], n_jobs=-1)"
      ]
    },
    {
      "cell_type": "code",
      "execution_count": null,
      "metadata": {
        "id": "czkl4_Y_2f4g"
      },
      "outputs": [],
      "source": [
        "#探索結果の確認\n",
        "trial = study.best_trial\n",
        "print(\"acc(best)={:.4f}\".format(trial.value))\n",
        "display(trial.params)"
      ]
    },
    {
      "cell_type": "code",
      "execution_count": 50,
      "metadata": {
        "id": "DJU4Ro2gU9pE"
      },
      "outputs": [],
      "source": [
        "# データセットの作成\n",
        "x_test = test_processed.copy()\n",
        "id_test = test_processed[\"SK_ID_CURR\"].copy()\n",
        "\n",
        "# 存在するカラムのみをドロップ\n",
        "existing_cols = [col for col in low_importance_cols if col in x_test.columns]\n",
        "x_test.drop(columns=existing_cols, inplace=True)\n",
        "\n",
        "# カテゴリ変数をcategory型に変換\n",
        "for col in x_test.columns:\n",
        "    if x_test[col].dtype == \"O\":\n",
        "        x_test[col] = x_test[col].astype(\"category\")\n"
      ]
    },
    {
      "cell_type": "code",
      "execution_count": 51,
      "metadata": {
        "id": "NBYV9c7iiAx7",
        "colab": {
          "base_uri": "https://localhost:8080/",
          "height": 571
        },
        "outputId": "4503c025-32ca-4ded-f48d-9b840c7381fd"
      },
      "outputs": [
        {
          "output_type": "stream",
          "name": "stdout",
          "text": [
            "Training until validation scores don't improve for 30 rounds\n",
            "Early stopping, best iteration is:\n",
            "[330]\tvalid_0's auc: 0.769445\n",
            "Training until validation scores don't improve for 30 rounds\n",
            "Early stopping, best iteration is:\n",
            "[238]\tvalid_0's auc: 0.770074\n",
            "Training until validation scores don't improve for 30 rounds\n",
            "Early stopping, best iteration is:\n",
            "[436]\tvalid_0's auc: 0.772359\n",
            "Training until validation scores don't improve for 30 rounds\n",
            "Early stopping, best iteration is:\n",
            "[280]\tvalid_0's auc: 0.767929\n",
            "Training until validation scores don't improve for 30 rounds\n",
            "Early stopping, best iteration is:\n",
            "[238]\tvalid_0's auc: 0.76453\n",
            "-------------------- 0 --------------------\n",
            "-------------------- 1 --------------------\n",
            "-------------------- 2 --------------------\n",
            "-------------------- 3 --------------------\n",
            "-------------------- 4 --------------------\n",
            "(48744, 2)\n"
          ]
        },
        {
          "output_type": "display_data",
          "data": {
            "text/plain": [
              "   SK_ID_CURR    TARGET\n",
              "0      100001  0.029217\n",
              "1      100005  0.079674\n",
              "2      100013  0.013207\n",
              "3      100028  0.046737\n",
              "4      100038  0.166669"
            ],
            "text/html": [
              "\n",
              "  <div id=\"df-21aece96-3f8f-44df-8037-c8ce279921aa\" class=\"colab-df-container\">\n",
              "    <div>\n",
              "<style scoped>\n",
              "    .dataframe tbody tr th:only-of-type {\n",
              "        vertical-align: middle;\n",
              "    }\n",
              "\n",
              "    .dataframe tbody tr th {\n",
              "        vertical-align: top;\n",
              "    }\n",
              "\n",
              "    .dataframe thead th {\n",
              "        text-align: right;\n",
              "    }\n",
              "</style>\n",
              "<table border=\"1\" class=\"dataframe\">\n",
              "  <thead>\n",
              "    <tr style=\"text-align: right;\">\n",
              "      <th></th>\n",
              "      <th>SK_ID_CURR</th>\n",
              "      <th>TARGET</th>\n",
              "    </tr>\n",
              "  </thead>\n",
              "  <tbody>\n",
              "    <tr>\n",
              "      <th>0</th>\n",
              "      <td>100001</td>\n",
              "      <td>0.029217</td>\n",
              "    </tr>\n",
              "    <tr>\n",
              "      <th>1</th>\n",
              "      <td>100005</td>\n",
              "      <td>0.079674</td>\n",
              "    </tr>\n",
              "    <tr>\n",
              "      <th>2</th>\n",
              "      <td>100013</td>\n",
              "      <td>0.013207</td>\n",
              "    </tr>\n",
              "    <tr>\n",
              "      <th>3</th>\n",
              "      <td>100028</td>\n",
              "      <td>0.046737</td>\n",
              "    </tr>\n",
              "    <tr>\n",
              "      <th>4</th>\n",
              "      <td>100038</td>\n",
              "      <td>0.166669</td>\n",
              "    </tr>\n",
              "  </tbody>\n",
              "</table>\n",
              "</div>\n",
              "    <div class=\"colab-df-buttons\">\n",
              "\n",
              "  <div class=\"colab-df-container\">\n",
              "    <button class=\"colab-df-convert\" onclick=\"convertToInteractive('df-21aece96-3f8f-44df-8037-c8ce279921aa')\"\n",
              "            title=\"Convert this dataframe to an interactive table.\"\n",
              "            style=\"display:none;\">\n",
              "\n",
              "  <svg xmlns=\"http://www.w3.org/2000/svg\" height=\"24px\" viewBox=\"0 -960 960 960\">\n",
              "    <path d=\"M120-120v-720h720v720H120Zm60-500h600v-160H180v160Zm220 220h160v-160H400v160Zm0 220h160v-160H400v160ZM180-400h160v-160H180v160Zm440 0h160v-160H620v160ZM180-180h160v-160H180v160Zm440 0h160v-160H620v160Z\"/>\n",
              "  </svg>\n",
              "    </button>\n",
              "\n",
              "  <style>\n",
              "    .colab-df-container {\n",
              "      display:flex;\n",
              "      gap: 12px;\n",
              "    }\n",
              "\n",
              "    .colab-df-convert {\n",
              "      background-color: #E8F0FE;\n",
              "      border: none;\n",
              "      border-radius: 50%;\n",
              "      cursor: pointer;\n",
              "      display: none;\n",
              "      fill: #1967D2;\n",
              "      height: 32px;\n",
              "      padding: 0 0 0 0;\n",
              "      width: 32px;\n",
              "    }\n",
              "\n",
              "    .colab-df-convert:hover {\n",
              "      background-color: #E2EBFA;\n",
              "      box-shadow: 0px 1px 2px rgba(60, 64, 67, 0.3), 0px 1px 3px 1px rgba(60, 64, 67, 0.15);\n",
              "      fill: #174EA6;\n",
              "    }\n",
              "\n",
              "    .colab-df-buttons div {\n",
              "      margin-bottom: 4px;\n",
              "    }\n",
              "\n",
              "    [theme=dark] .colab-df-convert {\n",
              "      background-color: #3B4455;\n",
              "      fill: #D2E3FC;\n",
              "    }\n",
              "\n",
              "    [theme=dark] .colab-df-convert:hover {\n",
              "      background-color: #434B5C;\n",
              "      box-shadow: 0px 1px 3px 1px rgba(0, 0, 0, 0.15);\n",
              "      filter: drop-shadow(0px 1px 2px rgba(0, 0, 0, 0.3));\n",
              "      fill: #FFFFFF;\n",
              "    }\n",
              "  </style>\n",
              "\n",
              "    <script>\n",
              "      const buttonEl =\n",
              "        document.querySelector('#df-21aece96-3f8f-44df-8037-c8ce279921aa button.colab-df-convert');\n",
              "      buttonEl.style.display =\n",
              "        google.colab.kernel.accessAllowed ? 'block' : 'none';\n",
              "\n",
              "      async function convertToInteractive(key) {\n",
              "        const element = document.querySelector('#df-21aece96-3f8f-44df-8037-c8ce279921aa');\n",
              "        const dataTable =\n",
              "          await google.colab.kernel.invokeFunction('convertToInteractive',\n",
              "                                                    [key], {});\n",
              "        if (!dataTable) return;\n",
              "\n",
              "        const docLinkHtml = 'Like what you see? Visit the ' +\n",
              "          '<a target=\"_blank\" href=https://colab.research.google.com/notebooks/data_table.ipynb>data table notebook</a>'\n",
              "          + ' to learn more about interactive tables.';\n",
              "        element.innerHTML = '';\n",
              "        dataTable['output_type'] = 'display_data';\n",
              "        await google.colab.output.renderOutput(dataTable, element);\n",
              "        const docLink = document.createElement('div');\n",
              "        docLink.innerHTML = docLinkHtml;\n",
              "        element.appendChild(docLink);\n",
              "      }\n",
              "    </script>\n",
              "  </div>\n",
              "\n",
              "\n",
              "<div id=\"df-1a1a9788-b019-4183-a531-b159a6695b57\">\n",
              "  <button class=\"colab-df-quickchart\" onclick=\"quickchart('df-1a1a9788-b019-4183-a531-b159a6695b57')\"\n",
              "            title=\"Suggest charts\"\n",
              "            style=\"display:none;\">\n",
              "\n",
              "<svg xmlns=\"http://www.w3.org/2000/svg\" height=\"24px\"viewBox=\"0 0 24 24\"\n",
              "     width=\"24px\">\n",
              "    <g>\n",
              "        <path d=\"M19 3H5c-1.1 0-2 .9-2 2v14c0 1.1.9 2 2 2h14c1.1 0 2-.9 2-2V5c0-1.1-.9-2-2-2zM9 17H7v-7h2v7zm4 0h-2V7h2v10zm4 0h-2v-4h2v4z\"/>\n",
              "    </g>\n",
              "</svg>\n",
              "  </button>\n",
              "\n",
              "<style>\n",
              "  .colab-df-quickchart {\n",
              "      --bg-color: #E8F0FE;\n",
              "      --fill-color: #1967D2;\n",
              "      --hover-bg-color: #E2EBFA;\n",
              "      --hover-fill-color: #174EA6;\n",
              "      --disabled-fill-color: #AAA;\n",
              "      --disabled-bg-color: #DDD;\n",
              "  }\n",
              "\n",
              "  [theme=dark] .colab-df-quickchart {\n",
              "      --bg-color: #3B4455;\n",
              "      --fill-color: #D2E3FC;\n",
              "      --hover-bg-color: #434B5C;\n",
              "      --hover-fill-color: #FFFFFF;\n",
              "      --disabled-bg-color: #3B4455;\n",
              "      --disabled-fill-color: #666;\n",
              "  }\n",
              "\n",
              "  .colab-df-quickchart {\n",
              "    background-color: var(--bg-color);\n",
              "    border: none;\n",
              "    border-radius: 50%;\n",
              "    cursor: pointer;\n",
              "    display: none;\n",
              "    fill: var(--fill-color);\n",
              "    height: 32px;\n",
              "    padding: 0;\n",
              "    width: 32px;\n",
              "  }\n",
              "\n",
              "  .colab-df-quickchart:hover {\n",
              "    background-color: var(--hover-bg-color);\n",
              "    box-shadow: 0 1px 2px rgba(60, 64, 67, 0.3), 0 1px 3px 1px rgba(60, 64, 67, 0.15);\n",
              "    fill: var(--button-hover-fill-color);\n",
              "  }\n",
              "\n",
              "  .colab-df-quickchart-complete:disabled,\n",
              "  .colab-df-quickchart-complete:disabled:hover {\n",
              "    background-color: var(--disabled-bg-color);\n",
              "    fill: var(--disabled-fill-color);\n",
              "    box-shadow: none;\n",
              "  }\n",
              "\n",
              "  .colab-df-spinner {\n",
              "    border: 2px solid var(--fill-color);\n",
              "    border-color: transparent;\n",
              "    border-bottom-color: var(--fill-color);\n",
              "    animation:\n",
              "      spin 1s steps(1) infinite;\n",
              "  }\n",
              "\n",
              "  @keyframes spin {\n",
              "    0% {\n",
              "      border-color: transparent;\n",
              "      border-bottom-color: var(--fill-color);\n",
              "      border-left-color: var(--fill-color);\n",
              "    }\n",
              "    20% {\n",
              "      border-color: transparent;\n",
              "      border-left-color: var(--fill-color);\n",
              "      border-top-color: var(--fill-color);\n",
              "    }\n",
              "    30% {\n",
              "      border-color: transparent;\n",
              "      border-left-color: var(--fill-color);\n",
              "      border-top-color: var(--fill-color);\n",
              "      border-right-color: var(--fill-color);\n",
              "    }\n",
              "    40% {\n",
              "      border-color: transparent;\n",
              "      border-right-color: var(--fill-color);\n",
              "      border-top-color: var(--fill-color);\n",
              "    }\n",
              "    60% {\n",
              "      border-color: transparent;\n",
              "      border-right-color: var(--fill-color);\n",
              "    }\n",
              "    80% {\n",
              "      border-color: transparent;\n",
              "      border-right-color: var(--fill-color);\n",
              "      border-bottom-color: var(--fill-color);\n",
              "    }\n",
              "    90% {\n",
              "      border-color: transparent;\n",
              "      border-bottom-color: var(--fill-color);\n",
              "    }\n",
              "  }\n",
              "</style>\n",
              "\n",
              "  <script>\n",
              "    async function quickchart(key) {\n",
              "      const quickchartButtonEl =\n",
              "        document.querySelector('#' + key + ' button');\n",
              "      quickchartButtonEl.disabled = true;  // To prevent multiple clicks.\n",
              "      quickchartButtonEl.classList.add('colab-df-spinner');\n",
              "      try {\n",
              "        const charts = await google.colab.kernel.invokeFunction(\n",
              "            'suggestCharts', [key], {});\n",
              "      } catch (error) {\n",
              "        console.error('Error during call to suggestCharts:', error);\n",
              "      }\n",
              "      quickchartButtonEl.classList.remove('colab-df-spinner');\n",
              "      quickchartButtonEl.classList.add('colab-df-quickchart-complete');\n",
              "    }\n",
              "    (() => {\n",
              "      let quickchartButtonEl =\n",
              "        document.querySelector('#df-1a1a9788-b019-4183-a531-b159a6695b57 button');\n",
              "      quickchartButtonEl.style.display =\n",
              "        google.colab.kernel.accessAllowed ? 'block' : 'none';\n",
              "    })();\n",
              "  </script>\n",
              "</div>\n",
              "\n",
              "    </div>\n",
              "  </div>\n"
            ],
            "application/vnd.google.colaboratory.intrinsic+json": {
              "type": "dataframe",
              "summary": "{\n  \"name\": \"df_submit\",\n  \"rows\": 5,\n  \"fields\": [\n    {\n      \"column\": \"SK_ID_CURR\",\n      \"properties\": {\n        \"dtype\": \"number\",\n        \"std\": 15,\n        \"min\": 100001,\n        \"max\": 100038,\n        \"num_unique_values\": 5,\n        \"samples\": [\n          100005,\n          100038,\n          100013\n        ],\n        \"semantic_type\": \"\",\n        \"description\": \"\"\n      }\n    },\n    {\n      \"column\": \"TARGET\",\n      \"properties\": {\n        \"dtype\": \"number\",\n        \"std\": 0.06088143079456802,\n        \"min\": 0.01320725990644429,\n        \"max\": 0.16666869945425367,\n        \"num_unique_values\": 5,\n        \"samples\": [\n          0.079674342005182,\n          0.16666869945425367,\n          0.01320725990644429\n        ],\n        \"semantic_type\": \"\",\n        \"description\": \"\"\n      }\n    }\n  ]\n}"
            }
          },
          "metadata": {}
        }
      ],
      "source": [
        "# 最適なハイパーパラメータを取得\n",
        "best_params = study.best_params\n",
        "best_params.update(params_base)\n",
        "\n",
        "# モデルの再訓練\n",
        "cv = list(StratifiedKFold(n_splits=5, shuffle=True, random_state=123).split(X_train, y_train))\n",
        "for nfold in range(5):\n",
        "    idx_tr, idx_va = cv[nfold][0], cv[nfold][1]\n",
        "    x_tr, y_tr = X_train.loc[idx_tr, :], y_train[idx_tr]\n",
        "    x_va, y_va = X_train.loc[idx_va, :], y_train[idx_va]\n",
        "    x_tr.drop(columns=low_importance_cols, inplace=True)\n",
        "    x_va.drop(columns=low_importance_cols, inplace=True)\n",
        "    model = lgb.LGBMClassifier(**best_params)\n",
        "    model.fit(x_tr, y_tr,\n",
        "              eval_set=[(x_va, y_va)],\n",
        "              callbacks=[lgb.early_stopping(stopping_rounds=30, verbose=True)]\n",
        "             )\n",
        "    fname_lgb = \"model_lgb_fold{}.pickle\".format(nfold)\n",
        "    with open(fname_lgb, \"wb\") as f:\n",
        "        pickle.dump(model, f, protocol=4)\n",
        "\n",
        "list_nfold=[0,1,2,3,4]\n",
        "\n",
        "# テストデータで予測\n",
        "pred = np.zeros((len(x_test), len(cv)))\n",
        "for nfold in range(5):\n",
        "    print(\"-\"*20, nfold, \"-\"*20)\n",
        "    fname_lgb = \"model_lgb_fold{}.pickle\".format(nfold)\n",
        "    with open(fname_lgb, \"rb\") as f:\n",
        "        model = pickle.load(f)\n",
        "    pred[:, nfold] = model.predict_proba(x_test)[:, 1]\n",
        "\n",
        "# 平均予測の計算\n",
        "pred_lgb = pred.mean(axis=1)\n",
        "\n",
        "\n",
        "# 平均予測の計算\n",
        "pred = pd.concat([\n",
        "    id_test,\n",
        "    pd.DataFrame({\"pred\": pred.mean(axis=1)}),\n",
        "], axis=1)\n",
        "\n",
        "# 提出ファイルの作成\n",
        "df_submit = pred.rename(columns={\"pred\": \"TARGET\"})\n",
        "print(df_submit.shape)\n",
        "display(df_submit.head())\n",
        "\n",
        "# ファイル出力\n",
        "df_submit.to_csv(\"submission_baseline.csv\", index=None)\n"
      ]
    },
    {
      "cell_type": "code",
      "execution_count": 52,
      "metadata": {
        "id": "nWBLvC_Gi-eh",
        "colab": {
          "base_uri": "https://localhost:8080/",
          "height": 17
        },
        "outputId": "2c644ffa-8673-42a8-de80-1508cea36a58"
      },
      "outputs": [
        {
          "output_type": "display_data",
          "data": {
            "text/plain": [
              "<IPython.core.display.Javascript object>"
            ],
            "application/javascript": [
              "\n",
              "    async function download(id, filename, size) {\n",
              "      if (!google.colab.kernel.accessAllowed) {\n",
              "        return;\n",
              "      }\n",
              "      const div = document.createElement('div');\n",
              "      const label = document.createElement('label');\n",
              "      label.textContent = `Downloading \"${filename}\": `;\n",
              "      div.appendChild(label);\n",
              "      const progress = document.createElement('progress');\n",
              "      progress.max = size;\n",
              "      div.appendChild(progress);\n",
              "      document.body.appendChild(div);\n",
              "\n",
              "      const buffers = [];\n",
              "      let downloaded = 0;\n",
              "\n",
              "      const channel = await google.colab.kernel.comms.open(id);\n",
              "      // Send a message to notify the kernel that we're ready.\n",
              "      channel.send({})\n",
              "\n",
              "      for await (const message of channel.messages) {\n",
              "        // Send a message to notify the kernel that we're ready.\n",
              "        channel.send({})\n",
              "        if (message.buffers) {\n",
              "          for (const buffer of message.buffers) {\n",
              "            buffers.push(buffer);\n",
              "            downloaded += buffer.byteLength;\n",
              "            progress.value = downloaded;\n",
              "          }\n",
              "        }\n",
              "      }\n",
              "      const blob = new Blob(buffers, {type: 'application/binary'});\n",
              "      const a = document.createElement('a');\n",
              "      a.href = window.URL.createObjectURL(blob);\n",
              "      a.download = filename;\n",
              "      div.appendChild(a);\n",
              "      a.click();\n",
              "      div.remove();\n",
              "    }\n",
              "  "
            ]
          },
          "metadata": {}
        },
        {
          "output_type": "display_data",
          "data": {
            "text/plain": [
              "<IPython.core.display.Javascript object>"
            ],
            "application/javascript": [
              "download(\"download_38200e30-3817-4622-949f-fb8eee40ae02\", \"submission_baseline.csv\", 1322285)"
            ]
          },
          "metadata": {}
        }
      ],
      "source": [
        "from google.colab import files\n",
        "files.download('submission_baseline.csv')"
      ]
    },
    {
      "cell_type": "code",
      "execution_count": null,
      "metadata": {
        "id": "4BTq3keK6p5m"
      },
      "outputs": [],
      "source": [
        "X_train = train.drop([\"TARGET\"], axis=1)\n",
        "y_train = train[\"TARGET\"]\n",
        "\n",
        "id_train = train[[\"SK_ID_CURR\"]]\n",
        "for col in X_train.columns:\n",
        "    if X_train[col].dtype==\"O\":\n",
        "        X_train[col] = X_train[col].astype(\"category\")\n",
        "# データセットの作成\n",
        "x_test = test.copy()\n",
        "id_test = test[[\"SK_ID_CURR\"]].copy()\n",
        "#x_test.drop(columns=low_importance_cols, inplace=True)\n",
        "# カテゴリ変数をcategory型に変換\n",
        "for col in x_test.columns:\n",
        "    if x_test[col].dtype==\"O\":\n",
        "        x_test[col] = x_test[col].astype(\"category\")\n"
      ]
    },
    {
      "cell_type": "code",
      "execution_count": null,
      "metadata": {
        "id": "0Zu9cG2bZ0-0",
        "colab": {
          "base_uri": "https://localhost:8080/"
        },
        "outputId": "94cb5d84-6237-41e5-b4c3-513bcf76a5d8"
      },
      "outputs": [
        {
          "output_type": "stream",
          "name": "stdout",
          "text": [
            "(88454, 73)\n",
            "XGBoost AUC: 0.7510\n",
            "Test predictions (first 10): [0.0513533  0.24793787 0.21565157 0.17388137 0.28956205 0.05598103\n",
            " 0.24201037 0.08790964 0.21504192 0.15062656]\n"
          ]
        }
      ],
      "source": [
        "import xgboost as xgb\n",
        "from sklearn.metrics import roc_auc_score\n",
        "from sklearn.model_selection import train_test_split\n",
        "\n",
        "# モデルの設定\n",
        "xgb_params = {\n",
        "    'objective': 'binary:logistic',\n",
        "    'learning_rate': 0.05,\n",
        "    'n_estimators': 100,\n",
        "    'max_depth': 6,\n",
        "    'min_child_weight': 1,\n",
        "    'subsample': 0.8,\n",
        "    'colsample_bytree': 0.8,\n",
        "    'seed': 42,\n",
        "    'use_label_encoder': False  # ラベルエンコーダの警告を避けるために追加\n",
        "}\n",
        "\n",
        "x_tr, x_va, y_tr, y_va = train_test_split(X_train, y_train, test_size=0.2, random_state=42)\n",
        "print(x_tr.shape)\n",
        "\n",
        "# データをXGBoost用に変換\n",
        "dtrain = xgb.DMatrix(x_tr, label=y_tr, enable_categorical=True)\n",
        "dvalid = xgb.DMatrix(x_va, label=y_va, enable_categorical=True)\n",
        "\n",
        "\n",
        "# モデルの訓練\n",
        "xgb_model = xgb.train(xgb_params, dtrain, num_boost_round=100)\n",
        "\n",
        "# モデルの評価\n",
        "y_valid_pred = xgb_model.predict(dvalid)\n",
        "auc_score = roc_auc_score(y_va, y_valid_pred)\n",
        "print(\"XGBoost AUC: {:.4f}\".format(auc_score))\n",
        "\n",
        "# テストデータをXGBoost用に変換\n",
        "dtest = xgb.DMatrix(x_test, enable_categorical=True)\n",
        "# テストデータで予測\n",
        "pred_xgb = xgb_model.predict(dtest)\n",
        "\n",
        "# 結果の表示（例として先頭の10件を表示）\n",
        "print(\"Test predictions (first 10):\", pred_xgb[:10])"
      ]
    },
    {
      "cell_type": "code",
      "execution_count": null,
      "metadata": {
        "id": "tAYWzegbe9hT"
      },
      "outputs": [],
      "source": [
        "X_train = train_processed.copy()\n",
        "y_train = train[\"TARGET\"].copy()\n",
        "\n",
        "id_train = train_processed[[\"SK_ID_CURR\"]]\n",
        "for col in X_train.columns:\n",
        "    if X_train[col].dtype==\"O\":\n",
        "        X_train[col] = X_train[col].astype(\"category\")\n",
        "\n",
        "x_test = test_processed.copy()\n",
        "id_test = test[[\"SK_ID_CURR\"]].copy()\n",
        "# カテゴリ変数をcategory型に変換\n",
        "for col in x_test.columns:\n",
        "    if x_test[col].dtype==\"O\":\n",
        "        x_test[col] = x_test[col].astype(\"category\")"
      ]
    },
    {
      "cell_type": "code",
      "execution_count": null,
      "metadata": {
        "id": "ybq-hoJodUSC",
        "colab": {
          "base_uri": "https://localhost:8080/",
          "height": 1000
        },
        "outputId": "468aeb9b-e9fe-461c-c1e8-9ed6cade3242"
      },
      "outputs": [
        {
          "output_type": "stream",
          "name": "stdout",
          "text": [
            "Collecting catboost\n",
            "  Downloading catboost-1.2.5-cp310-cp310-manylinux2014_x86_64.whl (98.2 MB)\n",
            "\u001b[2K     \u001b[90m━━━━━━━━━━━━━━━━━━━━━━━━━━━━━━━━━━━━━━━━\u001b[0m \u001b[32m98.2/98.2 MB\u001b[0m \u001b[31m8.0 MB/s\u001b[0m eta \u001b[36m0:00:00\u001b[0m\n",
            "\u001b[?25hRequirement already satisfied: graphviz in /usr/local/lib/python3.10/dist-packages (from catboost) (0.20.3)\n",
            "Requirement already satisfied: matplotlib in /usr/local/lib/python3.10/dist-packages (from catboost) (3.7.1)\n",
            "Requirement already satisfied: numpy>=1.16.0 in /usr/local/lib/python3.10/dist-packages (from catboost) (1.25.2)\n",
            "Requirement already satisfied: pandas>=0.24 in /usr/local/lib/python3.10/dist-packages (from catboost) (2.0.3)\n",
            "Requirement already satisfied: scipy in /usr/local/lib/python3.10/dist-packages (from catboost) (1.11.4)\n",
            "Requirement already satisfied: plotly in /usr/local/lib/python3.10/dist-packages (from catboost) (5.15.0)\n",
            "Requirement already satisfied: six in /usr/local/lib/python3.10/dist-packages (from catboost) (1.16.0)\n",
            "Requirement already satisfied: python-dateutil>=2.8.2 in /usr/local/lib/python3.10/dist-packages (from pandas>=0.24->catboost) (2.8.2)\n",
            "Requirement already satisfied: pytz>=2020.1 in /usr/local/lib/python3.10/dist-packages (from pandas>=0.24->catboost) (2023.4)\n",
            "Requirement already satisfied: tzdata>=2022.1 in /usr/local/lib/python3.10/dist-packages (from pandas>=0.24->catboost) (2024.1)\n",
            "Requirement already satisfied: contourpy>=1.0.1 in /usr/local/lib/python3.10/dist-packages (from matplotlib->catboost) (1.2.1)\n",
            "Requirement already satisfied: cycler>=0.10 in /usr/local/lib/python3.10/dist-packages (from matplotlib->catboost) (0.12.1)\n",
            "Requirement already satisfied: fonttools>=4.22.0 in /usr/local/lib/python3.10/dist-packages (from matplotlib->catboost) (4.53.0)\n",
            "Requirement already satisfied: kiwisolver>=1.0.1 in /usr/local/lib/python3.10/dist-packages (from matplotlib->catboost) (1.4.5)\n",
            "Requirement already satisfied: packaging>=20.0 in /usr/local/lib/python3.10/dist-packages (from matplotlib->catboost) (24.1)\n",
            "Requirement already satisfied: pillow>=6.2.0 in /usr/local/lib/python3.10/dist-packages (from matplotlib->catboost) (9.4.0)\n",
            "Requirement already satisfied: pyparsing>=2.3.1 in /usr/local/lib/python3.10/dist-packages (from matplotlib->catboost) (3.1.2)\n",
            "Requirement already satisfied: tenacity>=6.2.0 in /usr/local/lib/python3.10/dist-packages (from plotly->catboost) (8.4.1)\n",
            "Installing collected packages: catboost\n",
            "Successfully installed catboost-1.2.5\n",
            "0:\ttest: 0.6899926\ttest1: 0.6924884\tbest: 0.6924884 (0)\ttotal: 99.5ms\tremaining: 49.6s\n",
            "10:\ttest: 0.7338240\ttest1: 0.7304320\tbest: 0.7304320 (10)\ttotal: 577ms\tremaining: 25.7s\n",
            "20:\ttest: 0.7419773\ttest1: 0.7361845\tbest: 0.7361845 (20)\ttotal: 1.07s\tremaining: 24.3s\n",
            "30:\ttest: 0.7477587\ttest1: 0.7400598\tbest: 0.7400598 (30)\ttotal: 1.58s\tremaining: 24s\n",
            "40:\ttest: 0.7533376\ttest1: 0.7442688\tbest: 0.7442688 (40)\ttotal: 2.48s\tremaining: 27.7s\n",
            "50:\ttest: 0.7572979\ttest1: 0.7462668\tbest: 0.7462668 (50)\ttotal: 3.26s\tremaining: 28.7s\n",
            "60:\ttest: 0.7604230\ttest1: 0.7478265\tbest: 0.7478265 (60)\ttotal: 3.74s\tremaining: 26.9s\n",
            "70:\ttest: 0.7632833\ttest1: 0.7485032\tbest: 0.7485032 (70)\ttotal: 4.2s\tremaining: 25.4s\n",
            "80:\ttest: 0.7662578\ttest1: 0.7497476\tbest: 0.7497476 (80)\ttotal: 4.68s\tremaining: 24.2s\n",
            "90:\ttest: 0.7685426\ttest1: 0.7502586\tbest: 0.7502638 (89)\ttotal: 5.15s\tremaining: 23.2s\n",
            "100:\ttest: 0.7707696\ttest1: 0.7507755\tbest: 0.7507755 (100)\ttotal: 5.64s\tremaining: 22.3s\n",
            "110:\ttest: 0.7731213\ttest1: 0.7513784\tbest: 0.7513784 (110)\ttotal: 6.12s\tremaining: 21.4s\n",
            "120:\ttest: 0.7754472\ttest1: 0.7525344\tbest: 0.7525344 (120)\ttotal: 6.59s\tremaining: 20.6s\n",
            "130:\ttest: 0.7775316\ttest1: 0.7530846\tbest: 0.7530846 (130)\ttotal: 7.1s\tremaining: 20s\n",
            "140:\ttest: 0.7796081\ttest1: 0.7533234\tbest: 0.7533853 (134)\ttotal: 7.57s\tremaining: 19.3s\n",
            "150:\ttest: 0.7816267\ttest1: 0.7538343\tbest: 0.7538343 (150)\ttotal: 8.4s\tremaining: 19.4s\n",
            "160:\ttest: 0.7841728\ttest1: 0.7543208\tbest: 0.7543265 (159)\ttotal: 9.32s\tremaining: 19.6s\n",
            "170:\ttest: 0.7864066\ttest1: 0.7542601\tbest: 0.7544310 (161)\ttotal: 10.3s\tremaining: 19.8s\n",
            "180:\ttest: 0.7885627\ttest1: 0.7546575\tbest: 0.7546575 (180)\ttotal: 11.2s\tremaining: 19.7s\n",
            "190:\ttest: 0.7905860\ttest1: 0.7548477\tbest: 0.7548477 (190)\ttotal: 12.1s\tremaining: 19.6s\n",
            "200:\ttest: 0.7924606\ttest1: 0.7550545\tbest: 0.7550545 (200)\ttotal: 12.6s\tremaining: 18.7s\n",
            "210:\ttest: 0.7944572\ttest1: 0.7553482\tbest: 0.7553482 (210)\ttotal: 13.1s\tremaining: 17.9s\n",
            "220:\ttest: 0.7964153\ttest1: 0.7555485\tbest: 0.7555485 (220)\ttotal: 13.5s\tremaining: 17.1s\n",
            "230:\ttest: 0.7982413\ttest1: 0.7556210\tbest: 0.7556210 (230)\ttotal: 14s\tremaining: 16.3s\n",
            "240:\ttest: 0.8003072\ttest1: 0.7561247\tbest: 0.7561247 (240)\ttotal: 14.5s\tremaining: 15.6s\n",
            "250:\ttest: 0.8019834\ttest1: 0.7563675\tbest: 0.7564720 (246)\ttotal: 15s\tremaining: 14.9s\n",
            "260:\ttest: 0.8036258\ttest1: 0.7566767\tbest: 0.7566767 (260)\ttotal: 15.4s\tremaining: 14.1s\n",
            "270:\ttest: 0.8055459\ttest1: 0.7569258\tbest: 0.7569622 (268)\ttotal: 15.9s\tremaining: 13.5s\n",
            "280:\ttest: 0.8073932\ttest1: 0.7568898\tbest: 0.7570640 (276)\ttotal: 16.4s\tremaining: 12.8s\n",
            "290:\ttest: 0.8091951\ttest1: 0.7565688\tbest: 0.7570640 (276)\ttotal: 16.9s\tremaining: 12.1s\n",
            "300:\ttest: 0.8112209\ttest1: 0.7564545\tbest: 0.7570640 (276)\ttotal: 17.4s\tremaining: 11.5s\n",
            "310:\ttest: 0.8128721\ttest1: 0.7565527\tbest: 0.7570640 (276)\ttotal: 17.8s\tremaining: 10.8s\n",
            "320:\ttest: 0.8143648\ttest1: 0.7565521\tbest: 0.7570640 (276)\ttotal: 18.3s\tremaining: 10.2s\n",
            "Stopped by overfitting detector  (50 iterations wait)\n",
            "\n",
            "bestTest = 0.757064018\n",
            "bestIteration = 276\n",
            "\n",
            "Shrink model to first 277 iterations.\n"
          ]
        },
        {
          "output_type": "display_data",
          "data": {
            "text/plain": [
              "<Figure size 1000x600 with 1 Axes>"
            ],
            "image/png": "[encoded data removed]"
          },
          "metadata": {}
        },
        {
          "output_type": "stream",
          "name": "stdout",
          "text": [
            "CatBoost Validation AUC: 0.7571\n"
          ]
        }
      ],
      "source": [
        "!pip install catboost\n",
        "from catboost import CatBoostClassifier, Pool\n",
        "from sklearn.metrics import roc_auc_score\n",
        "import matplotlib.pyplot as plt\n",
        "\n",
        "# モデルの設定\n",
        "cat_params = {\n",
        "    'iterations': 500,\n",
        "    'learning_rate': 0.1,\n",
        "    'depth': 6,\n",
        "    'loss_function': 'Logloss',\n",
        "    'eval_metric': 'AUC',\n",
        "    'verbose': 10,\n",
        "    'random_seed': 42\n",
        "}\n",
        "\n",
        "x_tr, x_va, y_tr, y_va = train_test_split(X_train, y_train, test_size=0.2, random_state=42)\n",
        "\n",
        "# データをCatBoost用に変換\n",
        "train_pool = Pool(data=x_tr, label=y_tr)\n",
        "valid_pool = Pool(data=x_va, label=y_va)\n",
        "\n",
        "# モデルの訓練\n",
        "cat_model = CatBoostClassifier(**cat_params)\n",
        "cat_model.fit(train_pool, eval_set=[(x_tr, y_tr), (x_va, y_va)], use_best_model=True, early_stopping_rounds=50)\n",
        "\n",
        "# 学習曲線のプロット\n",
        "evals_result = cat_model.get_evals_result()\n",
        "\n",
        "plt.figure(figsize=(10, 6))\n",
        "plt.plot(evals_result['validation_1']['AUC'], label='Validation AUC')\n",
        "plt.plot(evals_result['validation_0']['AUC'], label='Training AUC')\n",
        "plt.xlabel('Iterations')\n",
        "plt.ylabel('AUC')\n",
        "plt.title('Learning Curve')\n",
        "plt.legend()\n",
        "plt.show()\n",
        "\n",
        "# モデルの評価\n",
        "y_valid_pred = cat_model.predict_proba(x_va)[:, 1]\n",
        "auc_score = roc_auc_score(y_va, y_valid_pred)\n",
        "print(\"CatBoost Validation AUC: {:.4f}\".format(auc_score))"
      ]
    },
    {
      "cell_type": "code",
      "execution_count": null,
      "metadata": {
        "id": "6ElC6ndHdbfC",
        "colab": {
          "base_uri": "https://localhost:8080/"
        },
        "outputId": "72d02f69-d22c-4bce-eab2-5e2c7bb783f9"
      },
      "outputs": [
        {
          "output_type": "stream",
          "name": "stdout",
          "text": [
            "[0.04136156 0.30896819 0.25904955 ... 0.15314023 0.2032443  0.16949221]\n"
          ]
        }
      ],
      "source": [
        "# テストデータをCatBoost用に変換\n",
        "test_pool = Pool(data=x_test)\n",
        "\n",
        "# テストデータでの予測\n",
        "pred_cat = cat_model.predict_proba(test_pool)[:, 1]\n",
        "print(pred_cat)"
      ]
    },
    {
      "cell_type": "code",
      "execution_count": null,
      "metadata": {
        "id": "g2tI0WtnoNtV"
      },
      "outputs": [],
      "source": [
        "# すべてのモデルの予測を平均化\n",
        "#final_pred = (pred_lgb + pred_xgb + pred_cat) / 3\n",
        "final_pred = (pred_lgb + pred_cat) / 2"
      ]
    },
    {
      "cell_type": "code",
      "execution_count": null,
      "metadata": {
        "id": "DFlaDF-ozl3b",
        "colab": {
          "base_uri": "https://localhost:8080/",
          "height": 17
        },
        "outputId": "37fb4786-f3d6-44ca-deaf-9e914949dbdf"
      },
      "outputs": [
        {
          "output_type": "display_data",
          "data": {
            "text/plain": [
              "<IPython.core.display.Javascript object>"
            ],
            "application/javascript": [
              "\n",
              "    async function download(id, filename, size) {\n",
              "      if (!google.colab.kernel.accessAllowed) {\n",
              "        return;\n",
              "      }\n",
              "      const div = document.createElement('div');\n",
              "      const label = document.createElement('label');\n",
              "      label.textContent = `Downloading \"${filename}\": `;\n",
              "      div.appendChild(label);\n",
              "      const progress = document.createElement('progress');\n",
              "      progress.max = size;\n",
              "      div.appendChild(progress);\n",
              "      document.body.appendChild(div);\n",
              "\n",
              "      const buffers = [];\n",
              "      let downloaded = 0;\n",
              "\n",
              "      const channel = await google.colab.kernel.comms.open(id);\n",
              "      // Send a message to notify the kernel that we're ready.\n",
              "      channel.send({})\n",
              "\n",
              "      for await (const message of channel.messages) {\n",
              "        // Send a message to notify the kernel that we're ready.\n",
              "        channel.send({})\n",
              "        if (message.buffers) {\n",
              "          for (const buffer of message.buffers) {\n",
              "            buffers.push(buffer);\n",
              "            downloaded += buffer.byteLength;\n",
              "            progress.value = downloaded;\n",
              "          }\n",
              "        }\n",
              "      }\n",
              "      const blob = new Blob(buffers, {type: 'application/binary'});\n",
              "      const a = document.createElement('a');\n",
              "      a.href = window.URL.createObjectURL(blob);\n",
              "      a.download = filename;\n",
              "      div.appendChild(a);\n",
              "      a.click();\n",
              "      div.remove();\n",
              "    }\n",
              "  "
            ]
          },
          "metadata": {}
        },
        {
          "output_type": "display_data",
          "data": {
            "text/plain": [
              "<IPython.core.display.Javascript object>"
            ],
            "application/javascript": [
              "download(\"download_7ad05ab0-9434-4776-8777-176e285c8cff\", \"submission.csv\", 1653852)"
            ]
          },
          "metadata": {}
        }
      ],
      "source": [
        "# 提出ファイルの作成\n",
        "submission = pd.DataFrame({\n",
        "    'SK_ID_CURR': id_test['SK_ID_CURR'],\n",
        "    'TARGET': final_pred\n",
        "})\n",
        "\n",
        "# ファイルの保存\n",
        "submission.to_csv('submission.csv', index=False)\n",
        "from google.colab import files\n",
        "files.download('submission.csv')"
      ]
    },
    {
      "cell_type": "code",
      "source": [
        "print(submission)"
      ],
      "metadata": {
        "id": "w563LyQbm2Pa",
        "colab": {
          "base_uri": "https://localhost:8080/"
        },
        "outputId": "e6428852-6e6b-4562-fc89-6bb090e0bc67"
      },
      "execution_count": null,
      "outputs": [
        {
          "output_type": "stream",
          "name": "stdout",
          "text": [
            "       SK_ID_CURR    TARGET\n",
            "0          171202  0.044939\n",
            "1          171203  0.325630\n",
            "2          171204  0.258825\n",
            "3          171205  0.146678\n",
            "4          171206  0.279745\n",
            "...           ...       ...\n",
            "61495      232697  0.232991\n",
            "61496      232698  0.056339\n",
            "61497      232699  0.117874\n",
            "61498      232700  0.220518\n",
            "61499      232701  0.180078\n",
            "\n",
            "[61500 rows x 2 columns]\n"
          ]
        }
      ]
    },
    {
      "cell_type": "code",
      "source": [],
      "metadata": {
        "id": "QOFNbzR0RPdF"
      },
      "execution_count": null,
      "outputs": []
    }
  ],
  "metadata": {
    "colab": {
      "provenance": [],
      "authorship_tag": "ABX9TyP7WuW5n5MNfTcmwrGT2H9p",
      "include_colab_link": true
    },
    "kernelspec": {
      "display_name": "Python 3",
      "name": "python3"
    },
    "language_info": {
      "name": "python"
    }
  },
  "nbformat": 4,
  "nbformat_minor": 0
}