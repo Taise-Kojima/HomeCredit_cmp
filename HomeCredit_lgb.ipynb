{
  "cells": [
    {
      "cell_type": "code",
      "execution_count": 372,
      "metadata": {
        "id": "_nrd2yEgwOmS",
        "colab": {
          "base_uri": "https://localhost:8080/"
        },
        "outputId": "f4cc0208-4403-44b8-d594-e3ef8baae8c2"
      },
      "outputs": [
        {
          "output_type": "stream",
          "name": "stdout",
          "text": [
            "Requirement already satisfied: optuna in /usr/local/lib/python3.10/dist-packages (3.6.1)\n",
            "Requirement already satisfied: alembic>=1.5.0 in /usr/local/lib/python3.10/dist-packages (from optuna) (1.13.2)\n",
            "Requirement already satisfied: colorlog in /usr/local/lib/python3.10/dist-packages (from optuna) (6.8.2)\n",
            "Requirement already satisfied: numpy in /usr/local/lib/python3.10/dist-packages (from optuna) (1.25.2)\n",
            "Requirement already satisfied: packaging>=20.0 in /usr/local/lib/python3.10/dist-packages (from optuna) (24.1)\n",
            "Requirement already satisfied: sqlalchemy>=1.3.0 in /usr/local/lib/python3.10/dist-packages (from optuna) (2.0.31)\n",
            "Requirement already satisfied: tqdm in /usr/local/lib/python3.10/dist-packages (from optuna) (4.66.4)\n",
            "Requirement already satisfied: PyYAML in /usr/local/lib/python3.10/dist-packages (from optuna) (6.0.1)\n",
            "Requirement already satisfied: Mako in /usr/local/lib/python3.10/dist-packages (from alembic>=1.5.0->optuna) (1.3.5)\n",
            "Requirement already satisfied: typing-extensions>=4 in /usr/local/lib/python3.10/dist-packages (from alembic>=1.5.0->optuna) (4.12.2)\n",
            "Requirement already satisfied: greenlet!=0.4.17 in /usr/local/lib/python3.10/dist-packages (from sqlalchemy>=1.3.0->optuna) (3.0.3)\n",
            "Requirement already satisfied: MarkupSafe>=0.9.2 in /usr/local/lib/python3.10/dist-packages (from Mako->alembic>=1.5.0->optuna) (2.1.5)\n"
          ]
        }
      ],
      "source": [
        "!pip install optuna\n",
        "import numpy as np\n",
        "import pandas as pd\n",
        "from sklearn.feature_selection import SelectKBest, f_classif\n",
        "import re\n",
        "import pickle\n",
        "import gc\n",
        "import optuna\n",
        "\n",
        "# scikit-learn\n",
        "from sklearn.preprocessing import OneHotEncoder, LabelEncoder\n",
        "from sklearn.model_selection import StratifiedKFold\n",
        "from sklearn.metrics import roc_auc_score\n",
        "from sklearn.pipeline import Pipeline\n",
        "from sklearn.compose import ColumnTransformer\n",
        "from sklearn.utils import resample\n",
        "from sklearn.preprocessing import OrdinalEncoder\n",
        "from sklearn.neighbors import KNeighborsRegressor\n",
        "from sklearn.preprocessing import StandardScaler\n",
        "\n",
        "# LightGBM\n",
        "import lightgbm as lgb\n",
        "\n",
        "import warnings\n",
        "warnings.filterwarnings(\"ignore\")"
      ]
    },
    {
      "cell_type": "code",
      "execution_count": 373,
      "metadata": {
        "id": "BjmqWyQlwTke",
        "colab": {
          "base_uri": "https://localhost:8080/"
        },
        "outputId": "6722b205-25f1-46c6-b205-a1352699a174"
      },
      "outputs": [
        {
          "output_type": "stream",
          "name": "stdout",
          "text": [
            "Drive already mounted at /content/drive; to attempt to forcibly remount, call drive.mount(\"/content/drive\", force_remount=True).\n",
            "/content/drive/MyDrive\n"
          ]
        }
      ],
      "source": [
        "# Google Colaboratoryで作業する場合はこちらも実行してください。\n",
        "from google.colab import drive\n",
        "drive.mount('/content/drive')\n",
        "# %cd 以降にこのnotebookを置いているディレクトリを指定してください。\n",
        "%cd \"/content/drive/MyDrive\""
      ]
    },
    {
      "cell_type": "code",
      "execution_count": 374,
      "metadata": {
        "id": "OVIjmdHEwYOi"
      },
      "outputs": [],
      "source": [
        "# データの読み込み\n",
        "# INPUT_DIRにtrain.csvなどのデータを置いているディレクトリを指定してください。\n",
        "INPUT_DIR = \"/content/drive/My Drive/GCI/cmp2/\"\n",
        "\n",
        "train = pd.read_csv(INPUT_DIR + \"train.csv\")\n",
        "test = pd.read_csv(INPUT_DIR + \"test.csv\")\n",
        "sample_sub = pd.read_csv(INPUT_DIR + \"sample_submission.csv\")"
      ]
    },
    {
      "cell_type": "code",
      "source": [
        "#ダウンサンプリング 1対10から1対4にする\n",
        "\n",
        "# クラスごとのデータを分ける\n",
        "class_0 = train[train['TARGET'] == 0]\n",
        "class_1 = train[train['TARGET'] == 1]\n",
        "\n",
        "# クラス1のサンプル数を取得\n",
        "n_class_1 = len(class_1)\n",
        "\n",
        "# クラス0をダウンサンプリングして、クラス1のサンプル数の4倍にする\n",
        "n_samples_class_0 = n_class_1 * 7\n",
        "class_0_downsampled = resample(class_0,\n",
        "                               replace=False,  # サンプルの重複を許可しない\n",
        "                               n_samples=n_samples_class_0,  # クラス1のサンプル数の4倍にする\n",
        "                               random_state=42)  # 再現性のためのシード\n",
        "\n",
        "# ダウンサンプリングされたデータとクラス1のデータを結合\n",
        "train_downsampled = pd.concat([class_0_downsampled, class_1])\n",
        "\n",
        "# シャッフルしてデータセットを混ぜる\n",
        "train = train_downsampled.sample(frac=1, random_state=42).reset_index(drop=True)\n"
      ],
      "metadata": {
        "id": "ZJ8cW_iw6rC4"
      },
      "execution_count": 375,
      "outputs": []
    },
    {
      "cell_type": "code",
      "execution_count": 376,
      "metadata": {
        "id": "YPtn1vHfuDOS"
      },
      "outputs": [],
      "source": [
        "\n",
        "train['DSCR'] = train['AMT_ANNUITY'] / train['AMT_INCOME_TOTAL'] * 100 #収入に対する年間返済額\n",
        "train['Repayment_Rate'] = train['AMT_ANNUITY'] / train['AMT_CREDIT'] * 100 #返済率\n",
        "train['DTI'] = train['AMT_CREDIT'] / train['AMT_INCOME_TOTAL'] #DTI クライアントがどれだけの負債を背負っているか\n",
        "# 返済率が4.65%を超えるかどうかに基づいて新しい特徴量を作成\n",
        "train['High_Repayment'] = (train['Repayment_Rate'] > 4.65).astype(int)\n"
      ]
    },
    {
      "cell_type": "code",
      "execution_count": 377,
      "metadata": {
        "id": "WusMIzgQuGt-",
        "colab": {
          "base_uri": "https://localhost:8080/"
        },
        "outputId": "71190536-e606-45ea-8862-e2219b05bbd1"
      },
      "outputs": [
        {
          "output_type": "stream",
          "name": "stdout",
          "text": [
            "全データの中でTARGETが1のデータの数: 13821, TARGETの総数:110568, 全データにおけるTARGETが1の割合: 12.50%\n",
            "High Repaymentの中でTARGETが1のデータの数: 9537, High Repaymentの総数: 66569, 割合は: 14.33%\n"
          ]
        }
      ],
      "source": [
        "\n",
        "# High_Repaymentが1で、TARGETも1のデータのみをフィルタリング\n",
        "target_1_high_repayment = train[(train['High_Repayment'] == 1) & (train['TARGET'] == 1)]\n",
        "\n",
        "# High_Repaymentが1で、TARGETも1のデータ数をカウント\n",
        "count_target_1 = target_1_high_repayment.shape[0]\n",
        "\n",
        "# High Repaymentのデータの総数\n",
        "count_high_repayment = train[train['High_Repayment'] == 1].shape[0]\n",
        "# TARGETの全データの数\n",
        "total_target_count = train['TARGET'].count()\n",
        "\n",
        "# TARGETが1のデータの数をカウント\n",
        "count_target_1_total = train[train['TARGET'] == 1].shape[0]\n",
        "\n",
        "# 全データの数\n",
        "total_count = train.shape[0]\n",
        "\n",
        "\n",
        "# TARGETの総数（非欠損値の数）\n",
        "total_target_count = train['TARGET'].count()\n",
        "\n",
        "# TARGETが1の割合を計算\n",
        "percentage_target_1 = (count_target_1_total / total_count) * 100\n",
        "\n",
        "# 結果を表示\n",
        "print(f\"全データの中でTARGETが1のデータの数: {count_target_1_total}, TARGETの総数:{total_target_count}, 全データにおけるTARGETが1の割合: {percentage_target_1:.2f}%\")\n",
        "print(f\"High Repaymentの中でTARGETが1のデータの数: {count_target_1}, High Repaymentの総数: {count_high_repayment}, 割合は: {count_target_1/count_high_repayment * 100:.2f}%\")\n"
      ]
    },
    {
      "cell_type": "code",
      "execution_count": 378,
      "metadata": {
        "id": "Tao1tWSfuKuV"
      },
      "outputs": [],
      "source": [
        "\n",
        "test['DSCR'] = test['AMT_ANNUITY'] / test['AMT_INCOME_TOTAL'] * 100 #\n",
        "test['Repayment_Rate'] = test['AMT_ANNUITY'] / test['AMT_CREDIT'] * 100 #返済率\n",
        "test['DTI'] = test['AMT_CREDIT'] / test['AMT_INCOME_TOTAL'] * 100 #DTI クライアントがどれだけの負債を背負っているか\n",
        "test['High_Repayment'] = (test['Repayment_Rate'] > 4.65).astype(int)\n"
      ]
    },
    {
      "cell_type": "code",
      "execution_count": 379,
      "metadata": {
        "id": "PUWNnWzlzurH"
      },
      "outputs": [],
      "source": [
        "# [仮説]　外部機関によるスコアが平均的に高い方が貸し倒れリスクが低いと考えられる。\n",
        "train[\"EXT_SOURCE_mean\"] = train[[\"EXT_SOURCE_1\", \"EXT_SOURCE_2\", \"EXT_SOURCE_3\"]].mean(axis=1)\n",
        "train[\"EXT_SOURCE_max\"] = train[[\"EXT_SOURCE_1\", \"EXT_SOURCE_2\", \"EXT_SOURCE_3\"]].max(axis=1)\n",
        "train[\"EXT_SOURCE_min\"] = train[[\"EXT_SOURCE_1\", \"EXT_SOURCE_2\", \"EXT_SOURCE_3\"]].min(axis=1)\n",
        "train[\"EXT_SOURCE_std\"] = train[[\"EXT_SOURCE_1\", \"EXT_SOURCE_2\", \"EXT_SOURCE_3\"]].std(axis=1)\n",
        "train[\"EXT_SOURCE_count\"] = train[[\"EXT_SOURCE_1\", \"EXT_SOURCE_2\", \"EXT_SOURCE_3\"]].notnull().sum(axis=1)"
      ]
    },
    {
      "cell_type": "code",
      "execution_count": 380,
      "metadata": {
        "id": "CjPT_bT4zzSP"
      },
      "outputs": [],
      "source": [
        "# [仮説]　外部機関によるスコアが平均的に高い方が貸し倒れリスクが低いと考えられる。\n",
        "test[\"EXT_SOURCE_mean\"] = test[[\"EXT_SOURCE_1\", \"EXT_SOURCE_2\", \"EXT_SOURCE_3\"]].mean(axis=1)\n",
        "test[\"EXT_SOURCE_max\"] = test[[\"EXT_SOURCE_1\", \"EXT_SOURCE_2\", \"EXT_SOURCE_3\"]].max(axis=1)\n",
        "test[\"EXT_SOURCE_min\"] = test[[\"EXT_SOURCE_1\", \"EXT_SOURCE_2\", \"EXT_SOURCE_3\"]].min(axis=1)\n",
        "test[\"EXT_SOURCE_std\"] = test[[\"EXT_SOURCE_1\", \"EXT_SOURCE_2\", \"EXT_SOURCE_3\"]].std(axis=1)\n",
        "test[\"EXT_SOURCE_count\"] = test[[\"EXT_SOURCE_1\", \"EXT_SOURCE_2\", \"EXT_SOURCE_3\"]].notnull().sum(axis=1)"
      ]
    },
    {
      "cell_type": "code",
      "execution_count": 381,
      "metadata": {
        "id": "sytFgLvn_7Oj"
      },
      "outputs": [],
      "source": [
        "# OWN_CAR_AGEをグループ分け\n",
        "train[\"OWN_CAR_AGE\"] = train[\"OWN_CAR_AGE\"] // 10\n",
        "test[\"OWN_CAR_AGE\"] = test[\"OWN_CAR_AGE\"] // 10\n",
        "\n",
        "train[\"OWN_CAR_AGE\"].unique()\n",
        "# OWN_CAR_AGEをOne Hot Encoding\n",
        "train_car_age_ohe = pd.get_dummies(train[\"OWN_CAR_AGE\"]).add_prefix(\"OWN_CAR_AGE_\")\n",
        "test_car_age_ohe = pd.get_dummies(test[\"OWN_CAR_AGE\"]).add_prefix(\"OWN_CAR_AGE_\")\n",
        "\n",
        "train = pd.concat([train, train_car_age_ohe], axis=1)\n",
        "test = pd.concat([test, test_car_age_ohe], axis=1)\n",
        "\n",
        "train.drop('OWN_CAR_AGE', axis=1, inplace=True)\n",
        "test.drop('OWN_CAR_AGE', axis=1, inplace=True)"
      ]
    },
    {
      "cell_type": "code",
      "execution_count": 382,
      "metadata": {
        "id": "MY-x_iylBL0D"
      },
      "outputs": [],
      "source": [
        "train['DOWN_PAYMENT'] = train['AMT_GOODS_PRICE'] - train['AMT_CREDIT']\n",
        "test['DOWN_PAYMENT'] = test['AMT_GOODS_PRICE'] - test['AMT_CREDIT']\n",
        "train['DOWN_PAYMENT_RATE'] = train['DOWN_PAYMENT'] / train['AMT_CREDIT'] * 100\n",
        "test['DOWN_PAYMENT_RATE'] = test['DOWN_PAYMENT'] / test['AMT_CREDIT'] * 100\n",
        "# DOWN_PAYMENT_RATEが-30以下であれば1, それ以上であれば0をセット\n",
        "train['DOWN_PAYMENT_RATE_ALART'] = (train['DOWN_PAYMENT_RATE'] <=-30).astype(int) *100\n",
        "test['DOWN_PAYMENT_RATE_ALART'] = (test['DOWN_PAYMENT_RATE'] <= -30).astype(int) * 100"
      ]
    },
    {
      "cell_type": "code",
      "execution_count": 383,
      "metadata": {
        "id": "LJVK_rMAL7RA"
      },
      "outputs": [],
      "source": [
        "train['EMPLOYMENT_TO_AGE_RATIO'] = train['DAYS_EMPLOYED'] / train['DAYS_BIRTH']\n",
        "test['EMPLOYMENT_TO_AGE_RATIO'] = test['DAYS_EMPLOYED'] / test['DAYS_BIRTH']"
      ]
    },
    {
      "cell_type": "code",
      "execution_count": 384,
      "metadata": {
        "id": "b8Jn5lUgMfn4"
      },
      "outputs": [],
      "source": [
        "train['SOCIAL_CIRCLE_DEFAULT_RATE'] = train['DEF_30_CNT_SOCIAL_CIRCLE'] / train['OBS_30_CNT_SOCIAL_CIRCLE'].replace(0, 1)\n",
        "test['SOCIAL_CIRCLE_DEFAULT_RATE'] = test['DEF_30_CNT_SOCIAL_CIRCLE'] / test['OBS_30_CNT_SOCIAL_CIRCLE'].replace(0, 1)"
      ]
    },
    {
      "cell_type": "code",
      "source": [
        "\n",
        "train_client_age = train['DAYS_BIRTH'] // 365 * (-1)\n",
        "train_loan_years = train['AMT_CREDIT'] / train['AMT_ANNUITY']\n",
        "test_client_age = test['DAYS_BIRTH'] // 365 * (-1)\n",
        "test_loan_years = test['AMT_CREDIT'] / test['AMT_ANNUITY']\n",
        "train['FINISH_AGE'] = train_client_age + train_loan_years\n",
        "test['FINISH_AGE'] = test_client_age + test_loan_years\n"
      ],
      "metadata": {
        "id": "xSXbsAulHFBe"
      },
      "execution_count": 385,
      "outputs": []
    },
    {
      "cell_type": "code",
      "source": [
        "def calculate_w_city_rate(region_rating):\n",
        "    if region_rating == 1:\n",
        "        return 4.745279\n",
        "    elif region_rating == 2:\n",
        "        return 7.936173\n",
        "    elif region_rating == 3:\n",
        "        return 11.351307\n",
        "    else:\n",
        "        return None\n",
        "\n",
        "train['W_CITY_RATE'] = train['REGION_RATING_CLIENT_W_CITY'].apply(calculate_w_city_rate)\n",
        "test['W_CITY_RATE'] = test['REGION_RATING_CLIENT_W_CITY'].apply(calculate_w_city_rate)"
      ],
      "metadata": {
        "id": "JzRkT7fZyPoL"
      },
      "execution_count": 386,
      "outputs": []
    },
    {
      "cell_type": "code",
      "source": [
        "# 'REGION_RATING_CLIENT_W_CITY' に基づいてグループ化し、'TARGET'が1の割合を計算します。\n",
        "grouped = train.groupby('REGION_RATING_CLIENT')['TARGET']\n",
        "target_ratio = grouped.mean() * 100  # 割合をパーセントで表示\n",
        "# 結果を表示します。\n",
        "print(target_ratio)"
      ],
      "metadata": {
        "colab": {
          "base_uri": "https://localhost:8080/"
        },
        "id": "ak9bJEFcytdf",
        "outputId": "2720da70-c68b-4164-ccfb-52a1d91b3d89"
      },
      "execution_count": 387,
      "outputs": [
        {
          "output_type": "stream",
          "name": "stdout",
          "text": [
            "REGION_RATING_CLIENT\n",
            "1     7.466952\n",
            "2    12.267690\n",
            "3    16.730337\n",
            "Name: TARGET, dtype: float64\n"
          ]
        }
      ]
    },
    {
      "cell_type": "code",
      "execution_count": 388,
      "metadata": {
        "id": "xAiZe4LJbPF-"
      },
      "outputs": [],
      "source": [
        "# カテゴリカルカラムの抽出\n",
        "categorical_columns = train.select_dtypes(include=['object', 'category']).columns.tolist()\n",
        "\n",
        "# 連続値カラムのリスト（仮）- TARGET カラムを除外して定義\n",
        "numerical_columns = [col for col in train.columns if col not in categorical_columns + ['TARGET']]\n",
        "\n",
        "# カテゴリカルデータのエンコーダーの初期化\n",
        "encoder = OrdinalEncoder(handle_unknown='use_encoded_value', unknown_value=-1)\n",
        "\n",
        "# トレーニングデータにエンコーダーを適用\n",
        "train_cat = encoder.fit_transform(train[categorical_columns])\n",
        "train_cat = pd.DataFrame(train_cat, columns=categorical_columns, index=train.index)\n",
        "\n",
        "# テストデータにエンコーダーを適用\n",
        "test_cat = encoder.transform(test[categorical_columns])\n",
        "test_cat = pd.DataFrame(test_cat, columns=categorical_columns, index=test.index)\n",
        "\n",
        "# カテゴリカルデータを数値データに結合\n",
        "train_processed = pd.concat([train[numerical_columns], train_cat], axis=1)\n",
        "test_processed = pd.concat([test[numerical_columns], test_cat], axis=1)"
      ]
    },
    {
      "cell_type": "code",
      "source": [
        "\"\"\"\n",
        "for_knn_features = ['EXT_SOURCE_mean', 'Repayment_Rate',\n",
        "            'AMT_CREDIT','AMT_ANNUITY',\n",
        "            'OBS_30_CNT_SOCIAL_CIRCLE', 'DEF_30_CNT_SOCIAL_CIRCLE',\n",
        "            'OBS_60_CNT_SOCIAL_CIRCLE', 'DEF_60_CNT_SOCIAL_CIRCLE',\n",
        "            'AMT_REQ_CREDIT_BUREAU_HOUR', 'AMT_REQ_CREDIT_BUREAU_MON',\n",
        "            'AMT_REQ_CREDIT_BUREAU_QRT', 'AMT_REQ_CREDIT_BUREAU_YEAR',\n",
        "            \"EXT_SOURCE_max\",\"FINISH_AGE\",\n",
        "            \"EXT_SOURCE_min\",\"EXT_SOURCE_std\",\n",
        "            \"EXT_SOURCE_count\",\"DAYS_BIRTH\",\n",
        "            \"DOWN_PAYMENT_RATE\",\"DAYS_ID_PUBLISH\",\n",
        "            'DAYS_REGISTRATION', 'DAYS_LAST_PHONE_CHANGE',\n",
        "            'EMPLOYMENT_TO_AGE_RATIO', 'AMT_GOODS_PRICE',\n",
        "            'DAYS_EMPLOYED', 'DOWN_PAYMENT',\n",
        "            'SK_ID_CURR','DTI',\n",
        "            'DSCR'\n",
        "            ]\n",
        "\"\"\""
      ],
      "metadata": {
        "id": "38h9pZ1pHacO"
      },
      "execution_count": null,
      "outputs": []
    },
    {
      "cell_type": "code",
      "source": [
        "\"\"\"\n",
        "knn_x_train = train_processed[for_knn_features]\n",
        "knn_y_train = train[\"TARGET\"]\n",
        "\n",
        "id_train = train_processed[[\"SK_ID_CURR\"]]\n",
        "for col in knn_x_train.columns:\n",
        "    if knn_x_train[col].dtype==\"O\":\n",
        "        knn_x_train[col] = knn_x_train[col].astype(\"category\")\n",
        "\n",
        "# データセットの作成\n",
        "knn_x_test = test_processed[for_knn_features]\n",
        "knn_id_test = test_processed[\"SK_ID_CURR\"].copy()\n",
        "\n",
        "# カテゴリ変数をcategory型に変換\n",
        "for col in knn_x_test.columns:\n",
        "    if knn_x_test[col].dtype==\"O\":\n",
        "        knn_x_test[col] = knn_x_test[col].astype(\"category\")\n",
        "\n",
        "# インデックスをリセット\n",
        "knn_x_train.reset_index(drop=True, inplace=True)\n",
        "knn_y_train.reset_index(drop=True, inplace=True)\n",
        "id_train.reset_index(drop=True, inplace=True)\n",
        "\n",
        "# データのスケーリング\n",
        "scaler = StandardScaler()\n",
        "X_scaled = scaler.fit_transform(knn_x_train)\n",
        "\"\"\""
      ],
      "metadata": {
        "id": "6qohU0kAHj-Q"
      },
      "execution_count": null,
      "outputs": []
    },
    {
      "cell_type": "code",
      "source": [
        "\"\"\"\n",
        "# kNNレグレッサーの設定\n",
        "knn = KNeighborsRegressor(n_neighbors=300)\n",
        "\n",
        "# モデルの学習\n",
        "knn.fit(X_scaled, knn_y_train)\n",
        "\n",
        "# 近傍300のTARGETの平均値の計算\n",
        "knn_mean_TARGET = knn.predict(X_scaled)\n",
        "knn_mean_test_TARGET = knn.predict(scaler.transform(knn_x_test))\n",
        "# 新たな特徴量としてデータセットに追加\n",
        "train_processed['knn_mean_TARGET'] = knn_mean_TARGET\n",
        "test_processed['knn_mean_TARGET'] = knn_mean_test_TARGET\n",
        "\"\"\""
      ],
      "metadata": {
        "id": "u1DFYNaPHqxU"
      },
      "execution_count": null,
      "outputs": []
    },
    {
      "cell_type": "code",
      "execution_count": 389,
      "metadata": {
        "id": "XrCh9sgqwYyu"
      },
      "outputs": [],
      "source": [
        "X_train = train_processed\n",
        "y_train = train[\"TARGET\"]\n",
        "\n",
        "id_train = train_processed[[\"SK_ID_CURR\"]]\n",
        "for col in X_train.columns:\n",
        "    if X_train[col].dtype==\"O\":\n",
        "        X_train[col] = X_train[col].astype(\"category\")"
      ]
    },
    {
      "cell_type": "code",
      "execution_count": 390,
      "metadata": {
        "id": "gcvoOxpYw_0G",
        "colab": {
          "base_uri": "https://localhost:8080/"
        },
        "outputId": "7dbbec9d-63f2-43f4-db1c-bde25cde8fb6"
      },
      "outputs": [
        {
          "output_type": "stream",
          "name": "stdout",
          "text": [
            "index(train): [     1      2      3 ... 110564 110565 110566]\n",
            "index(valid): [     0      7      8 ... 110560 110563 110567]\n"
          ]
        }
      ],
      "source": [
        "# 層化分割したバリデーションのindexのリスト作成\n",
        "cv = list(StratifiedKFold(n_splits=5, shuffle=True, random_state=123).split(X_train, y_train))\n",
        "\n",
        "# indexの確認：fold=0のtrainデータ\n",
        "print(\"index(train):\", cv[0][0])\n",
        "\n",
        "# indexの確認：fold=0のvalidデータ\n",
        "print(\"index(valid):\", cv[0][1])"
      ]
    },
    {
      "cell_type": "code",
      "execution_count": 391,
      "metadata": {
        "id": "r50ykoxgZ-CP",
        "colab": {
          "base_uri": "https://localhost:8080/"
        },
        "outputId": "15cf7d63-dcff-407b-acd3-55ad4ec96490"
      },
      "outputs": [
        {
          "output_type": "stream",
          "name": "stdout",
          "text": [
            "categorical_columns: ['NAME_CONTRACT_TYPE', 'CODE_GENDER', 'FLAG_OWN_CAR', 'FLAG_OWN_REALTY', 'NAME_TYPE_SUITE', 'NAME_INCOME_TYPE', 'NAME_EDUCATION_TYPE', 'NAME_FAMILY_STATUS', 'NAME_HOUSING_TYPE', 'OCCUPATION_TYPE', 'ORGANIZATION_TYPE']\n"
          ]
        }
      ],
      "source": [
        "print(\"categorical_columns:\", categorical_columns)"
      ]
    },
    {
      "cell_type": "code",
      "execution_count": 392,
      "metadata": {
        "id": "bJB5nhsuxEy4",
        "colab": {
          "base_uri": "https://localhost:8080/"
        },
        "outputId": "3e27834c-f1cf-438f-c332-6123f685473e"
      },
      "outputs": [
        {
          "output_type": "stream",
          "name": "stdout",
          "text": [
            "[LightGBM] [Info] Number of positive: 11057, number of negative: 77397\n",
            "[LightGBM] [Info] Auto-choosing row-wise multi-threading, the overhead of testing was 0.241993 seconds.\n",
            "You can set `force_row_wise=true` to remove the overhead.\n",
            "And if memory is not enough, you can set `force_col_wise=true`.\n",
            "[LightGBM] [Info] Total Bins 6440\n",
            "[LightGBM] [Info] Number of data points in the train set: 88454, number of used features: 70\n",
            "[LightGBM] [Info] [binary:BoostFromScore]: pavg=0.125003 -> initscore=-1.945884\n",
            "[LightGBM] [Info] Start training from score -1.945884\n",
            "Training until validation scores don't improve for 100 rounds\n",
            "Early stopping, best iteration is:\n",
            "[329]\tvalid_0's auc: 0.759717\n"
          ]
        }
      ],
      "source": [
        "nfold = 0\n",
        "idx_tr, idx_va = cv[nfold][0], cv[nfold][1]\n",
        "\n",
        "# 学習データと検証データに分離\n",
        "x_tr, y_tr, id_tr = X_train.loc[idx_tr, :], y_train[idx_tr], id_train.loc[idx_tr, :]\n",
        "x_va, y_va, id_va = X_train.loc[idx_va, :], y_train[idx_va], id_train.loc[idx_va, :]\n",
        "\n",
        "# モデルの学習\n",
        "params = {\n",
        "    'boosting_type': 'gbdt',\n",
        "    'objective': 'binary',\n",
        "    'metric': 'auc',\n",
        "    'learning_rate': 0.05,\n",
        "    'num_leaves': 32,\n",
        "    'n_estimators': 1000,\n",
        "    'max_depth': 10,\n",
        "    'min_child_samples': 20,\n",
        "    \"random_state\": 123,\n",
        "    \"importance_type\": \"gain\",\n",
        "}\n",
        "\n",
        "model = lgb.LGBMClassifier(**params)\n",
        "\n",
        "# 早期停止コールバックの作成\n",
        "early_stopping_callback = lgb.early_stopping(stopping_rounds=100, verbose=True)\n",
        "\n",
        "model.fit(x_tr, y_tr,\n",
        "          eval_set=[(x_va, y_va)],\n",
        "          callbacks=[early_stopping_callback]\n",
        "         )\n",
        "\n",
        "# モデルの保存\n",
        "with open(\"model_lgb_fold0.pickle\", \"wb\") as f:\n",
        "    pickle.dump(model, f, protocol=4)"
      ]
    },
    {
      "cell_type": "code",
      "execution_count": 393,
      "metadata": {
        "id": "sk-6HI54xbm-",
        "colab": {
          "base_uri": "https://localhost:8080/"
        },
        "outputId": "dceebd16-24ac-4e88-ede6-61072a658559"
      },
      "outputs": [
        {
          "output_type": "stream",
          "name": "stdout",
          "text": [
            "[auc] tr:0.8695, va:0.7597\n"
          ]
        }
      ],
      "source": [
        "'''モデル評価'''\n",
        "# 学習データの推論値取得とROC計算\n",
        "y_tr_pred = model.predict_proba(x_tr)[:,1]\n",
        "metric_tr = roc_auc_score(y_tr, y_tr_pred)\n",
        "\n",
        "# 検証データの推論値取得とROC計算\n",
        "y_va_pred = model.predict_proba(x_va)[:,1]\n",
        "metric_va = roc_auc_score(y_va, y_va_pred)\n",
        "\n",
        "# 評価値を入れる変数の作成（最初のfoldのときのみ）\n",
        "metrics = []\n",
        "\n",
        "# 評価値を格納\n",
        "metrics.append([nfold, metric_tr, metric_va])\n",
        "\n",
        "# 結果の表示\n",
        "print(\"[auc] tr:{:.4f}, va:{:.4f}\".format(metric_tr, metric_va))"
      ]
    },
    {
      "cell_type": "code",
      "execution_count": 396,
      "metadata": {
        "id": "mh6nZLJPBcUk",
        "colab": {
          "base_uri": "https://localhost:8080/",
          "height": 990
        },
        "outputId": "cad73d44-9f12-4ef9-a998-d5c5d1c9dcfb"
      },
      "outputs": [
        {
          "output_type": "display_data",
          "data": {
            "text/plain": [
              "                           col           imp  nfold\n",
              "42             EXT_SOURCE_mean  53517.642819      0\n",
              "39              Repayment_Rate  11363.644962      0\n",
              "28                EXT_SOURCE_3   6589.587553      0\n",
              "45              EXT_SOURCE_std   5582.620865      0\n",
              "56           DOWN_PAYMENT_RATE   5450.748942      0\n",
              "7                   DAYS_BIRTH   5286.194038      0\n",
              "44              EXT_SOURCE_min   5273.518360      0\n",
              "10             DAYS_ID_PUBLISH   4797.891707      0\n",
              "60                  FINISH_AGE   4458.745239      0\n",
              "43              EXT_SOURCE_max   4147.274092      0\n",
              "58     EMPLOYMENT_TO_AGE_RATIO   4128.000772      0\n",
              "33      DAYS_LAST_PHONE_CHANGE   3948.074740      0\n",
              "9            DAYS_REGISTRATION   3764.663812      0\n",
              "4                  AMT_ANNUITY   3743.913602      0\n",
              "5              AMT_GOODS_PRICE   3554.107282      0\n",
              "26                EXT_SOURCE_1   3474.167503      0\n",
              "8                DAYS_EMPLOYED   3402.408983      0\n",
              "55                DOWN_PAYMENT   3392.994363      0\n",
              "0                   SK_ID_CURR   3277.271529      0\n",
              "27                EXT_SOURCE_2   3224.648217      0\n",
              "38                        DSCR   3044.628416      0\n",
              "40                         DTI   2946.272901      0\n",
              "6   REGION_POPULATION_RELATIVE   2722.782635      0\n",
              "3                   AMT_CREDIT   2562.521984      0\n",
              "68         NAME_EDUCATION_TYPE   2536.347003      0\n",
              "71             OCCUPATION_TYPE   2197.735989      0\n",
              "2             AMT_INCOME_TOTAL   2191.749200      0\n",
              "63                 CODE_GENDER   2053.725139      0\n",
              "37  AMT_REQ_CREDIT_BUREAU_YEAR   1593.667340      0\n",
              "72           ORGANIZATION_TYPE   1475.536878      0"
            ],
            "text/html": [
              "\n",
              "  <div id=\"df-afac96bc-f32c-45d9-bde3-37d7655e4bb4\" class=\"colab-df-container\">\n",
              "    <div>\n",
              "<style scoped>\n",
              "    .dataframe tbody tr th:only-of-type {\n",
              "        vertical-align: middle;\n",
              "    }\n",
              "\n",
              "    .dataframe tbody tr th {\n",
              "        vertical-align: top;\n",
              "    }\n",
              "\n",
              "    .dataframe thead th {\n",
              "        text-align: right;\n",
              "    }\n",
              "</style>\n",
              "<table border=\"1\" class=\"dataframe\">\n",
              "  <thead>\n",
              "    <tr style=\"text-align: right;\">\n",
              "      <th></th>\n",
              "      <th>col</th>\n",
              "      <th>imp</th>\n",
              "      <th>nfold</th>\n",
              "    </tr>\n",
              "  </thead>\n",
              "  <tbody>\n",
              "    <tr>\n",
              "      <th>42</th>\n",
              "      <td>EXT_SOURCE_mean</td>\n",
              "      <td>53517.642819</td>\n",
              "      <td>0</td>\n",
              "    </tr>\n",
              "    <tr>\n",
              "      <th>39</th>\n",
              "      <td>Repayment_Rate</td>\n",
              "      <td>11363.644962</td>\n",
              "      <td>0</td>\n",
              "    </tr>\n",
              "    <tr>\n",
              "      <th>28</th>\n",
              "      <td>EXT_SOURCE_3</td>\n",
              "      <td>6589.587553</td>\n",
              "      <td>0</td>\n",
              "    </tr>\n",
              "    <tr>\n",
              "      <th>45</th>\n",
              "      <td>EXT_SOURCE_std</td>\n",
              "      <td>5582.620865</td>\n",
              "      <td>0</td>\n",
              "    </tr>\n",
              "    <tr>\n",
              "      <th>56</th>\n",
              "      <td>DOWN_PAYMENT_RATE</td>\n",
              "      <td>5450.748942</td>\n",
              "      <td>0</td>\n",
              "    </tr>\n",
              "    <tr>\n",
              "      <th>7</th>\n",
              "      <td>DAYS_BIRTH</td>\n",
              "      <td>5286.194038</td>\n",
              "      <td>0</td>\n",
              "    </tr>\n",
              "    <tr>\n",
              "      <th>44</th>\n",
              "      <td>EXT_SOURCE_min</td>\n",
              "      <td>5273.518360</td>\n",
              "      <td>0</td>\n",
              "    </tr>\n",
              "    <tr>\n",
              "      <th>10</th>\n",
              "      <td>DAYS_ID_PUBLISH</td>\n",
              "      <td>4797.891707</td>\n",
              "      <td>0</td>\n",
              "    </tr>\n",
              "    <tr>\n",
              "      <th>60</th>\n",
              "      <td>FINISH_AGE</td>\n",
              "      <td>4458.745239</td>\n",
              "      <td>0</td>\n",
              "    </tr>\n",
              "    <tr>\n",
              "      <th>43</th>\n",
              "      <td>EXT_SOURCE_max</td>\n",
              "      <td>4147.274092</td>\n",
              "      <td>0</td>\n",
              "    </tr>\n",
              "    <tr>\n",
              "      <th>58</th>\n",
              "      <td>EMPLOYMENT_TO_AGE_RATIO</td>\n",
              "      <td>4128.000772</td>\n",
              "      <td>0</td>\n",
              "    </tr>\n",
              "    <tr>\n",
              "      <th>33</th>\n",
              "      <td>DAYS_LAST_PHONE_CHANGE</td>\n",
              "      <td>3948.074740</td>\n",
              "      <td>0</td>\n",
              "    </tr>\n",
              "    <tr>\n",
              "      <th>9</th>\n",
              "      <td>DAYS_REGISTRATION</td>\n",
              "      <td>3764.663812</td>\n",
              "      <td>0</td>\n",
              "    </tr>\n",
              "    <tr>\n",
              "      <th>4</th>\n",
              "      <td>AMT_ANNUITY</td>\n",
              "      <td>3743.913602</td>\n",
              "      <td>0</td>\n",
              "    </tr>\n",
              "    <tr>\n",
              "      <th>5</th>\n",
              "      <td>AMT_GOODS_PRICE</td>\n",
              "      <td>3554.107282</td>\n",
              "      <td>0</td>\n",
              "    </tr>\n",
              "    <tr>\n",
              "      <th>26</th>\n",
              "      <td>EXT_SOURCE_1</td>\n",
              "      <td>3474.167503</td>\n",
              "      <td>0</td>\n",
              "    </tr>\n",
              "    <tr>\n",
              "      <th>8</th>\n",
              "      <td>DAYS_EMPLOYED</td>\n",
              "      <td>3402.408983</td>\n",
              "      <td>0</td>\n",
              "    </tr>\n",
              "    <tr>\n",
              "      <th>55</th>\n",
              "      <td>DOWN_PAYMENT</td>\n",
              "      <td>3392.994363</td>\n",
              "      <td>0</td>\n",
              "    </tr>\n",
              "    <tr>\n",
              "      <th>0</th>\n",
              "      <td>SK_ID_CURR</td>\n",
              "      <td>3277.271529</td>\n",
              "      <td>0</td>\n",
              "    </tr>\n",
              "    <tr>\n",
              "      <th>27</th>\n",
              "      <td>EXT_SOURCE_2</td>\n",
              "      <td>3224.648217</td>\n",
              "      <td>0</td>\n",
              "    </tr>\n",
              "    <tr>\n",
              "      <th>38</th>\n",
              "      <td>DSCR</td>\n",
              "      <td>3044.628416</td>\n",
              "      <td>0</td>\n",
              "    </tr>\n",
              "    <tr>\n",
              "      <th>40</th>\n",
              "      <td>DTI</td>\n",
              "      <td>2946.272901</td>\n",
              "      <td>0</td>\n",
              "    </tr>\n",
              "    <tr>\n",
              "      <th>6</th>\n",
              "      <td>REGION_POPULATION_RELATIVE</td>\n",
              "      <td>2722.782635</td>\n",
              "      <td>0</td>\n",
              "    </tr>\n",
              "    <tr>\n",
              "      <th>3</th>\n",
              "      <td>AMT_CREDIT</td>\n",
              "      <td>2562.521984</td>\n",
              "      <td>0</td>\n",
              "    </tr>\n",
              "    <tr>\n",
              "      <th>68</th>\n",
              "      <td>NAME_EDUCATION_TYPE</td>\n",
              "      <td>2536.347003</td>\n",
              "      <td>0</td>\n",
              "    </tr>\n",
              "    <tr>\n",
              "      <th>71</th>\n",
              "      <td>OCCUPATION_TYPE</td>\n",
              "      <td>2197.735989</td>\n",
              "      <td>0</td>\n",
              "    </tr>\n",
              "    <tr>\n",
              "      <th>2</th>\n",
              "      <td>AMT_INCOME_TOTAL</td>\n",
              "      <td>2191.749200</td>\n",
              "      <td>0</td>\n",
              "    </tr>\n",
              "    <tr>\n",
              "      <th>63</th>\n",
              "      <td>CODE_GENDER</td>\n",
              "      <td>2053.725139</td>\n",
              "      <td>0</td>\n",
              "    </tr>\n",
              "    <tr>\n",
              "      <th>37</th>\n",
              "      <td>AMT_REQ_CREDIT_BUREAU_YEAR</td>\n",
              "      <td>1593.667340</td>\n",
              "      <td>0</td>\n",
              "    </tr>\n",
              "    <tr>\n",
              "      <th>72</th>\n",
              "      <td>ORGANIZATION_TYPE</td>\n",
              "      <td>1475.536878</td>\n",
              "      <td>0</td>\n",
              "    </tr>\n",
              "  </tbody>\n",
              "</table>\n",
              "</div>\n",
              "    <div class=\"colab-df-buttons\">\n",
              "\n",
              "  <div class=\"colab-df-container\">\n",
              "    <button class=\"colab-df-convert\" onclick=\"convertToInteractive('df-afac96bc-f32c-45d9-bde3-37d7655e4bb4')\"\n",
              "            title=\"Convert this dataframe to an interactive table.\"\n",
              "            style=\"display:none;\">\n",
              "\n",
              "  <svg xmlns=\"http://www.w3.org/2000/svg\" height=\"24px\" viewBox=\"0 -960 960 960\">\n",
              "    <path d=\"M120-120v-720h720v720H120Zm60-500h600v-160H180v160Zm220 220h160v-160H400v160Zm0 220h160v-160H400v160ZM180-400h160v-160H180v160Zm440 0h160v-160H620v160ZM180-180h160v-160H180v160Zm440 0h160v-160H620v160Z\"/>\n",
              "  </svg>\n",
              "    </button>\n",
              "\n",
              "  <style>\n",
              "    .colab-df-container {\n",
              "      display:flex;\n",
              "      gap: 12px;\n",
              "    }\n",
              "\n",
              "    .colab-df-convert {\n",
              "      background-color: #E8F0FE;\n",
              "      border: none;\n",
              "      border-radius: 50%;\n",
              "      cursor: pointer;\n",
              "      display: none;\n",
              "      fill: #1967D2;\n",
              "      height: 32px;\n",
              "      padding: 0 0 0 0;\n",
              "      width: 32px;\n",
              "    }\n",
              "\n",
              "    .colab-df-convert:hover {\n",
              "      background-color: #E2EBFA;\n",
              "      box-shadow: 0px 1px 2px rgba(60, 64, 67, 0.3), 0px 1px 3px 1px rgba(60, 64, 67, 0.15);\n",
              "      fill: #174EA6;\n",
              "    }\n",
              "\n",
              "    .colab-df-buttons div {\n",
              "      margin-bottom: 4px;\n",
              "    }\n",
              "\n",
              "    [theme=dark] .colab-df-convert {\n",
              "      background-color: #3B4455;\n",
              "      fill: #D2E3FC;\n",
              "    }\n",
              "\n",
              "    [theme=dark] .colab-df-convert:hover {\n",
              "      background-color: #434B5C;\n",
              "      box-shadow: 0px 1px 3px 1px rgba(0, 0, 0, 0.15);\n",
              "      filter: drop-shadow(0px 1px 2px rgba(0, 0, 0, 0.3));\n",
              "      fill: #FFFFFF;\n",
              "    }\n",
              "  </style>\n",
              "\n",
              "    <script>\n",
              "      const buttonEl =\n",
              "        document.querySelector('#df-afac96bc-f32c-45d9-bde3-37d7655e4bb4 button.colab-df-convert');\n",
              "      buttonEl.style.display =\n",
              "        google.colab.kernel.accessAllowed ? 'block' : 'none';\n",
              "\n",
              "      async function convertToInteractive(key) {\n",
              "        const element = document.querySelector('#df-afac96bc-f32c-45d9-bde3-37d7655e4bb4');\n",
              "        const dataTable =\n",
              "          await google.colab.kernel.invokeFunction('convertToInteractive',\n",
              "                                                    [key], {});\n",
              "        if (!dataTable) return;\n",
              "\n",
              "        const docLinkHtml = 'Like what you see? Visit the ' +\n",
              "          '<a target=\"_blank\" href=https://colab.research.google.com/notebooks/data_table.ipynb>data table notebook</a>'\n",
              "          + ' to learn more about interactive tables.';\n",
              "        element.innerHTML = '';\n",
              "        dataTable['output_type'] = 'display_data';\n",
              "        await google.colab.output.renderOutput(dataTable, element);\n",
              "        const docLink = document.createElement('div');\n",
              "        docLink.innerHTML = docLinkHtml;\n",
              "        element.appendChild(docLink);\n",
              "      }\n",
              "    </script>\n",
              "  </div>\n",
              "\n",
              "\n",
              "<div id=\"df-73680ead-6e7e-41b8-8cf8-f068a8640ab4\">\n",
              "  <button class=\"colab-df-quickchart\" onclick=\"quickchart('df-73680ead-6e7e-41b8-8cf8-f068a8640ab4')\"\n",
              "            title=\"Suggest charts\"\n",
              "            style=\"display:none;\">\n",
              "\n",
              "<svg xmlns=\"http://www.w3.org/2000/svg\" height=\"24px\"viewBox=\"0 0 24 24\"\n",
              "     width=\"24px\">\n",
              "    <g>\n",
              "        <path d=\"M19 3H5c-1.1 0-2 .9-2 2v14c0 1.1.9 2 2 2h14c1.1 0 2-.9 2-2V5c0-1.1-.9-2-2-2zM9 17H7v-7h2v7zm4 0h-2V7h2v10zm4 0h-2v-4h2v4z\"/>\n",
              "    </g>\n",
              "</svg>\n",
              "  </button>\n",
              "\n",
              "<style>\n",
              "  .colab-df-quickchart {\n",
              "      --bg-color: #E8F0FE;\n",
              "      --fill-color: #1967D2;\n",
              "      --hover-bg-color: #E2EBFA;\n",
              "      --hover-fill-color: #174EA6;\n",
              "      --disabled-fill-color: #AAA;\n",
              "      --disabled-bg-color: #DDD;\n",
              "  }\n",
              "\n",
              "  [theme=dark] .colab-df-quickchart {\n",
              "      --bg-color: #3B4455;\n",
              "      --fill-color: #D2E3FC;\n",
              "      --hover-bg-color: #434B5C;\n",
              "      --hover-fill-color: #FFFFFF;\n",
              "      --disabled-bg-color: #3B4455;\n",
              "      --disabled-fill-color: #666;\n",
              "  }\n",
              "\n",
              "  .colab-df-quickchart {\n",
              "    background-color: var(--bg-color);\n",
              "    border: none;\n",
              "    border-radius: 50%;\n",
              "    cursor: pointer;\n",
              "    display: none;\n",
              "    fill: var(--fill-color);\n",
              "    height: 32px;\n",
              "    padding: 0;\n",
              "    width: 32px;\n",
              "  }\n",
              "\n",
              "  .colab-df-quickchart:hover {\n",
              "    background-color: var(--hover-bg-color);\n",
              "    box-shadow: 0 1px 2px rgba(60, 64, 67, 0.3), 0 1px 3px 1px rgba(60, 64, 67, 0.15);\n",
              "    fill: var(--button-hover-fill-color);\n",
              "  }\n",
              "\n",
              "  .colab-df-quickchart-complete:disabled,\n",
              "  .colab-df-quickchart-complete:disabled:hover {\n",
              "    background-color: var(--disabled-bg-color);\n",
              "    fill: var(--disabled-fill-color);\n",
              "    box-shadow: none;\n",
              "  }\n",
              "\n",
              "  .colab-df-spinner {\n",
              "    border: 2px solid var(--fill-color);\n",
              "    border-color: transparent;\n",
              "    border-bottom-color: var(--fill-color);\n",
              "    animation:\n",
              "      spin 1s steps(1) infinite;\n",
              "  }\n",
              "\n",
              "  @keyframes spin {\n",
              "    0% {\n",
              "      border-color: transparent;\n",
              "      border-bottom-color: var(--fill-color);\n",
              "      border-left-color: var(--fill-color);\n",
              "    }\n",
              "    20% {\n",
              "      border-color: transparent;\n",
              "      border-left-color: var(--fill-color);\n",
              "      border-top-color: var(--fill-color);\n",
              "    }\n",
              "    30% {\n",
              "      border-color: transparent;\n",
              "      border-left-color: var(--fill-color);\n",
              "      border-top-color: var(--fill-color);\n",
              "      border-right-color: var(--fill-color);\n",
              "    }\n",
              "    40% {\n",
              "      border-color: transparent;\n",
              "      border-right-color: var(--fill-color);\n",
              "      border-top-color: var(--fill-color);\n",
              "    }\n",
              "    60% {\n",
              "      border-color: transparent;\n",
              "      border-right-color: var(--fill-color);\n",
              "    }\n",
              "    80% {\n",
              "      border-color: transparent;\n",
              "      border-right-color: var(--fill-color);\n",
              "      border-bottom-color: var(--fill-color);\n",
              "    }\n",
              "    90% {\n",
              "      border-color: transparent;\n",
              "      border-bottom-color: var(--fill-color);\n",
              "    }\n",
              "  }\n",
              "</style>\n",
              "\n",
              "  <script>\n",
              "    async function quickchart(key) {\n",
              "      const quickchartButtonEl =\n",
              "        document.querySelector('#' + key + ' button');\n",
              "      quickchartButtonEl.disabled = true;  // To prevent multiple clicks.\n",
              "      quickchartButtonEl.classList.add('colab-df-spinner');\n",
              "      try {\n",
              "        const charts = await google.colab.kernel.invokeFunction(\n",
              "            'suggestCharts', [key], {});\n",
              "      } catch (error) {\n",
              "        console.error('Error during call to suggestCharts:', error);\n",
              "      }\n",
              "      quickchartButtonEl.classList.remove('colab-df-spinner');\n",
              "      quickchartButtonEl.classList.add('colab-df-quickchart-complete');\n",
              "    }\n",
              "    (() => {\n",
              "      let quickchartButtonEl =\n",
              "        document.querySelector('#df-73680ead-6e7e-41b8-8cf8-f068a8640ab4 button');\n",
              "      quickchartButtonEl.style.display =\n",
              "        google.colab.kernel.accessAllowed ? 'block' : 'none';\n",
              "    })();\n",
              "  </script>\n",
              "</div>\n",
              "\n",
              "    </div>\n",
              "  </div>\n"
            ],
            "application/vnd.google.colaboratory.intrinsic+json": {
              "type": "dataframe",
              "summary": "{\n  \"name\": \"imp = pd\",\n  \"rows\": 30,\n  \"fields\": [\n    {\n      \"column\": \"col\",\n      \"properties\": {\n        \"dtype\": \"string\",\n        \"num_unique_values\": 30,\n        \"samples\": [\n          \"CODE_GENDER\",\n          \"EXT_SOURCE_1\",\n          \"AMT_CREDIT\"\n        ],\n        \"semantic_type\": \"\",\n        \"description\": \"\"\n      }\n    },\n    {\n      \"column\": \"imp\",\n      \"properties\": {\n        \"dtype\": \"number\",\n        \"std\": 9256.593929691478,\n        \"min\": 1475.5368778705597,\n        \"max\": 53517.642818689346,\n        \"num_unique_values\": 30,\n        \"samples\": [\n          2053.7251386642456,\n          3474.167502760887,\n          2562.5219836235046\n        ],\n        \"semantic_type\": \"\",\n        \"description\": \"\"\n      }\n    },\n    {\n      \"column\": \"nfold\",\n      \"properties\": {\n        \"dtype\": \"number\",\n        \"std\": 0,\n        \"min\": 0,\n        \"max\": 0,\n        \"num_unique_values\": 1,\n        \"samples\": [\n          0\n        ],\n        \"semantic_type\": \"\",\n        \"description\": \"\"\n      }\n    }\n  ]\n}"
            }
          },
          "metadata": {}
        }
      ],
      "source": [
        "'''説明変数の重要度取得（学習したモデルから説明変数の重要度を取得）'''\n",
        "# 重要度の取得\n",
        "imp_fold = pd.DataFrame({\"col\":X_train.columns, \"imp\":model.feature_importances_, \"nfold\":nfold})\n",
        "# 確認（重要度の上位10個）\n",
        "display(imp_fold.sort_values(\"imp\", ascending=False)[:30])\n",
        "#display(imp_fold.sort_values(\"imp\", ascending=False))\n",
        "# 重要度を格納する5fold用データフレームの作成\n",
        "imp = pd.DataFrame()\n",
        "# imp_foldを5fold用データフレームに結合\n",
        "imp = pd.concat([imp, imp_fold])"
      ]
    },
    {
      "cell_type": "code",
      "execution_count": 356,
      "metadata": {
        "id": "bd7Emdn5fMgb",
        "colab": {
          "base_uri": "https://localhost:8080/"
        },
        "outputId": "9402105a-1b0b-474f-a911-df5e431d7a1b"
      },
      "outputs": [
        {
          "output_type": "stream",
          "name": "stdout",
          "text": [
            "Low importance features (imp <= 100): ['FLAG_MOBIL' 'FLAG_EMP_PHONE' 'FLAG_CONT_MOBILE' 'FLAG_EMAIL'\n",
            " 'REG_REGION_NOT_LIVE_REGION' 'REG_REGION_NOT_WORK_REGION'\n",
            " 'LIVE_REGION_NOT_WORK_REGION' 'AMT_REQ_CREDIT_BUREAU_HOUR'\n",
            " 'OWN_CAR_AGE_2.0' 'OWN_CAR_AGE_3.0' 'OWN_CAR_AGE_4.0' 'OWN_CAR_AGE_5.0'\n",
            " 'OWN_CAR_AGE_6.0' 'OWN_CAR_AGE_9.0' 'DOWN_PAYMENT_RATE_ALART'\n",
            " 'W_CITY_RATE']\n"
          ]
        }
      ],
      "source": [
        "# impが1000以下の列名を取得\n",
        "low_importance_cols = imp[imp['imp'] <= 100]['col'].unique()\n",
        "\n",
        "# 低重要度の特徴量名を表示\n",
        "print(\"Low importance features (imp <= 100):\", low_importance_cols)"
      ]
    },
    {
      "cell_type": "code",
      "execution_count": 357,
      "metadata": {
        "id": "TpfbxUW92VwO"
      },
      "outputs": [],
      "source": [
        "#目的関数の定義\n",
        "# 探索しないハイパーパラメータ\n",
        "params_base = {\n",
        "    \"boosting_type\": \"gbdt\",\n",
        "    \"objective\": \"binary\",\n",
        "    \"metric\": \"auc\",\n",
        "    \"verbosity\": -1,\n",
        "    \"learning_rate\": 0.05,\n",
        "    \"n_estimators\": 1000,\n",
        "    \"bagging_freq\": 1,\n",
        "    \"random_state\": 123,\n",
        "}\n",
        "\n",
        "# 目的関数の定義\n",
        "def objective(trial):\n",
        "    # 探索するハイパーパラメータ\n",
        "    params_tuning = {\n",
        "        \"num_leaves\": trial.suggest_int(\"num_leaves\", 8, 256),\n",
        "        \"min_child_samples\": trial.suggest_int(\"min_child_samples\", 5, 200),\n",
        "        \"min_sum_hessian_in_leaf\": trial.suggest_float(\"min_sum_hessian_in_leaf\", 1e-5, 1e-2, log=True),\n",
        "        \"feature_fraction\": trial.suggest_float(\"feature_fraction\", 0.5, 1.0),\n",
        "        \"bagging_fraction\": trial.suggest_float(\"bagging_fraction\", 0.5, 1.0),\n",
        "        \"lambda_l1\": trial.suggest_float(\"lambda_l1\", 1e-2, 1e+2, log=True),\n",
        "        \"lambda_l2\": trial.suggest_float(\"lambda_l2\", 1e-2, 1e+2, log=True),\n",
        "    }\n",
        "    params_tuning.update(params_base)\n",
        "\n",
        "    # モデル学習・評価\n",
        "    list_metrics = []\n",
        "    cv = list(StratifiedKFold(n_splits=5, shuffle=True, random_state=123).split(X_train, y_train))\n",
        "    list_fold = [0]  # 処理高速化のために1つめのfoldのみとする。\n",
        "    for nfold in list_fold:\n",
        "        idx_tr, idx_va = cv[nfold][0], cv[nfold][1]\n",
        "        x_tr, y_tr = X_train.loc[idx_tr, :], y_train[idx_tr]\n",
        "        x_va, y_va = X_train.loc[idx_va, :], y_train[idx_va]\n",
        "        model = lgb.LGBMClassifier(**params_tuning)\n",
        "        # 早期停止コールバックの作成\n",
        "        early_stopping_callback = lgb.early_stopping(stopping_rounds=30, verbose=True)\n",
        "\n",
        "        model.fit(x_tr,\n",
        "                  y_tr,\n",
        "                  eval_set=[(x_va,y_va)],\n",
        "                  callbacks=[early_stopping_callback]\n",
        "                 )\n",
        "        y_va_pred = model.predict_proba(x_va)[:,1]\n",
        "        metric_va = roc_auc_score(y_va, y_va_pred) # 評価指標をAUCにする\n",
        "        list_metrics.append(metric_va)\n",
        "\n",
        "    # 評価指標の算出\n",
        "    metrics = np.mean(list_metrics)\n",
        "\n",
        "    return metrics"
      ]
    },
    {
      "cell_type": "code",
      "execution_count": 358,
      "metadata": {
        "colab": {
          "base_uri": "https://localhost:8080/"
        },
        "id": "R62uSTUj2fbl",
        "outputId": "0199bc6f-477b-45c2-e489-d57529766820"
      },
      "outputs": [
        {
          "output_type": "stream",
          "name": "stderr",
          "text": [
            "[I 2024-06-29 09:31:38,049] A new study created in memory with name: no-name-c6d13056-7afb-451d-95b4-41e16b3eaaaf\n"
          ]
        },
        {
          "output_type": "stream",
          "name": "stdout",
          "text": [
            "Training until validation scores don't improve for 30 rounds\n",
            "Training until validation scores don't improve for 30 rounds\n",
            "Early stopping, best iteration is:\n",
            "[180]\tvalid_0's auc: 0.761468\n"
          ]
        },
        {
          "output_type": "stream",
          "name": "stderr",
          "text": [
            "[I 2024-06-29 09:31:58,745] Trial 0 finished with value: 0.7614681003825485 and parameters: {'num_leaves': 97, 'min_child_samples': 132, 'min_sum_hessian_in_leaf': 2.999953696322861e-05, 'feature_fraction': 0.7697802698275685, 'bagging_fraction': 0.8694658723663008, 'lambda_l1': 4.499874780778827, 'lambda_l2': 0.18879516373772198}. Best is trial 0 with value: 0.7614681003825485.\n"
          ]
        },
        {
          "output_type": "stream",
          "name": "stdout",
          "text": [
            "Early stopping, best iteration is:\n",
            "[139]\tvalid_0's auc: 0.756629\n"
          ]
        },
        {
          "output_type": "stream",
          "name": "stderr",
          "text": [
            "[I 2024-06-29 09:32:00,746] Trial 1 finished with value: 0.7566286922671335 and parameters: {'num_leaves': 192, 'min_child_samples': 70, 'min_sum_hessian_in_leaf': 3.3294262855004334e-05, 'feature_fraction': 0.8625049049562783, 'bagging_fraction': 0.7757262577624162, 'lambda_l1': 0.17322903352634744, 'lambda_l2': 2.1539215408443817}. Best is trial 0 with value: 0.7614681003825485.\n"
          ]
        },
        {
          "output_type": "stream",
          "name": "stdout",
          "text": [
            "Training until validation scores don't improve for 30 rounds\n",
            "Training until validation scores don't improve for 30 rounds\n",
            "Early stopping, best iteration is:\n",
            "[79]\tvalid_0's auc: 0.751591\n"
          ]
        },
        {
          "output_type": "stream",
          "name": "stderr",
          "text": [
            "[I 2024-06-29 09:32:11,294] Trial 2 finished with value: 0.7515906991702097 and parameters: {'num_leaves': 181, 'min_child_samples': 118, 'min_sum_hessian_in_leaf': 0.00022565085425049219, 'feature_fraction': 0.8038467576910164, 'bagging_fraction': 0.5258264160307486, 'lambda_l1': 0.043420977946792616, 'lambda_l2': 0.08223883864650651}. Best is trial 0 with value: 0.7614681003825485.\n"
          ]
        },
        {
          "output_type": "stream",
          "name": "stdout",
          "text": [
            "Training until validation scores don't improve for 30 rounds\n",
            "Early stopping, best iteration is:\n",
            "[196]\tvalid_0's auc: 0.759954\n"
          ]
        },
        {
          "output_type": "stream",
          "name": "stderr",
          "text": [
            "[I 2024-06-29 09:32:22,500] Trial 3 finished with value: 0.7599540792096239 and parameters: {'num_leaves': 131, 'min_child_samples': 121, 'min_sum_hessian_in_leaf': 0.00040480810558970727, 'feature_fraction': 0.6931053021352426, 'bagging_fraction': 0.8347725826969695, 'lambda_l1': 0.0991947396889834, 'lambda_l2': 65.58895329529247}. Best is trial 0 with value: 0.7614681003825485.\n"
          ]
        },
        {
          "output_type": "stream",
          "name": "stdout",
          "text": [
            "Training until validation scores don't improve for 30 rounds\n",
            "Early stopping, best iteration is:\n",
            "[174]\tvalid_0's auc: 0.757996\n"
          ]
        },
        {
          "output_type": "stream",
          "name": "stderr",
          "text": [
            "[I 2024-06-29 09:32:38,277] Trial 4 finished with value: 0.7579960324137958 and parameters: {'num_leaves': 219, 'min_child_samples': 113, 'min_sum_hessian_in_leaf': 0.0007656443633351797, 'feature_fraction': 0.9678680679876964, 'bagging_fraction': 0.8276341586489643, 'lambda_l1': 0.039404828700624, 'lambda_l2': 46.24751170143147}. Best is trial 0 with value: 0.7614681003825485.\n"
          ]
        },
        {
          "output_type": "stream",
          "name": "stdout",
          "text": [
            "Training until validation scores don't improve for 30 rounds\n",
            "Early stopping, best iteration is:\n",
            "[154]\tvalid_0's auc: 0.757557\n"
          ]
        },
        {
          "output_type": "stream",
          "name": "stderr",
          "text": [
            "[I 2024-06-29 09:32:51,751] Trial 5 finished with value: 0.7575566998358367 and parameters: {'num_leaves': 230, 'min_child_samples': 6, 'min_sum_hessian_in_leaf': 0.00012723504589694844, 'feature_fraction': 0.8152765446148644, 'bagging_fraction': 0.729697221196525, 'lambda_l1': 0.061799641190928054, 'lambda_l2': 17.57565474384597}. Best is trial 0 with value: 0.7614681003825485.\n"
          ]
        },
        {
          "output_type": "stream",
          "name": "stdout",
          "text": [
            "Training until validation scores don't improve for 30 rounds\n",
            "Early stopping, best iteration is:\n",
            "[241]\tvalid_0's auc: 0.760113\n"
          ]
        },
        {
          "output_type": "stream",
          "name": "stderr",
          "text": [
            "[I 2024-06-29 09:32:58,977] Trial 6 finished with value: 0.7601125582891141 and parameters: {'num_leaves': 68, 'min_child_samples': 61, 'min_sum_hessian_in_leaf': 0.0008014128789928108, 'feature_fraction': 0.5988209234739168, 'bagging_fraction': 0.9427071213511974, 'lambda_l1': 0.02004213914863045, 'lambda_l2': 0.020376032577663666}. Best is trial 0 with value: 0.7614681003825485.\n"
          ]
        },
        {
          "output_type": "stream",
          "name": "stdout",
          "text": [
            "Training until validation scores don't improve for 30 rounds\n",
            "Early stopping, best iteration is:\n",
            "[155]\tvalid_0's auc: 0.760184\n"
          ]
        },
        {
          "output_type": "stream",
          "name": "stderr",
          "text": [
            "[I 2024-06-29 09:33:17,954] Trial 8 finished with value: 0.7601839262275772 and parameters: {'num_leaves': 124, 'min_child_samples': 197, 'min_sum_hessian_in_leaf': 7.02552521149608e-05, 'feature_fraction': 0.6437107584898312, 'bagging_fraction': 0.7542794220564311, 'lambda_l1': 0.16217673938705343, 'lambda_l2': 4.093919832756912}. Best is trial 0 with value: 0.7614681003825485.\n"
          ]
        },
        {
          "output_type": "stream",
          "name": "stdout",
          "text": [
            "Training until validation scores don't improve for 30 rounds\n",
            "Early stopping, best iteration is:\n",
            "[199]\tvalid_0's auc: 0.757803\n"
          ]
        },
        {
          "output_type": "stream",
          "name": "stderr",
          "text": [
            "[I 2024-06-29 09:33:22,487] Trial 7 finished with value: 0.7578025892145974 and parameters: {'num_leaves': 190, 'min_child_samples': 62, 'min_sum_hessian_in_leaf': 0.00021871557972490612, 'feature_fraction': 0.7880955820816207, 'bagging_fraction': 0.9000355606629583, 'lambda_l1': 0.10964311431509403, 'lambda_l2': 28.735217314305093}. Best is trial 0 with value: 0.7614681003825485.\n"
          ]
        },
        {
          "output_type": "stream",
          "name": "stdout",
          "text": [
            "Training until validation scores don't improve for 30 rounds\n",
            "Early stopping, best iteration is:\n",
            "[240]\tvalid_0's auc: 0.762365\n"
          ]
        },
        {
          "output_type": "stream",
          "name": "stderr",
          "text": [
            "[I 2024-06-29 09:33:34,065] Trial 9 finished with value: 0.7623653507443431 and parameters: {'num_leaves': 40, 'min_child_samples': 151, 'min_sum_hessian_in_leaf': 0.0016221209372809917, 'feature_fraction': 0.8009201744104864, 'bagging_fraction': 0.9304941327128833, 'lambda_l1': 0.028684094560513573, 'lambda_l2': 0.14112525170707743}. Best is trial 9 with value: 0.7623653507443431.\n"
          ]
        },
        {
          "output_type": "stream",
          "name": "stdout",
          "text": [
            "Training until validation scores don't improve for 30 rounds\n",
            "Early stopping, best iteration is:\n",
            "[320]\tvalid_0's auc: 0.763554\n"
          ]
        },
        {
          "output_type": "stream",
          "name": "stderr",
          "text": [
            "[I 2024-06-29 09:33:53,434] Trial 11 finished with value: 0.7635542990909329 and parameters: {'num_leaves': 21, 'min_child_samples': 171, 'min_sum_hessian_in_leaf': 0.006855255325941143, 'feature_fraction': 0.9430589288161848, 'bagging_fraction': 0.9920086402431232, 'lambda_l1': 1.618699437679328, 'lambda_l2': 0.3513300303456448}. Best is trial 11 with value: 0.7635542990909329.\n"
          ]
        },
        {
          "output_type": "stream",
          "name": "stdout",
          "text": [
            "Training until validation scores don't improve for 30 rounds\n",
            "Did not meet early stopping. Best iteration is:\n",
            "[1000]\tvalid_0's auc: 0.755213\n"
          ]
        },
        {
          "output_type": "stream",
          "name": "stderr",
          "text": [
            "[I 2024-06-29 09:34:00,945] Trial 10 finished with value: 0.7552130193667568 and parameters: {'num_leaves': 122, 'min_child_samples': 72, 'min_sum_hessian_in_leaf': 0.003550200412778895, 'feature_fraction': 0.6573372187792476, 'bagging_fraction': 0.7358690274509812, 'lambda_l1': 87.79033374536763, 'lambda_l2': 0.044831357413637404}. Best is trial 11 with value: 0.7635542990909329.\n"
          ]
        },
        {
          "output_type": "stream",
          "name": "stdout",
          "text": [
            "Training until validation scores don't improve for 30 rounds\n",
            "Early stopping, best iteration is:\n",
            "[535]\tvalid_0's auc: 0.763302\n"
          ]
        },
        {
          "output_type": "stream",
          "name": "stderr",
          "text": [
            "[I 2024-06-29 09:34:14,626] Trial 12 finished with value: 0.7633015851647427 and parameters: {'num_leaves': 10, 'min_child_samples': 179, 'min_sum_hessian_in_leaf': 0.009137536336927671, 'feature_fraction': 0.9919055412034928, 'bagging_fraction': 0.991467676604951, 'lambda_l1': 1.5547749158827344, 'lambda_l2': 0.47627638635216735}. Best is trial 11 with value: 0.7635542990909329.\n"
          ]
        },
        {
          "output_type": "stream",
          "name": "stdout",
          "text": [
            "Training until validation scores don't improve for 30 rounds\n",
            "Early stopping, best iteration is:\n",
            "[615]\tvalid_0's auc: 0.763212\n"
          ]
        },
        {
          "output_type": "stream",
          "name": "stderr",
          "text": [
            "[I 2024-06-29 09:34:25,659] Trial 13 finished with value: 0.7632115572308418 and parameters: {'num_leaves': 10, 'min_child_samples': 171, 'min_sum_hessian_in_leaf': 0.008503715527409226, 'feature_fraction': 0.9857817310558732, 'bagging_fraction': 0.9833295733171433, 'lambda_l1': 1.6028096439125514, 'lambda_l2': 0.40685506252099174}. Best is trial 11 with value: 0.7635542990909329.\n"
          ]
        },
        {
          "output_type": "stream",
          "name": "stdout",
          "text": [
            "Training until validation scores don't improve for 30 rounds\n",
            "Early stopping, best iteration is:\n",
            "[423]\tvalid_0's auc: 0.762792\n"
          ]
        },
        {
          "output_type": "stream",
          "name": "stderr",
          "text": [
            "[I 2024-06-29 09:34:35,672] Trial 14 finished with value: 0.7627922682551969 and parameters: {'num_leaves': 13, 'min_child_samples': 194, 'min_sum_hessian_in_leaf': 0.009484991131678316, 'feature_fraction': 0.9998045865896923, 'bagging_fraction': 0.9846392937708311, 'lambda_l1': 1.6676977528274728, 'lambda_l2': 0.68380026072901}. Best is trial 11 with value: 0.7635542990909329.\n"
          ]
        },
        {
          "output_type": "stream",
          "name": "stdout",
          "text": [
            "Training until validation scores don't improve for 30 rounds\n",
            "Early stopping, best iteration is:\n",
            "[404]\tvalid_0's auc: 0.762623\n"
          ]
        },
        {
          "output_type": "stream",
          "name": "stderr",
          "text": [
            "[I 2024-06-29 09:34:52,645] Trial 15 finished with value: 0.7626228512024292 and parameters: {'num_leaves': 15, 'min_child_samples': 195, 'min_sum_hessian_in_leaf': 0.006636515859598976, 'feature_fraction': 0.5043063561636802, 'bagging_fraction': 0.6211810784456859, 'lambda_l1': 10.879020390302943, 'lambda_l2': 0.9497973016451338}. Best is trial 11 with value: 0.7635542990909329.\n"
          ]
        },
        {
          "output_type": "stream",
          "name": "stdout",
          "text": [
            "Early stopping, best iteration is:\n",
            "[243]\tvalid_0's auc: 0.758496\n",
            "Training until validation scores don't improve for 30 rounds\n"
          ]
        },
        {
          "output_type": "stream",
          "name": "stderr",
          "text": [
            "[I 2024-06-29 09:34:55,187] Trial 16 finished with value: 0.7584961689047443 and parameters: {'num_leaves': 67, 'min_child_samples': 170, 'min_sum_hessian_in_leaf': 0.003280509820663692, 'feature_fraction': 0.9087422291758465, 'bagging_fraction': 0.6053578411081071, 'lambda_l1': 9.350097389087725, 'lambda_l2': 5.04025769673704}. Best is trial 11 with value: 0.7635542990909329.\n"
          ]
        },
        {
          "output_type": "stream",
          "name": "stdout",
          "text": [
            "Training until validation scores don't improve for 30 rounds\n",
            "Early stopping, best iteration is:\n",
            "[239]\tvalid_0's auc: 0.762271\n",
            "Early stopping, best iteration is:\n",
            "[232]\tvalid_0's auc: 0.762361\n"
          ]
        },
        {
          "output_type": "stream",
          "name": "stderr",
          "text": [
            "[I 2024-06-29 09:35:12,296] Trial 17 finished with value: 0.7622706297654973 and parameters: {'num_leaves': 61, 'min_child_samples': 162, 'min_sum_hessian_in_leaf': 0.0026836702545107605, 'feature_fraction': 0.9116472395523463, 'bagging_fraction': 0.9928063721086634, 'lambda_l1': 0.5121421433382644, 'lambda_l2': 5.499547014254885}. Best is trial 11 with value: 0.7635542990909329.\n",
            "[I 2024-06-29 09:35:12,718] Trial 18 finished with value: 0.7623607511863493 and parameters: {'num_leaves': 50, 'min_child_samples': 157, 'min_sum_hessian_in_leaf': 0.002698860332567268, 'feature_fraction': 0.9201620807495399, 'bagging_fraction': 0.9970805157827054, 'lambda_l1': 0.4924204814770656, 'lambda_l2': 0.322920209212727}. Best is trial 11 with value: 0.7635542990909329.\n"
          ]
        },
        {
          "output_type": "stream",
          "name": "stdout",
          "text": [
            "Training until validation scores don't improve for 30 rounds\n",
            "Training until validation scores don't improve for 30 rounds\n",
            "Early stopping, best iteration is:\n",
            "[184]\tvalid_0's auc: 0.760213\n"
          ]
        },
        {
          "output_type": "stream",
          "name": "stderr",
          "text": [
            "[I 2024-06-29 09:35:26,114] Trial 19 finished with value: 0.7602127389059035 and parameters: {'num_leaves': 43, 'min_child_samples': 143, 'min_sum_hessian_in_leaf': 1.0683877095289069e-05, 'feature_fraction': 0.8951850462162807, 'bagging_fraction': 0.6699546448514698, 'lambda_l1': 0.48486146018347615, 'lambda_l2': 0.013739403318364731}. Best is trial 11 with value: 0.7635542990909329.\n"
          ]
        },
        {
          "output_type": "stream",
          "name": "stdout",
          "text": [
            "Training until validation scores don't improve for 30 rounds\n",
            "Early stopping, best iteration is:\n",
            "[568]\tvalid_0's auc: 0.755989\n"
          ]
        },
        {
          "output_type": "stream",
          "name": "stderr",
          "text": [
            "[I 2024-06-29 09:35:46,136] Trial 20 finished with value: 0.7559887179947423 and parameters: {'num_leaves': 86, 'min_child_samples': 96, 'min_sum_hessian_in_leaf': 0.0010468593105345048, 'feature_fraction': 0.8692550368181373, 'bagging_fraction': 0.664192762924262, 'lambda_l1': 49.5244521711556, 'lambda_l2': 0.012461155763837491}. Best is trial 11 with value: 0.7635542990909329.\n"
          ]
        },
        {
          "output_type": "stream",
          "name": "stdout",
          "text": [
            "Training until validation scores don't improve for 30 rounds\n",
            "Early stopping, best iteration is:\n",
            "[244]\tvalid_0's auc: 0.757472\n"
          ]
        },
        {
          "output_type": "stream",
          "name": "stderr",
          "text": [
            "[I 2024-06-29 09:35:50,865] Trial 21 finished with value: 0.7574723746059525 and parameters: {'num_leaves': 91, 'min_child_samples': 91, 'min_sum_hessian_in_leaf': 0.001321073899479319, 'feature_fraction': 0.9512849114278165, 'bagging_fraction': 0.9208606741861981, 'lambda_l1': 21.825328562487194, 'lambda_l2': 0.05627327697639143}. Best is trial 11 with value: 0.7635542990909329.\n"
          ]
        },
        {
          "output_type": "stream",
          "name": "stdout",
          "text": [
            "Training until validation scores don't improve for 30 rounds\n",
            "Early stopping, best iteration is:\n",
            "[434]\tvalid_0's auc: 0.763076\n"
          ]
        },
        {
          "output_type": "stream",
          "name": "stderr",
          "text": [
            "[I 2024-06-29 09:36:12,117] Trial 23 finished with value: 0.7630761320334907 and parameters: {'num_leaves': 14, 'min_child_samples': 178, 'min_sum_hessian_in_leaf': 0.006010732977514443, 'feature_fraction': 0.981292312646416, 'bagging_fraction': 0.9462250972076093, 'lambda_l1': 1.774241444072516, 'lambda_l2': 0.41099874385166446}. Best is trial 11 with value: 0.7635542990909329.\n"
          ]
        },
        {
          "output_type": "stream",
          "name": "stdout",
          "text": [
            "Early stopping, best iteration is:\n",
            "[486]\tvalid_0's auc: 0.763352\n"
          ]
        },
        {
          "output_type": "stream",
          "name": "stderr",
          "text": [
            "[I 2024-06-29 09:36:13,396] Trial 22 finished with value: 0.7633519185392104 and parameters: {'num_leaves': 10, 'min_child_samples': 182, 'min_sum_hessian_in_leaf': 0.006499637383581835, 'feature_fraction': 0.9655125219422633, 'bagging_fraction': 0.9441310107243924, 'lambda_l1': 1.8461068770270377, 'lambda_l2': 0.38128669571780516}. Best is trial 11 with value: 0.7635542990909329.\n"
          ]
        },
        {
          "output_type": "stream",
          "name": "stdout",
          "text": [
            "Training until validation scores don't improve for 30 rounds\n",
            "Training until validation scores don't improve for 30 rounds\n",
            "Early stopping, best iteration is:\n",
            "[259]\tvalid_0's auc: 0.762894\n"
          ]
        },
        {
          "output_type": "stream",
          "name": "stderr",
          "text": [
            "[I 2024-06-29 09:36:29,294] Trial 24 finished with value: 0.7628938511762529 and parameters: {'num_leaves': 30, 'min_child_samples': 177, 'min_sum_hessian_in_leaf': 0.009008812154398178, 'feature_fraction': 0.9466917392764587, 'bagging_fraction': 0.8776595908982303, 'lambda_l1': 4.516178228563342, 'lambda_l2': 1.7468878280584454}. Best is trial 11 with value: 0.7635542990909329.\n"
          ]
        },
        {
          "output_type": "stream",
          "name": "stdout",
          "text": [
            "Early stopping, best iteration is:\n",
            "[269]\tvalid_0's auc: 0.762929\n"
          ]
        },
        {
          "output_type": "stream",
          "name": "stderr",
          "text": [
            "[I 2024-06-29 09:36:30,803] Trial 25 finished with value: 0.7629290396646436 and parameters: {'num_leaves': 30, 'min_child_samples': 179, 'min_sum_hessian_in_leaf': 0.005510464566946195, 'feature_fraction': 0.8394424565763713, 'bagging_fraction': 0.8713369906466226, 'lambda_l1': 4.170764511283382, 'lambda_l2': 1.436735741450084}. Best is trial 11 with value: 0.7635542990909329.\n"
          ]
        },
        {
          "output_type": "stream",
          "name": "stdout",
          "text": [
            "Training until validation scores don't improve for 30 rounds\n",
            "Training until validation scores don't improve for 30 rounds\n",
            "Early stopping, best iteration is:\n",
            "[231]\tvalid_0's auc: 0.762082\n"
          ]
        },
        {
          "output_type": "stream",
          "name": "stderr",
          "text": [
            "[I 2024-06-29 09:36:46,398] Trial 26 finished with value: 0.7620815243608297 and parameters: {'num_leaves': 40, 'min_child_samples': 185, 'min_sum_hessian_in_leaf': 0.004684854983901702, 'feature_fraction': 0.8481223058988536, 'bagging_fraction': 0.9527907192865849, 'lambda_l1': 3.7704042373941262, 'lambda_l2': 0.17832771745595496}. Best is trial 11 with value: 0.7635542990909329.\n"
          ]
        },
        {
          "output_type": "stream",
          "name": "stdout",
          "text": [
            "Early stopping, best iteration is:\n",
            "[297]\tvalid_0's auc: 0.762557\n"
          ]
        },
        {
          "output_type": "stream",
          "name": "stderr",
          "text": [
            "[I 2024-06-29 09:36:48,302] Trial 27 finished with value: 0.7625574477314456 and parameters: {'num_leaves': 28, 'min_child_samples': 144, 'min_sum_hessian_in_leaf': 0.003483557383897746, 'feature_fraction': 0.9339215326936682, 'bagging_fraction': 0.959447227668052, 'lambda_l1': 1.0114364738326407, 'lambda_l2': 0.1585987746809571}. Best is trial 11 with value: 0.7635542990909329.\n"
          ]
        },
        {
          "output_type": "stream",
          "name": "stdout",
          "text": [
            "Training until validation scores don't improve for 30 rounds\n",
            "Training until validation scores don't improve for 30 rounds\n",
            "Early stopping, best iteration is:\n",
            "[161]\tvalid_0's auc: 0.7583\n"
          ]
        },
        {
          "output_type": "stream",
          "name": "stderr",
          "text": [
            "[I 2024-06-29 09:37:05,738] Trial 28 finished with value: 0.7582999584917937 and parameters: {'num_leaves': 147, 'min_child_samples': 142, 'min_sum_hessian_in_leaf': 0.0019020134611067874, 'feature_fraction': 0.736468793757441, 'bagging_fraction': 0.830777189157156, 'lambda_l1': 0.6179636188855868, 'lambda_l2': 0.6233535798593183}. Best is trial 11 with value: 0.7635542990909329.\n"
          ]
        },
        {
          "output_type": "stream",
          "name": "stdout",
          "text": [
            "Early stopping, best iteration is:\n",
            "[163]\tvalid_0's auc: 0.75493\n"
          ]
        },
        {
          "output_type": "stream",
          "name": "stderr",
          "text": [
            "[I 2024-06-29 09:37:10,866] Trial 29 finished with value: 0.7549298286945109 and parameters: {'num_leaves': 169, 'min_child_samples': 22, 'min_sum_hessian_in_leaf': 0.00215973689825311, 'feature_fraction': 0.9945257005536114, 'bagging_fraction': 0.8275460281249529, 'lambda_l1': 0.31529150002441136, 'lambda_l2': 0.6640025079680616}. Best is trial 11 with value: 0.7635542990909329.\n"
          ]
        }
      ],
      "source": [
        "#最適化処理（探索の実行）\n",
        "sampler = optuna.samplers.TPESampler(seed=123)\n",
        "study = optuna.create_study(sampler=sampler, direction=\"maximize\")\n",
        "study.optimize(objective, n_trials=30, n_jobs=-1)"
      ]
    },
    {
      "cell_type": "code",
      "execution_count": 359,
      "metadata": {
        "id": "czkl4_Y_2f4g",
        "colab": {
          "base_uri": "https://localhost:8080/",
          "height": 156
        },
        "outputId": "8dc96e21-a44b-42a3-fc63-ed09f4c2790e"
      },
      "outputs": [
        {
          "output_type": "stream",
          "name": "stdout",
          "text": [
            "acc(best)=0.7636\n"
          ]
        },
        {
          "output_type": "display_data",
          "data": {
            "text/plain": [
              "{'num_leaves': 21,\n",
              " 'min_child_samples': 171,\n",
              " 'min_sum_hessian_in_leaf': 0.006855255325941143,\n",
              " 'feature_fraction': 0.9430589288161848,\n",
              " 'bagging_fraction': 0.9920086402431232,\n",
              " 'lambda_l1': 1.618699437679328,\n",
              " 'lambda_l2': 0.3513300303456448}"
            ]
          },
          "metadata": {}
        }
      ],
      "source": [
        "#探索結果の確認\n",
        "trial = study.best_trial\n",
        "print(\"acc(best)={:.4f}\".format(trial.value))\n",
        "display(trial.params)"
      ]
    },
    {
      "cell_type": "code",
      "execution_count": 360,
      "metadata": {
        "id": "DJU4Ro2gU9pE"
      },
      "outputs": [],
      "source": [
        "# データセットの作成\n",
        "x_test = test_processed.copy()\n",
        "id_test = test_processed[\"SK_ID_CURR\"].copy()\n",
        "x_test.drop(columns=low_importance_cols, inplace=True)\n",
        "\n",
        "# カテゴリ変数をcategory型に変換\n",
        "for col in x_test.columns:\n",
        "    if x_test[col].dtype==\"O\":\n",
        "        x_test[col] = x_test[col].astype(\"category\")"
      ]
    },
    {
      "cell_type": "code",
      "execution_count": 361,
      "metadata": {
        "id": "NBYV9c7iiAx7",
        "colab": {
          "base_uri": "https://localhost:8080/",
          "height": 571
        },
        "outputId": "e90f0792-426e-436f-a778-343ad0e439e0"
      },
      "outputs": [
        {
          "output_type": "stream",
          "name": "stdout",
          "text": [
            "Training until validation scores don't improve for 30 rounds\n",
            "Early stopping, best iteration is:\n",
            "[264]\tvalid_0's auc: 0.76188\n",
            "Training until validation scores don't improve for 30 rounds\n",
            "Early stopping, best iteration is:\n",
            "[231]\tvalid_0's auc: 0.76016\n",
            "Training until validation scores don't improve for 30 rounds\n",
            "Early stopping, best iteration is:\n",
            "[376]\tvalid_0's auc: 0.754791\n",
            "Training until validation scores don't improve for 30 rounds\n",
            "Early stopping, best iteration is:\n",
            "[252]\tvalid_0's auc: 0.764691\n",
            "Training until validation scores don't improve for 30 rounds\n",
            "Early stopping, best iteration is:\n",
            "[276]\tvalid_0's auc: 0.754202\n",
            "-------------------- 0 --------------------\n",
            "-------------------- 1 --------------------\n",
            "-------------------- 2 --------------------\n",
            "-------------------- 3 --------------------\n",
            "-------------------- 4 --------------------\n",
            "(61500, 2)\n"
          ]
        },
        {
          "output_type": "display_data",
          "data": {
            "text/plain": [
              "   SK_ID_CURR    TARGET\n",
              "0      171202  0.053798\n",
              "1      171203  0.359081\n",
              "2      171204  0.274758\n",
              "3      171205  0.189871\n",
              "4      171206  0.310166"
            ],
            "text/html": [
              "\n",
              "  <div id=\"df-10898b86-8301-4d46-9ba6-0f559306a8bd\" class=\"colab-df-container\">\n",
              "    <div>\n",
              "<style scoped>\n",
              "    .dataframe tbody tr th:only-of-type {\n",
              "        vertical-align: middle;\n",
              "    }\n",
              "\n",
              "    .dataframe tbody tr th {\n",
              "        vertical-align: top;\n",
              "    }\n",
              "\n",
              "    .dataframe thead th {\n",
              "        text-align: right;\n",
              "    }\n",
              "</style>\n",
              "<table border=\"1\" class=\"dataframe\">\n",
              "  <thead>\n",
              "    <tr style=\"text-align: right;\">\n",
              "      <th></th>\n",
              "      <th>SK_ID_CURR</th>\n",
              "      <th>TARGET</th>\n",
              "    </tr>\n",
              "  </thead>\n",
              "  <tbody>\n",
              "    <tr>\n",
              "      <th>0</th>\n",
              "      <td>171202</td>\n",
              "      <td>0.053798</td>\n",
              "    </tr>\n",
              "    <tr>\n",
              "      <th>1</th>\n",
              "      <td>171203</td>\n",
              "      <td>0.359081</td>\n",
              "    </tr>\n",
              "    <tr>\n",
              "      <th>2</th>\n",
              "      <td>171204</td>\n",
              "      <td>0.274758</td>\n",
              "    </tr>\n",
              "    <tr>\n",
              "      <th>3</th>\n",
              "      <td>171205</td>\n",
              "      <td>0.189871</td>\n",
              "    </tr>\n",
              "    <tr>\n",
              "      <th>4</th>\n",
              "      <td>171206</td>\n",
              "      <td>0.310166</td>\n",
              "    </tr>\n",
              "  </tbody>\n",
              "</table>\n",
              "</div>\n",
              "    <div class=\"colab-df-buttons\">\n",
              "\n",
              "  <div class=\"colab-df-container\">\n",
              "    <button class=\"colab-df-convert\" onclick=\"convertToInteractive('df-10898b86-8301-4d46-9ba6-0f559306a8bd')\"\n",
              "            title=\"Convert this dataframe to an interactive table.\"\n",
              "            style=\"display:none;\">\n",
              "\n",
              "  <svg xmlns=\"http://www.w3.org/2000/svg\" height=\"24px\" viewBox=\"0 -960 960 960\">\n",
              "    <path d=\"M120-120v-720h720v720H120Zm60-500h600v-160H180v160Zm220 220h160v-160H400v160Zm0 220h160v-160H400v160ZM180-400h160v-160H180v160Zm440 0h160v-160H620v160ZM180-180h160v-160H180v160Zm440 0h160v-160H620v160Z\"/>\n",
              "  </svg>\n",
              "    </button>\n",
              "\n",
              "  <style>\n",
              "    .colab-df-container {\n",
              "      display:flex;\n",
              "      gap: 12px;\n",
              "    }\n",
              "\n",
              "    .colab-df-convert {\n",
              "      background-color: #E8F0FE;\n",
              "      border: none;\n",
              "      border-radius: 50%;\n",
              "      cursor: pointer;\n",
              "      display: none;\n",
              "      fill: #1967D2;\n",
              "      height: 32px;\n",
              "      padding: 0 0 0 0;\n",
              "      width: 32px;\n",
              "    }\n",
              "\n",
              "    .colab-df-convert:hover {\n",
              "      background-color: #E2EBFA;\n",
              "      box-shadow: 0px 1px 2px rgba(60, 64, 67, 0.3), 0px 1px 3px 1px rgba(60, 64, 67, 0.15);\n",
              "      fill: #174EA6;\n",
              "    }\n",
              "\n",
              "    .colab-df-buttons div {\n",
              "      margin-bottom: 4px;\n",
              "    }\n",
              "\n",
              "    [theme=dark] .colab-df-convert {\n",
              "      background-color: #3B4455;\n",
              "      fill: #D2E3FC;\n",
              "    }\n",
              "\n",
              "    [theme=dark] .colab-df-convert:hover {\n",
              "      background-color: #434B5C;\n",
              "      box-shadow: 0px 1px 3px 1px rgba(0, 0, 0, 0.15);\n",
              "      filter: drop-shadow(0px 1px 2px rgba(0, 0, 0, 0.3));\n",
              "      fill: #FFFFFF;\n",
              "    }\n",
              "  </style>\n",
              "\n",
              "    <script>\n",
              "      const buttonEl =\n",
              "        document.querySelector('#df-10898b86-8301-4d46-9ba6-0f559306a8bd button.colab-df-convert');\n",
              "      buttonEl.style.display =\n",
              "        google.colab.kernel.accessAllowed ? 'block' : 'none';\n",
              "\n",
              "      async function convertToInteractive(key) {\n",
              "        const element = document.querySelector('#df-10898b86-8301-4d46-9ba6-0f559306a8bd');\n",
              "        const dataTable =\n",
              "          await google.colab.kernel.invokeFunction('convertToInteractive',\n",
              "                                                    [key], {});\n",
              "        if (!dataTable) return;\n",
              "\n",
              "        const docLinkHtml = 'Like what you see? Visit the ' +\n",
              "          '<a target=\"_blank\" href=https://colab.research.google.com/notebooks/data_table.ipynb>data table notebook</a>'\n",
              "          + ' to learn more about interactive tables.';\n",
              "        element.innerHTML = '';\n",
              "        dataTable['output_type'] = 'display_data';\n",
              "        await google.colab.output.renderOutput(dataTable, element);\n",
              "        const docLink = document.createElement('div');\n",
              "        docLink.innerHTML = docLinkHtml;\n",
              "        element.appendChild(docLink);\n",
              "      }\n",
              "    </script>\n",
              "  </div>\n",
              "\n",
              "\n",
              "<div id=\"df-7997607b-4b03-4faf-9e8c-cb8c7976fa0e\">\n",
              "  <button class=\"colab-df-quickchart\" onclick=\"quickchart('df-7997607b-4b03-4faf-9e8c-cb8c7976fa0e')\"\n",
              "            title=\"Suggest charts\"\n",
              "            style=\"display:none;\">\n",
              "\n",
              "<svg xmlns=\"http://www.w3.org/2000/svg\" height=\"24px\"viewBox=\"0 0 24 24\"\n",
              "     width=\"24px\">\n",
              "    <g>\n",
              "        <path d=\"M19 3H5c-1.1 0-2 .9-2 2v14c0 1.1.9 2 2 2h14c1.1 0 2-.9 2-2V5c0-1.1-.9-2-2-2zM9 17H7v-7h2v7zm4 0h-2V7h2v10zm4 0h-2v-4h2v4z\"/>\n",
              "    </g>\n",
              "</svg>\n",
              "  </button>\n",
              "\n",
              "<style>\n",
              "  .colab-df-quickchart {\n",
              "      --bg-color: #E8F0FE;\n",
              "      --fill-color: #1967D2;\n",
              "      --hover-bg-color: #E2EBFA;\n",
              "      --hover-fill-color: #174EA6;\n",
              "      --disabled-fill-color: #AAA;\n",
              "      --disabled-bg-color: #DDD;\n",
              "  }\n",
              "\n",
              "  [theme=dark] .colab-df-quickchart {\n",
              "      --bg-color: #3B4455;\n",
              "      --fill-color: #D2E3FC;\n",
              "      --hover-bg-color: #434B5C;\n",
              "      --hover-fill-color: #FFFFFF;\n",
              "      --disabled-bg-color: #3B4455;\n",
              "      --disabled-fill-color: #666;\n",
              "  }\n",
              "\n",
              "  .colab-df-quickchart {\n",
              "    background-color: var(--bg-color);\n",
              "    border: none;\n",
              "    border-radius: 50%;\n",
              "    cursor: pointer;\n",
              "    display: none;\n",
              "    fill: var(--fill-color);\n",
              "    height: 32px;\n",
              "    padding: 0;\n",
              "    width: 32px;\n",
              "  }\n",
              "\n",
              "  .colab-df-quickchart:hover {\n",
              "    background-color: var(--hover-bg-color);\n",
              "    box-shadow: 0 1px 2px rgba(60, 64, 67, 0.3), 0 1px 3px 1px rgba(60, 64, 67, 0.15);\n",
              "    fill: var(--button-hover-fill-color);\n",
              "  }\n",
              "\n",
              "  .colab-df-quickchart-complete:disabled,\n",
              "  .colab-df-quickchart-complete:disabled:hover {\n",
              "    background-color: var(--disabled-bg-color);\n",
              "    fill: var(--disabled-fill-color);\n",
              "    box-shadow: none;\n",
              "  }\n",
              "\n",
              "  .colab-df-spinner {\n",
              "    border: 2px solid var(--fill-color);\n",
              "    border-color: transparent;\n",
              "    border-bottom-color: var(--fill-color);\n",
              "    animation:\n",
              "      spin 1s steps(1) infinite;\n",
              "  }\n",
              "\n",
              "  @keyframes spin {\n",
              "    0% {\n",
              "      border-color: transparent;\n",
              "      border-bottom-color: var(--fill-color);\n",
              "      border-left-color: var(--fill-color);\n",
              "    }\n",
              "    20% {\n",
              "      border-color: transparent;\n",
              "      border-left-color: var(--fill-color);\n",
              "      border-top-color: var(--fill-color);\n",
              "    }\n",
              "    30% {\n",
              "      border-color: transparent;\n",
              "      border-left-color: var(--fill-color);\n",
              "      border-top-color: var(--fill-color);\n",
              "      border-right-color: var(--fill-color);\n",
              "    }\n",
              "    40% {\n",
              "      border-color: transparent;\n",
              "      border-right-color: var(--fill-color);\n",
              "      border-top-color: var(--fill-color);\n",
              "    }\n",
              "    60% {\n",
              "      border-color: transparent;\n",
              "      border-right-color: var(--fill-color);\n",
              "    }\n",
              "    80% {\n",
              "      border-color: transparent;\n",
              "      border-right-color: var(--fill-color);\n",
              "      border-bottom-color: var(--fill-color);\n",
              "    }\n",
              "    90% {\n",
              "      border-color: transparent;\n",
              "      border-bottom-color: var(--fill-color);\n",
              "    }\n",
              "  }\n",
              "</style>\n",
              "\n",
              "  <script>\n",
              "    async function quickchart(key) {\n",
              "      const quickchartButtonEl =\n",
              "        document.querySelector('#' + key + ' button');\n",
              "      quickchartButtonEl.disabled = true;  // To prevent multiple clicks.\n",
              "      quickchartButtonEl.classList.add('colab-df-spinner');\n",
              "      try {\n",
              "        const charts = await google.colab.kernel.invokeFunction(\n",
              "            'suggestCharts', [key], {});\n",
              "      } catch (error) {\n",
              "        console.error('Error during call to suggestCharts:', error);\n",
              "      }\n",
              "      quickchartButtonEl.classList.remove('colab-df-spinner');\n",
              "      quickchartButtonEl.classList.add('colab-df-quickchart-complete');\n",
              "    }\n",
              "    (() => {\n",
              "      let quickchartButtonEl =\n",
              "        document.querySelector('#df-7997607b-4b03-4faf-9e8c-cb8c7976fa0e button');\n",
              "      quickchartButtonEl.style.display =\n",
              "        google.colab.kernel.accessAllowed ? 'block' : 'none';\n",
              "    })();\n",
              "  </script>\n",
              "</div>\n",
              "\n",
              "    </div>\n",
              "  </div>\n"
            ],
            "application/vnd.google.colaboratory.intrinsic+json": {
              "type": "dataframe",
              "summary": "{\n  \"name\": \"df_submit\",\n  \"rows\": 5,\n  \"fields\": [\n    {\n      \"column\": \"SK_ID_CURR\",\n      \"properties\": {\n        \"dtype\": \"number\",\n        \"std\": 1,\n        \"min\": 171202,\n        \"max\": 171206,\n        \"num_unique_values\": 5,\n        \"samples\": [\n          171203,\n          171206,\n          171204\n        ],\n        \"semantic_type\": \"\",\n        \"description\": \"\"\n      }\n    },\n    {\n      \"column\": \"TARGET\",\n      \"properties\": {\n        \"dtype\": \"number\",\n        \"std\": 0.1198597575137303,\n        \"min\": 0.05379767103011666,\n        \"max\": 0.3590806886677078,\n        \"num_unique_values\": 5,\n        \"samples\": [\n          0.3590806886677078,\n          0.3101663408272442,\n          0.27475752396514963\n        ],\n        \"semantic_type\": \"\",\n        \"description\": \"\"\n      }\n    }\n  ]\n}"
            }
          },
          "metadata": {}
        }
      ],
      "source": [
        "# 最適なハイパーパラメータを取得\n",
        "best_params = study.best_params\n",
        "best_params.update(params_base)\n",
        "\n",
        "# モデルの再訓練\n",
        "cv = list(StratifiedKFold(n_splits=5, shuffle=True, random_state=123).split(X_train, y_train))\n",
        "for nfold in range(5):\n",
        "    idx_tr, idx_va = cv[nfold][0], cv[nfold][1]\n",
        "    x_tr, y_tr = X_train.loc[idx_tr, :], y_train[idx_tr]\n",
        "    x_va, y_va = X_train.loc[idx_va, :], y_train[idx_va]\n",
        "    x_tr.drop(columns=low_importance_cols, inplace=True)\n",
        "    x_va.drop(columns=low_importance_cols, inplace=True)\n",
        "    model = lgb.LGBMClassifier(**best_params)\n",
        "    model.fit(x_tr, y_tr,\n",
        "              eval_set=[(x_va, y_va)],\n",
        "              callbacks=[lgb.early_stopping(stopping_rounds=30, verbose=True)]\n",
        "             )\n",
        "    fname_lgb = \"model_lgb_fold{}.pickle\".format(nfold)\n",
        "    with open(fname_lgb, \"wb\") as f:\n",
        "        pickle.dump(model, f, protocol=4)\n",
        "\n",
        "list_nfold=[0,1,2,3,4]\n",
        "\n",
        "# テストデータで予測\n",
        "pred = np.zeros((len(x_test), len(cv)))\n",
        "for nfold in range(5):\n",
        "    print(\"-\"*20, nfold, \"-\"*20)\n",
        "    fname_lgb = \"model_lgb_fold{}.pickle\".format(nfold)\n",
        "    with open(fname_lgb, \"rb\") as f:\n",
        "        model = pickle.load(f)\n",
        "    pred[:, nfold] = model.predict_proba(x_test)[:, 1]\n",
        "\n",
        "# 平均予測の計算\n",
        "pred_lgb = pred.mean(axis=1)\n",
        "\n",
        "\n",
        "# 平均予測の計算\n",
        "pred = pd.concat([\n",
        "    id_test,\n",
        "    pd.DataFrame({\"pred\": pred.mean(axis=1)}),\n",
        "], axis=1)\n",
        "\n",
        "# 提出ファイルの作成\n",
        "df_submit = pred.rename(columns={\"pred\": \"TARGET\"})\n",
        "print(df_submit.shape)\n",
        "display(df_submit.head())\n",
        "\n",
        "# ファイル出力\n",
        "df_submit.to_csv(\"submission_baseline.csv\", index=None)\n"
      ]
    },
    {
      "cell_type": "code",
      "execution_count": 362,
      "metadata": {
        "id": "nWBLvC_Gi-eh",
        "colab": {
          "base_uri": "https://localhost:8080/",
          "height": 17
        },
        "outputId": "885b2d8f-38d1-47da-c706-ab3b328f20d7"
      },
      "outputs": [
        {
          "output_type": "display_data",
          "data": {
            "text/plain": [
              "<IPython.core.display.Javascript object>"
            ],
            "application/javascript": [
              "\n",
              "    async function download(id, filename, size) {\n",
              "      if (!google.colab.kernel.accessAllowed) {\n",
              "        return;\n",
              "      }\n",
              "      const div = document.createElement('div');\n",
              "      const label = document.createElement('label');\n",
              "      label.textContent = `Downloading \"${filename}\": `;\n",
              "      div.appendChild(label);\n",
              "      const progress = document.createElement('progress');\n",
              "      progress.max = size;\n",
              "      div.appendChild(progress);\n",
              "      document.body.appendChild(div);\n",
              "\n",
              "      const buffers = [];\n",
              "      let downloaded = 0;\n",
              "\n",
              "      const channel = await google.colab.kernel.comms.open(id);\n",
              "      // Send a message to notify the kernel that we're ready.\n",
              "      channel.send({})\n",
              "\n",
              "      for await (const message of channel.messages) {\n",
              "        // Send a message to notify the kernel that we're ready.\n",
              "        channel.send({})\n",
              "        if (message.buffers) {\n",
              "          for (const buffer of message.buffers) {\n",
              "            buffers.push(buffer);\n",
              "            downloaded += buffer.byteLength;\n",
              "            progress.value = downloaded;\n",
              "          }\n",
              "        }\n",
              "      }\n",
              "      const blob = new Blob(buffers, {type: 'application/binary'});\n",
              "      const a = document.createElement('a');\n",
              "      a.href = window.URL.createObjectURL(blob);\n",
              "      a.download = filename;\n",
              "      div.appendChild(a);\n",
              "      a.click();\n",
              "      div.remove();\n",
              "    }\n",
              "  "
            ]
          },
          "metadata": {}
        },
        {
          "output_type": "display_data",
          "data": {
            "text/plain": [
              "<IPython.core.display.Javascript object>"
            ],
            "application/javascript": [
              "download(\"download_807b4b74-b1a1-4358-96ad-58dd436d8d32\", \"submission_baseline.csv\", 1653397)"
            ]
          },
          "metadata": {}
        }
      ],
      "source": [
        "from google.colab import files\n",
        "files.download('submission_baseline.csv')"
      ]
    },
    {
      "cell_type": "code",
      "execution_count": 363,
      "metadata": {
        "id": "4BTq3keK6p5m"
      },
      "outputs": [],
      "source": [
        "X_train = train.drop([\"TARGET\"], axis=1)\n",
        "y_train = train[\"TARGET\"]\n",
        "\n",
        "id_train = train[[\"SK_ID_CURR\"]]\n",
        "for col in X_train.columns:\n",
        "    if X_train[col].dtype==\"O\":\n",
        "        X_train[col] = X_train[col].astype(\"category\")\n",
        "# データセットの作成\n",
        "x_test = test.copy()\n",
        "id_test = test[[\"SK_ID_CURR\"]].copy()\n",
        "#x_test.drop(columns=low_importance_cols, inplace=True)\n",
        "# カテゴリ変数をcategory型に変換\n",
        "for col in x_test.columns:\n",
        "    if x_test[col].dtype==\"O\":\n",
        "        x_test[col] = x_test[col].astype(\"category\")\n"
      ]
    },
    {
      "cell_type": "code",
      "execution_count": 364,
      "metadata": {
        "id": "0Zu9cG2bZ0-0",
        "colab": {
          "base_uri": "https://localhost:8080/"
        },
        "outputId": "21d9af3e-83b0-4a55-9659-20ab38677f71"
      },
      "outputs": [
        {
          "output_type": "stream",
          "name": "stdout",
          "text": [
            "(88454, 73)\n",
            "XGBoost AUC: 0.7510\n",
            "Test predictions (first 10): [0.0513533  0.24793787 0.21565157 0.17388137 0.28956205 0.05598103\n",
            " 0.24201037 0.08790964 0.21504192 0.15062656]\n"
          ]
        }
      ],
      "source": [
        "import xgboost as xgb\n",
        "from sklearn.metrics import roc_auc_score\n",
        "from sklearn.model_selection import train_test_split\n",
        "\n",
        "# モデルの設定\n",
        "xgb_params = {\n",
        "    'objective': 'binary:logistic',\n",
        "    'learning_rate': 0.05,\n",
        "    'n_estimators': 100,\n",
        "    'max_depth': 6,\n",
        "    'min_child_weight': 1,\n",
        "    'subsample': 0.8,\n",
        "    'colsample_bytree': 0.8,\n",
        "    'seed': 42,\n",
        "    'use_label_encoder': False  # ラベルエンコーダの警告を避けるために追加\n",
        "}\n",
        "\n",
        "x_tr, x_va, y_tr, y_va = train_test_split(X_train, y_train, test_size=0.2, random_state=42)\n",
        "print(x_tr.shape)\n",
        "\n",
        "# データをXGBoost用に変換\n",
        "dtrain = xgb.DMatrix(x_tr, label=y_tr, enable_categorical=True)\n",
        "dvalid = xgb.DMatrix(x_va, label=y_va, enable_categorical=True)\n",
        "\n",
        "\n",
        "# モデルの訓練\n",
        "xgb_model = xgb.train(xgb_params, dtrain, num_boost_round=100)\n",
        "\n",
        "# モデルの評価\n",
        "y_valid_pred = xgb_model.predict(dvalid)\n",
        "auc_score = roc_auc_score(y_va, y_valid_pred)\n",
        "print(\"XGBoost AUC: {:.4f}\".format(auc_score))\n",
        "\n",
        "# テストデータをXGBoost用に変換\n",
        "dtest = xgb.DMatrix(x_test, enable_categorical=True)\n",
        "# テストデータで予測\n",
        "pred_xgb = xgb_model.predict(dtest)\n",
        "\n",
        "# 結果の表示（例として先頭の10件を表示）\n",
        "print(\"Test predictions (first 10):\", pred_xgb[:10])"
      ]
    },
    {
      "cell_type": "code",
      "execution_count": 365,
      "metadata": {
        "id": "tAYWzegbe9hT"
      },
      "outputs": [],
      "source": [
        "X_train = train_processed.copy()\n",
        "y_train = train[\"TARGET\"].copy()\n",
        "\n",
        "id_train = train_processed[[\"SK_ID_CURR\"]]\n",
        "for col in X_train.columns:\n",
        "    if X_train[col].dtype==\"O\":\n",
        "        X_train[col] = X_train[col].astype(\"category\")\n",
        "\n",
        "x_test = test_processed.copy()\n",
        "id_test = test[[\"SK_ID_CURR\"]].copy()\n",
        "# カテゴリ変数をcategory型に変換\n",
        "for col in x_test.columns:\n",
        "    if x_test[col].dtype==\"O\":\n",
        "        x_test[col] = x_test[col].astype(\"category\")"
      ]
    },
    {
      "cell_type": "code",
      "execution_count": 366,
      "metadata": {
        "id": "ybq-hoJodUSC",
        "colab": {
          "base_uri": "https://localhost:8080/",
          "height": 1000
        },
        "outputId": "2267a6c8-12c6-41e7-e086-17cd9556e6ab"
      },
      "outputs": [
        {
          "output_type": "stream",
          "name": "stdout",
          "text": [
            "Collecting catboost\n",
            "  Downloading catboost-1.2.5-cp310-cp310-manylinux2014_x86_64.whl (98.2 MB)\n",
            "\u001b[2K     \u001b[90m━━━━━━━━━━━━━━━━━━━━━━━━━━━━━━━━━━━━━━━━\u001b[0m \u001b[32m98.2/98.2 MB\u001b[0m \u001b[31m10.2 MB/s\u001b[0m eta \u001b[36m0:00:00\u001b[0m\n",
            "\u001b[?25hRequirement already satisfied: graphviz in /usr/local/lib/python3.10/dist-packages (from catboost) (0.20.3)\n",
            "Requirement already satisfied: matplotlib in /usr/local/lib/python3.10/dist-packages (from catboost) (3.7.1)\n",
            "Requirement already satisfied: numpy>=1.16.0 in /usr/local/lib/python3.10/dist-packages (from catboost) (1.25.2)\n",
            "Requirement already satisfied: pandas>=0.24 in /usr/local/lib/python3.10/dist-packages (from catboost) (2.0.3)\n",
            "Requirement already satisfied: scipy in /usr/local/lib/python3.10/dist-packages (from catboost) (1.11.4)\n",
            "Requirement already satisfied: plotly in /usr/local/lib/python3.10/dist-packages (from catboost) (5.15.0)\n",
            "Requirement already satisfied: six in /usr/local/lib/python3.10/dist-packages (from catboost) (1.16.0)\n",
            "Requirement already satisfied: python-dateutil>=2.8.2 in /usr/local/lib/python3.10/dist-packages (from pandas>=0.24->catboost) (2.8.2)\n",
            "Requirement already satisfied: pytz>=2020.1 in /usr/local/lib/python3.10/dist-packages (from pandas>=0.24->catboost) (2023.4)\n",
            "Requirement already satisfied: tzdata>=2022.1 in /usr/local/lib/python3.10/dist-packages (from pandas>=0.24->catboost) (2024.1)\n",
            "Requirement already satisfied: contourpy>=1.0.1 in /usr/local/lib/python3.10/dist-packages (from matplotlib->catboost) (1.2.1)\n",
            "Requirement already satisfied: cycler>=0.10 in /usr/local/lib/python3.10/dist-packages (from matplotlib->catboost) (0.12.1)\n",
            "Requirement already satisfied: fonttools>=4.22.0 in /usr/local/lib/python3.10/dist-packages (from matplotlib->catboost) (4.53.0)\n",
            "Requirement already satisfied: kiwisolver>=1.0.1 in /usr/local/lib/python3.10/dist-packages (from matplotlib->catboost) (1.4.5)\n",
            "Requirement already satisfied: packaging>=20.0 in /usr/local/lib/python3.10/dist-packages (from matplotlib->catboost) (24.1)\n",
            "Requirement already satisfied: pillow>=6.2.0 in /usr/local/lib/python3.10/dist-packages (from matplotlib->catboost) (9.4.0)\n",
            "Requirement already satisfied: pyparsing>=2.3.1 in /usr/local/lib/python3.10/dist-packages (from matplotlib->catboost) (3.1.2)\n",
            "Requirement already satisfied: tenacity>=6.2.0 in /usr/local/lib/python3.10/dist-packages (from plotly->catboost) (8.4.1)\n",
            "Installing collected packages: catboost\n",
            "Successfully installed catboost-1.2.5\n",
            "0:\ttest: 0.6899926\ttest1: 0.6924884\tbest: 0.6924884 (0)\ttotal: 304ms\tremaining: 2m 31s\n",
            "10:\ttest: 0.7338240\ttest1: 0.7304320\tbest: 0.7304320 (10)\ttotal: 1.97s\tremaining: 1m 27s\n",
            "20:\ttest: 0.7419773\ttest1: 0.7361845\tbest: 0.7361845 (20)\ttotal: 3.41s\tremaining: 1m 17s\n",
            "30:\ttest: 0.7477587\ttest1: 0.7400598\tbest: 0.7400598 (30)\ttotal: 4.84s\tremaining: 1m 13s\n",
            "40:\ttest: 0.7533376\ttest1: 0.7442688\tbest: 0.7442688 (40)\ttotal: 5.92s\tremaining: 1m 6s\n",
            "50:\ttest: 0.7572979\ttest1: 0.7462668\tbest: 0.7462668 (50)\ttotal: 6.92s\tremaining: 1m\n",
            "60:\ttest: 0.7604230\ttest1: 0.7478265\tbest: 0.7478265 (60)\ttotal: 8.07s\tremaining: 58.1s\n",
            "70:\ttest: 0.7632833\ttest1: 0.7485032\tbest: 0.7485032 (70)\ttotal: 8.62s\tremaining: 52.1s\n",
            "80:\ttest: 0.7662578\ttest1: 0.7497476\tbest: 0.7497476 (80)\ttotal: 9.1s\tremaining: 47.1s\n",
            "90:\ttest: 0.7685426\ttest1: 0.7502586\tbest: 0.7502638 (89)\ttotal: 9.56s\tremaining: 43s\n",
            "100:\ttest: 0.7707696\ttest1: 0.7507755\tbest: 0.7507755 (100)\ttotal: 10s\tremaining: 39.6s\n",
            "110:\ttest: 0.7731213\ttest1: 0.7513784\tbest: 0.7513784 (110)\ttotal: 10.5s\tremaining: 36.8s\n",
            "120:\ttest: 0.7754472\ttest1: 0.7525344\tbest: 0.7525344 (120)\ttotal: 11s\tremaining: 34.3s\n",
            "130:\ttest: 0.7775316\ttest1: 0.7530846\tbest: 0.7530846 (130)\ttotal: 11.5s\tremaining: 32.3s\n",
            "140:\ttest: 0.7796081\ttest1: 0.7533234\tbest: 0.7533853 (134)\ttotal: 11.9s\tremaining: 30.3s\n",
            "150:\ttest: 0.7816267\ttest1: 0.7538343\tbest: 0.7538343 (150)\ttotal: 12.4s\tremaining: 28.5s\n",
            "160:\ttest: 0.7841728\ttest1: 0.7543208\tbest: 0.7543265 (159)\ttotal: 12.8s\tremaining: 27s\n",
            "170:\ttest: 0.7864066\ttest1: 0.7542601\tbest: 0.7544310 (161)\ttotal: 13.3s\tremaining: 25.6s\n",
            "180:\ttest: 0.7885627\ttest1: 0.7546575\tbest: 0.7546575 (180)\ttotal: 13.8s\tremaining: 24.2s\n",
            "190:\ttest: 0.7905860\ttest1: 0.7548477\tbest: 0.7548477 (190)\ttotal: 14.2s\tremaining: 23s\n",
            "200:\ttest: 0.7924606\ttest1: 0.7550545\tbest: 0.7550545 (200)\ttotal: 14.7s\tremaining: 21.9s\n",
            "210:\ttest: 0.7944572\ttest1: 0.7553482\tbest: 0.7553482 (210)\ttotal: 15.7s\tremaining: 21.5s\n",
            "220:\ttest: 0.7964153\ttest1: 0.7555485\tbest: 0.7555485 (220)\ttotal: 16.7s\tremaining: 21s\n",
            "230:\ttest: 0.7982413\ttest1: 0.7556210\tbest: 0.7556210 (230)\ttotal: 17.6s\tremaining: 20.5s\n",
            "240:\ttest: 0.8003072\ttest1: 0.7561247\tbest: 0.7561247 (240)\ttotal: 18.6s\tremaining: 19.9s\n",
            "250:\ttest: 0.8019834\ttest1: 0.7563675\tbest: 0.7564720 (246)\ttotal: 19.2s\tremaining: 19.1s\n",
            "260:\ttest: 0.8036258\ttest1: 0.7566767\tbest: 0.7566767 (260)\ttotal: 19.7s\tremaining: 18s\n",
            "270:\ttest: 0.8055459\ttest1: 0.7569258\tbest: 0.7569622 (268)\ttotal: 20.1s\tremaining: 17s\n",
            "280:\ttest: 0.8073932\ttest1: 0.7568898\tbest: 0.7570640 (276)\ttotal: 20.6s\tremaining: 16.1s\n",
            "290:\ttest: 0.8091951\ttest1: 0.7565688\tbest: 0.7570640 (276)\ttotal: 21.1s\tremaining: 15.1s\n",
            "300:\ttest: 0.8112209\ttest1: 0.7564545\tbest: 0.7570640 (276)\ttotal: 21.5s\tremaining: 14.2s\n",
            "310:\ttest: 0.8128721\ttest1: 0.7565527\tbest: 0.7570640 (276)\ttotal: 22s\tremaining: 13.4s\n",
            "320:\ttest: 0.8143648\ttest1: 0.7565521\tbest: 0.7570640 (276)\ttotal: 22.5s\tremaining: 12.5s\n",
            "Stopped by overfitting detector  (50 iterations wait)\n",
            "\n",
            "bestTest = 0.757064018\n",
            "bestIteration = 276\n",
            "\n",
            "Shrink model to first 277 iterations.\n"
          ]
        },
        {
          "output_type": "display_data",
          "data": {
            "text/plain": [
              "<Figure size 1000x600 with 1 Axes>"
            ],
            "image/png": "[encoded data removed]"
          },
          "metadata": {}
        },
        {
          "output_type": "stream",
          "name": "stdout",
          "text": [
            "CatBoost Validation AUC: 0.7571\n"
          ]
        }
      ],
      "source": [
        "!pip install catboost\n",
        "from catboost import CatBoostClassifier, Pool\n",
        "from sklearn.metrics import roc_auc_score\n",
        "import matplotlib.pyplot as plt\n",
        "\n",
        "# モデルの設定\n",
        "cat_params = {\n",
        "    'iterations': 500,\n",
        "    'learning_rate': 0.1,\n",
        "    'depth': 6,\n",
        "    'loss_function': 'Logloss',\n",
        "    'eval_metric': 'AUC',\n",
        "    'verbose': 10,\n",
        "    'random_seed': 42\n",
        "}\n",
        "\n",
        "x_tr, x_va, y_tr, y_va = train_test_split(X_train, y_train, test_size=0.2, random_state=42)\n",
        "\n",
        "# データをCatBoost用に変換\n",
        "train_pool = Pool(data=x_tr, label=y_tr)\n",
        "valid_pool = Pool(data=x_va, label=y_va)\n",
        "\n",
        "# モデルの訓練\n",
        "cat_model = CatBoostClassifier(**cat_params)\n",
        "cat_model.fit(train_pool, eval_set=[(x_tr, y_tr), (x_va, y_va)], use_best_model=True, early_stopping_rounds=50)\n",
        "\n",
        "# 学習曲線のプロット\n",
        "evals_result = cat_model.get_evals_result()\n",
        "\n",
        "plt.figure(figsize=(10, 6))\n",
        "plt.plot(evals_result['validation_1']['AUC'], label='Validation AUC')\n",
        "plt.plot(evals_result['validation_0']['AUC'], label='Training AUC')\n",
        "plt.xlabel('Iterations')\n",
        "plt.ylabel('AUC')\n",
        "plt.title('Learning Curve')\n",
        "plt.legend()\n",
        "plt.show()\n",
        "\n",
        "# モデルの評価\n",
        "y_valid_pred = cat_model.predict_proba(x_va)[:, 1]\n",
        "auc_score = roc_auc_score(y_va, y_valid_pred)\n",
        "print(\"CatBoost Validation AUC: {:.4f}\".format(auc_score))"
      ]
    },
    {
      "cell_type": "code",
      "execution_count": 367,
      "metadata": {
        "id": "6ElC6ndHdbfC",
        "colab": {
          "base_uri": "https://localhost:8080/"
        },
        "outputId": "901cb4f5-5c62-4e49-d128-ffdebcc8c26d"
      },
      "outputs": [
        {
          "output_type": "stream",
          "name": "stdout",
          "text": [
            "[0.04136156 0.30896819 0.25904955 ... 0.15314023 0.2032443  0.16949221]\n"
          ]
        }
      ],
      "source": [
        "# テストデータをCatBoost用に変換\n",
        "test_pool = Pool(data=x_test)\n",
        "\n",
        "# テストデータでの予測\n",
        "pred_cat = cat_model.predict_proba(test_pool)[:, 1]\n",
        "print(pred_cat)"
      ]
    },
    {
      "cell_type": "code",
      "execution_count": 368,
      "metadata": {
        "id": "g2tI0WtnoNtV"
      },
      "outputs": [],
      "source": [
        "# すべてのモデルの予測を平均化\n",
        "#final_pred = (pred_lgb + pred_xgb + pred_cat) / 3\n",
        "final_pred = (pred_lgb + pred_cat) / 2"
      ]
    },
    {
      "cell_type": "code",
      "execution_count": 369,
      "metadata": {
        "id": "DFlaDF-ozl3b",
        "colab": {
          "base_uri": "https://localhost:8080/",
          "height": 17
        },
        "outputId": "6474ebfa-b66b-42d3-d005-91814f5b2978"
      },
      "outputs": [
        {
          "output_type": "display_data",
          "data": {
            "text/plain": [
              "<IPython.core.display.Javascript object>"
            ],
            "application/javascript": [
              "\n",
              "    async function download(id, filename, size) {\n",
              "      if (!google.colab.kernel.accessAllowed) {\n",
              "        return;\n",
              "      }\n",
              "      const div = document.createElement('div');\n",
              "      const label = document.createElement('label');\n",
              "      label.textContent = `Downloading \"${filename}\": `;\n",
              "      div.appendChild(label);\n",
              "      const progress = document.createElement('progress');\n",
              "      progress.max = size;\n",
              "      div.appendChild(progress);\n",
              "      document.body.appendChild(div);\n",
              "\n",
              "      const buffers = [];\n",
              "      let downloaded = 0;\n",
              "\n",
              "      const channel = await google.colab.kernel.comms.open(id);\n",
              "      // Send a message to notify the kernel that we're ready.\n",
              "      channel.send({})\n",
              "\n",
              "      for await (const message of channel.messages) {\n",
              "        // Send a message to notify the kernel that we're ready.\n",
              "        channel.send({})\n",
              "        if (message.buffers) {\n",
              "          for (const buffer of message.buffers) {\n",
              "            buffers.push(buffer);\n",
              "            downloaded += buffer.byteLength;\n",
              "            progress.value = downloaded;\n",
              "          }\n",
              "        }\n",
              "      }\n",
              "      const blob = new Blob(buffers, {type: 'application/binary'});\n",
              "      const a = document.createElement('a');\n",
              "      a.href = window.URL.createObjectURL(blob);\n",
              "      a.download = filename;\n",
              "      div.appendChild(a);\n",
              "      a.click();\n",
              "      div.remove();\n",
              "    }\n",
              "  "
            ]
          },
          "metadata": {}
        },
        {
          "output_type": "display_data",
          "data": {
            "text/plain": [
              "<IPython.core.display.Javascript object>"
            ],
            "application/javascript": [
              "download(\"download_99611b72-2c09-4aee-bc9f-31ac2552ce59\", \"submission_ensemble.csv\", 1653834)"
            ]
          },
          "metadata": {}
        }
      ],
      "source": [
        "# 提出ファイルの作成\n",
        "submission = pd.DataFrame({\n",
        "    'SK_ID_CURR': id_test['SK_ID_CURR'],\n",
        "    'TARGET': final_pred\n",
        "})\n",
        "\n",
        "# ファイルの保存\n",
        "submission.to_csv('submission_ensemble.csv', index=False)\n",
        "from google.colab import files\n",
        "files.download('submission_ensemble.csv')"
      ]
    },
    {
      "cell_type": "code",
      "source": [
        "# 各モデルから予測値を取得し、データフレームにまとめる\n",
        "df_predictions = pd.DataFrame({\n",
        "    'SK_ID_CURR': id_test['SK_ID_CURR'],  # テスト識別子\n",
        "    'pred_lgb': pred_lgb,                 # LightGBMの予測\n",
        "    'pred_xgb': pred_xgb,                 # XGBoostの予測\n",
        "    'pred_cat': pred_cat                  # CatBoostの予測\n",
        "})\n",
        "\n",
        "# 予測値を全て表示\n",
        "print(df_predictions)"
      ],
      "metadata": {
        "id": "5zPyWRF9mmkE",
        "colab": {
          "base_uri": "https://localhost:8080/"
        },
        "outputId": "b61b550d-2ae9-4746-d7db-62f26dda9f9f"
      },
      "execution_count": 370,
      "outputs": [
        {
          "output_type": "stream",
          "name": "stdout",
          "text": [
            "       SK_ID_CURR  pred_lgb  pred_xgb  pred_cat\n",
            "0          171202  0.053798  0.051353  0.041362\n",
            "1          171203  0.359081  0.247938  0.308968\n",
            "2          171204  0.274758  0.215652  0.259050\n",
            "3          171205  0.189871  0.173881  0.128550\n",
            "4          171206  0.310166  0.289562  0.272891\n",
            "...           ...       ...       ...       ...\n",
            "61495      232697  0.276629  0.308252  0.186365\n",
            "61496      232698  0.053417  0.086408  0.059349\n",
            "61497      232699  0.066739  0.079630  0.153140\n",
            "61498      232700  0.231371  0.208478  0.203244\n",
            "61499      232701  0.203892  0.249018  0.169492\n",
            "\n",
            "[61500 rows x 4 columns]\n"
          ]
        }
      ]
    },
    {
      "cell_type": "code",
      "source": [],
      "metadata": {
        "id": "w563LyQbm2Pa"
      },
      "execution_count": 370,
      "outputs": []
    }
  ],
  "metadata": {
    "colab": {
      "provenance": []
    },
    "kernelspec": {
      "display_name": "Python 3",
      "name": "python3"
    },
    "language_info": {
      "name": "python"
    }
  },
  "nbformat": 4,
  "nbformat_minor": 0
}