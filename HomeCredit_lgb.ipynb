{
  "cells": [
    {
      "cell_type": "markdown",
      "metadata": {
        "id": "view-in-github",
        "colab_type": "text"
      },
      "source": [
        "<a href=\"https://colab.research.google.com/github/Taise-Kojima/HomeCredit_cmp/blob/main/HomeCredit_lgb.ipynb\" target=\"_parent\"><img src=\"https://colab.research.google.com/assets/colab-badge.svg\" alt=\"Open In Colab\"/></a>"
      ]
    },
    {
      "cell_type": "code",
      "execution_count": 136,
      "metadata": {
        "id": "_nrd2yEgwOmS",
        "colab": {
          "base_uri": "https://localhost:8080/"
        },
        "outputId": "4524276a-4a82-4ffa-8a6e-45c41973d360"
      },
      "outputs": [
        {
          "output_type": "stream",
          "name": "stdout",
          "text": [
            "Requirement already satisfied: optuna in /usr/local/lib/python3.10/dist-packages (3.6.1)\n",
            "Requirement already satisfied: alembic>=1.5.0 in /usr/local/lib/python3.10/dist-packages (from optuna) (1.13.2)\n",
            "Requirement already satisfied: colorlog in /usr/local/lib/python3.10/dist-packages (from optuna) (6.8.2)\n",
            "Requirement already satisfied: numpy in /usr/local/lib/python3.10/dist-packages (from optuna) (1.25.2)\n",
            "Requirement already satisfied: packaging>=20.0 in /usr/local/lib/python3.10/dist-packages (from optuna) (24.1)\n",
            "Requirement already satisfied: sqlalchemy>=1.3.0 in /usr/local/lib/python3.10/dist-packages (from optuna) (2.0.31)\n",
            "Requirement already satisfied: tqdm in /usr/local/lib/python3.10/dist-packages (from optuna) (4.66.4)\n",
            "Requirement already satisfied: PyYAML in /usr/local/lib/python3.10/dist-packages (from optuna) (6.0.1)\n",
            "Requirement already satisfied: Mako in /usr/local/lib/python3.10/dist-packages (from alembic>=1.5.0->optuna) (1.3.5)\n",
            "Requirement already satisfied: typing-extensions>=4 in /usr/local/lib/python3.10/dist-packages (from alembic>=1.5.0->optuna) (4.12.2)\n",
            "Requirement already satisfied: greenlet!=0.4.17 in /usr/local/lib/python3.10/dist-packages (from sqlalchemy>=1.3.0->optuna) (3.0.3)\n",
            "Requirement already satisfied: MarkupSafe>=0.9.2 in /usr/local/lib/python3.10/dist-packages (from Mako->alembic>=1.5.0->optuna) (2.1.5)\n"
          ]
        }
      ],
      "source": [
        "!pip install optuna\n",
        "import numpy as np\n",
        "import pandas as pd\n",
        "from sklearn.feature_selection import SelectKBest, f_classif\n",
        "import re\n",
        "import pickle\n",
        "import gc\n",
        "import optuna\n",
        "\n",
        "# scikit-learn\n",
        "from sklearn.preprocessing import OneHotEncoder, LabelEncoder\n",
        "from sklearn.model_selection import StratifiedKFold\n",
        "from sklearn.metrics import roc_auc_score\n",
        "from sklearn.pipeline import Pipeline\n",
        "from sklearn.compose import ColumnTransformer\n",
        "from sklearn.utils import resample\n",
        "from sklearn.preprocessing import OrdinalEncoder\n",
        "from sklearn.neighbors import KNeighborsRegressor\n",
        "from sklearn.preprocessing import StandardScaler\n",
        "\n",
        "# LightGBM\n",
        "import lightgbm as lgb\n",
        "\n",
        "import warnings\n",
        "warnings.filterwarnings(\"ignore\")"
      ]
    },
    {
      "cell_type": "code",
      "execution_count": 137,
      "metadata": {
        "id": "BjmqWyQlwTke",
        "colab": {
          "base_uri": "https://localhost:8080/"
        },
        "outputId": "6481dae3-067a-4e06-da89-2d0e2fc7868b"
      },
      "outputs": [
        {
          "output_type": "stream",
          "name": "stdout",
          "text": [
            "Drive already mounted at /content/drive; to attempt to forcibly remount, call drive.mount(\"/content/drive\", force_remount=True).\n",
            "/content/drive/MyDrive\n"
          ]
        }
      ],
      "source": [
        "# Google Colaboratoryで作業する場合はこちらも実行してください。\n",
        "from google.colab import drive\n",
        "drive.mount('/content/drive')\n",
        "# %cd 以降にこのnotebookを置いているディレクトリを指定してください。\n",
        "%cd \"/content/drive/MyDrive\""
      ]
    },
    {
      "cell_type": "code",
      "execution_count": 138,
      "metadata": {
        "id": "OVIjmdHEwYOi",
        "colab": {
          "base_uri": "https://localhost:8080/",
          "height": 35
        },
        "outputId": "3d7329bb-d221-4346-c2d6-3b93b6216cba"
      },
      "outputs": [
        {
          "output_type": "execute_result",
          "data": {
            "text/plain": [
              "\"\\ndf = pd.read_csv(INPUT + 'kaggle/application_train.csv')\\ntest_df = pd.read_csv(INPUT + 'kaggle/application_test.csv')\\nsample_df = pd.read_csv(INPUT + 'kaggle/sample_submission.csv')\\n\""
            ],
            "application/vnd.google.colaboratory.intrinsic+json": {
              "type": "string"
            }
          },
          "metadata": {},
          "execution_count": 138
        }
      ],
      "source": [
        "# データの読み込み\n",
        "# INPUT_DIRにtrain.csvなどのデータを置いているディレクトリを指定してください。\n",
        "\n",
        "INPUT_DIR = \"/content/drive/My Drive/GCI/cmp2/\"\n",
        "\n",
        "train = pd.read_csv(INPUT_DIR + \"train.csv\")\n",
        "test = pd.read_csv(INPUT_DIR + \"test.csv\")\n",
        "sample_sub = pd.read_csv(INPUT_DIR + \"sample_submission.csv\")\n",
        "\"\"\"\n",
        "df = pd.read_csv(INPUT + 'kaggle/application_train.csv')\n",
        "test_df = pd.read_csv(INPUT + 'kaggle/application_test.csv')\n",
        "sample_df = pd.read_csv(INPUT + 'kaggle/sample_submission.csv')\n",
        "\"\"\""
      ]
    },
    {
      "cell_type": "code",
      "source": [
        "# コンペのデータセットのファイルパス\n",
        "\"\"\"\n",
        "INPUT_DIR = \"/content/drive/My Drive/GCI/cmp2/\"\n",
        "train_comp = pd.read_csv(INPUT_DIR + \"train.csv\")\n",
        "test_comp = pd.read_csv(INPUT_DIR + \"test.csv\")\n",
        "sample_sub_comp = pd.read_csv(INPUT_DIR + \"sample_submission.csv\")\n",
        "\n",
        "# Kaggleのデータセットのファイルパス\n",
        "INPUT_KAGGLE_DIR = \"/content/drive/My Drive/GCI/cmp2/kaggle/\"\n",
        "train_kaggle = pd.read_csv(INPUT_KAGGLE_DIR + 'application_train.csv')\n",
        "test_kaggle = pd.read_csv(INPUT_KAGGLE_DIR + 'application_test.csv')\n",
        "sample_sub_kaggle = pd.read_csv(INPUT_KAGGLE_DIR + 'sample_submission.csv')\n",
        "\n",
        "# コンペデータのカラムに存在するカラムのみを選択\n",
        "common_columns_train = train_comp.columns.intersection(train_kaggle.columns)\n",
        "common_columns_test = test_comp.columns.intersection(test_kaggle.columns)\n",
        "\n",
        "train = train_kaggle[common_columns_train]\n",
        "test = test_kaggle[common_columns_test]\n",
        "\"\"\""
      ],
      "metadata": {
        "colab": {
          "base_uri": "https://localhost:8080/",
          "height": 87
        },
        "id": "n9eVMyySLIZw",
        "outputId": "edd62e9f-6b85-4fa1-e282-dea212f2e1a3"
      },
      "execution_count": 139,
      "outputs": [
        {
          "output_type": "execute_result",
          "data": {
            "text/plain": [
              "'\\nINPUT_DIR = \"/content/drive/My Drive/GCI/cmp2/\"\\ntrain_comp = pd.read_csv(INPUT_DIR + \"train.csv\")\\ntest_comp = pd.read_csv(INPUT_DIR + \"test.csv\")\\nsample_sub_comp = pd.read_csv(INPUT_DIR + \"sample_submission.csv\")\\n\\n# Kaggleのデータセットのファイルパス\\nINPUT_KAGGLE_DIR = \"/content/drive/My Drive/GCI/cmp2/kaggle/\"\\ntrain_kaggle = pd.read_csv(INPUT_KAGGLE_DIR + \\'application_train.csv\\')\\ntest_kaggle = pd.read_csv(INPUT_KAGGLE_DIR + \\'application_test.csv\\')\\nsample_sub_kaggle = pd.read_csv(INPUT_KAGGLE_DIR + \\'sample_submission.csv\\')\\n\\n# コンペデータのカラムに存在するカラムのみを選択\\ncommon_columns_train = train_comp.columns.intersection(train_kaggle.columns)\\ncommon_columns_test = test_comp.columns.intersection(test_kaggle.columns)\\n\\ntrain = train_kaggle[common_columns_train]\\ntest = test_kaggle[common_columns_test]\\n'"
            ],
            "application/vnd.google.colaboratory.intrinsic+json": {
              "type": "string"
            }
          },
          "metadata": {},
          "execution_count": 139
        }
      ]
    },
    {
      "cell_type": "code",
      "source": [
        "\n",
        "#ダウンサンプリング 1対10から1対7にする\n",
        "\n",
        "# クラスごとのデータを分ける\n",
        "class_0 = train[train['TARGET'] == 0]\n",
        "class_1 = train[train['TARGET'] == 1]\n",
        "\n",
        "# クラス1のサンプル数を取得\n",
        "n_class_1 = len(class_1)\n",
        "\n",
        "# クラス0をダウンサンプリングして、クラス1のサンプル数の4倍にする\n",
        "n_samples_class_0 = n_class_1 * 7\n",
        "class_0_downsampled = resample(class_0,\n",
        "                               replace=False,  # サンプルの重複を許可しない\n",
        "                               n_samples=n_samples_class_0,  # クラス1のサンプル数の4倍にする\n",
        "                               random_state=42)  # 再現性のためのシード\n",
        "\n",
        "# ダウンサンプリングされたデータとクラス1のデータを結合\n",
        "train_downsampled = pd.concat([class_0_downsampled, class_1])\n",
        "\n",
        "# シャッフルしてデータセットを混ぜる\n",
        "train = train_downsampled.sample(frac=1, random_state=42).reset_index(drop=True)\n"
      ],
      "metadata": {
        "id": "ZJ8cW_iw6rC4"
      },
      "execution_count": 140,
      "outputs": []
    },
    {
      "cell_type": "code",
      "source": [
        "#フラグの平均、分散、合計\n",
        "flag_columns = ['FLAG_OWN_CAR',\n",
        "                 'FLAG_OWN_REALTY',\n",
        "                 'FLAG_MOBIL',\n",
        "                 'FLAG_EMP_PHONE',\n",
        "                 'FLAG_WORK_PHONE',\n",
        "                 'FLAG_CONT_MOBILE',\n",
        "                 'FLAG_PHONE',\n",
        "                 'FLAG_EMAIL',\n",
        "                 'REG_REGION_NOT_LIVE_REGION',\n",
        "                 'REG_REGION_NOT_WORK_REGION',\n",
        "                 'LIVE_REGION_NOT_WORK_REGION',\n",
        "                 'REG_CITY_NOT_WORK_CITY',\n",
        "                 'LIVE_CITY_NOT_WORK_CITY']\n",
        "\n",
        "# FLAG_OWN_CARとFLAG_OWN_REALTYを数値データに変換\n",
        "train['FLAG_OWN_CAR'] = train['FLAG_OWN_CAR'].apply(lambda x: 1 if x == 'Y' else 0)\n",
        "train['FLAG_OWN_REALTY'] = train['FLAG_OWN_REALTY'].apply(lambda x: 1 if x == 'Y' else 0)\n",
        "test['FLAG_OWN_CAR'] = test['FLAG_OWN_CAR'].apply(lambda x: 1 if x == 'Y' else 0)\n",
        "test['FLAG_OWN_REALTY'] = test['FLAG_OWN_REALTY'].apply(lambda x: 1 if x == 'Y' else 0)\n",
        "\n",
        "\n",
        "train['FLAG_AVELEGE'] = train[flag_columns].mean(axis=1)\n",
        "test['FLAG_AVELEGE'] = test[flag_columns].mean(axis=1)\n",
        "train['FLAG_STD'] = train[flag_columns].std(axis=1)\n",
        "test['FLAG_STD'] = test[flag_columns].std(axis=1)\n",
        "train['FLAG_SUM'] = train[flag_columns].sum(axis=1)\n",
        "test['FLAG_SUM'] = test[flag_columns].sum(axis=1)\n"
      ],
      "metadata": {
        "id": "7Aj-O4i44NjL"
      },
      "execution_count": 141,
      "outputs": []
    },
    {
      "cell_type": "code",
      "source": [
        "print(train['CNT_FAM_MEMBERS'].dtype)\n",
        "\n",
        "# CNT_FAM_MEMBERS を数値型に強制変換\n",
        "train['CNT_FAM_MEMBERS'] = pd.to_numeric(train['CNT_FAM_MEMBERS'], errors='coerce')\n",
        "test['CNT_FAM_MEMBERS'] = pd.to_numeric(test['CNT_FAM_MEMBERS'], errors='coerce')\n",
        "\n",
        "# 平均値を再計算\n",
        "TRAIN_CNT_FAM_MEMBERS_MEAN = train['CNT_FAM_MEMBERS'].mean()\n",
        "TEST_CNT_FAM_MEMBERS_MEAN = test['CNT_FAM_MEMBERS'].mean()\n",
        "\n",
        "# 欠損値を平均値で埋める\n",
        "train['CNT_FAM_MEMBERS'].fillna(TRAIN_CNT_FAM_MEMBERS_MEAN, inplace=True)\n",
        "test['CNT_FAM_MEMBERS'].fillna(TEST_CNT_FAM_MEMBERS_MEAN, inplace=True)\n",
        "\n",
        "# 結果の確認\n",
        "print(\"Updated Train CNT_FAM_MEMBERS Mean:\", TRAIN_CNT_FAM_MEMBERS_MEAN)\n",
        "print(\"Updated Test CNT_FAM_MEMBERS Mean:\", TEST_CNT_FAM_MEMBERS_MEAN)"
      ],
      "metadata": {
        "colab": {
          "base_uri": "https://localhost:8080/"
        },
        "id": "B4iEeVlWeTa3",
        "outputId": "b64eb987-264c-4b9c-be45-3385a45ccaf7"
      },
      "execution_count": 142,
      "outputs": [
        {
          "output_type": "stream",
          "name": "stdout",
          "text": [
            "float64\n",
            "Updated Train CNT_FAM_MEMBERS Mean: 2.154694933342981\n",
            "Updated Test CNT_FAM_MEMBERS Mean: 2.153593495934959\n"
          ]
        }
      ]
    },
    {
      "cell_type": "code",
      "source": [
        "with pd.option_context('display.max_rows', None, 'display.max_columns', None):\n",
        "    print(train.isnull().sum())"
      ],
      "metadata": {
        "colab": {
          "base_uri": "https://localhost:8080/"
        },
        "id": "MbXFr25bn84u",
        "outputId": "8f150d25-f5db-4cd0-a902-68ec764f294b"
      },
      "execution_count": 143,
      "outputs": [
        {
          "output_type": "stream",
          "name": "stdout",
          "text": [
            "SK_ID_CURR                         0\n",
            "TARGET                             0\n",
            "NAME_CONTRACT_TYPE                 0\n",
            "CODE_GENDER                        0\n",
            "FLAG_OWN_CAR                       0\n",
            "FLAG_OWN_REALTY                    0\n",
            "CNT_CHILDREN                       0\n",
            "AMT_INCOME_TOTAL                   0\n",
            "AMT_CREDIT                         0\n",
            "AMT_ANNUITY                        3\n",
            "AMT_GOODS_PRICE                  104\n",
            "NAME_TYPE_SUITE                  466\n",
            "NAME_INCOME_TYPE                   0\n",
            "NAME_EDUCATION_TYPE                0\n",
            "NAME_FAMILY_STATUS                 0\n",
            "NAME_HOUSING_TYPE                  0\n",
            "REGION_POPULATION_RELATIVE         0\n",
            "DAYS_BIRTH                         0\n",
            "DAYS_EMPLOYED                      0\n",
            "DAYS_REGISTRATION                  0\n",
            "DAYS_ID_PUBLISH                    0\n",
            "OWN_CAR_AGE                    73134\n",
            "FLAG_MOBIL                         0\n",
            "FLAG_EMP_PHONE                     0\n",
            "FLAG_WORK_PHONE                    0\n",
            "FLAG_CONT_MOBILE                   0\n",
            "FLAG_PHONE                         0\n",
            "FLAG_EMAIL                         0\n",
            "OCCUPATION_TYPE                34379\n",
            "CNT_FAM_MEMBERS                    0\n",
            "REGION_RATING_CLIENT               0\n",
            "REGION_RATING_CLIENT_W_CITY        0\n",
            "REG_REGION_NOT_LIVE_REGION         0\n",
            "REG_REGION_NOT_WORK_REGION         0\n",
            "LIVE_REGION_NOT_WORK_REGION        0\n",
            "REG_CITY_NOT_LIVE_CITY             0\n",
            "REG_CITY_NOT_WORK_CITY             0\n",
            "LIVE_CITY_NOT_WORK_CITY            0\n",
            "ORGANIZATION_TYPE                  0\n",
            "EXT_SOURCE_1                   76797\n",
            "EXT_SOURCE_2                     228\n",
            "EXT_SOURCE_3                   35327\n",
            "OBS_30_CNT_SOCIAL_CIRCLE         354\n",
            "DEF_30_CNT_SOCIAL_CIRCLE         354\n",
            "OBS_60_CNT_SOCIAL_CIRCLE         354\n",
            "DEF_60_CNT_SOCIAL_CIRCLE         354\n",
            "DAYS_LAST_PHONE_CHANGE             0\n",
            "AMT_REQ_CREDIT_BUREAU_HOUR     15124\n",
            "AMT_REQ_CREDIT_BUREAU_MON      15124\n",
            "AMT_REQ_CREDIT_BUREAU_QRT      15124\n",
            "AMT_REQ_CREDIT_BUREAU_YEAR     15124\n",
            "FLAG_AVELEGE                       0\n",
            "FLAG_STD                           0\n",
            "FLAG_SUM                           0\n",
            "dtype: int64\n"
          ]
        }
      ]
    },
    {
      "cell_type": "code",
      "source": [
        "train_income_org = train.groupby('ORGANIZATION_TYPE')['AMT_INCOME_TOTAL'].median().to_dict()\n",
        "train['ORGANIZATIOM_MEDIAN'] = train['ORGANIZATION_TYPE'].map(train_income_org)\n",
        "\n",
        "test_income_org = test.groupby('ORGANIZATION_TYPE')['AMT_INCOME_TOTAL'].median().to_dict()\n",
        "test['ORGANIZATIOM_MEDIAN'] = test['ORGANIZATION_TYPE'].map(test_income_org)\n",
        "\n",
        "train['ORGANIZATION_DIFFERNCE'] = train['AMT_INCOME_TOTAL'] - train['ORGANIZATIOM_MEDIAN']\n",
        "test['ORGANIZATION_DIFFERNCE'] = test['AMT_INCOME_TOTAL'] - test['ORGANIZATIOM_MEDIAN']\n"
      ],
      "metadata": {
        "id": "cce-5Lz4475v"
      },
      "execution_count": 144,
      "outputs": []
    },
    {
      "cell_type": "code",
      "source": [
        "train[\"DAYS_ID_PUBLISH\"] = train[\"DAYS_ID_PUBLISH\"].abs()\n",
        "test[\"DAYS_ID_PUBLISH\"] = test[\"DAYS_ID_PUBLISH\"].abs()\n",
        "\n",
        "\"\"\"\n",
        "import matplotlib.pyplot as plt\n",
        "# 'DAYS_ID_PUBLISH' を 500 の間隔でビン分割\n",
        "train['DAYS_ID_PUBLISH_BIN'] = pd.cut(train['DAYS_ID_PUBLISH'], bins=range(int(train['DAYS_ID_PUBLISH'].min()), int(train['DAYS_ID_PUBLISH'].max()) + 500, 500))\n",
        "\n",
        "# 各ビンで TARGET が 1 の割合を計算\n",
        "grouped = train.groupby('DAYS_ID_PUBLISH_BIN')['TARGET'].mean() * 100  # 結果をパーセンテージで\n",
        "\n",
        "# 可視化\n",
        "plt.figure(figsize=(10, 6))\n",
        "grouped.plot(kind='bar', color='skyblue')\n",
        "plt.title('TARGET = 1の割合（DAYS_ID_PUBLISH毎の500日間隔のビン）')\n",
        "plt.xlabel('DAYS_ID_PUBLISH Bin')\n",
        "plt.ylabel('TARGET = 1の割合 (%)')\n",
        "plt.xticks(rotation=45)\n",
        "plt.grid(True)\n",
        "plt.show()\n",
        "\"\"\""
      ],
      "metadata": {
        "colab": {
          "base_uri": "https://localhost:8080/",
          "height": 70
        },
        "id": "0FCCjtX1o_1_",
        "outputId": "b9c4f899-271d-4601-af71-7ec1362fc024"
      },
      "execution_count": 145,
      "outputs": [
        {
          "output_type": "execute_result",
          "data": {
            "text/plain": [
              "\"\\nimport matplotlib.pyplot as plt\\n# 'DAYS_ID_PUBLISH' を 500 の間隔でビン分割\\ntrain['DAYS_ID_PUBLISH_BIN'] = pd.cut(train['DAYS_ID_PUBLISH'], bins=range(int(train['DAYS_ID_PUBLISH'].min()), int(train['DAYS_ID_PUBLISH'].max()) + 500, 500))\\n\\n# 各ビンで TARGET が 1 の割合を計算\\ngrouped = train.groupby('DAYS_ID_PUBLISH_BIN')['TARGET'].mean() * 100  # 結果をパーセンテージで\\n\\n# 可視化\\nplt.figure(figsize=(10, 6))\\ngrouped.plot(kind='bar', color='skyblue')\\nplt.title('TARGET = 1の割合（DAYS_ID_PUBLISH毎の500日間隔のビン）')\\nplt.xlabel('DAYS_ID_PUBLISH Bin')\\nplt.ylabel('TARGET = 1の割合 (%)')\\nplt.xticks(rotation=45)\\nplt.grid(True)\\nplt.show()\\n\""
            ],
            "application/vnd.google.colaboratory.intrinsic+json": {
              "type": "string"
            }
          },
          "metadata": {},
          "execution_count": 145
        }
      ]
    },
    {
      "cell_type": "code",
      "source": [
        "\"\"\"\n",
        "# 'DAYS_ID_PUBLISH' を 500 の間隔でビン分割\n",
        "train['DAYS_ID_PUBLISH_BIN'] = pd.cut(train['DAYS_ID_PUBLISH'], bins=range(int(train['DAYS_ID_PUBLISH'].min()), int(train['DAYS_ID_PUBLISH'].max()) + 500, 500))\n",
        "test['DAYS_ID_PUBLISH_BIN'] = pd.cut(test['DAYS_ID_PUBLISH'], bins=range(int(train['DAYS_ID_PUBLISH'].min()), int(train['DAYS_ID_PUBLISH'].max()) + 500, 500))\n",
        "\n",
        "# trainデータセットで TARGET が 1 の割合を計算\n",
        "rate_per_bin = train.groupby('DAYS_ID_PUBLISH_BIN')['TARGET'].mean()\n",
        "\n",
        "# 新しい特徴量 'DAYS_ID_PUBLISH_RATE' を追加\n",
        "train['DAYS_ID_PUBLISH_RATE'] = train['DAYS_ID_PUBLISH_BIN'].map(rate_per_bin)\n",
        "test['DAYS_ID_PUBLISH_RATE'] = test['DAYS_ID_PUBLISH_BIN'].map(rate_per_bin)\n",
        "\"\"\""
      ],
      "metadata": {
        "id": "QEuOJJqor6Un",
        "colab": {
          "base_uri": "https://localhost:8080/",
          "height": 87
        },
        "outputId": "5b0b696f-31eb-4a15-b94b-e29ffcc0c286"
      },
      "execution_count": 146,
      "outputs": [
        {
          "output_type": "execute_result",
          "data": {
            "text/plain": [
              "\"\\n# 'DAYS_ID_PUBLISH' を 500 の間隔でビン分割\\ntrain['DAYS_ID_PUBLISH_BIN'] = pd.cut(train['DAYS_ID_PUBLISH'], bins=range(int(train['DAYS_ID_PUBLISH'].min()), int(train['DAYS_ID_PUBLISH'].max()) + 500, 500))\\ntest['DAYS_ID_PUBLISH_BIN'] = pd.cut(test['DAYS_ID_PUBLISH'], bins=range(int(train['DAYS_ID_PUBLISH'].min()), int(train['DAYS_ID_PUBLISH'].max()) + 500, 500))\\n\\n# trainデータセットで TARGET が 1 の割合を計算\\nrate_per_bin = train.groupby('DAYS_ID_PUBLISH_BIN')['TARGET'].mean()\\n\\n# 新しい特徴量 'DAYS_ID_PUBLISH_RATE' を追加\\ntrain['DAYS_ID_PUBLISH_RATE'] = train['DAYS_ID_PUBLISH_BIN'].map(rate_per_bin)\\ntest['DAYS_ID_PUBLISH_RATE'] = test['DAYS_ID_PUBLISH_BIN'].map(rate_per_bin)\\n\""
            ],
            "application/vnd.google.colaboratory.intrinsic+json": {
              "type": "string"
            }
          },
          "metadata": {},
          "execution_count": 146
        }
      ]
    },
    {
      "cell_type": "code",
      "source": [
        "# AMT_ANNUITYの平均値を計算\n",
        "mean_amt_annuity = train['AMT_ANNUITY'].mean()\n",
        "mean_amt_annuity_test = test['AMT_ANNUITY'].mean()\n",
        "\n",
        "# 欠損値を平均値で補完\n",
        "train['AMT_ANNUITY'].fillna(mean_amt_annuity, inplace=True)\n",
        "test['AMT_ANNUITY'].fillna(mean_amt_annuity_test, inplace=True)\n",
        "\n",
        "mean_amt_annuity = train['AMT_GOODS_PRICE'].mean()\n",
        "train['AMT_GOODS_PRICE'].fillna(mean_amt_annuity, inplace=True)\n",
        "\n",
        "mean_amt_annuity_test = test['AMT_GOODS_PRICE'].mean()\n",
        "test['AMT_GOODS_PRICE'].fillna(mean_amt_annuity_test, inplace=True)\n",
        "\n",
        "# EXT_SOURCE_2の欠損値を平均値で補完\n",
        "train[\"EXT_SOURCE_2\"].fillna(train[\"EXT_SOURCE_2\"].mean(), inplace=True)\n",
        "test[\"EXT_SOURCE_2\"].fillna(train[\"EXT_SOURCE_2\"].mean(), inplace=True)"
      ],
      "metadata": {
        "id": "Qgs8udnbXPxh"
      },
      "execution_count": 147,
      "outputs": []
    },
    {
      "cell_type": "code",
      "source": [
        "with pd.option_context('display.max_rows', None, 'display.max_columns', None):\n",
        "    print(train.isnull().sum())"
      ],
      "metadata": {
        "colab": {
          "base_uri": "https://localhost:8080/"
        },
        "id": "eVhDvMx9kVSE",
        "outputId": "43da4a26-9968-40c3-c4b4-a7857b0e991e"
      },
      "execution_count": 148,
      "outputs": [
        {
          "output_type": "stream",
          "name": "stdout",
          "text": [
            "SK_ID_CURR                         0\n",
            "TARGET                             0\n",
            "NAME_CONTRACT_TYPE                 0\n",
            "CODE_GENDER                        0\n",
            "FLAG_OWN_CAR                       0\n",
            "FLAG_OWN_REALTY                    0\n",
            "CNT_CHILDREN                       0\n",
            "AMT_INCOME_TOTAL                   0\n",
            "AMT_CREDIT                         0\n",
            "AMT_ANNUITY                        0\n",
            "AMT_GOODS_PRICE                    0\n",
            "NAME_TYPE_SUITE                  466\n",
            "NAME_INCOME_TYPE                   0\n",
            "NAME_EDUCATION_TYPE                0\n",
            "NAME_FAMILY_STATUS                 0\n",
            "NAME_HOUSING_TYPE                  0\n",
            "REGION_POPULATION_RELATIVE         0\n",
            "DAYS_BIRTH                         0\n",
            "DAYS_EMPLOYED                      0\n",
            "DAYS_REGISTRATION                  0\n",
            "DAYS_ID_PUBLISH                    0\n",
            "OWN_CAR_AGE                    73134\n",
            "FLAG_MOBIL                         0\n",
            "FLAG_EMP_PHONE                     0\n",
            "FLAG_WORK_PHONE                    0\n",
            "FLAG_CONT_MOBILE                   0\n",
            "FLAG_PHONE                         0\n",
            "FLAG_EMAIL                         0\n",
            "OCCUPATION_TYPE                34379\n",
            "CNT_FAM_MEMBERS                    0\n",
            "REGION_RATING_CLIENT               0\n",
            "REGION_RATING_CLIENT_W_CITY        0\n",
            "REG_REGION_NOT_LIVE_REGION         0\n",
            "REG_REGION_NOT_WORK_REGION         0\n",
            "LIVE_REGION_NOT_WORK_REGION        0\n",
            "REG_CITY_NOT_LIVE_CITY             0\n",
            "REG_CITY_NOT_WORK_CITY             0\n",
            "LIVE_CITY_NOT_WORK_CITY            0\n",
            "ORGANIZATION_TYPE                  0\n",
            "EXT_SOURCE_1                   76797\n",
            "EXT_SOURCE_2                       0\n",
            "EXT_SOURCE_3                   35327\n",
            "OBS_30_CNT_SOCIAL_CIRCLE         354\n",
            "DEF_30_CNT_SOCIAL_CIRCLE         354\n",
            "OBS_60_CNT_SOCIAL_CIRCLE         354\n",
            "DEF_60_CNT_SOCIAL_CIRCLE         354\n",
            "DAYS_LAST_PHONE_CHANGE             0\n",
            "AMT_REQ_CREDIT_BUREAU_HOUR     15124\n",
            "AMT_REQ_CREDIT_BUREAU_MON      15124\n",
            "AMT_REQ_CREDIT_BUREAU_QRT      15124\n",
            "AMT_REQ_CREDIT_BUREAU_YEAR     15124\n",
            "FLAG_AVELEGE                       0\n",
            "FLAG_STD                           0\n",
            "FLAG_SUM                           0\n",
            "ORGANIZATIOM_MEDIAN                0\n",
            "ORGANIZATION_DIFFERNCE             0\n",
            "dtype: int64\n"
          ]
        }
      ]
    },
    {
      "cell_type": "code",
      "source": [
        "train['DAYS_EMPLOYED_REC'] = train['DAYS_EMPLOYED'] - train['DAYS_BIRTH']\n",
        "test['DAYS_EMPLOYED_REC'] = test['DAYS_EMPLOYED'] - test['DAYS_BIRTH']\n",
        "train['INCOME_PER_PERSON'] = train['AMT_INCOME_TOTAL'] / train['CNT_FAM_MEMBERS']\n",
        "test['INCOME_PER_PERSON'] = test['AMT_INCOME_TOTAL'] / test['CNT_FAM_MEMBERS']\n",
        "train['CHILDREM_RAITON'] = train['CNT_CHILDREN'] / train['CNT_FAM_MEMBERS']\n",
        "test['CHILDREM_RAITON'] = test['CNT_CHILDREN'] / test['CNT_FAM_MEMBERS']\n"
      ],
      "metadata": {
        "id": "nMNpXJgLKYCo"
      },
      "execution_count": 149,
      "outputs": []
    },
    {
      "cell_type": "code",
      "execution_count": 150,
      "metadata": {
        "id": "YPtn1vHfuDOS"
      },
      "outputs": [],
      "source": [
        "\n",
        "train['DSCR'] = train['AMT_ANNUITY'] / train['AMT_INCOME_TOTAL'] * 100 #収入に対する年間返済額\n",
        "train['Repayment_Rate'] = train['AMT_ANNUITY'] / train['AMT_CREDIT'] * 100 #返済率\n",
        "train['DTI'] = train['AMT_CREDIT'] / train['AMT_INCOME_TOTAL'] #DTI クライアントがどれだけの負債を背負っているか\n",
        "# 返済率が4.65%を超えるかどうかに基づいて新しい特徴量を作成\n",
        "train['High_Repayment'] = (train['Repayment_Rate'] > 4.65).astype(int)\n"
      ]
    },
    {
      "cell_type": "code",
      "execution_count": 151,
      "metadata": {
        "id": "WusMIzgQuGt-",
        "colab": {
          "base_uri": "https://localhost:8080/",
          "height": 122
        },
        "outputId": "0c3af7f6-1b42-41d6-c2e8-663f9ba1e41c"
      },
      "outputs": [
        {
          "output_type": "execute_result",
          "data": {
            "text/plain": [
              "'\\n# High_Repaymentが1で、TARGETも1のデータのみをフィルタリング\\ntarget_1_high_repayment = train[(train[\\'High_Repayment\\'] == 1) & (train[\\'TARGET\\'] == 1)]\\n\\n# High_Repaymentが1で、TARGETも1のデータ数をカウント\\ncount_target_1 = target_1_high_repayment.shape[0]\\n\\n# High Repaymentのデータの総数\\ncount_high_repayment = train[train[\\'High_Repayment\\'] == 1].shape[0]\\n# TARGETの全データの数\\ntotal_target_count = train[\\'TARGET\\'].count()\\n\\n# TARGETが1のデータの数をカウント\\ncount_target_1_total = train[train[\\'TARGET\\'] == 1].shape[0]\\n\\n# 全データの数\\ntotal_count = train.shape[0]\\n\\n\\n# TARGETの総数（非欠損値の数）\\ntotal_target_count = train[\\'TARGET\\'].count()\\n\\n# TARGETが1の割合を計算\\npercentage_target_1 = (count_target_1_total / total_count) * 100\\n\\n# 結果を表示\\nprint(f\"全データの中でTARGETが1のデータの数: {count_target_1_total}, TARGETの総数:{total_target_count}, 全データにおけるTARGETが1の割合: {percentage_target_1:.2f}%\")\\nprint(f\"High Repaymentの中でTARGETが1のデータの数: {count_target_1}, High Repaymentの総数: {count_high_repayment}, 割合は: {count_target_1/count_high_repayment * 100:.2f}%\")\\n'"
            ],
            "application/vnd.google.colaboratory.intrinsic+json": {
              "type": "string"
            }
          },
          "metadata": {},
          "execution_count": 151
        }
      ],
      "source": [
        "\"\"\"\n",
        "# High_Repaymentが1で、TARGETも1のデータのみをフィルタリング\n",
        "target_1_high_repayment = train[(train['High_Repayment'] == 1) & (train['TARGET'] == 1)]\n",
        "\n",
        "# High_Repaymentが1で、TARGETも1のデータ数をカウント\n",
        "count_target_1 = target_1_high_repayment.shape[0]\n",
        "\n",
        "# High Repaymentのデータの総数\n",
        "count_high_repayment = train[train['High_Repayment'] == 1].shape[0]\n",
        "# TARGETの全データの数\n",
        "total_target_count = train['TARGET'].count()\n",
        "\n",
        "# TARGETが1のデータの数をカウント\n",
        "count_target_1_total = train[train['TARGET'] == 1].shape[0]\n",
        "\n",
        "# 全データの数\n",
        "total_count = train.shape[0]\n",
        "\n",
        "\n",
        "# TARGETの総数（非欠損値の数）\n",
        "total_target_count = train['TARGET'].count()\n",
        "\n",
        "# TARGETが1の割合を計算\n",
        "percentage_target_1 = (count_target_1_total / total_count) * 100\n",
        "\n",
        "# 結果を表示\n",
        "print(f\"全データの中でTARGETが1のデータの数: {count_target_1_total}, TARGETの総数:{total_target_count}, 全データにおけるTARGETが1の割合: {percentage_target_1:.2f}%\")\n",
        "print(f\"High Repaymentの中でTARGETが1のデータの数: {count_target_1}, High Repaymentの総数: {count_high_repayment}, 割合は: {count_target_1/count_high_repayment * 100:.2f}%\")\n",
        "\"\"\""
      ]
    },
    {
      "cell_type": "code",
      "execution_count": 152,
      "metadata": {
        "id": "Tao1tWSfuKuV"
      },
      "outputs": [],
      "source": [
        "\n",
        "test['DSCR'] = test['AMT_ANNUITY'] / test['AMT_INCOME_TOTAL'] * 100 #\n",
        "test['Repayment_Rate'] = test['AMT_ANNUITY'] / test['AMT_CREDIT'] * 100 #返済率\n",
        "test['DTI'] = test['AMT_CREDIT'] / test['AMT_INCOME_TOTAL'] * 100 #DTI クライアントがどれだけの負債を背負っているか\n",
        "test['High_Repayment'] = (test['Repayment_Rate'] > 4.65).astype(int)\n"
      ]
    },
    {
      "cell_type": "code",
      "execution_count": 153,
      "metadata": {
        "id": "PUWNnWzlzurH",
        "colab": {
          "base_uri": "https://localhost:8080/",
          "height": 87
        },
        "outputId": "1a126d72-6cf0-45d2-88dc-8a3c18a56ce3"
      },
      "outputs": [
        {
          "output_type": "execute_result",
          "data": {
            "text/plain": [
              "'\\n# 中央値\\ntrain[\"EXT_SOURCE_median\"] = train[[\"EXT_SOURCE_1\", \"EXT_SOURCE_2\", \"EXT_SOURCE_3\"]].median(axis=1)\\n# 最頻値（一つの列に複数の最頻値がある場合は、最初のものを選択）\\ntrain[\"EXT_SOURCE_mode\"] = train[[\"EXT_SOURCE_1\", \"EXT_SOURCE_2\", \"EXT_SOURCE_3\"]].mode(axis=1)[0]\\n# 範囲\\ntrain[\"EXT_SOURCE_range\"] = train[\"EXT_SOURCE_max\"] - train[\"EXT_SOURCE_min\"]\\n# 分散\\ntrain[\"EXT_SOURCE_var\"] = train[[\"EXT_SOURCE_1\", \"EXT_SOURCE_2\", \"EXT_SOURCE_3\"]].var(axis=1)\\n# 歪度\\ntrain[\"EXT_SOURCE_skew\"] = train[[\"EXT_SOURCE_1\", \"EXT_SOURCE_2\", \"EXT_SOURCE_3\"]].skew(axis=1)\\n# 尖度\\ntrain[\"EXT_SOURCE_kurtosis\"] = train[[\"EXT_SOURCE_1\", \"EXT_SOURCE_2\", \"EXT_SOURCE_3\"]].kurt(axis=1)\\n'"
            ],
            "application/vnd.google.colaboratory.intrinsic+json": {
              "type": "string"
            }
          },
          "metadata": {},
          "execution_count": 153
        }
      ],
      "source": [
        "# [仮説]　外部機関によるスコアが平均的に高い方が貸し倒れリスクが低いと考えられる。\n",
        "train[\"EXT_SOURCE_mean\"] = train[[\"EXT_SOURCE_1\", \"EXT_SOURCE_2\", \"EXT_SOURCE_3\"]].mean(axis=1)\n",
        "train[\"EXT_SOURCE_max\"] = train[[\"EXT_SOURCE_1\", \"EXT_SOURCE_2\", \"EXT_SOURCE_3\"]].max(axis=1)\n",
        "train[\"EXT_SOURCE_min\"] = train[[\"EXT_SOURCE_1\", \"EXT_SOURCE_2\", \"EXT_SOURCE_3\"]].min(axis=1)\n",
        "train[\"EXT_SOURCE_std\"] = train[[\"EXT_SOURCE_1\", \"EXT_SOURCE_2\", \"EXT_SOURCE_3\"]].std(axis=1)\n",
        "train[\"EXT_SOURCE_count\"] = train[[\"EXT_SOURCE_1\", \"EXT_SOURCE_2\", \"EXT_SOURCE_3\"]].notnull().sum(axis=1)\n",
        "\"\"\"\n",
        "# 中央値\n",
        "train[\"EXT_SOURCE_median\"] = train[[\"EXT_SOURCE_1\", \"EXT_SOURCE_2\", \"EXT_SOURCE_3\"]].median(axis=1)\n",
        "# 最頻値（一つの列に複数の最頻値がある場合は、最初のものを選択）\n",
        "train[\"EXT_SOURCE_mode\"] = train[[\"EXT_SOURCE_1\", \"EXT_SOURCE_2\", \"EXT_SOURCE_3\"]].mode(axis=1)[0]\n",
        "# 範囲\n",
        "train[\"EXT_SOURCE_range\"] = train[\"EXT_SOURCE_max\"] - train[\"EXT_SOURCE_min\"]\n",
        "# 分散\n",
        "train[\"EXT_SOURCE_var\"] = train[[\"EXT_SOURCE_1\", \"EXT_SOURCE_2\", \"EXT_SOURCE_3\"]].var(axis=1)\n",
        "# 歪度\n",
        "train[\"EXT_SOURCE_skew\"] = train[[\"EXT_SOURCE_1\", \"EXT_SOURCE_2\", \"EXT_SOURCE_3\"]].skew(axis=1)\n",
        "# 尖度\n",
        "train[\"EXT_SOURCE_kurtosis\"] = train[[\"EXT_SOURCE_1\", \"EXT_SOURCE_2\", \"EXT_SOURCE_3\"]].kurt(axis=1)\n",
        "\"\"\""
      ]
    },
    {
      "cell_type": "code",
      "execution_count": 154,
      "metadata": {
        "id": "CjPT_bT4zzSP",
        "colab": {
          "base_uri": "https://localhost:8080/",
          "height": 87
        },
        "outputId": "a24a3ceb-a71e-4ab3-a9a9-842e9e784a65"
      },
      "outputs": [
        {
          "output_type": "execute_result",
          "data": {
            "text/plain": [
              "'\\n# 中央値\\ntest[\"EXT_SOURCE_median\"] = test[[\"EXT_SOURCE_1\", \"EXT_SOURCE_2\", \"EXT_SOURCE_3\"]].median(axis=1)\\n# 最頻値（一つの列に複数の最頻値がある場合は、最初のものを選択）\\ntest[\"EXT_SOURCE_mode\"] = test[[\"EXT_SOURCE_1\", \"EXT_SOURCE_2\", \"EXT_SOURCE_3\"]].mode(axis=1)[0]\\n# 範囲\\ntest[\"EXT_SOURCE_range\"] = test[\"EXT_SOURCE_max\"] - test[\"EXT_SOURCE_min\"]\\n# 分散\\ntest[\"EXT_SOURCE_var\"] = test[[\"EXT_SOURCE_1\", \"EXT_SOURCE_2\", \"EXT_SOURCE_3\"]].var(axis=1)\\n# 歪度\\ntest[\"EXT_SOURCE_skew\"] = test[[\"EXT_SOURCE_1\", \"EXT_SOURCE_2\", \"EXT_SOURCE_3\"]].skew(axis=1)\\n# 尖度\\ntest[\"EXT_SOURCE_kurtosis\"] = test[[\"EXT_SOURCE_1\", \"EXT_SOURCE_2\", \"EXT_SOURCE_3\"]].kurt(axis=1)\\n'"
            ],
            "application/vnd.google.colaboratory.intrinsic+json": {
              "type": "string"
            }
          },
          "metadata": {},
          "execution_count": 154
        }
      ],
      "source": [
        "# [仮説]　外部機関によるスコアが平均的に高い方が貸し倒れリスクが低いと考えられる。\n",
        "test[\"EXT_SOURCE_mean\"] = test[[\"EXT_SOURCE_1\", \"EXT_SOURCE_2\", \"EXT_SOURCE_3\"]].mean(axis=1)\n",
        "test[\"EXT_SOURCE_max\"] = test[[\"EXT_SOURCE_1\", \"EXT_SOURCE_2\", \"EXT_SOURCE_3\"]].max(axis=1)\n",
        "test[\"EXT_SOURCE_min\"] = test[[\"EXT_SOURCE_1\", \"EXT_SOURCE_2\", \"EXT_SOURCE_3\"]].min(axis=1)\n",
        "test[\"EXT_SOURCE_std\"] = test[[\"EXT_SOURCE_1\", \"EXT_SOURCE_2\", \"EXT_SOURCE_3\"]].std(axis=1)\n",
        "test[\"EXT_SOURCE_count\"] = test[[\"EXT_SOURCE_1\", \"EXT_SOURCE_2\", \"EXT_SOURCE_3\"]].notnull().sum(axis=1)\n",
        "\"\"\"\n",
        "# 中央値\n",
        "test[\"EXT_SOURCE_median\"] = test[[\"EXT_SOURCE_1\", \"EXT_SOURCE_2\", \"EXT_SOURCE_3\"]].median(axis=1)\n",
        "# 最頻値（一つの列に複数の最頻値がある場合は、最初のものを選択）\n",
        "test[\"EXT_SOURCE_mode\"] = test[[\"EXT_SOURCE_1\", \"EXT_SOURCE_2\", \"EXT_SOURCE_3\"]].mode(axis=1)[0]\n",
        "# 範囲\n",
        "test[\"EXT_SOURCE_range\"] = test[\"EXT_SOURCE_max\"] - test[\"EXT_SOURCE_min\"]\n",
        "# 分散\n",
        "test[\"EXT_SOURCE_var\"] = test[[\"EXT_SOURCE_1\", \"EXT_SOURCE_2\", \"EXT_SOURCE_3\"]].var(axis=1)\n",
        "# 歪度\n",
        "test[\"EXT_SOURCE_skew\"] = test[[\"EXT_SOURCE_1\", \"EXT_SOURCE_2\", \"EXT_SOURCE_3\"]].skew(axis=1)\n",
        "# 尖度\n",
        "test[\"EXT_SOURCE_kurtosis\"] = test[[\"EXT_SOURCE_1\", \"EXT_SOURCE_2\", \"EXT_SOURCE_3\"]].kurt(axis=1)\n",
        "\"\"\""
      ]
    },
    {
      "cell_type": "code",
      "execution_count": 155,
      "metadata": {
        "id": "sytFgLvn_7Oj"
      },
      "outputs": [],
      "source": [
        "# OWN_CAR_AGEをグループ分け\n",
        "train[\"OWN_CAR_AGE\"] = train[\"OWN_CAR_AGE\"] // 10\n",
        "test[\"OWN_CAR_AGE\"] = test[\"OWN_CAR_AGE\"] // 10\n",
        "\n",
        "# OWN_CAR_AGEをOne Hot Encoding\n",
        "train_car_age_ohe = pd.get_dummies(train[\"OWN_CAR_AGE\"]).add_prefix(\"OWN_CAR_AGE_\")\n",
        "test_car_age_ohe = pd.get_dummies(test[\"OWN_CAR_AGE\"]).add_prefix(\"OWN_CAR_AGE_\")\n",
        "\n",
        "train = pd.concat([train, train_car_age_ohe], axis=1)\n",
        "test = pd.concat([test, test_car_age_ohe], axis=1)\n",
        "\n",
        "train.drop('OWN_CAR_AGE', axis=1, inplace=True)\n",
        "test.drop('OWN_CAR_AGE', axis=1, inplace=True)\n"
      ]
    },
    {
      "cell_type": "code",
      "execution_count": 156,
      "metadata": {
        "id": "MY-x_iylBL0D"
      },
      "outputs": [],
      "source": [
        "train['DOWN_PAYMENT'] = train['AMT_GOODS_PRICE'] - train['AMT_CREDIT']\n",
        "test['DOWN_PAYMENT'] = test['AMT_GOODS_PRICE'] - test['AMT_CREDIT']\n",
        "train['DOWN_PAYMENT_RATE'] = train['DOWN_PAYMENT'] / train['AMT_CREDIT'] * 100\n",
        "test['DOWN_PAYMENT_RATE'] = test['DOWN_PAYMENT'] / test['AMT_CREDIT'] * 100\n",
        "# DOWN_PAYMENT_RATEが-30以下であれば1, それ以上であれば0をセット\n",
        "train['DOWN_PAYMENT_RATE_ALART'] = (train['DOWN_PAYMENT_RATE'] <=-30).astype(int) *100\n",
        "test['DOWN_PAYMENT_RATE_ALART'] = (test['DOWN_PAYMENT_RATE'] <= -30).astype(int) * 100\n"
      ]
    },
    {
      "cell_type": "code",
      "execution_count": 157,
      "metadata": {
        "id": "LJVK_rMAL7RA"
      },
      "outputs": [],
      "source": [
        "train['EMPLOYMENT_TO_AGE_RATIO'] = train['DAYS_EMPLOYED'] / train['DAYS_BIRTH']\n",
        "test['EMPLOYMENT_TO_AGE_RATIO'] = test['DAYS_EMPLOYED'] / test['DAYS_BIRTH']\n"
      ]
    },
    {
      "cell_type": "code",
      "execution_count": 158,
      "metadata": {
        "id": "b8Jn5lUgMfn4"
      },
      "outputs": [],
      "source": [
        "train['SOCIAL_CIRCLE_DEFAULT_RATE'] = train['DEF_30_CNT_SOCIAL_CIRCLE'] / train['OBS_30_CNT_SOCIAL_CIRCLE'].replace(0, 1)\n",
        "test['SOCIAL_CIRCLE_DEFAULT_RATE'] = test['DEF_30_CNT_SOCIAL_CIRCLE'] / test['OBS_30_CNT_SOCIAL_CIRCLE'].replace(0, 1)\n"
      ]
    },
    {
      "cell_type": "code",
      "source": [
        "\n",
        "train_client_age = train['DAYS_BIRTH'] // 365 * (-1)\n",
        "train_loan_years = train['AMT_CREDIT'] / train['AMT_ANNUITY']\n",
        "test_client_age = test['DAYS_BIRTH'] // 365 * (-1)\n",
        "test_loan_years = test['AMT_CREDIT'] / test['AMT_ANNUITY']\n",
        "train['FINISH_AGE'] = train_client_age + train_loan_years\n",
        "test['FINISH_AGE'] = test_client_age + test_loan_years\n"
      ],
      "metadata": {
        "id": "xSXbsAulHFBe"
      },
      "execution_count": 159,
      "outputs": []
    },
    {
      "cell_type": "code",
      "source": [
        "def calculate_w_city_rate(region_rating):\n",
        "    if region_rating == 1:\n",
        "        return 4.745279\n",
        "    elif region_rating == 2:\n",
        "        return 7.936173\n",
        "    elif region_rating == 3:\n",
        "        return 11.351307\n",
        "    else:\n",
        "        return None\n",
        "\n",
        "train['W_CITY_RATE'] = train['REGION_RATING_CLIENT_W_CITY'].apply(calculate_w_city_rate)\n",
        "test['W_CITY_RATE'] = test['REGION_RATING_CLIENT_W_CITY'].apply(calculate_w_city_rate)\n"
      ],
      "metadata": {
        "id": "JzRkT7fZyPoL"
      },
      "execution_count": 160,
      "outputs": []
    },
    {
      "cell_type": "code",
      "source": [
        "train['CITY_EVALUATION'] = train['REGION_RATING_CLIENT_W_CITY'] - train['REGION_RATING_CLIENT']\n",
        "test['CITY_EVALUATION'] = test['REGION_RATING_CLIENT_W_CITY'] - test['REGION_RATING_CLIENT']\n"
      ],
      "metadata": {
        "id": "oPcMt67vJ_cv"
      },
      "execution_count": 161,
      "outputs": []
    },
    {
      "cell_type": "code",
      "source": [
        "\"\"\"\n",
        "# 'CITY_EVALUATION' がマイナスのサブセットをフィルタリング\n",
        "negative_city_eval = train[train['CITY_EVALUATION'] == -1]\n",
        "\n",
        "# 'TARGET' が 1 のレコードの割合を計算（CITY_EVALUATIONがマイナスのサブセットで）\n",
        "target_ones_percentage_negative = (negative_city_eval[negative_city_eval['TARGET'] == 1].shape[0] / negative_city_eval.shape[0]) * 100\n",
        "\n",
        "# 全体で 'TARGET' が 1 のレコードの割合を計算\n",
        "total_target_ones_percentage = (train[train['TARGET'] == 1].shape[0] / train.shape[0]) * 100\n",
        "\n",
        "print(f\"全体でTARGETが1である人の割合: {total_target_ones_percentage:.2f}%\")\n",
        "print(f\"CITY_EVALUATIONがマイナスの人々の中でTARGETが1である人の割合: {target_ones_percentage_negative:.2f}%\")\n",
        "\"\"\""
      ],
      "metadata": {
        "colab": {
          "base_uri": "https://localhost:8080/",
          "height": 87
        },
        "id": "ohC-Oc-QKwSk",
        "outputId": "dc7e369c-d129-4fda-9e1a-9ceaa4c15c02"
      },
      "execution_count": 162,
      "outputs": [
        {
          "output_type": "execute_result",
          "data": {
            "text/plain": [
              "'\\n# \\'CITY_EVALUATION\\' がマイナスのサブセットをフィルタリング\\nnegative_city_eval = train[train[\\'CITY_EVALUATION\\'] == -1]\\n\\n# \\'TARGET\\' が 1 のレコードの割合を計算（CITY_EVALUATIONがマイナスのサブセットで）\\ntarget_ones_percentage_negative = (negative_city_eval[negative_city_eval[\\'TARGET\\'] == 1].shape[0] / negative_city_eval.shape[0]) * 100\\n\\n# 全体で \\'TARGET\\' が 1 のレコードの割合を計算\\ntotal_target_ones_percentage = (train[train[\\'TARGET\\'] == 1].shape[0] / train.shape[0]) * 100\\n\\nprint(f\"全体でTARGETが1である人の割合: {total_target_ones_percentage:.2f}%\")\\nprint(f\"CITY_EVALUATIONがマイナスの人々の中でTARGETが1である人の割合: {target_ones_percentage_negative:.2f}%\")\\n'"
            ],
            "application/vnd.google.colaboratory.intrinsic+json": {
              "type": "string"
            }
          },
          "metadata": {},
          "execution_count": 162
        }
      ]
    },
    {
      "cell_type": "code",
      "source": [
        "\"\"\"\n",
        "train['RATIO_QRT_YEAR'] = train['AMT_REQ_CREDIT_BUREAU_QRT'] / train['AMT_REQ_CREDIT_BUREAU_YEAR']\n",
        "train['RATIO_MON_YEAR'] = train['AMT_REQ_CREDIT_BUREAU_MON'] / train['AMT_REQ_CREDIT_BUREAU_YEAR']\n",
        "train['RATIO_HOUR_YEAR'] = train['AMT_REQ_CREDIT_BUREAU_HOUR'] / train['AMT_REQ_CREDIT_BUREAU_YEAR']\n",
        "\n",
        "train['TREND_MON_YEAR'] = train['AMT_REQ_CREDIT_BUREAU_MON'] - (train['AMT_REQ_CREDIT_BUREAU_YEAR'] / 12)\n",
        "train['TREND_QRT_YEAR'] = train['AMT_REQ_CREDIT_BUREAU_QRT'] - (train['AMT_REQ_CREDIT_BUREAU_YEAR'] / 4)\n",
        "\n",
        "train['SEASONALITY_QRT'] = train['AMT_REQ_CREDIT_BUREAU_QRT'] / train['AMT_REQ_CREDIT_BUREAU_QRT'].mean()\n",
        "train['SEASONALITY_MON'] = train['AMT_REQ_CREDIT_BUREAU_MON'] / train['AMT_REQ_CREDIT_BUREAU_MON'].mean()\n",
        "\n",
        "train['CUMULATIVE_YEAR'] = train['AMT_REQ_CREDIT_BUREAU_HOUR'] + train['AMT_REQ_CREDIT_BUREAU_MON'] * 30 + train['AMT_REQ_CREDIT_BUREAU_QRT'] * 90\n",
        "\n",
        "test['RATIO_QRT_YEAR'] = test['AMT_REQ_CREDIT_BUREAU_QRT'] / test['AMT_REQ_CREDIT_BUREAU_YEAR']\n",
        "test['RATIO_MON_YEAR'] = test['AMT_REQ_CREDIT_BUREAU_MON'] / test['AMT_REQ_CREDIT_BUREAU_YEAR']\n",
        "test['RATIO_HOUR_YEAR'] = test['AMT_REQ_CREDIT_BUREAU_HOUR'] / test['AMT_REQ_CREDIT_BUREAU_YEAR']\n",
        "\n",
        "test['TREND_MON_YEAR'] = test['AMT_REQ_CREDIT_BUREAU_MON'] - (test['AMT_REQ_CREDIT_BUREAU_YEAR'] / 12)\n",
        "test['TREND_QRT_YEAR'] = test['AMT_REQ_CREDIT_BUREAU_QRT'] - (test['AMT_REQ_CREDIT_BUREAU_YEAR'] / 4)\n",
        "\n",
        "test['SEASONALITY_QRT'] = test['AMT_REQ_CREDIT_BUREAU_QRT'] / test['AMT_REQ_CREDIT_BUREAU_QRT'].mean()\n",
        "test['SEASONALITY_MON'] = test['AMT_REQ_CREDIT_BUREAU_MON'] / test['AMT_REQ_CREDIT_BUREAU_MON'].mean()\n",
        "\n",
        "test['CUMULATIVE_YEAR'] = test['AMT_REQ_CREDIT_BUREAU_HOUR'] + test['AMT_REQ_CREDIT_BUREAU_MON'] * 30 + test['AMT_REQ_CREDIT_BUREAU_QRT'] * 90\n",
        "\"\"\""
      ],
      "metadata": {
        "id": "-Z0o-PaMP22s",
        "colab": {
          "base_uri": "https://localhost:8080/",
          "height": 122
        },
        "outputId": "9a13467d-d2b6-40df-f12b-f69d3ea8d701"
      },
      "execution_count": 163,
      "outputs": [
        {
          "output_type": "execute_result",
          "data": {
            "text/plain": [
              "\"\\ntrain['RATIO_QRT_YEAR'] = train['AMT_REQ_CREDIT_BUREAU_QRT'] / train['AMT_REQ_CREDIT_BUREAU_YEAR']\\ntrain['RATIO_MON_YEAR'] = train['AMT_REQ_CREDIT_BUREAU_MON'] / train['AMT_REQ_CREDIT_BUREAU_YEAR']\\ntrain['RATIO_HOUR_YEAR'] = train['AMT_REQ_CREDIT_BUREAU_HOUR'] / train['AMT_REQ_CREDIT_BUREAU_YEAR']\\n\\ntrain['TREND_MON_YEAR'] = train['AMT_REQ_CREDIT_BUREAU_MON'] - (train['AMT_REQ_CREDIT_BUREAU_YEAR'] / 12)\\ntrain['TREND_QRT_YEAR'] = train['AMT_REQ_CREDIT_BUREAU_QRT'] - (train['AMT_REQ_CREDIT_BUREAU_YEAR'] / 4)\\n\\ntrain['SEASONALITY_QRT'] = train['AMT_REQ_CREDIT_BUREAU_QRT'] / train['AMT_REQ_CREDIT_BUREAU_QRT'].mean()\\ntrain['SEASONALITY_MON'] = train['AMT_REQ_CREDIT_BUREAU_MON'] / train['AMT_REQ_CREDIT_BUREAU_MON'].mean()\\n\\ntrain['CUMULATIVE_YEAR'] = train['AMT_REQ_CREDIT_BUREAU_HOUR'] + train['AMT_REQ_CREDIT_BUREAU_MON'] * 30 + train['AMT_REQ_CREDIT_BUREAU_QRT'] * 90\\n\\ntest['RATIO_QRT_YEAR'] = test['AMT_REQ_CREDIT_BUREAU_QRT'] / test['AMT_REQ_CREDIT_BUREAU_YEAR']\\ntest['RATIO_MON_YEAR'] = test['AMT_REQ_CREDIT_BUREAU_MON'] / test['AMT_REQ_CREDIT_BUREAU_YEAR']\\ntest['RATIO_HOUR_YEAR'] = test['AMT_REQ_CREDIT_BUREAU_HOUR'] / test['AMT_REQ_CREDIT_BUREAU_YEAR']\\n\\ntest['TREND_MON_YEAR'] = test['AMT_REQ_CREDIT_BUREAU_MON'] - (test['AMT_REQ_CREDIT_BUREAU_YEAR'] / 12)\\ntest['TREND_QRT_YEAR'] = test['AMT_REQ_CREDIT_BUREAU_QRT'] - (test['AMT_REQ_CREDIT_BUREAU_YEAR'] / 4)\\n\\ntest['SEASONALITY_QRT'] = test['AMT_REQ_CREDIT_BUREAU_QRT'] / test['AMT_REQ_CREDIT_BUREAU_QRT'].mean()\\ntest['SEASONALITY_MON'] = test['AMT_REQ_CREDIT_BUREAU_MON'] / test['AMT_REQ_CREDIT_BUREAU_MON'].mean()\\n\\ntest['CUMULATIVE_YEAR'] = test['AMT_REQ_CREDIT_BUREAU_HOUR'] + test['AMT_REQ_CREDIT_BUREAU_MON'] * 30 + test['AMT_REQ_CREDIT_BUREAU_QRT'] * 90\\n\""
            ],
            "application/vnd.google.colaboratory.intrinsic+json": {
              "type": "string"
            }
          },
          "metadata": {},
          "execution_count": 163
        }
      ]
    },
    {
      "cell_type": "code",
      "source": [
        "with pd.option_context('display.max_rows', None, 'display.max_columns', None):\n",
        "    print(train.isnull().sum())\n"
      ],
      "metadata": {
        "colab": {
          "base_uri": "https://localhost:8080/"
        },
        "id": "XzlK8fpyn695",
        "outputId": "ccb9a852-5362-47cf-91db-56cb3b3319c0"
      },
      "execution_count": 164,
      "outputs": [
        {
          "output_type": "stream",
          "name": "stdout",
          "text": [
            "SK_ID_CURR                         0\n",
            "TARGET                             0\n",
            "NAME_CONTRACT_TYPE                 0\n",
            "CODE_GENDER                        0\n",
            "FLAG_OWN_CAR                       0\n",
            "FLAG_OWN_REALTY                    0\n",
            "CNT_CHILDREN                       0\n",
            "AMT_INCOME_TOTAL                   0\n",
            "AMT_CREDIT                         0\n",
            "AMT_ANNUITY                        0\n",
            "AMT_GOODS_PRICE                    0\n",
            "NAME_TYPE_SUITE                  466\n",
            "NAME_INCOME_TYPE                   0\n",
            "NAME_EDUCATION_TYPE                0\n",
            "NAME_FAMILY_STATUS                 0\n",
            "NAME_HOUSING_TYPE                  0\n",
            "REGION_POPULATION_RELATIVE         0\n",
            "DAYS_BIRTH                         0\n",
            "DAYS_EMPLOYED                      0\n",
            "DAYS_REGISTRATION                  0\n",
            "DAYS_ID_PUBLISH                    0\n",
            "FLAG_MOBIL                         0\n",
            "FLAG_EMP_PHONE                     0\n",
            "FLAG_WORK_PHONE                    0\n",
            "FLAG_CONT_MOBILE                   0\n",
            "FLAG_PHONE                         0\n",
            "FLAG_EMAIL                         0\n",
            "OCCUPATION_TYPE                34379\n",
            "CNT_FAM_MEMBERS                    0\n",
            "REGION_RATING_CLIENT               0\n",
            "REGION_RATING_CLIENT_W_CITY        0\n",
            "REG_REGION_NOT_LIVE_REGION         0\n",
            "REG_REGION_NOT_WORK_REGION         0\n",
            "LIVE_REGION_NOT_WORK_REGION        0\n",
            "REG_CITY_NOT_LIVE_CITY             0\n",
            "REG_CITY_NOT_WORK_CITY             0\n",
            "LIVE_CITY_NOT_WORK_CITY            0\n",
            "ORGANIZATION_TYPE                  0\n",
            "EXT_SOURCE_1                   76797\n",
            "EXT_SOURCE_2                       0\n",
            "EXT_SOURCE_3                   35327\n",
            "OBS_30_CNT_SOCIAL_CIRCLE         354\n",
            "DEF_30_CNT_SOCIAL_CIRCLE         354\n",
            "OBS_60_CNT_SOCIAL_CIRCLE         354\n",
            "DEF_60_CNT_SOCIAL_CIRCLE         354\n",
            "DAYS_LAST_PHONE_CHANGE             0\n",
            "AMT_REQ_CREDIT_BUREAU_HOUR     15124\n",
            "AMT_REQ_CREDIT_BUREAU_MON      15124\n",
            "AMT_REQ_CREDIT_BUREAU_QRT      15124\n",
            "AMT_REQ_CREDIT_BUREAU_YEAR     15124\n",
            "FLAG_AVELEGE                       0\n",
            "FLAG_STD                           0\n",
            "FLAG_SUM                           0\n",
            "ORGANIZATIOM_MEDIAN                0\n",
            "ORGANIZATION_DIFFERNCE             0\n",
            "DAYS_EMPLOYED_REC                  0\n",
            "INCOME_PER_PERSON                  0\n",
            "CHILDREM_RAITON                    0\n",
            "DSCR                               0\n",
            "Repayment_Rate                     0\n",
            "DTI                                0\n",
            "High_Repayment                     0\n",
            "EXT_SOURCE_mean                    0\n",
            "EXT_SOURCE_max                     0\n",
            "EXT_SOURCE_min                     0\n",
            "EXT_SOURCE_std                 24997\n",
            "EXT_SOURCE_count                   0\n",
            "OWN_CAR_AGE_0.0                    0\n",
            "OWN_CAR_AGE_1.0                    0\n",
            "OWN_CAR_AGE_2.0                    0\n",
            "OWN_CAR_AGE_3.0                    0\n",
            "OWN_CAR_AGE_4.0                    0\n",
            "OWN_CAR_AGE_5.0                    0\n",
            "OWN_CAR_AGE_6.0                    0\n",
            "OWN_CAR_AGE_9.0                    0\n",
            "DOWN_PAYMENT                       0\n",
            "DOWN_PAYMENT_RATE                  0\n",
            "DOWN_PAYMENT_RATE_ALART            0\n",
            "EMPLOYMENT_TO_AGE_RATIO            0\n",
            "SOCIAL_CIRCLE_DEFAULT_RATE       354\n",
            "FINISH_AGE                         0\n",
            "W_CITY_RATE                        0\n",
            "CITY_EVALUATION                    0\n",
            "dtype: int64\n"
          ]
        }
      ]
    },
    {
      "cell_type": "code",
      "source": [
        "\"\"\"\n",
        "# 数値カラムの抽出\n",
        "numerical_columns = train.select_dtypes(include=[np.number]).columns\n",
        "\n",
        "# 0と1以外の値を持ち、かつユニークな値が5つ以上の数値カラムを抽出\n",
        "filtered_columns = []\n",
        "for col in numerical_columns:\n",
        "    unique_values = train[col].unique()\n",
        "    if not np.all(np.isin(unique_values, [0, 1])) and len(unique_values) >= 5:\n",
        "        filtered_columns.append(col)\n",
        "\n",
        "# 条件に一致するカラムのデータフレーム\n",
        "filtered_df = train[filtered_columns]\n",
        "\n",
        "import pandas as pd\n",
        "\n",
        "# Pandasの表示設定を調整\n",
        "pd.set_option('display.max_columns', None)  # 列の折り返しを無効にする\n",
        "pd.set_option('display.max_rows', None)  # 行の折り返しを無効にする\n",
        "pd.set_option('display.max_colwidth', None)  # 列幅の制限を無効にする\n",
        "pd.set_option('display.width', 1000)  # コンソールの幅を広げる\n",
        "\n",
        "\n",
        "\n",
        "# 条件に一致するカラムのデータフレームを表示\n",
        "print(filtered_df)\n",
        "\"\"\""
      ],
      "metadata": {
        "colab": {
          "base_uri": "https://localhost:8080/",
          "height": 87
        },
        "id": "d-8lezZHlGzz",
        "outputId": "a40ce6c4-de5d-47f0-841b-af730f14243a"
      },
      "execution_count": 165,
      "outputs": [
        {
          "output_type": "execute_result",
          "data": {
            "text/plain": [
              "\"\\n# 数値カラムの抽出\\nnumerical_columns = train.select_dtypes(include=[np.number]).columns\\n\\n# 0と1以外の値を持ち、かつユニークな値が5つ以上の数値カラムを抽出\\nfiltered_columns = []\\nfor col in numerical_columns:\\n    unique_values = train[col].unique()\\n    if not np.all(np.isin(unique_values, [0, 1])) and len(unique_values) >= 5:\\n        filtered_columns.append(col)\\n\\n# 条件に一致するカラムのデータフレーム\\nfiltered_df = train[filtered_columns]\\n\\nimport pandas as pd\\n\\n# Pandasの表示設定を調整\\npd.set_option('display.max_columns', None)  # 列の折り返しを無効にする\\npd.set_option('display.max_rows', None)  # 行の折り返しを無効にする\\npd.set_option('display.max_colwidth', None)  # 列幅の制限を無効にする\\npd.set_option('display.width', 1000)  # コンソールの幅を広げる\\n\\n\\n\\n# 条件に一致するカラムのデータフレームを表示\\nprint(filtered_df)\\n\""
            ],
            "application/vnd.google.colaboratory.intrinsic+json": {
              "type": "string"
            }
          },
          "metadata": {},
          "execution_count": 165
        }
      ]
    },
    {
      "cell_type": "code",
      "source": [
        "\"\"\"\n",
        "import pandas as pd\n",
        "import numpy as np\n",
        "import matplotlib.pyplot as plt\n",
        "import seaborn as sns\n",
        "\n",
        "# データの読み込み\n",
        "\n",
        "# 複数の特徴量をリストで指定\n",
        "features = ['AMT_INCOME_TOTAL', 'AMT_CREDIT', 'AMT_ANNUITY','AMT_GOODS_PRICE','REGION_POPULATION_RELATIVE', 'DAYS_BIRTH', 'DAYS_EMPLOYED','DAYS_REGISTRATION','DAYS_ID_PUBLISH','DAYS_LAST_PHONE_CHANGE','FLAG_AVELEGE','INCOME_PER_PERSON',\n",
        "            'DSCR','Repayment_Rate','DTI',\n",
        "            'EMPLOYMENT_TO_AGE_RATIO','FINISH_AGE']\n",
        "\n",
        "# 各特徴量に対してビニングとプロットを実行\n",
        "for feature in features:\n",
        "    # 特徴量を10個のビンに分ける\n",
        "    train['BINNED_' + feature] = pd.qcut(train[feature], q=10, duplicates='drop', labels=False)\n",
        "\n",
        "    # ビンごとにTARGETの割合（平均）を計算\n",
        "    binned_data = train.groupby('BINNED_' + feature)['TARGET'].mean().reset_index()\n",
        "\n",
        "    # プロットの設定\n",
        "    plt.figure(figsize=(10, 6))\n",
        "\n",
        "    # データと正しい引数を用いて棒グラフを作成\n",
        "    sns.barplot(x='BINNED_' + feature, y='TARGET', data=binned_data)\n",
        "\n",
        "    plt.title(f'TARGET rate by Bins of {feature}')\n",
        "    plt.xlabel(f'Bins of {feature}')\n",
        "    plt.ylabel('Average of TARGET')\n",
        "    plt.show()\n",
        "    \"\"\""
      ],
      "metadata": {
        "colab": {
          "base_uri": "https://localhost:8080/",
          "height": 105
        },
        "id": "N7kIKGxcy9j5",
        "outputId": "8f3237fb-e4fc-440a-f23b-9acf4163bdd7"
      },
      "execution_count": 166,
      "outputs": [
        {
          "output_type": "execute_result",
          "data": {
            "text/plain": [
              "\"\\nimport pandas as pd\\nimport numpy as np\\nimport matplotlib.pyplot as plt\\nimport seaborn as sns\\n\\n# データの読み込み\\n\\n# 複数の特徴量をリストで指定\\nfeatures = ['AMT_INCOME_TOTAL', 'AMT_CREDIT', 'AMT_ANNUITY','AMT_GOODS_PRICE','REGION_POPULATION_RELATIVE', 'DAYS_BIRTH', 'DAYS_EMPLOYED','DAYS_REGISTRATION','DAYS_ID_PUBLISH','DAYS_LAST_PHONE_CHANGE','FLAG_AVELEGE','INCOME_PER_PERSON',\\n            'DSCR','Repayment_Rate','DTI',\\n            'EMPLOYMENT_TO_AGE_RATIO','FINISH_AGE']\\n\\n# 各特徴量に対してビニングとプロットを実行\\nfor feature in features:\\n    # 特徴量を10個のビンに分ける\\n    train['BINNED_' + feature] = pd.qcut(train[feature], q=10, duplicates='drop', labels=False)\\n    \\n    # ビンごとにTARGETの割合（平均）を計算\\n    binned_data = train.groupby('BINNED_' + feature)['TARGET'].mean().reset_index()\\n    \\n    # プロットの設定\\n    plt.figure(figsize=(10, 6))\\n    \\n    # データと正しい引数を用いて棒グラフを作成\\n    sns.barplot(x='BINNED_' + feature, y='TARGET', data=binned_data)\\n    \\n    plt.title(f'TARGET rate by Bins of {feature}')\\n    plt.xlabel(f'Bins of {feature}')\\n    plt.ylabel('Average of TARGET')\\n    plt.show()\\n    \""
            ],
            "application/vnd.google.colaboratory.intrinsic+json": {
              "type": "string"
            }
          },
          "metadata": {},
          "execution_count": 166
        }
      ]
    },
    {
      "cell_type": "code",
      "source": [
        "# 特徴量リスト\n",
        "features = ['AMT_INCOME_TOTAL', 'AMT_CREDIT', 'AMT_ANNUITY', 'AMT_GOODS_PRICE',\n",
        "            'REGION_POPULATION_RELATIVE', 'DAYS_BIRTH', 'DAYS_EMPLOYED',\n",
        "            'DAYS_REGISTRATION', 'DAYS_ID_PUBLISH', 'DAYS_LAST_PHONE_CHANGE',\n",
        "            'FLAG_AVELEGE', 'INCOME_PER_PERSON', 'Repayment_Rate', 'DTI',\n",
        "            'EMPLOYMENT_TO_AGE_RATIO', 'FINISH_AGE']\n",
        "\n",
        "# 特徴量ごとのグループ割り当て設定\n",
        "# 例: AMT_INCOME_TOTALでビン0とビン1をGroup1に、ビン2とビン3をGroup2に割り当てる\n",
        "groupings = {\n",
        "    'AMT_INCOME_TOTAL': {0: 'Group2', 1: 'Group3', 2: 'Group2', 3: 'Group2', 4: 'Group3', 5: 'Group1', 6: 'Group1', 7: 'Group3', 8: 'Group4', 9: 'Group4'},\n",
        "    'AMT_CREDIT': {0: 'Group13', 1: 'Group2', 2: 'Group2', 3: 'Group1', 4: 'Group1', 5: 'Group1', 6: 'Group2', 7: 'Group3', 8: 'Group3', 9: 'Group4'},\n",
        "    'AMT_ANNUITY': {0: 'Group3', 1: 'Group3', 2: 'Group2', 3: 'Group2', 4: 'Group3', 5: 'Group2', 6: 'Group1', 7: 'Group3', 8: 'Group3', 9: 'Group4'},\n",
        "    'AMT_GOODS_PRICE': {0: 'Group3', 1: 'Group3', 2: 'Group3', 3: 'Group2', 4: 'Group1', 5: 'Group4', 6: 'Group3', 7: 'Group5', 8: 'Group4', 9: 'Group5'},\n",
        "    'REGION_POPULATION_RELATIVE': {0: 'Group1', 1: 'Group1', 2: 'Group2', 3: 'Group2', 4: 'Group1', 5: 'Group1', 6: 'Group2', 7: 'Group2', 8: 'Group2', 9: 'Group3'},\n",
        "    'DAYS_BIRTH': {0: 'Group10', 1: 'Group9', 2: 'Group8', 3: 'Group7', 4: 'Group6', 5: 'Group5', 6: 'Group4', 7: 'Group3', 8: 'Group2', 9: 'Group1'},\n",
        "    'DAYS_EMPLOYED': {0: 'Group9', 1: 'Group8', 2: 'Group7', 3: 'Group6', 4: 'Group5', 5: 'Group4', 6: 'Group2', 7: 'Group3', 8: 'Group1'},\n",
        "    'DAYS_REGISTRATION': {0: 'Group3', 1: 'Group3', 2: 'Group3', 3: 'Group2', 4: 'Group2', 5: 'Group2', 6: 'Group2', 7: 'Group2', 8: 'Group2', 9: 'Group1'},\n",
        "    'DAYS_ID_PUBLISH': {0: 'Group10', 1: 'Group9', 2: 'Group8', 3: 'Group7', 4: 'Group6', 5: 'Group4', 6: 'Group5', 7: 'Group3', 8: 'Group2', 9: 'Group1'},\n",
        "    'DAYS_LAST_PHONE_CHANGE': {0: 'Group4', 1: 'Group4', 2: 'Group4', 3: 'Group3', 4: 'Group3', 5: 'Group2', 6: 'Group2', 7: 'Group1', 8: 'Group2'},\n",
        "    'FLAG_AVELEGE': {0: 'Group3', 1: 'Group2', 2: 'Group2', 3: 'Group1', 4: 'Group1', 5: 'Group1'},\n",
        "    'INCOME_PER_PERSON': {0: 'Group1', 1: 'Group1', 2: 'Group2', 3: 'Group2', 4: 'Group1', 5: 'Group1', 6: 'Group3', 7: 'Group3', 8: 'Group3', 9: 'Group3'},\n",
        "    'Repayment_Rate': {0: 'Grou4', 1: 'Group3', 2: 'Group3', 3: 'Group4', 4: 'Group2', 5: 'Group2', 6: 'Group2', 7: 'Group2', 8: 'Group1', 9: 'Group4'},\n",
        "    'DTI': {0: 'Group3', 1: 'Group2', 2: 'Group2', 3: 'Group1', 4: 'Group2', 5: 'Group1', 6: 'Group1', 7: 'Group3', 8: 'Group3', 9: 'Group3'},\n",
        "    'EMPLOYMENT_TO_AGE_RATIO': {0: 'Group4', 1: 'Group4', 2: 'Group1', 3: 'Group1', 4: 'Group1', 5: 'Group2', 6: 'Group2', 7: 'Group3', 8: 'Group3', 9: 'Group4'},\n",
        "    'FINISH_AGE': {0: 'Group1', 1: 'Group1', 2: 'Group2', 3: 'Group3', 4: 'Group3', 5: 'Group4', 6: 'Group4', 7: 'Group5', 8: 'Group5', 9: 'Group5'}\n",
        "}\n",
        "\n",
        "# train と test に対してビンとグループ割り当てを行う\n",
        "for feature in features:\n",
        "    # train データでビン分けの境界を計算\n",
        "    train[f'BINNED_{feature}'], bins = pd.qcut(train[feature], q=10, retbins=True, labels=False, duplicates='drop')\n",
        "\n",
        "    # test データに同じビンを適用\n",
        "    test[f'BINNED_{feature}'] = pd.cut(test[feature], bins=bins, labels=False, include_lowest=True)\n",
        "\n",
        "    # train と test データでグループ割り当て\n",
        "    if feature in groupings:\n",
        "        train[f'GROUPED_{feature}'] = train[f'BINNED_{feature}'].map(groupings[feature]).fillna('Other')\n",
        "        test[f'GROUPED_{feature}'] = test[f'BINNED_{feature}'].map(groupings[feature]).fillna('Other')\n",
        "\n",
        "    # 不要なビンカラムを削除\n",
        "    train.drop(columns=[f'BINNED_{feature}'], inplace=True)\n",
        "    test.drop(columns=[f'BINNED_{feature}'], inplace=True)\n",
        "\n",
        "# 結果の表示\n",
        "print(train[[f'GROUPED_{feature}' for feature in features]].head())\n",
        "print(test[[f'GROUPED_{feature}' for feature in features]].head())"
      ],
      "metadata": {
        "colab": {
          "base_uri": "https://localhost:8080/"
        },
        "id": "UvZ9uCJq5R5p",
        "outputId": "ba1d3565-acca-48c4-e6e1-2d322fec5997"
      },
      "execution_count": 167,
      "outputs": [
        {
          "output_type": "stream",
          "name": "stdout",
          "text": [
            "  GROUPED_AMT_INCOME_TOTAL GROUPED_AMT_CREDIT GROUPED_AMT_ANNUITY  \\\n",
            "0                   Group3            Group13              Group3   \n",
            "1                   Group3             Group3              Group3   \n",
            "2                   Group3             Group2              Group3   \n",
            "3                   Group2             Group2              Group2   \n",
            "4                   Group2             Group2              Group3   \n",
            "\n",
            "  GROUPED_AMT_GOODS_PRICE GROUPED_REGION_POPULATION_RELATIVE  \\\n",
            "0                  Group3                             Group2   \n",
            "1                  Group4                             Group1   \n",
            "2                  Group3                             Group2   \n",
            "3                  Group3                             Group2   \n",
            "4                  Group3                             Group1   \n",
            "\n",
            "  GROUPED_DAYS_BIRTH GROUPED_DAYS_EMPLOYED GROUPED_DAYS_REGISTRATION  \\\n",
            "0             Group1                Group5                    Group2   \n",
            "1             Group4                Group8                    Group2   \n",
            "2             Group1                Group3                    Group2   \n",
            "3             Group8                Group7                    Group3   \n",
            "4             Group3                Group8                    Group3   \n",
            "\n",
            "  GROUPED_DAYS_ID_PUBLISH GROUPED_DAYS_LAST_PHONE_CHANGE GROUPED_FLAG_AVELEGE  \\\n",
            "0                  Group9                         Group2               Group2   \n",
            "1                  Group2                         Group2               Group2   \n",
            "2                  Group9                         Group2               Group2   \n",
            "3                  Group6                         Group4               Group2   \n",
            "4                  Group2                         Group4               Group2   \n",
            "\n",
            "  GROUPED_INCOME_PER_PERSON GROUPED_Repayment_Rate GROUPED_DTI  \\\n",
            "0                    Group1                 Group4      Group3   \n",
            "1                    Group1                 Group4      Group3   \n",
            "2                    Group1                 Group2      Group1   \n",
            "3                    Group1                 Group3      Group3   \n",
            "4                    Group3                 Group3      Group3   \n",
            "\n",
            "  GROUPED_EMPLOYMENT_TO_AGE_RATIO GROUPED_FINISH_AGE  \n",
            "0                          Group2             Group1  \n",
            "1                          Group4             Group3  \n",
            "2                          Group1             Group1  \n",
            "3                          Group2             Group5  \n",
            "4                          Group3             Group3  \n",
            "  GROUPED_AMT_INCOME_TOTAL GROUPED_AMT_CREDIT GROUPED_AMT_ANNUITY  \\\n",
            "0                   Group3             Group3              Group1   \n",
            "1                   Group2             Group2              Group2   \n",
            "2                   Group1             Group2              Group3   \n",
            "3                   Group3             Group1              Group3   \n",
            "4                   Group3             Group1              Group2   \n",
            "\n",
            "  GROUPED_AMT_GOODS_PRICE GROUPED_REGION_POPULATION_RELATIVE  \\\n",
            "0                  Group5                             Group2   \n",
            "1                  Group3                             Group1   \n",
            "2                  Group3                             Group1   \n",
            "3                  Group1                             Group2   \n",
            "4                  Group1                             Group1   \n",
            "\n",
            "  GROUPED_DAYS_BIRTH GROUPED_DAYS_EMPLOYED GROUPED_DAYS_REGISTRATION  \\\n",
            "0             Group3                Group7                    Group2   \n",
            "1             Group7                Group6                    Group3   \n",
            "2             Group5                Group2                    Group2   \n",
            "3             Group2                Group5                    Group2   \n",
            "4             Group2                Group7                    Group2   \n",
            "\n",
            "  GROUPED_DAYS_ID_PUBLISH GROUPED_DAYS_LAST_PHONE_CHANGE GROUPED_FLAG_AVELEGE  \\\n",
            "0                  Group6                         Group2               Group2   \n",
            "1                 Group10                         Group1               Group2   \n",
            "2                  Group2                         Group2               Group2   \n",
            "3                  Group9                         Group2               Group2   \n",
            "4                  Group8                         Group3               Group2   \n",
            "\n",
            "  GROUPED_INCOME_PER_PERSON GROUPED_Repayment_Rate GROUPED_DTI  \\\n",
            "0                    Group2                 Group3       Other   \n",
            "1                    Group2                 Group2       Other   \n",
            "2                    Group1                 Group2       Other   \n",
            "3                    Group2                 Group2       Other   \n",
            "4                    Group1                 Group2       Other   \n",
            "\n",
            "  GROUPED_EMPLOYMENT_TO_AGE_RATIO GROUPED_FINISH_AGE  \n",
            "0                          Group3             Group4  \n",
            "1                          Group2             Group4  \n",
            "2                          Group1             Group3  \n",
            "3                          Group2             Group1  \n",
            "4                          Group3             Group2  \n"
          ]
        }
      ]
    },
    {
      "cell_type": "code",
      "execution_count": 383,
      "metadata": {
        "id": "xAiZe4LJbPF-",
        "colab": {
          "base_uri": "https://localhost:8080/"
        },
        "outputId": "974efb29-fcdb-470b-f78e-945e07809983"
      },
      "outputs": [
        {
          "output_type": "stream",
          "name": "stdout",
          "text": [
            "(110568, 35)\n",
            "(61500, 35)\n"
          ]
        }
      ],
      "source": [
        "#特定の特徴量を選択\n",
        "# 連続値特徴量\n",
        "\"\"\"\n",
        "features_numerical = ['SK_ID_CURR',\n",
        "    'CNT_CHILDREN', 'AMT_INCOME_TOTAL', 'AMT_CREDIT', 'AMT_ANNUITY', 'AMT_GOODS_PRICE',\n",
        "    'REGION_POPULATION_RELATIVE', 'DAYS_BIRTH', 'DAYS_EMPLOYED', 'DAYS_REGISTRATION',\n",
        "    'DAYS_ID_PUBLISH', 'DAYS_LAST_PHONE_CHANGE', 'OBS_30_CNT_SOCIAL_CIRCLE',\n",
        "    'DEF_30_CNT_SOCIAL_CIRCLE', 'OBS_60_CNT_SOCIAL_CIRCLE', 'DEF_60_CNT_SOCIAL_CIRCLE',\n",
        "    'AMT_REQ_CREDIT_BUREAU_HOUR', 'AMT_REQ_CREDIT_BUREAU_MON', 'AMT_REQ_CREDIT_BUREAU_QRT',\n",
        "    'AMT_REQ_CREDIT_BUREAU_YEAR', 'ORGANIZATIOM_MEDIAN', 'ORGANIZATION_DIFFERNCE',\n",
        "    'DAYS_EMPLOYED_REC', 'INCOME_PER_PERSON', 'CHILDREM_RAITON', 'DSCR', 'Repayment_Rate',\n",
        "    'DTI', 'EXT_SOURCE_mean', 'EXT_SOURCE_max', 'EXT_SOURCE_min', 'EXT_SOURCE_std',\n",
        "    'EXT_SOURCE_count', 'DOWN_PAYMENT', 'DOWN_PAYMENT_RATE', 'DOWN_PAYMENT_RATE_ALART',\n",
        "\n",
        "    'EMPLOYMENT_TO_AGE_RATIO', 'SOCIAL_CIRCLE_DEFAULT_RATE', 'FINISH_AGE', 'W_CITY_RATE'\n",
        "]\n",
        "\n",
        "# 離散値特徴量\n",
        "features_categorical = [\n",
        "    'NAME_CONTRACT_TYPE', 'CODE_GENDER', 'FLAG_OWN_CAR', 'FLAG_OWN_REALTY',\n",
        "    'NAME_TYPE_SUITE', 'NAME_INCOME_TYPE', 'NAME_EDUCATION_TYPE', 'NAME_FAMILY_STATUS',\n",
        "    'NAME_HOUSING_TYPE', 'FLAG_MOBIL', 'FLAG_EMP_PHONE', 'FLAG_WORK_PHONE',\n",
        "    'FLAG_CONT_MOBILE', 'FLAG_PHONE', 'FLAG_EMAIL', 'OCCUPATION_TYPE', 'CNT_FAM_MEMBERS',\n",
        "    'REGION_RATING_CLIENT', 'REGION_RATING_CLIENT_W_CITY', 'REG_REGION_NOT_LIVE_REGION',\n",
        "    'REG_REGION_NOT_WORK_REGION', 'LIVE_REGION_NOT_WORK_REGION', 'REG_CITY_NOT_LIVE_CITY',\n",
        "    'REG_CITY_NOT_WORK_CITY', 'LIVE_CITY_NOT_WORK_CITY', 'ORGANIZATION_TYPE', 'High_Repayment',\n",
        "    'CITY_EVALUATION', 'GROUPED_AMT_INCOME_TOTAL', 'GROUPED_AMT_CREDIT', 'GROUPED_AMT_ANNUITY',\n",
        "    'GROUPED_AMT_GOODS_PRICE', 'GROUPED_REGION_POPULATION_RELATIVE', 'GROUPED_DAYS_BIRTH',\n",
        "    'GROUPED_DAYS_EMPLOYED', 'GROUPED_DAYS_REGISTRATION', 'GROUPED_DAYS_ID_PUBLISH',\n",
        "    'GROUPED_DAYS_LAST_PHONE_CHANGE', 'GROUPED_FLAG_AVELEGE', 'GROUPED_INCOME_PER_PERSON',\n",
        "    'GROUPED_Repayment_Rate', 'GROUPED_DTI', 'GROUPED_EMPLOYMENT_TO_AGE_RATIO',\n",
        "    'GROUPED_FINISH_AGE',\n",
        "    'OWN_CAR_AGE_0.0', 'OWN_CAR_AGE_1.0', 'OWN_CAR_AGE_2.0',\n",
        "    'OWN_CAR_AGE_3.0', 'OWN_CAR_AGE_4.0', 'OWN_CAR_AGE_5.0', 'OWN_CAR_AGE_6.0',\n",
        "    'OWN_CAR_AGE_9.0'\n",
        "]\n",
        "\"\"\"\n",
        "numerical_gomi = ['CNT_CHILDREN', 'REGION_POPULATION_RELATIVE','DAYS_REGISTRATION','OBS_60_CNT_SOCIAL_CIRCLE','DEF_60_CNT_SOCIAL_CIRCLE',\n",
        "                   'AMT_REQ_CREDIT_BUREAU_MON','ORGANIZATION_DIFFERNCE', 'DAYS_EMPLOYED_REC', 'CHILDREM_RAITON', 'DSCR','DTI',\n",
        "                   'EXT_SOURCE_max', 'EXT_SOURCE_min', 'EXT_SOURCE_std', 'EXT_SOURCE_count','DOWN_PAYMENT','DOWN_PAYMENT_RATE','DOWN_PAYMENT_RATE_ALART',\n",
        "                   'EMPLOYMENT_TO_AGE_RATIO','SOCIAL_CIRCLE_DEFAULT_RATE', 'FINISH_AGE',  'W_CITY_RATE' ]\n",
        "\n",
        "categorical_gomi = ['NAME_CONTRACT_TYPE','FLAG_OWN_CAR','NAME_TYPE_SUITE',  'NAME_INCOME_TYPE', 'FLAG_WORK_PHONE','FLAG_CONT_MOBILE',\n",
        "                     'FLAG_PHONE', 'FLAG_EMAIL', 'OCCUPATION_TYPE',  'CNT_FAM_MEMBERS','REGION_RATING_CLIENT','REG_REGION_NOT_LIVE_REGION',\n",
        "                    'REG_REGION_NOT_WORK_REGION','LIVE_REGION_NOT_WORK_REGION', 'REG_CITY_NOT_LIVE_CITY','REG_CITY_NOT_WORK_CITY',\n",
        "                    'LIVE_CITY_NOT_WORK_CITY','ORGANIZATION_TYPE',  'High_Repayment','CITY_EVALUATION',\n",
        "                    'GROUPED_AMT_CREDIT', 'GROUPED_AMT_ANNUITY',\n",
        "                    'GROUPED_AMT_INCOME_TOTAL', 'GROUPED_AMT_CREDIT', 'GROUPED_AMT_ANNUITY',\n",
        "                    'GROUPED_AMT_GOODS_PRICE', 'GROUPED_REGION_POPULATION_RELATIVE', 'GROUPED_DAYS_BIRTH',\n",
        "                    'GROUPED_DAYS_EMPLOYED', 'GROUPED_DAYS_REGISTRATION', 'GROUPED_DAYS_ID_PUBLISH',\n",
        "                    'GROUPED_DAYS_LAST_PHONE_CHANGE', 'GROUPED_FLAG_AVELEGE', 'GROUPED_INCOME_PER_PERSON',\n",
        "                    'GROUPED_Repayment_Rate', 'GROUPED_DTI', 'GROUPED_EMPLOYMENT_TO_AGE_RATIO',\n",
        "                    'GROUPED_FINISH_AGE'\n",
        "                    ]\n",
        "\n",
        "features_numerical = ['SK_ID_CURR','EXT_SOURCE_mean','EXT_SOURCE_1', 'EXT_SOURCE_2', 'EXT_SOURCE_3','AMT_INCOME_TOTAL', 'AMT_CREDIT', 'AMT_ANNUITY', 'AMT_GOODS_PRICE',\n",
        "                      'DAYS_BIRTH',  'DAYS_EMPLOYED', 'DAYS_ID_PUBLISH', 'DAYS_LAST_PHONE_CHANGE', 'OBS_30_CNT_SOCIAL_CIRCLE','DEF_30_CNT_SOCIAL_CIRCLE',\n",
        "                      'AMT_REQ_CREDIT_BUREAU_HOUR',  'AMT_REQ_CREDIT_BUREAU_QRT','AMT_REQ_CREDIT_BUREAU_YEAR', 'ORGANIZATIOM_MEDIAN',\n",
        "                      'INCOME_PER_PERSON','Repayment_Rate',\n",
        "                      ]\n",
        "\n",
        "features_categorical = ['CODE_GENDER', 'NAME_EDUCATION_TYPE','NAME_FAMILY_STATUS','NAME_HOUSING_TYPE', 'FLAG_MOBIL',  'FLAG_EMP_PHONE',\n",
        "                        'OWN_CAR_AGE_0.0', 'OWN_CAR_AGE_1.0', 'OWN_CAR_AGE_2.0','OWN_CAR_AGE_3.0', 'OWN_CAR_AGE_4.0', 'OWN_CAR_AGE_5.0', 'OWN_CAR_AGE_6.0','OWN_CAR_AGE_9.0',\n",
        "                        'GROUPED_AMT_CREDIT', 'GROUPED_AMT_ANNUITY',\n",
        "                    'GROUPED_AMT_INCOME_TOTAL', 'GROUPED_AMT_CREDIT', 'GROUPED_AMT_ANNUITY',\n",
        "                    'GROUPED_AMT_GOODS_PRICE', 'GROUPED_REGION_POPULATION_RELATIVE', 'GROUPED_DAYS_BIRTH',\n",
        "                    'GROUPED_DAYS_EMPLOYED', 'GROUPED_DAYS_REGISTRATION', 'GROUPED_DAYS_ID_PUBLISH',\n",
        "                    'GROUPED_DAYS_LAST_PHONE_CHANGE', 'GROUPED_FLAG_AVELEGE', 'GROUPED_INCOME_PER_PERSON',\n",
        "                    'GROUPED_Repayment_Rate', 'GROUPED_DTI', 'GROUPED_EMPLOYMENT_TO_AGE_RATIO',\n",
        "                    'GROUPED_FINISH_AGE'\n",
        "                        ]\n",
        "\n",
        "# OrdinalEncoder の初期化\n",
        "encoder = OrdinalEncoder(handle_unknown='use_encoded_value', unknown_value=-1)\n",
        "\n",
        "\n",
        "# カテゴリカル特徴量をエンコード\n",
        "train_cat_encoded = encoder.fit_transform(train[features_categorical])\n",
        "test_cat_encoded = encoder.transform(test[features_categorical])\n",
        "\n",
        "# エンコードされたデータをデータフレームに変換\n",
        "train_cat_encoded = pd.DataFrame(train_cat_encoded, columns=features_categorical, index=train.index)\n",
        "test_cat_encoded = pd.DataFrame(test_cat_encoded, columns=features_categorical, index=test.index)\n",
        "\n",
        "# 元のデータから選択した連続値の特徴量を抽出\n",
        "train_num = train[features_numerical]\n",
        "test_num = test[features_numerical]\n",
        "\n",
        "# エンコードされたカテゴリカルデータと数値データを結合\n",
        "train_processed = pd.concat([train_num, train_cat_encoded], axis=1)\n",
        "test_processed = pd.concat([test_num, test_cat_encoded], axis=1)\n",
        "\n",
        "# 結果の表示\n",
        "print(train_processed.shape)\n",
        "print(test_processed.shape)"
      ]
    },
    {
      "cell_type": "code",
      "execution_count": 384,
      "metadata": {
        "id": "bJB5nhsuxEy4",
        "colab": {
          "base_uri": "https://localhost:8080/"
        },
        "outputId": "c4f96cc8-e61f-47c7-cb55-bee050cee530"
      },
      "outputs": [
        {
          "output_type": "stream",
          "name": "stdout",
          "text": [
            "[LightGBM] [Info] Number of positive: 11057, number of negative: 77397\n",
            "[LightGBM] [Info] Auto-choosing col-wise multi-threading, the overhead of testing was 0.042052 seconds.\n",
            "You can set `force_col_wise=true` to remove the overhead.\n",
            "[LightGBM] [Info] Total Bins 3783\n",
            "[LightGBM] [Info] Number of data points in the train set: 88454, number of used features: 32\n",
            "[LightGBM] [Info] [binary:BoostFromScore]: pavg=0.125003 -> initscore=-1.945884\n",
            "[LightGBM] [Info] Start training from score -1.945884\n",
            "Training until validation scores don't improve for 100 rounds\n",
            "Early stopping, best iteration is:\n",
            "[268]\tvalid_0's auc: 0.761984\n"
          ]
        }
      ],
      "source": [
        "X_train = train_processed\n",
        "y_train = train[\"TARGET\"]\n",
        "id_train = train_processed[[\"SK_ID_CURR\"]]\n",
        "for col in X_train.columns:\n",
        "    if X_train[col].dtype==\"O\":\n",
        "        X_train[col] = X_train[col].astype(\"category\")\n",
        "\n",
        "# 層化分割したバリデーションのindexのリスト作成\n",
        "cv = list(StratifiedKFold(n_splits=5, shuffle=True, random_state=123).split(X_train, y_train))\n",
        "\n",
        "nfold = 0\n",
        "idx_tr, idx_va = cv[nfold][0], cv[nfold][1]\n",
        "\n",
        "# 学習データと検証データに分離\n",
        "x_tr, y_tr, id_tr = X_train.loc[idx_tr, :], y_train[idx_tr], id_train.loc[idx_tr, :]\n",
        "x_va, y_va, id_va = X_train.loc[idx_va, :], y_train[idx_va], id_train.loc[idx_va, :]\n",
        "\n",
        "# モデルの学習\n",
        "params = {\n",
        "    'boosting_type': 'gbdt',\n",
        "    'objective': 'binary',\n",
        "    'metric': 'auc',\n",
        "    'learning_rate': 0.05,\n",
        "    'num_leaves': 32,\n",
        "    'n_estimators': 1000,\n",
        "    'max_depth': 10,\n",
        "    'min_child_samples': 20,\n",
        "    \"random_state\": 123,\n",
        "    \"importance_type\": \"gain\",\n",
        "}\n",
        "\n",
        "model = lgb.LGBMClassifier(**params)\n",
        "\n",
        "# 早期停止コールバックの作成\n",
        "early_stopping_callback = lgb.early_stopping(stopping_rounds=100, verbose=True)\n",
        "\n",
        "model.fit(x_tr, y_tr,\n",
        "          eval_set=[(x_va, y_va)],\n",
        "          callbacks=[early_stopping_callback]\n",
        "         )\n",
        "\n",
        "# モデルの保存\n",
        "with open(\"model_lgb_fold0.pickle\", \"wb\") as f:\n",
        "    pickle.dump(model, f, protocol=4)"
      ]
    },
    {
      "cell_type": "code",
      "execution_count": 385,
      "metadata": {
        "id": "sk-6HI54xbm-",
        "colab": {
          "base_uri": "https://localhost:8080/"
        },
        "outputId": "150e1b1d-fc93-4464-f897-e1506d9fa4e7"
      },
      "outputs": [
        {
          "output_type": "stream",
          "name": "stdout",
          "text": [
            "[auc] tr:0.8407, va:0.7620\n"
          ]
        }
      ],
      "source": [
        "'''モデル評価'''\n",
        "# 学習データの推論値取得とROC計算\n",
        "y_tr_pred = model.predict_proba(x_tr)[:,1]\n",
        "metric_tr = roc_auc_score(y_tr, y_tr_pred)\n",
        "\n",
        "# 検証データの推論値取得とROC計算\n",
        "y_va_pred = model.predict_proba(x_va)[:,1]\n",
        "metric_va = roc_auc_score(y_va, y_va_pred)\n",
        "\n",
        "# 評価値を入れる変数の作成（最初のfoldのときのみ）\n",
        "metrics = []\n",
        "\n",
        "# 評価値を格納\n",
        "metrics.append([nfold, metric_tr, metric_va])\n",
        "\n",
        "# 結果の表示\n",
        "print(\"[auc] tr:{:.4f}, va:{:.4f}\".format(metric_tr, metric_va))"
      ]
    },
    {
      "cell_type": "code",
      "execution_count": 386,
      "metadata": {
        "id": "mh6nZLJPBcUk",
        "colab": {
          "base_uri": "https://localhost:8080/",
          "height": 677
        },
        "outputId": "eefd5687-b635-46e8-e4b0-7ff83f8c3e19"
      },
      "outputs": [
        {
          "output_type": "display_data",
          "data": {
            "text/plain": [
              "                           col           imp  nfold\n",
              "1              EXT_SOURCE_mean  56261.100162      0\n",
              "20              Repayment_Rate  15410.656048      0\n",
              "4                 EXT_SOURCE_3   9465.754332      0\n",
              "9                   DAYS_BIRTH   7384.499947      0\n",
              "3                 EXT_SOURCE_2   6498.612690      0\n",
              "10               DAYS_EMPLOYED   5999.160074      0\n",
              "7                  AMT_ANNUITY   5087.064458      0\n",
              "2                 EXT_SOURCE_1   5085.373222      0\n",
              "8              AMT_GOODS_PRICE   5060.425156      0\n",
              "11             DAYS_ID_PUBLISH   4625.318905      0\n",
              "6                   AMT_CREDIT   4300.256068      0\n",
              "12      DAYS_LAST_PHONE_CHANGE   4142.702256      0\n",
              "0                   SK_ID_CURR   3491.398670      0\n",
              "5             AMT_INCOME_TOTAL   3036.682366      0\n",
              "22         NAME_EDUCATION_TYPE   2778.729093      0\n",
              "19           INCOME_PER_PERSON   2684.134873      0\n",
              "21                 CODE_GENDER   2375.643924      0\n",
              "18         ORGANIZATIOM_MEDIAN   2070.750784      0\n",
              "17  AMT_REQ_CREDIT_BUREAU_YEAR   1964.101061      0\n",
              "13    OBS_30_CNT_SOCIAL_CIRCLE   1757.646264      0"
            ],
            "text/html": [
              "\n",
              "  <div id=\"df-8b6a2a13-753d-4a50-90b6-ae67b95d7ed0\" class=\"colab-df-container\">\n",
              "    <div>\n",
              "<style scoped>\n",
              "    .dataframe tbody tr th:only-of-type {\n",
              "        vertical-align: middle;\n",
              "    }\n",
              "\n",
              "    .dataframe tbody tr th {\n",
              "        vertical-align: top;\n",
              "    }\n",
              "\n",
              "    .dataframe thead th {\n",
              "        text-align: right;\n",
              "    }\n",
              "</style>\n",
              "<table border=\"1\" class=\"dataframe\">\n",
              "  <thead>\n",
              "    <tr style=\"text-align: right;\">\n",
              "      <th></th>\n",
              "      <th>col</th>\n",
              "      <th>imp</th>\n",
              "      <th>nfold</th>\n",
              "    </tr>\n",
              "  </thead>\n",
              "  <tbody>\n",
              "    <tr>\n",
              "      <th>1</th>\n",
              "      <td>EXT_SOURCE_mean</td>\n",
              "      <td>56261.100162</td>\n",
              "      <td>0</td>\n",
              "    </tr>\n",
              "    <tr>\n",
              "      <th>20</th>\n",
              "      <td>Repayment_Rate</td>\n",
              "      <td>15410.656048</td>\n",
              "      <td>0</td>\n",
              "    </tr>\n",
              "    <tr>\n",
              "      <th>4</th>\n",
              "      <td>EXT_SOURCE_3</td>\n",
              "      <td>9465.754332</td>\n",
              "      <td>0</td>\n",
              "    </tr>\n",
              "    <tr>\n",
              "      <th>9</th>\n",
              "      <td>DAYS_BIRTH</td>\n",
              "      <td>7384.499947</td>\n",
              "      <td>0</td>\n",
              "    </tr>\n",
              "    <tr>\n",
              "      <th>3</th>\n",
              "      <td>EXT_SOURCE_2</td>\n",
              "      <td>6498.612690</td>\n",
              "      <td>0</td>\n",
              "    </tr>\n",
              "    <tr>\n",
              "      <th>10</th>\n",
              "      <td>DAYS_EMPLOYED</td>\n",
              "      <td>5999.160074</td>\n",
              "      <td>0</td>\n",
              "    </tr>\n",
              "    <tr>\n",
              "      <th>7</th>\n",
              "      <td>AMT_ANNUITY</td>\n",
              "      <td>5087.064458</td>\n",
              "      <td>0</td>\n",
              "    </tr>\n",
              "    <tr>\n",
              "      <th>2</th>\n",
              "      <td>EXT_SOURCE_1</td>\n",
              "      <td>5085.373222</td>\n",
              "      <td>0</td>\n",
              "    </tr>\n",
              "    <tr>\n",
              "      <th>8</th>\n",
              "      <td>AMT_GOODS_PRICE</td>\n",
              "      <td>5060.425156</td>\n",
              "      <td>0</td>\n",
              "    </tr>\n",
              "    <tr>\n",
              "      <th>11</th>\n",
              "      <td>DAYS_ID_PUBLISH</td>\n",
              "      <td>4625.318905</td>\n",
              "      <td>0</td>\n",
              "    </tr>\n",
              "    <tr>\n",
              "      <th>6</th>\n",
              "      <td>AMT_CREDIT</td>\n",
              "      <td>4300.256068</td>\n",
              "      <td>0</td>\n",
              "    </tr>\n",
              "    <tr>\n",
              "      <th>12</th>\n",
              "      <td>DAYS_LAST_PHONE_CHANGE</td>\n",
              "      <td>4142.702256</td>\n",
              "      <td>0</td>\n",
              "    </tr>\n",
              "    <tr>\n",
              "      <th>0</th>\n",
              "      <td>SK_ID_CURR</td>\n",
              "      <td>3491.398670</td>\n",
              "      <td>0</td>\n",
              "    </tr>\n",
              "    <tr>\n",
              "      <th>5</th>\n",
              "      <td>AMT_INCOME_TOTAL</td>\n",
              "      <td>3036.682366</td>\n",
              "      <td>0</td>\n",
              "    </tr>\n",
              "    <tr>\n",
              "      <th>22</th>\n",
              "      <td>NAME_EDUCATION_TYPE</td>\n",
              "      <td>2778.729093</td>\n",
              "      <td>0</td>\n",
              "    </tr>\n",
              "    <tr>\n",
              "      <th>19</th>\n",
              "      <td>INCOME_PER_PERSON</td>\n",
              "      <td>2684.134873</td>\n",
              "      <td>0</td>\n",
              "    </tr>\n",
              "    <tr>\n",
              "      <th>21</th>\n",
              "      <td>CODE_GENDER</td>\n",
              "      <td>2375.643924</td>\n",
              "      <td>0</td>\n",
              "    </tr>\n",
              "    <tr>\n",
              "      <th>18</th>\n",
              "      <td>ORGANIZATIOM_MEDIAN</td>\n",
              "      <td>2070.750784</td>\n",
              "      <td>0</td>\n",
              "    </tr>\n",
              "    <tr>\n",
              "      <th>17</th>\n",
              "      <td>AMT_REQ_CREDIT_BUREAU_YEAR</td>\n",
              "      <td>1964.101061</td>\n",
              "      <td>0</td>\n",
              "    </tr>\n",
              "    <tr>\n",
              "      <th>13</th>\n",
              "      <td>OBS_30_CNT_SOCIAL_CIRCLE</td>\n",
              "      <td>1757.646264</td>\n",
              "      <td>0</td>\n",
              "    </tr>\n",
              "  </tbody>\n",
              "</table>\n",
              "</div>\n",
              "    <div class=\"colab-df-buttons\">\n",
              "\n",
              "  <div class=\"colab-df-container\">\n",
              "    <button class=\"colab-df-convert\" onclick=\"convertToInteractive('df-8b6a2a13-753d-4a50-90b6-ae67b95d7ed0')\"\n",
              "            title=\"Convert this dataframe to an interactive table.\"\n",
              "            style=\"display:none;\">\n",
              "\n",
              "  <svg xmlns=\"http://www.w3.org/2000/svg\" height=\"24px\" viewBox=\"0 -960 960 960\">\n",
              "    <path d=\"M120-120v-720h720v720H120Zm60-500h600v-160H180v160Zm220 220h160v-160H400v160Zm0 220h160v-160H400v160ZM180-400h160v-160H180v160Zm440 0h160v-160H620v160ZM180-180h160v-160H180v160Zm440 0h160v-160H620v160Z\"/>\n",
              "  </svg>\n",
              "    </button>\n",
              "\n",
              "  <style>\n",
              "    .colab-df-container {\n",
              "      display:flex;\n",
              "      gap: 12px;\n",
              "    }\n",
              "\n",
              "    .colab-df-convert {\n",
              "      background-color: #E8F0FE;\n",
              "      border: none;\n",
              "      border-radius: 50%;\n",
              "      cursor: pointer;\n",
              "      display: none;\n",
              "      fill: #1967D2;\n",
              "      height: 32px;\n",
              "      padding: 0 0 0 0;\n",
              "      width: 32px;\n",
              "    }\n",
              "\n",
              "    .colab-df-convert:hover {\n",
              "      background-color: #E2EBFA;\n",
              "      box-shadow: 0px 1px 2px rgba(60, 64, 67, 0.3), 0px 1px 3px 1px rgba(60, 64, 67, 0.15);\n",
              "      fill: #174EA6;\n",
              "    }\n",
              "\n",
              "    .colab-df-buttons div {\n",
              "      margin-bottom: 4px;\n",
              "    }\n",
              "\n",
              "    [theme=dark] .colab-df-convert {\n",
              "      background-color: #3B4455;\n",
              "      fill: #D2E3FC;\n",
              "    }\n",
              "\n",
              "    [theme=dark] .colab-df-convert:hover {\n",
              "      background-color: #434B5C;\n",
              "      box-shadow: 0px 1px 3px 1px rgba(0, 0, 0, 0.15);\n",
              "      filter: drop-shadow(0px 1px 2px rgba(0, 0, 0, 0.3));\n",
              "      fill: #FFFFFF;\n",
              "    }\n",
              "  </style>\n",
              "\n",
              "    <script>\n",
              "      const buttonEl =\n",
              "        document.querySelector('#df-8b6a2a13-753d-4a50-90b6-ae67b95d7ed0 button.colab-df-convert');\n",
              "      buttonEl.style.display =\n",
              "        google.colab.kernel.accessAllowed ? 'block' : 'none';\n",
              "\n",
              "      async function convertToInteractive(key) {\n",
              "        const element = document.querySelector('#df-8b6a2a13-753d-4a50-90b6-ae67b95d7ed0');\n",
              "        const dataTable =\n",
              "          await google.colab.kernel.invokeFunction('convertToInteractive',\n",
              "                                                    [key], {});\n",
              "        if (!dataTable) return;\n",
              "\n",
              "        const docLinkHtml = 'Like what you see? Visit the ' +\n",
              "          '<a target=\"_blank\" href=https://colab.research.google.com/notebooks/data_table.ipynb>data table notebook</a>'\n",
              "          + ' to learn more about interactive tables.';\n",
              "        element.innerHTML = '';\n",
              "        dataTable['output_type'] = 'display_data';\n",
              "        await google.colab.output.renderOutput(dataTable, element);\n",
              "        const docLink = document.createElement('div');\n",
              "        docLink.innerHTML = docLinkHtml;\n",
              "        element.appendChild(docLink);\n",
              "      }\n",
              "    </script>\n",
              "  </div>\n",
              "\n",
              "\n",
              "<div id=\"df-44983374-83e1-46b9-9df3-5d68d3237353\">\n",
              "  <button class=\"colab-df-quickchart\" onclick=\"quickchart('df-44983374-83e1-46b9-9df3-5d68d3237353')\"\n",
              "            title=\"Suggest charts\"\n",
              "            style=\"display:none;\">\n",
              "\n",
              "<svg xmlns=\"http://www.w3.org/2000/svg\" height=\"24px\"viewBox=\"0 0 24 24\"\n",
              "     width=\"24px\">\n",
              "    <g>\n",
              "        <path d=\"M19 3H5c-1.1 0-2 .9-2 2v14c0 1.1.9 2 2 2h14c1.1 0 2-.9 2-2V5c0-1.1-.9-2-2-2zM9 17H7v-7h2v7zm4 0h-2V7h2v10zm4 0h-2v-4h2v4z\"/>\n",
              "    </g>\n",
              "</svg>\n",
              "  </button>\n",
              "\n",
              "<style>\n",
              "  .colab-df-quickchart {\n",
              "      --bg-color: #E8F0FE;\n",
              "      --fill-color: #1967D2;\n",
              "      --hover-bg-color: #E2EBFA;\n",
              "      --hover-fill-color: #174EA6;\n",
              "      --disabled-fill-color: #AAA;\n",
              "      --disabled-bg-color: #DDD;\n",
              "  }\n",
              "\n",
              "  [theme=dark] .colab-df-quickchart {\n",
              "      --bg-color: #3B4455;\n",
              "      --fill-color: #D2E3FC;\n",
              "      --hover-bg-color: #434B5C;\n",
              "      --hover-fill-color: #FFFFFF;\n",
              "      --disabled-bg-color: #3B4455;\n",
              "      --disabled-fill-color: #666;\n",
              "  }\n",
              "\n",
              "  .colab-df-quickchart {\n",
              "    background-color: var(--bg-color);\n",
              "    border: none;\n",
              "    border-radius: 50%;\n",
              "    cursor: pointer;\n",
              "    display: none;\n",
              "    fill: var(--fill-color);\n",
              "    height: 32px;\n",
              "    padding: 0;\n",
              "    width: 32px;\n",
              "  }\n",
              "\n",
              "  .colab-df-quickchart:hover {\n",
              "    background-color: var(--hover-bg-color);\n",
              "    box-shadow: 0 1px 2px rgba(60, 64, 67, 0.3), 0 1px 3px 1px rgba(60, 64, 67, 0.15);\n",
              "    fill: var(--button-hover-fill-color);\n",
              "  }\n",
              "\n",
              "  .colab-df-quickchart-complete:disabled,\n",
              "  .colab-df-quickchart-complete:disabled:hover {\n",
              "    background-color: var(--disabled-bg-color);\n",
              "    fill: var(--disabled-fill-color);\n",
              "    box-shadow: none;\n",
              "  }\n",
              "\n",
              "  .colab-df-spinner {\n",
              "    border: 2px solid var(--fill-color);\n",
              "    border-color: transparent;\n",
              "    border-bottom-color: var(--fill-color);\n",
              "    animation:\n",
              "      spin 1s steps(1) infinite;\n",
              "  }\n",
              "\n",
              "  @keyframes spin {\n",
              "    0% {\n",
              "      border-color: transparent;\n",
              "      border-bottom-color: var(--fill-color);\n",
              "      border-left-color: var(--fill-color);\n",
              "    }\n",
              "    20% {\n",
              "      border-color: transparent;\n",
              "      border-left-color: var(--fill-color);\n",
              "      border-top-color: var(--fill-color);\n",
              "    }\n",
              "    30% {\n",
              "      border-color: transparent;\n",
              "      border-left-color: var(--fill-color);\n",
              "      border-top-color: var(--fill-color);\n",
              "      border-right-color: var(--fill-color);\n",
              "    }\n",
              "    40% {\n",
              "      border-color: transparent;\n",
              "      border-right-color: var(--fill-color);\n",
              "      border-top-color: var(--fill-color);\n",
              "    }\n",
              "    60% {\n",
              "      border-color: transparent;\n",
              "      border-right-color: var(--fill-color);\n",
              "    }\n",
              "    80% {\n",
              "      border-color: transparent;\n",
              "      border-right-color: var(--fill-color);\n",
              "      border-bottom-color: var(--fill-color);\n",
              "    }\n",
              "    90% {\n",
              "      border-color: transparent;\n",
              "      border-bottom-color: var(--fill-color);\n",
              "    }\n",
              "  }\n",
              "</style>\n",
              "\n",
              "  <script>\n",
              "    async function quickchart(key) {\n",
              "      const quickchartButtonEl =\n",
              "        document.querySelector('#' + key + ' button');\n",
              "      quickchartButtonEl.disabled = true;  // To prevent multiple clicks.\n",
              "      quickchartButtonEl.classList.add('colab-df-spinner');\n",
              "      try {\n",
              "        const charts = await google.colab.kernel.invokeFunction(\n",
              "            'suggestCharts', [key], {});\n",
              "      } catch (error) {\n",
              "        console.error('Error during call to suggestCharts:', error);\n",
              "      }\n",
              "      quickchartButtonEl.classList.remove('colab-df-spinner');\n",
              "      quickchartButtonEl.classList.add('colab-df-quickchart-complete');\n",
              "    }\n",
              "    (() => {\n",
              "      let quickchartButtonEl =\n",
              "        document.querySelector('#df-44983374-83e1-46b9-9df3-5d68d3237353 button');\n",
              "      quickchartButtonEl.style.display =\n",
              "        google.colab.kernel.accessAllowed ? 'block' : 'none';\n",
              "    })();\n",
              "  </script>\n",
              "</div>\n",
              "\n",
              "    </div>\n",
              "  </div>\n"
            ],
            "application/vnd.google.colaboratory.intrinsic+json": {
              "type": "dataframe",
              "summary": "{\n  \"name\": \"imp = pd\",\n  \"rows\": 20,\n  \"fields\": [\n    {\n      \"column\": \"col\",\n      \"properties\": {\n        \"dtype\": \"string\",\n        \"num_unique_values\": 20,\n        \"samples\": [\n          \"EXT_SOURCE_mean\",\n          \"ORGANIZATIOM_MEDIAN\",\n          \"INCOME_PER_PERSON\"\n        ],\n        \"semantic_type\": \"\",\n        \"description\": \"\"\n      }\n    },\n    {\n      \"column\": \"imp\",\n      \"properties\": {\n        \"dtype\": \"number\",\n        \"std\": 11910.96377552928,\n        \"min\": 1757.6462643146515,\n        \"max\": 56261.10016179085,\n        \"num_unique_values\": 20,\n        \"samples\": [\n          56261.10016179085,\n          2070.750783801079,\n          2684.13487303257\n        ],\n        \"semantic_type\": \"\",\n        \"description\": \"\"\n      }\n    },\n    {\n      \"column\": \"nfold\",\n      \"properties\": {\n        \"dtype\": \"number\",\n        \"std\": 0,\n        \"min\": 0,\n        \"max\": 0,\n        \"num_unique_values\": 1,\n        \"samples\": [\n          0\n        ],\n        \"semantic_type\": \"\",\n        \"description\": \"\"\n      }\n    }\n  ]\n}"
            }
          },
          "metadata": {}
        }
      ],
      "source": [
        "'''説明変数の重要度取得（学習したモデルから説明変数の重要度を取得）'''\n",
        "# 重要度の取得\n",
        "imp_fold = pd.DataFrame({\"col\":X_train.columns, \"imp\":model.feature_importances_, \"nfold\":nfold})\n",
        "# 確認（重要度の上位10個）\n",
        "display(imp_fold.sort_values(\"imp\", ascending=False)[:20])\n",
        "#display(imp_fold.sort_values(\"imp\", ascending=False))\n",
        "# 重要度を格納する5fold用データフレームの作成\n",
        "imp = pd.DataFrame()\n",
        "# imp_foldを5fold用データフレームに結合\n",
        "imp = pd.concat([imp, imp_fold])"
      ]
    },
    {
      "cell_type": "code",
      "execution_count": 387,
      "metadata": {
        "id": "bd7Emdn5fMgb",
        "colab": {
          "base_uri": "https://localhost:8080/"
        },
        "outputId": "8aba7ec7-6999-42a1-8f61-7d4099fbec30"
      },
      "outputs": [
        {
          "output_type": "stream",
          "name": "stdout",
          "text": [
            "Low importance features (imp <= 100): ['FLAG_MOBIL' 'FLAG_EMP_PHONE' 'OWN_CAR_AGE_2.0' 'OWN_CAR_AGE_3.0'\n",
            " 'OWN_CAR_AGE_4.0' 'OWN_CAR_AGE_5.0' 'OWN_CAR_AGE_6.0' 'OWN_CAR_AGE_9.0']\n"
          ]
        }
      ],
      "source": [
        "# impが1000以下の列名を取得\n",
        "low_importance_cols = imp[imp['imp'] <= 100]['col'].unique()\n",
        "\n",
        "# 低重要度の特徴量名を表示\n",
        "print(\"Low importance features (imp <= 100):\", low_importance_cols)"
      ]
    },
    {
      "cell_type": "code",
      "source": [
        "\"\"\"\n",
        "acc(best)=0.7650\n",
        "{'num_leaves': 8,\n",
        " 'min_child_samples': 162,\n",
        " 'min_sum_hessian_in_leaf': 0.005601209352739659,\n",
        " 'feature_fraction': 0.9837355499283265,\n",
        " 'bagging_fraction': 0.9194559319217107,\n",
        " 'lambda_l1': 1.599804930752984,\n",
        " 'lambda_l2': 2.007013372654526}\n",
        "\"\"\""
      ],
      "metadata": {
        "id": "OPmphjrRfZl3",
        "colab": {
          "base_uri": "https://localhost:8080/",
          "height": 53
        },
        "outputId": "3d8f6b72-cfe2-49d1-932f-972cf1ff58ad"
      },
      "execution_count": 230,
      "outputs": [
        {
          "output_type": "execute_result",
          "data": {
            "text/plain": [
              "\"\\nacc(best)=0.7650\\n{'num_leaves': 8,\\n 'min_child_samples': 162,\\n 'min_sum_hessian_in_leaf': 0.005601209352739659,\\n 'feature_fraction': 0.9837355499283265,\\n 'bagging_fraction': 0.9194559319217107,\\n 'lambda_l1': 1.599804930752984,\\n 'lambda_l2': 2.007013372654526}\\n\""
            ],
            "application/vnd.google.colaboratory.intrinsic+json": {
              "type": "string"
            }
          },
          "metadata": {},
          "execution_count": 230
        }
      ]
    },
    {
      "cell_type": "code",
      "execution_count": 388,
      "metadata": {
        "id": "TpfbxUW92VwO"
      },
      "outputs": [],
      "source": [
        "#目的関数の定義\n",
        "# 探索しないハイパーパラメータ\n",
        "\"\"\"\n",
        "params_base = {\n",
        "    \"boosting_type\": \"gbdt\",\n",
        "    \"objective\": \"binary\",\n",
        "    \"metric\": \"auc\",\n",
        "    \"verbosity\": -1,\n",
        "    \"learning_rate\": 0.05,\n",
        "    \"n_estimators\": 1000,\n",
        "    \"bagging_freq\": 1,\n",
        "    \"random_state\": 123,\n",
        "}\n",
        "\n",
        "# 目的関数の定義\n",
        "def objective(trial):\n",
        "    # 探索するハイパーパラメータ\n",
        "    params_tuning = {\n",
        "        #\"learning_rate\": trial.suggest_float(\"learning_rate\", 1e-4, 1e-1, log=True),\n",
        "        #\"boosting_type\": trial.suggest_categorical(\"boosting_type\", [\"gbdt\"]),\n",
        "        \"num_leaves\": trial.suggest_int(\"num_leaves\", 8, 256),\n",
        "        \"min_child_samples\": trial.suggest_int(\"min_child_samples\", 5, 200),\n",
        "        \"min_sum_hessian_in_leaf\": trial.suggest_float(\"min_sum_hessian_in_leaf\", 1e-5, 1e-2, log=True),\n",
        "        \"feature_fraction\": trial.suggest_float(\"feature_fraction\", 0.5, 1.0),\n",
        "        \"bagging_fraction\": trial.suggest_float(\"bagging_fraction\", 0.5, 1.0),\n",
        "        \"lambda_l1\": trial.suggest_float(\"lambda_l1\", 1e-2, 1e+2, log=True),\n",
        "        \"lambda_l2\": trial.suggest_float(\"lambda_l2\", 1e-2, 1e+2, log=True),\n",
        "    }\n",
        "    params_tuning.update(params_base)\n",
        "\n",
        "params_base = {\n",
        "    \"objective\": \"binary\",\n",
        "    \"metric\": \"auc\",\n",
        "    \"verbosity\": -1,\n",
        "    \"n_estimators\": 1000,\n",
        "    \"bagging_freq\": 1,\n",
        "    \"random_state\": 123,\n",
        "    \"num_leaves\": 8,\n",
        "    \"min_child_samples\": 162,\n",
        "    \"min_sum_hessian_in_leaf\": 0.005601209352739659,\n",
        "    \"feature_fraction\": 0.9837355499283265,\n",
        "    \"bagging_fraction\": 0.9194559319217107,\n",
        "    \"lambda_l1\": 1.599804930752984,\n",
        "    \"lambda_l2\": 2.007013372654526\n",
        "}\n",
        "\n",
        "def objective(trial):\n",
        "    # 探索するハイパーパラメータ\n",
        "    params_tuning = {\n",
        "        \"learning_rate\": trial.suggest_float(\"learning_rate\", 0.01, 1, log=True),\n",
        "        \"boosting_type\": trial.suggest_categorical(\"boosting_type\", [\"gbdt\"]),\n",
        "    }\n",
        "    params_tuning.update(params_base)\n",
        "\"\"\"\n",
        "params_base = {\n",
        "    \"boosting_type\": \"gbdt\",\n",
        "    \"objective\": \"binary\",\n",
        "    \"metric\": \"auc\",\n",
        "    \"verbosity\": -1,\n",
        "    \"learning_rate\": 0.05,\n",
        "    \"n_estimators\": 1000,\n",
        "    \"bagging_freq\": 1,\n",
        "    \"random_state\": 123,\n",
        "}\n",
        "\n",
        "# 目的関数の定義\n",
        "def objective(trial):\n",
        "    params_tuning = {\n",
        "        \"learning_rate\": trial.suggest_float(\"learning_rate\", 1e-4, 1e-1, log=True),\n",
        "        \"num_leaves\": trial.suggest_int(\"num_leaves\", 8, 256),\n",
        "        \"min_child_samples\": trial.suggest_int(\"min_child_samples\", 5, 200),\n",
        "        \"min_sum_hessian_in_leaf\": trial.suggest_float(\"min_sum_hessian_in_leaf\", 1e-5, 1e-2, log=True),\n",
        "        \"feature_fraction\": trial.suggest_float(\"feature_fraction\", 0.5, 1.0),\n",
        "        \"bagging_fraction\": trial.suggest_float(\"bagging_fraction\", 0.5, 1.0),\n",
        "        \"lambda_l1\": trial.suggest_float(\"lambda_l1\", 1e-2, 1e+2, log=True),\n",
        "        \"lambda_l2\": trial.suggest_float(\"lambda_l2\", 1e-2, 1e+2, log=True),\n",
        "        \"max_depth\": trial.suggest_int(\"max_depth\", 3, 15),\n",
        "        \"colsample_bytree\": trial.suggest_float(\"colsample_bytree\", 0.5, 1.0),\n",
        "        \"subsample\": trial.suggest_float(\"subsample\", 0.5, 1.0)\n",
        "    }\n",
        "    params_tuning.update(params_base)\n",
        "    # モデル学習・評価\n",
        "    list_metrics = []\n",
        "    cv = list(StratifiedKFold(n_splits=5, shuffle=True, random_state=123).split(X_train, y_train))\n",
        "    list_fold = [0]  # 処理高速化のために1つめのfoldのみとする。\n",
        "    for nfold in list_fold:\n",
        "        idx_tr, idx_va = cv[nfold][0], cv[nfold][1]\n",
        "        x_tr, y_tr = X_train.loc[idx_tr, :], y_train[idx_tr]\n",
        "        x_va, y_va = X_train.loc[idx_va, :], y_train[idx_va]\n",
        "        model = lgb.LGBMClassifier(**params_tuning)\n",
        "        # 早期停止コールバックの作成\n",
        "        early_stopping_callback = lgb.early_stopping(stopping_rounds=30, verbose=True)\n",
        "\n",
        "        model.fit(x_tr,\n",
        "                  y_tr,\n",
        "                  eval_set=[(x_va,y_va)],\n",
        "                  callbacks=[early_stopping_callback]\n",
        "                 )\n",
        "        y_va_pred = model.predict_proba(x_va)[:,1]\n",
        "        metric_va = roc_auc_score(y_va, y_va_pred) # 評価指標をAUCにする\n",
        "        list_metrics.append(metric_va)\n",
        "\n",
        "    # 評価指標の算出\n",
        "    metrics = np.mean(list_metrics)\n",
        "\n",
        "    return metrics"
      ]
    },
    {
      "cell_type": "code",
      "execution_count": 389,
      "metadata": {
        "colab": {
          "base_uri": "https://localhost:8080/",
          "height": 1000
        },
        "id": "R62uSTUj2fbl",
        "outputId": "432ae98d-9604-4c04-8f30-cda5a74bf468"
      },
      "outputs": [
        {
          "output_type": "stream",
          "name": "stderr",
          "text": [
            "[I 2024-07-07 10:28:07,062] A new study created in memory with name: no-name-491b7663-940e-41c5-943f-eb5bbd39154a\n",
            "  0%|          | 0/100 [00:00<?, ?it/s]"
          ]
        },
        {
          "output_type": "stream",
          "name": "stdout",
          "text": [
            "Training until validation scores don't improve for 30 rounds\n",
            "Training until validation scores don't improve for 30 rounds\n",
            "Early stopping, best iteration is:\n",
            "[171]\tvalid_0's auc: 0.758712\n"
          ]
        },
        {
          "output_type": "stream",
          "name": "stderr",
          "text": [
            "[I 2024-07-07 10:28:21,884] Trial 1 finished with value: 0.7587119367878631 and parameters: {'learning_rate': 0.03595301364284723, 'num_leaves': 207, 'min_child_samples': 52, 'min_sum_hessian_in_leaf': 0.0010645214559208158, 'feature_fraction': 0.7412202426600298, 'bagging_fraction': 0.7227907946143035, 'lambda_l1': 4.194016608573109, 'lambda_l2': 0.032302245913788635, 'max_depth': 10, 'colsample_bytree': 0.5814445380939584, 'subsample': 0.5164226788850845}. Best is trial 1 with value: 0.7587119367878631.\n",
            "  1%|          | 1/100 [00:14<24:26, 14.82s/it]"
          ]
        },
        {
          "output_type": "stream",
          "name": "stdout",
          "text": [
            "Training until validation scores don't improve for 30 rounds\n",
            "Early stopping, best iteration is:\n",
            "[664]\tvalid_0's auc: 0.761388\n"
          ]
        },
        {
          "output_type": "stream",
          "name": "stderr",
          "text": [
            "[I 2024-07-07 10:28:32,630] Trial 0 finished with value: 0.7613881316445851 and parameters: {'learning_rate': 0.003895287289071859, 'num_leaves': 214, 'min_child_samples': 83, 'min_sum_hessian_in_leaf': 0.0007173638140880527, 'feature_fraction': 0.7298429992823918, 'bagging_fraction': 0.8323838436406328, 'lambda_l1': 45.42959490114746, 'lambda_l2': 1.9200131452327784, 'max_depth': 5, 'colsample_bytree': 0.5389415604933547, 'subsample': 0.5201463320378146}. Best is trial 0 with value: 0.7613881316445851.\n",
            "  2%|▏         | 2/100 [00:25<20:17, 12.42s/it]"
          ]
        },
        {
          "output_type": "stream",
          "name": "stdout",
          "text": [
            "Training until validation scores don't improve for 30 rounds\n",
            "Early stopping, best iteration is:\n",
            "[170]\tvalid_0's auc: 0.759264\n"
          ]
        },
        {
          "output_type": "stream",
          "name": "stderr",
          "text": [
            "[I 2024-07-07 10:28:34,637] Trial 2 finished with value: 0.7592635471940827 and parameters: {'learning_rate': 0.0003308194005542131, 'num_leaves': 222, 'min_child_samples': 96, 'min_sum_hessian_in_leaf': 0.0002422848249343616, 'feature_fraction': 0.9403709196229686, 'bagging_fraction': 0.6590384908997111, 'lambda_l1': 0.0264686458742382, 'lambda_l2': 1.3339348924608365, 'max_depth': 8, 'colsample_bytree': 0.5133368615391833, 'subsample': 0.6860141789087526}. Best is trial 0 with value: 0.7613881316445851.\n",
            "  3%|▎         | 3/100 [00:27<12:23,  7.67s/it]"
          ]
        },
        {
          "output_type": "stream",
          "name": "stdout",
          "text": [
            "Training until validation scores don't improve for 30 rounds\n",
            "Early stopping, best iteration is:\n",
            "[310]\tvalid_0's auc: 0.764031\n"
          ]
        },
        {
          "output_type": "stream",
          "name": "stderr",
          "text": [
            "[I 2024-07-07 10:28:45,565] Trial 3 finished with value: 0.7640312695154011 and parameters: {'learning_rate': 0.00023470506052023006, 'num_leaves': 139, 'min_child_samples': 136, 'min_sum_hessian_in_leaf': 0.00014942477663476366, 'feature_fraction': 0.7236325987382773, 'bagging_fraction': 0.9257391388754783, 'lambda_l1': 0.02236001213825725, 'lambda_l2': 0.09766278337411129, 'max_depth': 5, 'colsample_bytree': 0.9692718739374877, 'subsample': 0.5042369376908815}. Best is trial 3 with value: 0.7640312695154011.\n",
            "  4%|▍         | 4/100 [00:38<14:19,  8.96s/it]"
          ]
        },
        {
          "output_type": "stream",
          "name": "stdout",
          "text": [
            "Training until validation scores don't improve for 30 rounds\n",
            "Early stopping, best iteration is:\n",
            "[689]\tvalid_0's auc: 0.759734\n",
            "Early stopping, best iteration is:\n",
            "[475]\tvalid_0's auc: 0.765073\n"
          ]
        },
        {
          "output_type": "stream",
          "name": "stderr",
          "text": [
            "[I 2024-07-07 10:29:04,053] Trial 5 finished with value: 0.7650729946114121 and parameters: {'learning_rate': 0.002515417673218131, 'num_leaves': 234, 'min_child_samples': 126, 'min_sum_hessian_in_leaf': 0.00044687624069601045, 'feature_fraction': 0.5779701001554007, 'bagging_fraction': 0.9453350238010843, 'lambda_l1': 6.868886233612037, 'lambda_l2': 28.078748351132592, 'max_depth': 5, 'colsample_bytree': 0.9953505775713269, 'subsample': 0.6928576456831839}. Best is trial 5 with value: 0.7650729946114121.\n",
            "  5%|▌         | 5/100 [00:56<19:37, 12.39s/it][I 2024-07-07 10:29:04,376] Trial 4 finished with value: 0.7596528829505976 and parameters: {'learning_rate': 0.02382055009161993, 'num_leaves': 98, 'min_child_samples': 161, 'min_sum_hessian_in_leaf': 0.0008581684383268257, 'feature_fraction': 0.8599077833228246, 'bagging_fraction': 0.9307096878052059, 'lambda_l1': 46.284850648430044, 'lambda_l2': 1.786758964211885, 'max_depth': 9, 'colsample_bytree': 0.6146468418196034, 'subsample': 0.5905726898982432}. Best is trial 5 with value: 0.7650729946114121.\n",
            "  6%|▌         | 6/100 [00:57<12:59,  8.29s/it]"
          ]
        },
        {
          "output_type": "stream",
          "name": "stdout",
          "text": [
            "Training until validation scores don't improve for 30 rounds\n",
            "Training until validation scores don't improve for 30 rounds\n",
            "Early stopping, best iteration is:\n",
            "[227]\tvalid_0's auc: 0.761543\n"
          ]
        },
        {
          "output_type": "stream",
          "name": "stderr",
          "text": [
            "[I 2024-07-07 10:29:17,333] Trial 6 finished with value: 0.7615430208251532 and parameters: {'learning_rate': 0.00011839723279969148, 'num_leaves': 92, 'min_child_samples': 11, 'min_sum_hessian_in_leaf': 0.0001084809392428396, 'feature_fraction': 0.580320303659033, 'bagging_fraction': 0.7114824036404837, 'lambda_l1': 0.8404935633421243, 'lambda_l2': 7.6820007479875665, 'max_depth': 7, 'colsample_bytree': 0.6837025025186754, 'subsample': 0.8180994672371381}. Best is trial 5 with value: 0.7650729946114121.\n",
            "  7%|▋         | 7/100 [01:10<15:12,  9.81s/it]"
          ]
        },
        {
          "output_type": "stream",
          "name": "stdout",
          "text": [
            "Training until validation scores don't improve for 30 rounds\n",
            "Early stopping, best iteration is:\n",
            "[360]\tvalid_0's auc: 0.761673\n"
          ]
        },
        {
          "output_type": "stream",
          "name": "stderr",
          "text": [
            "[I 2024-07-07 10:29:19,385] Trial 7 finished with value: 0.7616731546610724 and parameters: {'learning_rate': 0.0006368781657790586, 'num_leaves': 19, 'min_child_samples': 133, 'min_sum_hessian_in_leaf': 0.0003363854776757207, 'feature_fraction': 0.8299449063242017, 'bagging_fraction': 0.5705587883752306, 'lambda_l1': 2.4492021735317495, 'lambda_l2': 60.55166352504205, 'max_depth': 6, 'colsample_bytree': 0.6328621540179644, 'subsample': 0.6849200725029995}. Best is trial 5 with value: 0.7650729946114121.\n",
            "  8%|▊         | 8/100 [01:12<11:15,  7.35s/it]"
          ]
        },
        {
          "output_type": "stream",
          "name": "stdout",
          "text": [
            "Training until validation scores don't improve for 30 rounds\n",
            "Early stopping, best iteration is:\n",
            "[111]\tvalid_0's auc: 0.759641\n"
          ]
        },
        {
          "output_type": "stream",
          "name": "stderr",
          "text": [
            "[I 2024-07-07 10:29:30,027] Trial 9 finished with value: 0.7596414962399548 and parameters: {'learning_rate': 0.00018103801709171716, 'num_leaves': 124, 'min_child_samples': 151, 'min_sum_hessian_in_leaf': 0.001266972991272739, 'feature_fraction': 0.7015555743465111, 'bagging_fraction': 0.7347548842193714, 'lambda_l1': 0.08296450098193368, 'lambda_l2': 0.026108457237267298, 'max_depth': 13, 'colsample_bytree': 0.6910341227791881, 'subsample': 0.7173060495560122}. Best is trial 5 with value: 0.7650729946114121.\n",
            "  9%|▉         | 9/100 [01:22<12:42,  8.37s/it]"
          ]
        },
        {
          "output_type": "stream",
          "name": "stdout",
          "text": [
            "Training until validation scores don't improve for 30 rounds\n",
            "Early stopping, best iteration is:\n",
            "[578]\tvalid_0's auc: 0.76434\n"
          ]
        },
        {
          "output_type": "stream",
          "name": "stderr",
          "text": [
            "[I 2024-07-07 10:29:36,466] Trial 8 finished with value: 0.7643404869548307 and parameters: {'learning_rate': 0.0017968996370786334, 'num_leaves': 145, 'min_child_samples': 95, 'min_sum_hessian_in_leaf': 1.733882678865994e-05, 'feature_fraction': 0.7653677306162732, 'bagging_fraction': 0.5639209413507558, 'lambda_l1': 2.6345877708880083, 'lambda_l2': 23.475063909479715, 'max_depth': 4, 'colsample_bytree': 0.9674018845039194, 'subsample': 0.6338977521860361}. Best is trial 5 with value: 0.7650729946114121.\n",
            " 10%|█         | 10/100 [01:29<11:39,  7.78s/it]"
          ]
        },
        {
          "output_type": "stream",
          "name": "stdout",
          "text": [
            "Training until validation scores don't improve for 30 rounds\n",
            "Early stopping, best iteration is:\n",
            "[314]\tvalid_0's auc: 0.759627\n"
          ]
        },
        {
          "output_type": "stream",
          "name": "stderr",
          "text": [
            "[I 2024-07-07 10:29:47,513] Trial 10 finished with value: 0.7596269870651455 and parameters: {'learning_rate': 0.0244917021088731, 'num_leaves': 212, 'min_child_samples': 197, 'min_sum_hessian_in_leaf': 0.000231093604041543, 'feature_fraction': 0.7015291401533932, 'bagging_fraction': 0.7870819519015484, 'lambda_l1': 27.973343489685863, 'lambda_l2': 0.7361509326656578, 'max_depth': 14, 'colsample_bytree': 0.7985165834887323, 'subsample': 0.9893783666744982}. Best is trial 5 with value: 0.7650729946114121.\n",
            " 11%|█         | 11/100 [01:40<13:01,  8.78s/it]"
          ]
        },
        {
          "output_type": "stream",
          "name": "stdout",
          "text": [
            "Training until validation scores don't improve for 30 rounds\n",
            "Early stopping, best iteration is:\n",
            "[617]\tvalid_0's auc: 0.762818\n"
          ]
        },
        {
          "output_type": "stream",
          "name": "stderr",
          "text": [
            "[I 2024-07-07 10:30:05,869] Trial 12 finished with value: 0.7628182950223807 and parameters: {'learning_rate': 0.001849862231299343, 'num_leaves': 253, 'min_child_samples': 66, 'min_sum_hessian_in_leaf': 1.0115812945881003e-05, 'feature_fraction': 0.5551232238210564, 'bagging_fraction': 0.5004262482733043, 'lambda_l1': 0.5053397806884715, 'lambda_l2': 58.66455943089521, 'max_depth': 3, 'colsample_bytree': 0.9878642124494599, 'subsample': 0.8217990194390249}. Best is trial 5 with value: 0.7650729946114121.\n",
            " 12%|█▏        | 12/100 [01:58<17:08, 11.69s/it]"
          ]
        },
        {
          "output_type": "stream",
          "name": "stdout",
          "text": [
            "Training until validation scores don't improve for 30 rounds\n",
            "Early stopping, best iteration is:\n",
            "[942]\tvalid_0's auc: 0.76582\n"
          ]
        },
        {
          "output_type": "stream",
          "name": "stderr",
          "text": [
            "[I 2024-07-07 10:30:09,441] Trial 11 finished with value: 0.7658197683767299 and parameters: {'learning_rate': 0.005956229394332295, 'num_leaves': 246, 'min_child_samples': 197, 'min_sum_hessian_in_leaf': 0.008567563490167497, 'feature_fraction': 0.5188536807768107, 'bagging_fraction': 0.9855709373427409, 'lambda_l1': 0.3536514505997793, 'lambda_l2': 0.21346305960206355, 'max_depth': 3, 'colsample_bytree': 0.8558710691493102, 'subsample': 0.9731438901459192}. Best is trial 11 with value: 0.7658197683767299.\n",
            " 13%|█▎        | 13/100 [02:02<13:23,  9.23s/it]"
          ]
        },
        {
          "output_type": "stream",
          "name": "stdout",
          "text": [
            "Training until validation scores don't improve for 30 rounds\n",
            "Early stopping, best iteration is:\n",
            "[963]\tvalid_0's auc: 0.76543\n"
          ]
        },
        {
          "output_type": "stream",
          "name": "stderr",
          "text": [
            "[I 2024-07-07 10:30:33,124] Trial 13 finished with value: 0.7654302082515323 and parameters: {'learning_rate': 0.003906481785597938, 'num_leaves': 164, 'min_child_samples': 113, 'min_sum_hessian_in_leaf': 0.008834216907964727, 'feature_fraction': 0.6249030578324991, 'bagging_fraction': 0.9979335550839039, 'lambda_l1': 7.453440610969817, 'lambda_l2': 11.14258919334069, 'max_depth': 3, 'colsample_bytree': 0.8847975087995581, 'subsample': 0.6259365474559966}. Best is trial 11 with value: 0.7658197683767299.\n",
            " 14%|█▍        | 14/100 [02:26<19:29, 13.60s/it]"
          ]
        },
        {
          "output_type": "stream",
          "name": "stdout",
          "text": [
            "Early stopping, best iteration is:\n",
            "[742]\tvalid_0's auc: 0.764935\n",
            "Training until validation scores don't improve for 30 rounds\n"
          ]
        },
        {
          "output_type": "stream",
          "name": "stderr",
          "text": [
            "[I 2024-07-07 10:30:36,240] Trial 14 finished with value: 0.7649346713185774 and parameters: {'learning_rate': 0.005836516100720695, 'num_leaves': 251, 'min_child_samples': 199, 'min_sum_hessian_in_leaf': 0.00996288831203791, 'feature_fraction': 0.504287689219342, 'bagging_fraction': 0.9886671139101734, 'lambda_l1': 0.20893994300854418, 'lambda_l2': 0.17126555778349703, 'max_depth': 3, 'colsample_bytree': 0.8611302154038886, 'subsample': 0.9633367603587817}. Best is trial 11 with value: 0.7658197683767299.\n",
            " 15%|█▌        | 15/100 [02:29<14:46, 10.44s/it]"
          ]
        },
        {
          "output_type": "stream",
          "name": "stdout",
          "text": [
            "Training until validation scores don't improve for 30 rounds\n",
            "Early stopping, best iteration is:\n",
            "[256]\tvalid_0's auc: 0.760182\n"
          ]
        },
        {
          "output_type": "stream",
          "name": "stderr",
          "text": [
            "[I 2024-07-07 10:30:53,131] Trial 16 finished with value: 0.7601823369494086 and parameters: {'learning_rate': 0.007874379245194319, 'num_leaves': 172, 'min_child_samples': 163, 'min_sum_hessian_in_leaf': 0.008108055230553503, 'feature_fraction': 0.6389775050970784, 'bagging_fraction': 0.8729480543879091, 'lambda_l1': 13.352442460142905, 'lambda_l2': 0.3438173569148694, 'max_depth': 11, 'colsample_bytree': 0.8464687038388712, 'subsample': 0.8763832514154658}. Best is trial 11 with value: 0.7658197683767299.\n",
            " 16%|█▌        | 16/100 [02:46<17:19, 12.38s/it]"
          ]
        },
        {
          "output_type": "stream",
          "name": "stdout",
          "text": [
            "Early stopping, best iteration is:\n",
            "[739]\tvalid_0's auc: 0.764127\n",
            "Training until validation scores don't improve for 30 rounds\n"
          ]
        },
        {
          "output_type": "stream",
          "name": "stderr",
          "text": [
            "[I 2024-07-07 10:30:55,141] Trial 15 finished with value: 0.7641273554037327 and parameters: {'learning_rate': 0.009311952454500335, 'num_leaves': 174, 'min_child_samples': 195, 'min_sum_hessian_in_leaf': 0.00995200275634353, 'feature_fraction': 0.6342650837488502, 'bagging_fraction': 0.9908333761347128, 'lambda_l1': 0.23939236547668394, 'lambda_l2': 0.30262978905046894, 'max_depth': 3, 'colsample_bytree': 0.8511274959673458, 'subsample': 0.9847817166357417}. Best is trial 11 with value: 0.7658197683767299.\n",
            " 17%|█▋        | 17/100 [02:48<12:48,  9.26s/it]"
          ]
        },
        {
          "output_type": "stream",
          "name": "stdout",
          "text": [
            "Training until validation scores don't improve for 30 rounds\n",
            "Early stopping, best iteration is:\n",
            "[909]\tvalid_0's auc: 0.765185\n"
          ]
        },
        {
          "output_type": "stream",
          "name": "stderr",
          "text": [
            "[I 2024-07-07 10:31:16,793] Trial 17 finished with value: 0.7651851228605513 and parameters: {'learning_rate': 0.09400247409763346, 'num_leaves': 172, 'min_child_samples': 29, 'min_sum_hessian_in_leaf': 0.00331636104907649, 'feature_fraction': 0.6379171127799353, 'bagging_fraction': 0.9892176183526826, 'lambda_l1': 0.26225146091555535, 'lambda_l2': 5.439531742710244, 'max_depth': 3, 'colsample_bytree': 0.8919989194263913, 'subsample': 0.9129221759595911}. Best is trial 11 with value: 0.7658197683767299.\n",
            " 18%|█▊        | 18/100 [03:09<17:44, 12.98s/it]"
          ]
        },
        {
          "output_type": "stream",
          "name": "stdout",
          "text": [
            "Training until validation scores don't improve for 30 rounds\n",
            "Early stopping, best iteration is:\n",
            "[867]\tvalid_0's auc: 0.753971\n"
          ]
        },
        {
          "output_type": "stream",
          "name": "stderr",
          "text": [
            "[I 2024-07-07 10:31:26,530] Trial 18 finished with value: 0.7539562555858452 and parameters: {'learning_rate': 0.0685624277053172, 'num_leaves': 49, 'min_child_samples': 17, 'min_sum_hessian_in_leaf': 0.0031693779060652035, 'feature_fraction': 0.5069689597593224, 'bagging_fraction': 0.8752554208777837, 'lambda_l1': 99.92281466933206, 'lambda_l2': 5.086363803535892, 'max_depth': 7, 'colsample_bytree': 0.9119199410430585, 'subsample': 0.7935786368752592}. Best is trial 11 with value: 0.7658197683767299.\n",
            " 19%|█▉        | 19/100 [03:19<16:12, 12.01s/it]"
          ]
        },
        {
          "output_type": "stream",
          "name": "stdout",
          "text": [
            "Training until validation scores don't improve for 30 rounds\n",
            "Early stopping, best iteration is:\n",
            "[288]\tvalid_0's auc: 0.764591\n"
          ]
        },
        {
          "output_type": "stream",
          "name": "stderr",
          "text": [
            "[I 2024-07-07 10:31:31,805] Trial 19 finished with value: 0.7645908637072438 and parameters: {'learning_rate': 0.0006383358238992684, 'num_leaves': 33, 'min_child_samples': 177, 'min_sum_hessian_in_leaf': 0.0027028115255194702, 'feature_fraction': 0.503434707718891, 'bagging_fraction': 0.8686675405996642, 'lambda_l1': 1.2629425386495452, 'lambda_l2': 0.010507160962439453, 'max_depth': 7, 'colsample_bytree': 0.772429981620801, 'subsample': 0.793529429647436}. Best is trial 11 with value: 0.7658197683767299.\n",
            " 20%|██        | 20/100 [03:24<13:19,  9.99s/it]"
          ]
        },
        {
          "output_type": "stream",
          "name": "stdout",
          "text": [
            "Training until validation scores don't improve for 30 rounds\n",
            "Early stopping, best iteration is:\n",
            "[244]\tvalid_0's auc: 0.762362\n"
          ]
        },
        {
          "output_type": "stream",
          "name": "stderr",
          "text": [
            "[I 2024-07-07 10:31:41,437] Trial 20 finished with value: 0.7623624526488594 and parameters: {'learning_rate': 0.001195893056117922, 'num_leaves': 73, 'min_child_samples': 116, 'min_sum_hessian_in_leaf': 0.0030866001209389677, 'feature_fraction': 0.5484851204016722, 'bagging_fraction': 0.8122739955651608, 'lambda_l1': 1.2181232277864726, 'lambda_l2': 0.012895966026051411, 'max_depth': 12, 'colsample_bytree': 0.7805698343839762, 'subsample': 0.5943193072698882}. Best is trial 11 with value: 0.7658197683767299.\n",
            " 21%|██        | 21/100 [03:34<13:00,  9.88s/it]"
          ]
        },
        {
          "output_type": "stream",
          "name": "stdout",
          "text": [
            "Training until validation scores don't improve for 30 rounds\n",
            "Early stopping, best iteration is:\n",
            "[196]\tvalid_0's auc: 0.759642\n"
          ]
        },
        {
          "output_type": "stream",
          "name": "stderr",
          "text": [
            "[I 2024-07-07 10:31:46,568] Trial 21 finished with value: 0.759641589726906 and parameters: {'learning_rate': 0.015094481631807826, 'num_leaves': 190, 'min_child_samples': 107, 'min_sum_hessian_in_leaf': 6.367150399098563e-05, 'feature_fraction': 0.5580157916255112, 'bagging_fraction': 0.8009741963257219, 'lambda_l1': 8.155317614403272, 'lambda_l2': 13.141849305861099, 'max_depth': 12, 'colsample_bytree': 0.7368742212544155, 'subsample': 0.5940895381765199}. Best is trial 11 with value: 0.7658197683767299.\n",
            " 22%|██▏       | 22/100 [03:39<10:59,  8.46s/it]"
          ]
        },
        {
          "output_type": "stream",
          "name": "stdout",
          "text": [
            "Training until validation scores don't improve for 30 rounds\n",
            "Early stopping, best iteration is:\n",
            "[552]\tvalid_0's auc: 0.764594\n"
          ]
        },
        {
          "output_type": "stream",
          "name": "stderr",
          "text": [
            "[I 2024-07-07 10:31:59,251] Trial 22 finished with value: 0.7645936496183863 and parameters: {'learning_rate': 0.08332201342281821, 'num_leaves': 180, 'min_child_samples': 40, 'min_sum_hessian_in_leaf': 0.004795597919184804, 'feature_fraction': 0.6377883798190033, 'bagging_fraction': 0.9975277748578322, 'lambda_l1': 0.0792331826893294, 'lambda_l2': 5.5979385407121365, 'max_depth': 4, 'colsample_bytree': 0.916329292289626, 'subsample': 0.9172353005077845}. Best is trial 11 with value: 0.7658197683767299.\n",
            " 23%|██▎       | 23/100 [03:52<12:28,  9.72s/it]"
          ]
        },
        {
          "output_type": "stream",
          "name": "stdout",
          "text": [
            "Training until validation scores don't improve for 30 rounds\n",
            "Early stopping, best iteration is:\n",
            "[582]\tvalid_0's auc: 0.763342\n"
          ]
        },
        {
          "output_type": "stream",
          "name": "stderr",
          "text": [
            "[I 2024-07-07 10:32:05,082] Trial 23 finished with value: 0.7633419154354435 and parameters: {'learning_rate': 0.09448015962691342, 'num_leaves': 161, 'min_child_samples': 44, 'min_sum_hessian_in_leaf': 0.005100120478858271, 'feature_fraction': 0.6356369499273082, 'bagging_fraction': 0.9913024900454632, 'lambda_l1': 0.0842319135715652, 'lambda_l2': 4.170217379898264, 'max_depth': 4, 'colsample_bytree': 0.9167985841239644, 'subsample': 0.920826235326794}. Best is trial 11 with value: 0.7658197683767299.\n",
            " 24%|██▍       | 24/100 [03:58<10:50,  8.56s/it]"
          ]
        },
        {
          "output_type": "stream",
          "name": "stdout",
          "text": [
            "Training until validation scores don't improve for 30 rounds\n",
            "Early stopping, best iteration is:\n",
            "[450]\tvalid_0's auc: 0.764008\n"
          ]
        },
        {
          "output_type": "stream",
          "name": "stderr",
          "text": [
            "[I 2024-07-07 10:32:14,626] Trial 24 finished with value: 0.764008309120213 and parameters: {'learning_rate': 0.0041296489209611265, 'num_leaves': 163, 'min_child_samples': 72, 'min_sum_hessian_in_leaf': 0.0018793287582855062, 'feature_fraction': 0.6128499617455562, 'bagging_fraction': 0.9498799006489393, 'lambda_l1': 0.26749474653002236, 'lambda_l2': 3.378476716361202, 'max_depth': 4, 'colsample_bytree': 0.9096327084009178, 'subsample': 0.9145337017260383}. Best is trial 11 with value: 0.7658197683767299.\n",
            " 25%|██▌       | 25/100 [04:07<11:03,  8.85s/it]"
          ]
        },
        {
          "output_type": "stream",
          "name": "stdout",
          "text": [
            "Training until validation scores don't improve for 30 rounds\n",
            "Early stopping, best iteration is:\n",
            "[732]\tvalid_0's auc: 0.764044\n"
          ]
        },
        {
          "output_type": "stream",
          "name": "stderr",
          "text": [
            "[I 2024-07-07 10:32:26,733] Trial 25 finished with value: 0.764044114622481 and parameters: {'learning_rate': 0.004577775217294626, 'num_leaves': 117, 'min_child_samples': 66, 'min_sum_hessian_in_leaf': 0.00213948415560935, 'feature_fraction': 0.599288282153086, 'bagging_fraction': 0.9431508494899721, 'lambda_l1': 0.3738696592147019, 'lambda_l2': 14.70700909216991, 'max_depth': 3, 'colsample_bytree': 0.8816378288027543, 'subsample': 0.8991609793779475}. Best is trial 11 with value: 0.7658197683767299.\n",
            " 26%|██▌       | 26/100 [04:19<12:07,  9.83s/it]"
          ]
        },
        {
          "output_type": "stream",
          "name": "stdout",
          "text": [
            "Training until validation scores don't improve for 30 rounds\n",
            "Early stopping, best iteration is:\n",
            "[372]\tvalid_0's auc: 0.763631\n"
          ]
        },
        {
          "output_type": "stream",
          "name": "stderr",
          "text": [
            "[I 2024-07-07 10:32:31,364] Trial 26 finished with value: 0.7636311640621201 and parameters: {'learning_rate': 0.012192571739865989, 'num_leaves': 128, 'min_child_samples': 32, 'min_sum_hessian_in_leaf': 0.005458984054355884, 'feature_fraction': 0.6799327029483864, 'bagging_fraction': 0.9054232084914506, 'lambda_l1': 0.6075154424446556, 'lambda_l2': 13.411130900830093, 'max_depth': 6, 'colsample_bytree': 0.8317676141948193, 'subsample': 0.8858843246045802}. Best is trial 11 with value: 0.7658197683767299.\n",
            " 27%|██▋       | 27/100 [04:24<10:03,  8.27s/it]"
          ]
        },
        {
          "output_type": "stream",
          "name": "stdout",
          "text": [
            "Training until validation scores don't improve for 30 rounds\n",
            "Early stopping, best iteration is:\n",
            "[275]\tvalid_0's auc: 0.763115\n"
          ]
        },
        {
          "output_type": "stream",
          "name": "stderr",
          "text": [
            "[I 2024-07-07 10:32:40,075] Trial 27 finished with value: 0.7631149478155841 and parameters: {'learning_rate': 0.014460245085488186, 'num_leaves': 194, 'min_child_samples': 31, 'min_sum_hessian_in_leaf': 0.005238823893034103, 'feature_fraction': 0.6729846144683308, 'bagging_fraction': 0.8915381994092305, 'lambda_l1': 0.6406603117943331, 'lambda_l2': 0.6717623079050404, 'max_depth': 6, 'colsample_bytree': 0.8237368085629649, 'subsample': 0.8528201762447469}. Best is trial 11 with value: 0.7658197683767299.\n",
            " 28%|██▊       | 28/100 [04:33<10:04,  8.40s/it]"
          ]
        },
        {
          "output_type": "stream",
          "name": "stdout",
          "text": [
            "Training until validation scores don't improve for 30 rounds\n",
            "Early stopping, best iteration is:\n",
            "[146]\tvalid_0's auc: 0.757325\n"
          ]
        },
        {
          "output_type": "stream",
          "name": "stderr",
          "text": [
            "[I 2024-07-07 10:32:45,595] Trial 28 finished with value: 0.7573249269866912 and parameters: {'learning_rate': 0.04836551891653675, 'num_leaves': 188, 'min_child_samples': 180, 'min_sum_hessian_in_leaf': 0.005575478440734471, 'feature_fraction': 0.7784720786151427, 'bagging_fraction': 0.8866914781517836, 'lambda_l1': 0.012403504227300294, 'lambda_l2': 0.6501604362165393, 'max_depth': 15, 'colsample_bytree': 0.8187305109917233, 'subsample': 0.9449756084726196}. Best is trial 11 with value: 0.7658197683767299.\n",
            " 29%|██▉       | 29/100 [04:38<08:55,  7.54s/it]"
          ]
        },
        {
          "output_type": "stream",
          "name": "stdout",
          "text": [
            "Training until validation scores don't improve for 30 rounds\n",
            "Early stopping, best iteration is:\n",
            "[491]\tvalid_0's auc: 0.764238\n"
          ]
        },
        {
          "output_type": "stream",
          "name": "stderr",
          "text": [
            "[I 2024-07-07 10:32:57,981] Trial 29 finished with value: 0.76423761391385 and parameters: {'learning_rate': 0.03898560945973176, 'num_leaves': 150, 'min_child_samples': 177, 'min_sum_hessian_in_leaf': 0.0015090625125596508, 'feature_fraction': 0.9954872263428105, 'bagging_fraction': 0.9673265210180908, 'lambda_l1': 0.12600695426476927, 'lambda_l2': 0.06777246525593342, 'max_depth': 5, 'colsample_bytree': 0.7269105436378632, 'subsample': 0.9540145150925897}. Best is trial 11 with value: 0.7658197683767299.\n",
            " 30%|███       | 30/100 [04:50<10:29,  8.99s/it]"
          ]
        },
        {
          "output_type": "stream",
          "name": "stdout",
          "text": [
            "Training until validation scores don't improve for 30 rounds\n",
            "Early stopping, best iteration is:\n",
            "[398]\tvalid_0's auc: 0.764271\n"
          ]
        },
        {
          "output_type": "stream",
          "name": "stderr",
          "text": [
            "[I 2024-07-07 10:33:00,696] Trial 30 finished with value: 0.7642713253084135 and parameters: {'learning_rate': 0.0009588521405912705, 'num_leaves': 233, 'min_child_samples': 84, 'min_sum_hessian_in_leaf': 0.000580169222967833, 'feature_fraction': 0.5331948507557341, 'bagging_fraction': 0.8311639306235482, 'lambda_l1': 0.17332983002032779, 'lambda_l2': 2.325758903897508, 'max_depth': 5, 'colsample_bytree': 0.7308116689571049, 'subsample': 0.7532205228928774}. Best is trial 11 with value: 0.7658197683767299.\n",
            " 31%|███       | 31/100 [04:53<08:10,  7.11s/it]"
          ]
        },
        {
          "output_type": "stream",
          "name": "stdout",
          "text": [
            "Training until validation scores don't improve for 30 rounds\n",
            "Early stopping, best iteration is:\n",
            "[552]\tvalid_0's auc: 0.76434\n"
          ]
        },
        {
          "output_type": "stream",
          "name": "stderr",
          "text": [
            "[I 2024-07-07 10:33:17,764] Trial 31 finished with value: 0.7643403373757092 and parameters: {'learning_rate': 0.002737223035885518, 'num_leaves': 236, 'min_child_samples': 81, 'min_sum_hessian_in_leaf': 0.0005285347140756633, 'feature_fraction': 0.5298259667355846, 'bagging_fraction': 0.8462597374188192, 'lambda_l1': 2.3031072814130638, 'lambda_l2': 91.71803706417346, 'max_depth': 5, 'colsample_bytree': 0.8763603971146193, 'subsample': 0.7595780207707555}. Best is trial 11 with value: 0.7658197683767299.\n",
            " 32%|███▏      | 32/100 [05:10<11:26, 10.10s/it]"
          ]
        },
        {
          "output_type": "stream",
          "name": "stdout",
          "text": [
            "Training until validation scores don't improve for 30 rounds\n",
            "Did not meet early stopping. Best iteration is:\n",
            "[998]\tvalid_0's auc: 0.765266\n"
          ]
        },
        {
          "output_type": "stream",
          "name": "stderr",
          "text": [
            "[I 2024-07-07 10:33:28,396] Trial 32 finished with value: 0.7652656151254408 and parameters: {'learning_rate': 0.0037739190273715084, 'num_leaves': 233, 'min_child_samples': 126, 'min_sum_hessian_in_leaf': 0.0004842632372555372, 'feature_fraction': 0.59131959857217, 'bagging_fraction': 0.9606217073027048, 'lambda_l1': 9.253323646123507, 'lambda_l2': 31.17287930288616, 'max_depth': 3, 'colsample_bytree': 0.9537215272521826, 'subsample': 0.6496174954568199}. Best is trial 11 with value: 0.7658197683767299.\n",
            " 33%|███▎      | 33/100 [05:21<11:27, 10.26s/it]"
          ]
        },
        {
          "output_type": "stream",
          "name": "stdout",
          "text": [
            "Training until validation scores don't improve for 30 rounds\n",
            "Early stopping, best iteration is:\n",
            "[849]\tvalid_0's auc: 0.764675\n"
          ]
        },
        {
          "output_type": "stream",
          "name": "stderr",
          "text": [
            "[I 2024-07-07 10:33:42,521] Trial 33 finished with value: 0.7646748523841043 and parameters: {'learning_rate': 0.0026836566193022726, 'num_leaves': 202, 'min_child_samples': 123, 'min_sum_hessian_in_leaf': 3.543274237784709e-05, 'feature_fraction': 0.5804416348668944, 'bagging_fraction': 0.9626350328984674, 'lambda_l1': 6.6154641771532825, 'lambda_l2': 29.128918243300667, 'max_depth': 3, 'colsample_bytree': 0.9471590816004247, 'subsample': 0.6498325199475028}. Best is trial 11 with value: 0.7658197683767299.\n",
            " 34%|███▍      | 34/100 [05:35<12:33, 11.42s/it]"
          ]
        },
        {
          "output_type": "stream",
          "name": "stdout",
          "text": [
            "Training until validation scores don't improve for 30 rounds\n",
            "Did not meet early stopping. Best iteration is:\n",
            "[998]\tvalid_0's auc: 0.765114\n"
          ]
        },
        {
          "output_type": "stream",
          "name": "stderr",
          "text": [
            "[I 2024-07-07 10:33:55,030] Trial 34 finished with value: 0.7651140914751119 and parameters: {'learning_rate': 0.007736262454304151, 'num_leaves': 205, 'min_child_samples': 113, 'min_sum_hessian_in_leaf': 4.510942774051091e-05, 'feature_fraction': 0.5969961640872166, 'bagging_fraction': 0.9695160129207463, 'lambda_l1': 13.571775656613715, 'lambda_l2': 33.60723961507501, 'max_depth': 3, 'colsample_bytree': 0.9485207731363154, 'subsample': 0.5539486196813828}. Best is trial 11 with value: 0.7658197683767299.\n",
            " 35%|███▌      | 35/100 [05:47<12:43, 11.75s/it]"
          ]
        },
        {
          "output_type": "stream",
          "name": "stdout",
          "text": [
            "Training until validation scores don't improve for 30 rounds\n",
            "Early stopping, best iteration is:\n",
            "[689]\tvalid_0's auc: 0.764575\n"
          ]
        },
        {
          "output_type": "stream",
          "name": "stderr",
          "text": [
            "[I 2024-07-07 10:34:04,996] Trial 35 finished with value: 0.764575045715119 and parameters: {'learning_rate': 0.008059776642373378, 'num_leaves': 220, 'min_child_samples': 142, 'min_sum_hessian_in_leaf': 0.003350655088755987, 'feature_fraction': 0.6619848428798292, 'bagging_fraction': 0.9148993422437925, 'lambda_l1': 21.484250388977777, 'lambda_l2': 7.787445958509947, 'max_depth': 4, 'colsample_bytree': 0.9429340412982179, 'subsample': 0.571140478254434}. Best is trial 11 with value: 0.7658197683767299.\n",
            " 36%|███▌      | 36/100 [05:57<11:57, 11.21s/it]"
          ]
        },
        {
          "output_type": "stream",
          "name": "stdout",
          "text": [
            "Training until validation scores don't improve for 30 rounds\n",
            "Early stopping, best iteration is:\n",
            "[575]\tvalid_0's auc: 0.765181\n"
          ]
        },
        {
          "output_type": "stream",
          "name": "stderr",
          "text": [
            "[I 2024-07-07 10:34:14,515] Trial 36 finished with value: 0.7651814207772879 and parameters: {'learning_rate': 0.02326464921548428, 'num_leaves': 230, 'min_child_samples': 147, 'min_sum_hessian_in_leaf': 0.003665870760454329, 'feature_fraction': 0.6777876548924214, 'bagging_fraction': 0.9276878019097838, 'lambda_l1': 0.03676152566992863, 'lambda_l2': 9.979296059817326, 'max_depth': 4, 'colsample_bytree': 0.8894408914454772, 'subsample': 0.5443082819209246}. Best is trial 11 with value: 0.7658197683767299.\n",
            " 37%|███▋      | 37/100 [06:07<11:14, 10.70s/it]"
          ]
        },
        {
          "output_type": "stream",
          "name": "stdout",
          "text": [
            "Training until validation scores don't improve for 30 rounds\n",
            "Early stopping, best iteration is:\n",
            "[217]\tvalid_0's auc: 0.75977\n"
          ]
        },
        {
          "output_type": "stream",
          "name": "stderr",
          "text": [
            "[I 2024-07-07 10:34:19,246] Trial 37 finished with value: 0.7597698912185837 and parameters: {'learning_rate': 0.027794424194519565, 'num_leaves': 225, 'min_child_samples': 99, 'min_sum_hessian_in_leaf': 0.0009785597855929437, 'feature_fraction': 0.7406061228925129, 'bagging_fraction': 0.9160253698728085, 'lambda_l1': 0.03588953692163832, 'lambda_l2': 1.7144993813221157, 'max_depth': 8, 'colsample_bytree': 0.8878510820598401, 'subsample': 0.6331638610726913}. Best is trial 11 with value: 0.7658197683767299.\n",
            " 38%|███▊      | 38/100 [06:12<09:12,  8.91s/it]"
          ]
        },
        {
          "output_type": "stream",
          "name": "stdout",
          "text": [
            "Training until validation scores don't improve for 30 rounds\n",
            "Early stopping, best iteration is:\n",
            "[167]\tvalid_0's auc: 0.759119\n"
          ]
        },
        {
          "output_type": "stream",
          "name": "stderr",
          "text": [
            "[I 2024-07-07 10:34:26,868] Trial 38 finished with value: 0.7591194651050606 and parameters: {'learning_rate': 0.0037581990952765734, 'num_leaves': 256, 'min_child_samples': 100, 'min_sum_hessian_in_leaf': 0.0008634258600506669, 'feature_fraction': 0.7269819954910153, 'bagging_fraction': 0.6655611239068542, 'lambda_l1': 3.433514341634436, 'lambda_l2': 1.3744719534378425, 'max_depth': 9, 'colsample_bytree': 0.8926792357589588, 'subsample': 0.6313648979912009}. Best is trial 11 with value: 0.7658197683767299.\n",
            " 39%|███▉      | 39/100 [06:19<08:40,  8.53s/it]"
          ]
        },
        {
          "output_type": "stream",
          "name": "stdout",
          "text": [
            "Training until validation scores don't improve for 30 rounds\n",
            "Early stopping, best iteration is:\n",
            "[212]\tvalid_0's auc: 0.759934\n"
          ]
        },
        {
          "output_type": "stream",
          "name": "stderr",
          "text": [
            "[I 2024-07-07 10:34:33,464] Trial 39 finished with value: 0.7599344095551143 and parameters: {'learning_rate': 0.00040254165295392316, 'num_leaves': 255, 'min_child_samples': 159, 'min_sum_hessian_in_leaf': 0.007745558766452407, 'feature_fraction': 0.7924874718010183, 'bagging_fraction': 0.6933376587884174, 'lambda_l1': 4.381120035693065, 'lambda_l2': 1.0992738377364792, 'max_depth': 9, 'colsample_bytree': 0.945477926752564, 'subsample': 0.7165276023630286}. Best is trial 11 with value: 0.7658197683767299.\n",
            " 40%|████      | 40/100 [06:26<07:56,  7.95s/it]"
          ]
        },
        {
          "output_type": "stream",
          "name": "stdout",
          "text": [
            "Training until validation scores don't improve for 30 rounds\n",
            "Early stopping, best iteration is:\n",
            "[605]\tvalid_0's auc: 0.760665\n"
          ]
        },
        {
          "output_type": "stream",
          "name": "stderr",
          "text": [
            "[I 2024-07-07 10:34:47,403] Trial 40 finished with value: 0.7606513422856438 and parameters: {'learning_rate': 0.0014516121180711385, 'num_leaves': 102, 'min_child_samples': 158, 'min_sum_hessian_in_leaf': 0.0068855171080188906, 'feature_fraction': 0.6181602776427897, 'bagging_fraction': 0.7725184102532522, 'lambda_l1': 52.51632031898449, 'lambda_l2': 0.06877725914812427, 'max_depth': 5, 'colsample_bytree': 0.9733913269964419, 'subsample': 0.7219167711500095}. Best is trial 11 with value: 0.7658197683767299.\n",
            " 41%|████      | 41/100 [06:40<09:34,  9.74s/it]"
          ]
        },
        {
          "output_type": "stream",
          "name": "stdout",
          "text": [
            "Training until validation scores don't improve for 30 rounds\n",
            "Early stopping, best iteration is:\n",
            "[430]\tvalid_0's auc: 0.764936\n"
          ]
        },
        {
          "output_type": "stream",
          "name": "stderr",
          "text": [
            "[I 2024-07-07 10:34:50,765] Trial 41 finished with value: 0.764936111017624 and parameters: {'learning_rate': 0.0018251522164499812, 'num_leaves': 103, 'min_child_samples': 52, 'min_sum_hessian_in_leaf': 0.000152584589002763, 'feature_fraction': 0.8699088979696407, 'bagging_fraction': 0.960195853939696, 'lambda_l1': 1.817221828558011, 'lambda_l2': 0.07602660443091602, 'max_depth': 5, 'colsample_bytree': 0.550563906351376, 'subsample': 0.6668646588280122}. Best is trial 11 with value: 0.7658197683767299.\n",
            " 42%|████▏     | 42/100 [06:43<07:34,  7.83s/it]"
          ]
        },
        {
          "output_type": "stream",
          "name": "stdout",
          "text": [
            "Training until validation scores don't improve for 30 rounds\n",
            "Early stopping, best iteration is:\n",
            "[622]\tvalid_0's auc: 0.765597\n"
          ]
        },
        {
          "output_type": "stream",
          "name": "stderr",
          "text": [
            "[I 2024-07-07 10:35:06,872] Trial 42 finished with value: 0.7655972694331326 and parameters: {'learning_rate': 0.05379687632895436, 'num_leaves': 233, 'min_child_samples': 142, 'min_sum_hessian_in_leaf': 0.004162803697199465, 'feature_fraction': 0.6649850925003132, 'bagging_fraction': 0.9386356937159919, 'lambda_l1': 0.049875129808307786, 'lambda_l2': 9.19441879341258, 'max_depth': 4, 'colsample_bytree': 0.5516436167113846, 'subsample': 0.5302105093577879}. Best is trial 11 with value: 0.7658197683767299.\n",
            " 43%|████▎     | 43/100 [06:59<09:47, 10.31s/it]"
          ]
        },
        {
          "output_type": "stream",
          "name": "stdout",
          "text": [
            "Early stopping, best iteration is:\n",
            "[579]\tvalid_0's auc: 0.766238\n",
            "Training until validation scores don't improve for 30 rounds\n"
          ]
        },
        {
          "output_type": "stream",
          "name": "stderr",
          "text": [
            "[I 2024-07-07 10:35:08,615] Trial 43 finished with value: 0.7662384964306682 and parameters: {'learning_rate': 0.057907862692482354, 'num_leaves': 244, 'min_child_samples': 139, 'min_sum_hessian_in_leaf': 0.0039691312234537085, 'feature_fraction': 0.6578999454501013, 'bagging_fraction': 0.9261230133376906, 'lambda_l1': 0.04533359834007411, 'lambda_l2': 8.901904109647788, 'max_depth': 4, 'colsample_bytree': 0.8655494061890401, 'subsample': 0.5013781430077185}. Best is trial 43 with value: 0.7662384964306682.\n",
            " 44%|████▍     | 44/100 [07:01<07:13,  7.74s/it]"
          ]
        },
        {
          "output_type": "stream",
          "name": "stdout",
          "text": [
            "Training until validation scores don't improve for 30 rounds\n",
            "Early stopping, best iteration is:\n",
            "[575]\tvalid_0's auc: 0.762548\n"
          ]
        },
        {
          "output_type": "stream",
          "name": "stderr",
          "text": [
            "[I 2024-07-07 10:35:25,871] Trial 44 finished with value: 0.7625480990363366 and parameters: {'learning_rate': 0.044121810096296975, 'num_leaves': 240, 'min_child_samples': 133, 'min_sum_hessian_in_leaf': 0.0017647192498930551, 'feature_fraction': 0.5725162355944345, 'bagging_fraction': 0.968976486217576, 'lambda_l1': 0.010461671799358054, 'lambda_l2': 22.15834450270802, 'max_depth': 3, 'colsample_bytree': 0.5165885429770922, 'subsample': 0.5184819820515538}. Best is trial 43 with value: 0.7662384964306682.\n",
            " 45%|████▌     | 45/100 [07:18<09:42, 10.60s/it]"
          ]
        },
        {
          "output_type": "stream",
          "name": "stdout",
          "text": [
            "Training until validation scores don't improve for 30 rounds\n",
            "Early stopping, best iteration is:\n",
            "[593]\tvalid_0's auc: 0.765389\n"
          ]
        },
        {
          "output_type": "stream",
          "name": "stderr",
          "text": [
            "[I 2024-07-07 10:35:31,966] Trial 45 finished with value: 0.7653886626504672 and parameters: {'learning_rate': 0.0545359229946625, 'num_leaves': 242, 'min_child_samples': 133, 'min_sum_hessian_in_leaf': 0.0020176417483003255, 'feature_fraction': 0.7109692664962758, 'bagging_fraction': 0.937531734959337, 'lambda_l1': 0.018117328929089536, 'lambda_l2': 20.52045439453115, 'max_depth': 4, 'colsample_bytree': 0.6352038141759071, 'subsample': 0.5104747552955802}. Best is trial 43 with value: 0.7662384964306682.\n",
            " 46%|████▌     | 46/100 [07:24<08:19,  9.25s/it]"
          ]
        },
        {
          "output_type": "stream",
          "name": "stdout",
          "text": [
            "Training until validation scores don't improve for 30 rounds\n",
            "Early stopping, best iteration is:\n",
            "[690]\tvalid_0's auc: 0.7657\n"
          ]
        },
        {
          "output_type": "stream",
          "name": "stderr",
          "text": [
            "[I 2024-07-07 10:35:49,086] Trial 46 finished with value: 0.7657003855401863 and parameters: {'learning_rate': 0.05667603479678844, 'num_leaves': 243, 'min_child_samples': 123, 'min_sum_hessian_in_leaf': 0.002238187639736793, 'feature_fraction': 0.6920895539368477, 'bagging_fraction': 0.9334971172881371, 'lambda_l1': 0.055384510901627236, 'lambda_l2': 44.73133462409266, 'max_depth': 4, 'colsample_bytree': 0.612592552764979, 'subsample': 0.530349312805128}. Best is trial 43 with value: 0.7662384964306682.\n",
            " 47%|████▋     | 47/100 [07:42<10:15, 11.61s/it]"
          ]
        },
        {
          "output_type": "stream",
          "name": "stdout",
          "text": [
            "Early stopping, best iteration is:\n",
            "[471]\tvalid_0's auc: 0.764814\n",
            "Training until validation scores don't improve for 30 rounds\n"
          ]
        },
        {
          "output_type": "stream",
          "name": "stderr",
          "text": [
            "[I 2024-07-07 10:35:51,304] Trial 47 finished with value: 0.7648142414281814 and parameters: {'learning_rate': 0.060615191609070085, 'num_leaves': 244, 'min_child_samples': 135, 'min_sum_hessian_in_leaf': 0.002409825805986225, 'feature_fraction': 0.7050279589466615, 'bagging_fraction': 0.9335010478401429, 'lambda_l1': 0.0172164292435183, 'lambda_l2': 46.72137109241985, 'max_depth': 6, 'colsample_bytree': 0.6162706699584174, 'subsample': 0.5018455999667844}. Best is trial 43 with value: 0.7662384964306682.\n",
            " 48%|████▊     | 48/100 [07:44<07:37,  8.79s/it]"
          ]
        },
        {
          "output_type": "stream",
          "name": "stdout",
          "text": [
            "Training until validation scores don't improve for 30 rounds\n",
            "Early stopping, best iteration is:\n",
            "[197]\tvalid_0's auc: 0.76019\n"
          ]
        },
        {
          "output_type": "stream",
          "name": "stderr",
          "text": [
            "[I 2024-07-07 10:36:05,572] Trial 49 finished with value: 0.7601896102342036 and parameters: {'learning_rate': 0.03017683762995135, 'num_leaves': 219, 'min_child_samples': 169, 'min_sum_hessian_in_leaf': 0.0042590295028438144, 'feature_fraction': 0.6618182595107931, 'bagging_fraction': 0.8435108734228809, 'lambda_l1': 0.05188858989963764, 'lambda_l2': 2.807870607569873, 'max_depth': 10, 'colsample_bytree': 0.5638925749402498, 'subsample': 0.5363034408955267}. Best is trial 43 with value: 0.7662384964306682.\n",
            " 49%|████▉     | 49/100 [07:58<08:52, 10.44s/it]"
          ]
        },
        {
          "output_type": "stream",
          "name": "stdout",
          "text": [
            "Training until validation scores don't improve for 30 rounds\n",
            "Early stopping, best iteration is:\n",
            "[438]\tvalid_0's auc: 0.763191\n"
          ]
        },
        {
          "output_type": "stream",
          "name": "stderr",
          "text": [
            "[I 2024-07-07 10:36:07,978] Trial 48 finished with value: 0.7631910087989917 and parameters: {'learning_rate': 0.06695740040837572, 'num_leaves': 217, 'min_child_samples': 118, 'min_sum_hessian_in_leaf': 0.0040448494872554926, 'feature_fraction': 0.75746570451304, 'bagging_fraction': 0.8457115371253975, 'lambda_l1': 0.057797083832939446, 'lambda_l2': 46.417151166064194, 'max_depth': 6, 'colsample_bytree': 0.5759334049223717, 'subsample': 0.5378028140533653}. Best is trial 43 with value: 0.7662384964306682.\n",
            " 50%|█████     | 50/100 [08:00<06:41,  8.03s/it]"
          ]
        },
        {
          "output_type": "stream",
          "name": "stdout",
          "text": [
            "Training until validation scores don't improve for 30 rounds\n",
            "Early stopping, best iteration is:\n",
            "[569]\tvalid_0's auc: 0.763965\n"
          ]
        },
        {
          "output_type": "stream",
          "name": "stderr",
          "text": [
            "[I 2024-07-07 10:36:26,703] Trial 51 finished with value: 0.7639652677279305 and parameters: {'learning_rate': 0.01805819610779057, 'num_leaves': 212, 'min_child_samples': 189, 'min_sum_hessian_in_leaf': 0.007047516901821482, 'feature_fraction': 0.6832088459623485, 'bagging_fraction': 0.6093882686958803, 'lambda_l1': 0.14050735351753565, 'lambda_l2': 92.17115495612842, 'max_depth': 4, 'colsample_bytree': 0.6902708276867643, 'subsample': 0.5726477579933971}. Best is trial 43 with value: 0.7662384964306682.\n",
            " 51%|█████     | 51/100 [08:19<09:10, 11.23s/it]"
          ]
        },
        {
          "output_type": "stream",
          "name": "stdout",
          "text": [
            "Early stopping, best iteration is:\n",
            "[692]\tvalid_0's auc: 0.76481\n",
            "Training until validation scores don't improve for 30 rounds\n"
          ]
        },
        {
          "output_type": "stream",
          "name": "stderr",
          "text": [
            "[I 2024-07-07 10:36:29,577] Trial 50 finished with value: 0.7648103149762355 and parameters: {'learning_rate': 0.018194706668755892, 'num_leaves': 212, 'min_child_samples': 190, 'min_sum_hessian_in_leaf': 0.007278793006798675, 'feature_fraction': 0.6924744652050556, 'bagging_fraction': 0.899712452257269, 'lambda_l1': 0.13565221955139667, 'lambda_l2': 96.44886010857236, 'max_depth': 4, 'colsample_bytree': 0.5888777169956836, 'subsample': 0.571863455196638}. Best is trial 43 with value: 0.7662384964306682.\n",
            " 52%|█████▏    | 52/100 [08:22<06:58,  8.73s/it]"
          ]
        },
        {
          "output_type": "stream",
          "name": "stdout",
          "text": [
            "Training until validation scores don't improve for 30 rounds\n",
            "Early stopping, best iteration is:\n",
            "[432]\tvalid_0's auc: 0.76381\n"
          ]
        },
        {
          "output_type": "stream",
          "name": "stderr",
          "text": [
            "[I 2024-07-07 10:36:41,416] Trial 52 finished with value: 0.7638104907317037 and parameters: {'learning_rate': 0.055053478164773295, 'num_leaves': 237, 'min_child_samples': 144, 'min_sum_hessian_in_leaf': 0.007110501372127735, 'feature_fraction': 0.7050106005598159, 'bagging_fraction': 0.9023834991820892, 'lambda_l1': 0.02544191811563305, 'lambda_l2': 19.03763947177045, 'max_depth': 4, 'colsample_bytree': 0.6538885869311211, 'subsample': 0.5003814083280572}. Best is trial 43 with value: 0.7662384964306682.\n",
            " 53%|█████▎    | 53/100 [08:34<07:34,  9.66s/it]"
          ]
        },
        {
          "output_type": "stream",
          "name": "stdout",
          "text": [
            "Training until validation scores don't improve for 30 rounds\n",
            "Early stopping, best iteration is:\n",
            "[595]\tvalid_0's auc: 0.765658\n"
          ]
        },
        {
          "output_type": "stream",
          "name": "stderr",
          "text": [
            "[I 2024-07-07 10:36:49,652] Trial 53 finished with value: 0.7656578115826593 and parameters: {'learning_rate': 0.05614717124886689, 'num_leaves': 244, 'min_child_samples': 143, 'min_sum_hessian_in_leaf': 0.0013371983242193403, 'feature_fraction': 0.8034543222424075, 'bagging_fraction': 0.9345222797319505, 'lambda_l1': 0.024945933287811643, 'lambda_l2': 21.794681977303256, 'max_depth': 4, 'colsample_bytree': 0.6357133740031115, 'subsample': 0.5180738017464399}. Best is trial 43 with value: 0.7662384964306682.\n",
            " 54%|█████▍    | 54/100 [08:42<07:04,  9.23s/it]"
          ]
        },
        {
          "output_type": "stream",
          "name": "stdout",
          "text": [
            "Training until validation scores don't improve for 30 rounds\n",
            "Early stopping, best iteration is:\n",
            "[414]\tvalid_0's auc: 0.76419\n"
          ]
        },
        {
          "output_type": "stream",
          "name": "stderr",
          "text": [
            "[I 2024-07-07 10:36:57,269] Trial 54 finished with value: 0.7641900664505247 and parameters: {'learning_rate': 0.03625847396039716, 'num_leaves': 245, 'min_child_samples': 108, 'min_sum_hessian_in_leaf': 0.001309969408208863, 'feature_fraction': 0.8128898641264856, 'bagging_fraction': 0.9359217604270963, 'lambda_l1': 0.017650636417534303, 'lambda_l2': 7.779033392933714, 'max_depth': 5, 'colsample_bytree': 0.5021211206239609, 'subsample': 0.6140228313933342}. Best is trial 43 with value: 0.7662384964306682.\n",
            " 55%|█████▌    | 55/100 [08:50<06:33,  8.75s/it]"
          ]
        },
        {
          "output_type": "stream",
          "name": "stdout",
          "text": [
            "Training until validation scores don't improve for 30 rounds\n",
            "Early stopping, best iteration is:\n",
            "[488]\tvalid_0's auc: 0.764083\n"
          ]
        },
        {
          "output_type": "stream",
          "name": "stderr",
          "text": [
            "[I 2024-07-07 10:37:07,832] Trial 55 finished with value: 0.7640826312463307 and parameters: {'learning_rate': 0.03787322253619908, 'num_leaves': 245, 'min_child_samples': 107, 'min_sum_hessian_in_leaf': 0.002575820062627533, 'feature_fraction': 0.8168125878292741, 'bagging_fraction': 0.9776117679536623, 'lambda_l1': 0.032962896158175894, 'lambda_l2': 8.088204414146855, 'max_depth': 5, 'colsample_bytree': 0.533330146794649, 'subsample': 0.6063843546874617}. Best is trial 43 with value: 0.7662384964306682.\n",
            " 56%|█████▌    | 56/100 [09:00<06:48,  9.29s/it]"
          ]
        },
        {
          "output_type": "stream",
          "name": "stdout",
          "text": [
            "Training until validation scores don't improve for 30 rounds\n",
            "Early stopping, best iteration is:\n",
            "[254]\tvalid_0's auc: 0.762397\n"
          ]
        },
        {
          "output_type": "stream",
          "name": "stderr",
          "text": [
            "[I 2024-07-07 10:37:11,299] Trial 56 finished with value: 0.762396687570349 and parameters: {'learning_rate': 0.07052147808560004, 'num_leaves': 200, 'min_child_samples': 151, 'min_sum_hessian_in_leaf': 0.009624369273939464, 'feature_fraction': 0.8420968225633735, 'bagging_fraction': 0.9849251256776252, 'lambda_l1': 0.033179252095903396, 'lambda_l2': 0.15652381454391326, 'max_depth': 7, 'colsample_bytree': 0.658471981569551, 'subsample': 0.5266114196553341}. Best is trial 43 with value: 0.7662384964306682.\n",
            " 57%|█████▋    | 57/100 [09:04<05:24,  7.55s/it]"
          ]
        },
        {
          "output_type": "stream",
          "name": "stdout",
          "text": [
            "Training until validation scores don't improve for 30 rounds\n",
            "Early stopping, best iteration is:\n",
            "[710]\tvalid_0's auc: 0.763687\n"
          ]
        },
        {
          "output_type": "stream",
          "name": "stderr",
          "text": [
            "[I 2024-07-07 10:37:27,454] Trial 57 finished with value: 0.7636873123249457 and parameters: {'learning_rate': 0.07122656075876817, 'num_leaves': 226, 'min_child_samples': 150, 'min_sum_hessian_in_leaf': 0.00881951680821632, 'feature_fraction': 0.8415359394044923, 'bagging_fraction': 0.9964742750115633, 'lambda_l1': 0.05550706503599849, 'lambda_l2': 0.14506980817262852, 'max_depth': 3, 'colsample_bytree': 0.6020820232696691, 'subsample': 0.5269894852860343}. Best is trial 43 with value: 0.7662384964306682.\n",
            " 58%|█████▊    | 58/100 [09:20<07:05, 10.13s/it]"
          ]
        },
        {
          "output_type": "stream",
          "name": "stdout",
          "text": [
            "Training until validation scores don't improve for 30 rounds\n",
            "Early stopping, best iteration is:\n",
            "[644]\tvalid_0's auc: 0.764937\n"
          ]
        },
        {
          "output_type": "stream",
          "name": "stderr",
          "text": [
            "[I 2024-07-07 10:37:29,634] Trial 58 finished with value: 0.7649374759271101 and parameters: {'learning_rate': 0.011448302698366886, 'num_leaves': 228, 'min_child_samples': 127, 'min_sum_hessian_in_leaf': 0.0003287140005847002, 'feature_fraction': 0.8869379112469753, 'bagging_fraction': 0.8750186537130246, 'lambda_l1': 0.05432566966461048, 'lambda_l2': 10.629462976737905, 'max_depth': 3, 'colsample_bytree': 0.6062196008593859, 'subsample': 0.5609399798340827}. Best is trial 43 with value: 0.7662384964306682.\n",
            " 59%|█████▉    | 59/100 [09:22<05:17,  7.75s/it]"
          ]
        },
        {
          "output_type": "stream",
          "name": "stdout",
          "text": [
            "Training until validation scores don't improve for 30 rounds\n",
            "Early stopping, best iteration is:\n",
            "[567]\tvalid_0's auc: 0.763854\n"
          ]
        },
        {
          "output_type": "stream",
          "name": "stderr",
          "text": [
            "[I 2024-07-07 10:37:43,952] Trial 59 finished with value: 0.7638539060717906 and parameters: {'learning_rate': 0.006160343519195214, 'num_leaves': 249, 'min_child_samples': 126, 'min_sum_hessian_in_leaf': 0.005780045261399758, 'feature_fraction': 0.8865156016781102, 'bagging_fraction': 0.8679385300119534, 'lambda_l1': 0.09652501224127391, 'lambda_l2': 0.41161288869383317, 'max_depth': 3, 'colsample_bytree': 0.7934014110775279, 'subsample': 0.5589147769464239}. Best is trial 43 with value: 0.7662384964306682.\n",
            " 60%|██████    | 60/100 [09:36<06:28,  9.72s/it]"
          ]
        },
        {
          "output_type": "stream",
          "name": "stdout",
          "text": [
            "Training until validation scores don't improve for 30 rounds\n",
            "Early stopping, best iteration is:\n",
            "[691]\tvalid_0's auc: 0.765833\n"
          ]
        },
        {
          "output_type": "stream",
          "name": "stderr",
          "text": [
            "[I 2024-07-07 10:37:52,738] Trial 60 finished with value: 0.7658328004577122 and parameters: {'learning_rate': 0.021239142752804304, 'num_leaves': 82, 'min_child_samples': 140, 'min_sum_hessian_in_leaf': 0.006039046804072739, 'feature_fraction': 0.6514831658659596, 'bagging_fraction': 0.9510575878973723, 'lambda_l1': 0.09376613136100305, 'lambda_l2': 45.95609897283284, 'max_depth': 4, 'colsample_bytree': 0.803239467279445, 'subsample': 0.5879236960133722}. Best is trial 43 with value: 0.7662384964306682.\n",
            " 61%|██████    | 61/100 [09:45<06:08,  9.44s/it]"
          ]
        },
        {
          "output_type": "stream",
          "name": "stdout",
          "text": [
            "Training until validation scores don't improve for 30 rounds\n",
            "Early stopping, best iteration is:\n",
            "[465]\tvalid_0's auc: 0.764447\n"
          ]
        },
        {
          "output_type": "stream",
          "name": "stderr",
          "text": [
            "[I 2024-07-07 10:37:59,606] Trial 61 finished with value: 0.7644469685921238 and parameters: {'learning_rate': 0.02136574297016669, 'num_leaves': 252, 'min_child_samples': 140, 'min_sum_hessian_in_leaf': 0.0011963907075727464, 'feature_fraction': 0.7801209998726978, 'bagging_fraction': 0.947349250561219, 'lambda_l1': 0.33079446026600945, 'lambda_l2': 17.48487251178606, 'max_depth': 4, 'colsample_bytree': 0.7563858613385849, 'subsample': 0.5874261348701033}. Best is trial 43 with value: 0.7662384964306682.\n",
            " 62%|██████▏   | 62/100 [09:52<05:29,  8.67s/it]"
          ]
        },
        {
          "output_type": "stream",
          "name": "stdout",
          "text": [
            "Training until validation scores don't improve for 30 rounds\n",
            "Early stopping, best iteration is:\n",
            "[709]\tvalid_0's auc: 0.765161\n"
          ]
        },
        {
          "output_type": "stream",
          "name": "stderr",
          "text": [
            "[I 2024-07-07 10:38:14,511] Trial 62 finished with value: 0.7651608723454381 and parameters: {'learning_rate': 0.02996112314174235, 'num_leaves': 69, 'min_child_samples': 91, 'min_sum_hessian_in_leaf': 0.0043021220853049725, 'feature_fraction': 0.6535691959315454, 'bagging_fraction': 0.9494441525807121, 'lambda_l1': 0.32520412034475743, 'lambda_l2': 43.39207990713522, 'max_depth': 4, 'colsample_bytree': 0.8532631744677492, 'subsample': 0.587163501590718}. Best is trial 43 with value: 0.7662384964306682.\n",
            " 63%|██████▎   | 63/100 [10:07<06:29, 10.54s/it]"
          ]
        },
        {
          "output_type": "stream",
          "name": "stdout",
          "text": [
            "Training until validation scores don't improve for 30 rounds\n",
            "Early stopping, best iteration is:\n",
            "[704]\tvalid_0's auc: 0.765414\n"
          ]
        },
        {
          "output_type": "stream",
          "name": "stderr",
          "text": [
            "[I 2024-07-07 10:38:26,177] Trial 63 finished with value: 0.765414165890725 and parameters: {'learning_rate': 0.029497155472260048, 'num_leaves': 88, 'min_child_samples': 169, 'min_sum_hessian_in_leaf': 0.004378152883424632, 'feature_fraction': 0.6239891504112991, 'bagging_fraction': 0.9213500300588429, 'lambda_l1': 0.04719590766366188, 'lambda_l2': 52.80696939534063, 'max_depth': 4, 'colsample_bytree': 0.8560959472616213, 'subsample': 0.5220031603266226}. Best is trial 43 with value: 0.7662384964306682.\n",
            " 64%|██████▍   | 64/100 [10:19<06:31, 10.88s/it]"
          ]
        },
        {
          "output_type": "stream",
          "name": "stdout",
          "text": [
            "Training until validation scores don't improve for 30 rounds\n",
            "Early stopping, best iteration is:\n",
            "[726]\tvalid_0's auc: 0.765119\n"
          ]
        },
        {
          "output_type": "stream",
          "name": "stderr",
          "text": [
            "[I 2024-07-07 10:38:42,201] Trial 64 finished with value: 0.7651190088887392 and parameters: {'learning_rate': 0.005287780713873591, 'num_leaves': 10, 'min_child_samples': 119, 'min_sum_hessian_in_leaf': 0.0027132813797257458, 'feature_fraction': 0.7387169313677312, 'bagging_fraction': 0.9107573911385095, 'lambda_l1': 0.0783697011027836, 'lambda_l2': 63.301498002006674, 'max_depth': 5, 'colsample_bytree': 0.805593233437295, 'subsample': 0.5221311107127615}. Best is trial 43 with value: 0.7662384964306682.\n",
            " 65%|██████▌   | 65/100 [10:35<07:14, 12.42s/it]"
          ]
        },
        {
          "output_type": "stream",
          "name": "stdout",
          "text": [
            "Training until validation scores don't improve for 30 rounds\n",
            "Early stopping, best iteration is:\n",
            "[734]\tvalid_0's auc: 0.765001\n"
          ]
        },
        {
          "output_type": "stream",
          "name": "stderr",
          "text": [
            "[I 2024-07-07 10:38:53,292] Trial 65 finished with value: 0.7650014210016566 and parameters: {'learning_rate': 0.09559509761518795, 'num_leaves': 38, 'min_child_samples': 116, 'min_sum_hessian_in_leaf': 0.0027949606209687625, 'feature_fraction': 0.6512617492220796, 'bagging_fraction': 0.9792960885348765, 'lambda_l1': 0.07626621823469745, 'lambda_l2': 66.79459289124422, 'max_depth': 5, 'colsample_bytree': 0.8352225200643618, 'subsample': 0.5439375649606033}. Best is trial 43 with value: 0.7662384964306682.\n",
            " 66%|██████▌   | 66/100 [10:46<06:48, 12.02s/it]"
          ]
        },
        {
          "output_type": "stream",
          "name": "stdout",
          "text": [
            "Training until validation scores don't improve for 30 rounds\n",
            "Early stopping, best iteration is:\n",
            "[863]\tvalid_0's auc: 0.764758\n"
          ]
        },
        {
          "output_type": "stream",
          "name": "stderr",
          "text": [
            "[I 2024-07-07 10:39:07,181] Trial 66 finished with value: 0.7647583736262094 and parameters: {'learning_rate': 0.09919089374275412, 'num_leaves': 45, 'min_child_samples': 139, 'min_sum_hessian_in_leaf': 0.0015835090837748834, 'feature_fraction': 0.6432268563635406, 'bagging_fraction': 0.9841931498084137, 'lambda_l1': 0.8816588598170598, 'lambda_l2': 0.036977706026733594, 'max_depth': 3, 'colsample_bytree': 0.8681183937264959, 'subsample': 0.5407486427193134}. Best is trial 43 with value: 0.7662384964306682.\n",
            " 67%|██████▋   | 67/100 [11:00<06:55, 12.58s/it]"
          ]
        },
        {
          "output_type": "stream",
          "name": "stdout",
          "text": [
            "Training until validation scores don't improve for 30 rounds\n",
            "Early stopping, best iteration is:\n",
            "[717]\tvalid_0's auc: 0.764304\n"
          ]
        },
        {
          "output_type": "stream",
          "name": "stderr",
          "text": [
            "[I 2024-07-07 10:39:12,924] Trial 67 finished with value: 0.7643041953204172 and parameters: {'learning_rate': 0.04513188684593806, 'num_leaves': 138, 'min_child_samples': 154, 'min_sum_hessian_in_leaf': 0.003562002256775686, 'feature_fraction': 0.71933889869315, 'bagging_fraction': 0.9548646022621393, 'lambda_l1': 0.02310696840816606, 'lambda_l2': 0.033539337071801144, 'max_depth': 3, 'colsample_bytree': 0.8679795169134368, 'subsample': 0.6143685270281065}. Best is trial 43 with value: 0.7662384964306682.\n",
            " 68%|██████▊   | 68/100 [11:05<05:36, 10.53s/it]"
          ]
        },
        {
          "output_type": "stream",
          "name": "stdout",
          "text": [
            "Training until validation scores don't improve for 30 rounds\n",
            "Early stopping, best iteration is:\n",
            "[368]\tvalid_0's auc: 0.763671\n"
          ]
        },
        {
          "output_type": "stream",
          "name": "stderr",
          "text": [
            "[I 2024-07-07 10:39:23,777] Trial 68 finished with value: 0.763670802529383 and parameters: {'learning_rate': 0.04752646520132258, 'num_leaves': 138, 'min_child_samples': 130, 'min_sum_hessian_in_leaf': 0.00611349724627342, 'feature_fraction': 0.7169767131404978, 'bagging_fraction': 0.9528242681973782, 'lambda_l1': 0.111083233382409, 'lambda_l2': 4.352581652545885, 'max_depth': 6, 'colsample_bytree': 0.8050934244153516, 'subsample': 0.6041876380237956}. Best is trial 43 with value: 0.7662384964306682.\n",
            " 69%|██████▉   | 69/100 [11:16<05:29, 10.63s/it]"
          ]
        },
        {
          "output_type": "stream",
          "name": "stdout",
          "text": [
            "Training until validation scores don't improve for 30 rounds\n",
            "Early stopping, best iteration is:\n",
            "[329]\tvalid_0's auc: 0.763164\n"
          ]
        },
        {
          "output_type": "stream",
          "name": "stderr",
          "text": [
            "[I 2024-07-07 10:39:27,547] Trial 69 finished with value: 0.7631641780440287 and parameters: {'learning_rate': 0.08062221646252221, 'num_leaves': 119, 'min_child_samples': 166, 'min_sum_hessian_in_leaf': 0.006250813871852779, 'feature_fraction': 0.6090972310213462, 'bagging_fraction': 0.9991867444083767, 'lambda_l1': 0.013663959853750813, 'lambda_l2': 4.487412661057833, 'max_depth': 6, 'colsample_bytree': 0.7776204513587162, 'subsample': 0.5767149504373935}. Best is trial 43 with value: 0.7662384964306682.\n",
            " 70%|███████   | 70/100 [11:20<04:17,  8.57s/it]"
          ]
        },
        {
          "output_type": "stream",
          "name": "stdout",
          "text": [
            "Training until validation scores don't improve for 30 rounds\n",
            "Early stopping, best iteration is:\n",
            "[495]\tvalid_0's auc: 0.763575\n"
          ]
        },
        {
          "output_type": "stream",
          "name": "stderr",
          "text": [
            "[I 2024-07-07 10:39:40,000] Trial 70 finished with value: 0.7635752214705872 and parameters: {'learning_rate': 0.07647625369049706, 'num_leaves': 78, 'min_child_samples': 111, 'min_sum_hessian_in_leaf': 0.004981375370282071, 'feature_fraction': 0.6180154867854171, 'bagging_fraction': 0.9990746277101004, 'lambda_l1': 0.18465664000949591, 'lambda_l2': 34.884623291522075, 'max_depth': 4, 'colsample_bytree': 0.7739444159163377, 'subsample': 0.8374949860848466}. Best is trial 43 with value: 0.7662384964306682.\n",
            " 71%|███████   | 71/100 [11:32<04:42,  9.74s/it]"
          ]
        },
        {
          "output_type": "stream",
          "name": "stdout",
          "text": [
            "Training until validation scores don't improve for 30 rounds\n",
            "Early stopping, best iteration is:\n",
            "[611]\tvalid_0's auc: 0.763961\n"
          ]
        },
        {
          "output_type": "stream",
          "name": "stderr",
          "text": [
            "[I 2024-07-07 10:39:45,849] Trial 71 finished with value: 0.7639608925386194 and parameters: {'learning_rate': 0.019820667347799022, 'num_leaves': 179, 'min_child_samples': 89, 'min_sum_hessian_in_leaf': 0.00959329917287451, 'feature_fraction': 0.6656761474911195, 'bagging_fraction': 0.5216513777835838, 'lambda_l1': 0.16858773575225214, 'lambda_l2': 10.895277563379109, 'max_depth': 4, 'colsample_bytree': 0.7599918823073956, 'subsample': 0.8433370918845667}. Best is trial 43 with value: 0.7662384964306682.\n",
            " 72%|███████▏  | 72/100 [11:38<03:59,  8.57s/it]"
          ]
        },
        {
          "output_type": "stream",
          "name": "stdout",
          "text": [
            "Training until validation scores don't improve for 30 rounds\n",
            "Early stopping, best iteration is:\n",
            "[576]\tvalid_0's auc: 0.764887\n"
          ]
        },
        {
          "output_type": "stream",
          "name": "stderr",
          "text": [
            "[I 2024-07-07 10:39:58,073] Trial 72 finished with value: 0.764886506841375 and parameters: {'learning_rate': 0.02840776488694294, 'num_leaves': 56, 'min_child_samples': 172, 'min_sum_hessian_in_leaf': 0.004401268124177965, 'feature_fraction': 0.6280954053268981, 'bagging_fraction': 0.922575408663278, 'lambda_l1': 0.04408194024685536, 'lambda_l2': 13.453273432439842, 'max_depth': 4, 'colsample_bytree': 0.8471407370037158, 'subsample': 0.5147347847881896}. Best is trial 43 with value: 0.7662384964306682.\n",
            " 73%|███████▎  | 73/100 [11:51<04:21,  9.67s/it]"
          ]
        },
        {
          "output_type": "stream",
          "name": "stdout",
          "text": [
            "Training until validation scores don't improve for 30 rounds\n",
            "Early stopping, best iteration is:\n",
            "[562]\tvalid_0's auc: 0.765257\n"
          ]
        },
        {
          "output_type": "stream",
          "name": "stderr",
          "text": [
            "[I 2024-07-07 10:40:03,722] Trial 73 finished with value: 0.7652566964703067 and parameters: {'learning_rate': 0.028766686661712948, 'num_leaves': 65, 'min_child_samples': 174, 'min_sum_hessian_in_leaf': 0.004463236538770336, 'feature_fraction': 0.6244500569100725, 'bagging_fraction': 0.9221081158662522, 'lambda_l1': 0.04456099419873956, 'lambda_l2': 15.009049891328608, 'max_depth': 4, 'colsample_bytree': 0.8402585691151613, 'subsample': 0.5172095242034831}. Best is trial 43 with value: 0.7662384964306682.\n",
            " 74%|███████▍  | 74/100 [11:56<03:39,  8.46s/it]"
          ]
        },
        {
          "output_type": "stream",
          "name": "stdout",
          "text": [
            "Training until validation scores don't improve for 30 rounds\n",
            "Early stopping, best iteration is:\n",
            "[797]\tvalid_0's auc: 0.765074\n"
          ]
        },
        {
          "output_type": "stream",
          "name": "stderr",
          "text": [
            "[I 2024-07-07 10:40:25,660] Trial 74 finished with value: 0.7650737985991916 and parameters: {'learning_rate': 0.032279236307954824, 'num_leaves': 81, 'min_child_samples': 187, 'min_sum_hessian_in_leaf': 0.0021221029333831046, 'feature_fraction': 0.5226977626607086, 'bagging_fraction': 0.9254752310389355, 'lambda_l1': 0.06658306637370384, 'lambda_l2': 24.18635047124264, 'max_depth': 3, 'colsample_bytree': 0.7162869368410293, 'subsample': 0.5509166671121677}. Best is trial 43 with value: 0.7662384964306682.\n",
            " 75%|███████▌  | 75/100 [12:18<05:12, 12.50s/it]"
          ]
        },
        {
          "output_type": "stream",
          "name": "stdout",
          "text": [
            "Training until validation scores don't improve for 30 rounds\n",
            "Did not meet early stopping. Best iteration is:\n",
            "[990]\tvalid_0's auc: 0.766282\n"
          ]
        },
        {
          "output_type": "stream",
          "name": "stderr",
          "text": [
            "[I 2024-07-07 10:40:30,903] Trial 75 finished with value: 0.7662818743759745 and parameters: {'learning_rate': 0.014393646859502335, 'num_leaves': 85, 'min_child_samples': 186, 'min_sum_hessian_in_leaf': 0.0007070561913159112, 'feature_fraction': 0.6902175017258461, 'bagging_fraction': 0.8880678249973338, 'lambda_l1': 0.0678085510366493, 'lambda_l2': 24.423364704998868, 'max_depth': 3, 'colsample_bytree': 0.9023296824418894, 'subsample': 0.5522092004179178}. Best is trial 75 with value: 0.7662818743759745.\n",
            " 76%|███████▌  | 76/100 [12:23<04:07, 10.33s/it]"
          ]
        },
        {
          "output_type": "stream",
          "name": "stdout",
          "text": [
            "Training until validation scores don't improve for 30 rounds\n",
            "Early stopping, best iteration is:\n",
            "[437]\tvalid_0's auc: 0.764405\n"
          ]
        },
        {
          "output_type": "stream",
          "name": "stderr",
          "text": [
            "[I 2024-07-07 10:40:42,065] Trial 76 finished with value: 0.7644049742536936 and parameters: {'learning_rate': 0.014809733899079655, 'num_leaves': 84, 'min_child_samples': 182, 'min_sum_hessian_in_leaf': 0.00339140148535042, 'feature_fraction': 0.68997266805053, 'bagging_fraction': 0.8871771654699573, 'lambda_l1': 0.02769436025257187, 'lambda_l2': 6.1211388083359655, 'max_depth': 5, 'colsample_bytree': 0.9008142079044303, 'subsample': 0.5313680062827728}. Best is trial 75 with value: 0.7662818743759745.\n",
            " 77%|███████▋  | 77/100 [12:34<04:03, 10.58s/it]"
          ]
        },
        {
          "output_type": "stream",
          "name": "stdout",
          "text": [
            "Training until validation scores don't improve for 30 rounds\n"
          ]
        },
        {
          "output_type": "stream",
          "name": "stderr",
          "text": [
            "\r 77%|███████▋  | 77/100 [12:40<03:47,  9.88s/it]\n"
          ]
        },
        {
          "output_type": "error",
          "ename": "KeyboardInterrupt",
          "evalue": "",
          "traceback": [
            "\u001b[0;31m---------------------------------------------------------------------------\u001b[0m",
            "\u001b[0;31mKeyboardInterrupt\u001b[0m                         Traceback (most recent call last)",
            "\u001b[0;32m/usr/local/lib/python3.10/dist-packages/optuna/study/_optimize.py\u001b[0m in \u001b[0;36m_optimize\u001b[0;34m(study, func, n_trials, timeout, n_jobs, catch, callbacks, gc_after_trial, show_progress_bar)\u001b[0m\n\u001b[1;32m     95\u001b[0m                     \u001b[0;32mif\u001b[0m \u001b[0mlen\u001b[0m\u001b[0;34m(\u001b[0m\u001b[0mfutures\u001b[0m\u001b[0;34m)\u001b[0m \u001b[0;34m>=\u001b[0m \u001b[0mn_jobs\u001b[0m\u001b[0;34m:\u001b[0m\u001b[0;34m\u001b[0m\u001b[0;34m\u001b[0m\u001b[0m\n\u001b[0;32m---> 96\u001b[0;31m                         \u001b[0mcompleted\u001b[0m\u001b[0;34m,\u001b[0m \u001b[0mfutures\u001b[0m \u001b[0;34m=\u001b[0m \u001b[0mwait\u001b[0m\u001b[0;34m(\u001b[0m\u001b[0mfutures\u001b[0m\u001b[0;34m,\u001b[0m \u001b[0mreturn_when\u001b[0m\u001b[0;34m=\u001b[0m\u001b[0mFIRST_COMPLETED\u001b[0m\u001b[0;34m)\u001b[0m\u001b[0;34m\u001b[0m\u001b[0;34m\u001b[0m\u001b[0m\n\u001b[0m\u001b[1;32m     97\u001b[0m                         \u001b[0;31m# Raise if exception occurred in executing the completed futures.\u001b[0m\u001b[0;34m\u001b[0m\u001b[0;34m\u001b[0m\u001b[0m\n",
            "\u001b[0;32m/usr/lib/python3.10/concurrent/futures/_base.py\u001b[0m in \u001b[0;36mwait\u001b[0;34m(fs, timeout, return_when)\u001b[0m\n\u001b[1;32m    306\u001b[0m \u001b[0;34m\u001b[0m\u001b[0m\n\u001b[0;32m--> 307\u001b[0;31m     \u001b[0mwaiter\u001b[0m\u001b[0;34m.\u001b[0m\u001b[0mevent\u001b[0m\u001b[0;34m.\u001b[0m\u001b[0mwait\u001b[0m\u001b[0;34m(\u001b[0m\u001b[0mtimeout\u001b[0m\u001b[0;34m)\u001b[0m\u001b[0;34m\u001b[0m\u001b[0;34m\u001b[0m\u001b[0m\n\u001b[0m\u001b[1;32m    308\u001b[0m     \u001b[0;32mfor\u001b[0m \u001b[0mf\u001b[0m \u001b[0;32min\u001b[0m \u001b[0mfs\u001b[0m\u001b[0;34m:\u001b[0m\u001b[0;34m\u001b[0m\u001b[0;34m\u001b[0m\u001b[0m\n",
            "\u001b[0;32m/usr/lib/python3.10/threading.py\u001b[0m in \u001b[0;36mwait\u001b[0;34m(self, timeout)\u001b[0m\n\u001b[1;32m    606\u001b[0m             \u001b[0;32mif\u001b[0m \u001b[0;32mnot\u001b[0m \u001b[0msignaled\u001b[0m\u001b[0;34m:\u001b[0m\u001b[0;34m\u001b[0m\u001b[0;34m\u001b[0m\u001b[0m\n\u001b[0;32m--> 607\u001b[0;31m                 \u001b[0msignaled\u001b[0m \u001b[0;34m=\u001b[0m \u001b[0mself\u001b[0m\u001b[0;34m.\u001b[0m\u001b[0m_cond\u001b[0m\u001b[0;34m.\u001b[0m\u001b[0mwait\u001b[0m\u001b[0;34m(\u001b[0m\u001b[0mtimeout\u001b[0m\u001b[0;34m)\u001b[0m\u001b[0;34m\u001b[0m\u001b[0;34m\u001b[0m\u001b[0m\n\u001b[0m\u001b[1;32m    608\u001b[0m             \u001b[0;32mreturn\u001b[0m \u001b[0msignaled\u001b[0m\u001b[0;34m\u001b[0m\u001b[0;34m\u001b[0m\u001b[0m\n",
            "\u001b[0;32m/usr/lib/python3.10/threading.py\u001b[0m in \u001b[0;36mwait\u001b[0;34m(self, timeout)\u001b[0m\n\u001b[1;32m    319\u001b[0m             \u001b[0;32mif\u001b[0m \u001b[0mtimeout\u001b[0m \u001b[0;32mis\u001b[0m \u001b[0;32mNone\u001b[0m\u001b[0;34m:\u001b[0m\u001b[0;34m\u001b[0m\u001b[0;34m\u001b[0m\u001b[0m\n\u001b[0;32m--> 320\u001b[0;31m                 \u001b[0mwaiter\u001b[0m\u001b[0;34m.\u001b[0m\u001b[0macquire\u001b[0m\u001b[0;34m(\u001b[0m\u001b[0;34m)\u001b[0m\u001b[0;34m\u001b[0m\u001b[0;34m\u001b[0m\u001b[0m\n\u001b[0m\u001b[1;32m    321\u001b[0m                 \u001b[0mgotit\u001b[0m \u001b[0;34m=\u001b[0m \u001b[0;32mTrue\u001b[0m\u001b[0;34m\u001b[0m\u001b[0;34m\u001b[0m\u001b[0m\n",
            "\u001b[0;31mKeyboardInterrupt\u001b[0m: ",
            "\nDuring handling of the above exception, another exception occurred:\n",
            "\u001b[0;31mKeyboardInterrupt\u001b[0m                         Traceback (most recent call last)",
            "\u001b[0;32m<ipython-input-389-7503e4af3c92>\u001b[0m in \u001b[0;36m<cell line: 12>\u001b[0;34m()\u001b[0m\n\u001b[1;32m     11\u001b[0m \u001b[0;31m# n_trialsの数だけ進捗バーが更新されるように設定\u001b[0m\u001b[0;34m\u001b[0m\u001b[0;34m\u001b[0m\u001b[0m\n\u001b[1;32m     12\u001b[0m \u001b[0;32mwith\u001b[0m \u001b[0mtqdm\u001b[0m\u001b[0;34m.\u001b[0m\u001b[0mtqdm\u001b[0m\u001b[0;34m(\u001b[0m\u001b[0mtotal\u001b[0m\u001b[0;34m=\u001b[0m\u001b[0;36m100\u001b[0m\u001b[0;34m)\u001b[0m \u001b[0;32mas\u001b[0m \u001b[0mbar\u001b[0m\u001b[0;34m:\u001b[0m\u001b[0;34m\u001b[0m\u001b[0;34m\u001b[0m\u001b[0m\n\u001b[0;32m---> 13\u001b[0;31m     \u001b[0mstudy\u001b[0m\u001b[0;34m.\u001b[0m\u001b[0moptimize\u001b[0m\u001b[0;34m(\u001b[0m\u001b[0mobjective\u001b[0m\u001b[0;34m,\u001b[0m \u001b[0mn_trials\u001b[0m\u001b[0;34m=\u001b[0m\u001b[0;36m100\u001b[0m\u001b[0;34m,\u001b[0m \u001b[0mcallbacks\u001b[0m\u001b[0;34m=\u001b[0m\u001b[0;34m[\u001b[0m\u001b[0mtqdm_callback\u001b[0m\u001b[0;34m]\u001b[0m\u001b[0;34m,\u001b[0m \u001b[0mn_jobs\u001b[0m\u001b[0;34m=\u001b[0m\u001b[0;34m-\u001b[0m\u001b[0;36m1\u001b[0m\u001b[0;34m)\u001b[0m\u001b[0;34m\u001b[0m\u001b[0;34m\u001b[0m\u001b[0m\n\u001b[0m",
            "\u001b[0;32m/usr/local/lib/python3.10/dist-packages/optuna/study/study.py\u001b[0m in \u001b[0;36moptimize\u001b[0;34m(self, func, n_trials, timeout, n_jobs, catch, callbacks, gc_after_trial, show_progress_bar)\u001b[0m\n\u001b[1;32m    449\u001b[0m                 \u001b[0mIf\u001b[0m \u001b[0mnested\u001b[0m \u001b[0minvocation\u001b[0m \u001b[0mof\u001b[0m \u001b[0mthis\u001b[0m \u001b[0mmethod\u001b[0m \u001b[0moccurs\u001b[0m\u001b[0;34m.\u001b[0m\u001b[0;34m\u001b[0m\u001b[0;34m\u001b[0m\u001b[0m\n\u001b[1;32m    450\u001b[0m         \"\"\"\n\u001b[0;32m--> 451\u001b[0;31m         _optimize(\n\u001b[0m\u001b[1;32m    452\u001b[0m             \u001b[0mstudy\u001b[0m\u001b[0;34m=\u001b[0m\u001b[0mself\u001b[0m\u001b[0;34m,\u001b[0m\u001b[0;34m\u001b[0m\u001b[0;34m\u001b[0m\u001b[0m\n\u001b[1;32m    453\u001b[0m             \u001b[0mfunc\u001b[0m\u001b[0;34m=\u001b[0m\u001b[0mfunc\u001b[0m\u001b[0;34m,\u001b[0m\u001b[0;34m\u001b[0m\u001b[0;34m\u001b[0m\u001b[0m\n",
            "\u001b[0;32m/usr/local/lib/python3.10/dist-packages/optuna/study/_optimize.py\u001b[0m in \u001b[0;36m_optimize\u001b[0;34m(study, func, n_trials, timeout, n_jobs, catch, callbacks, gc_after_trial, show_progress_bar)\u001b[0m\n\u001b[1;32m     79\u001b[0m             \u001b[0mfutures\u001b[0m\u001b[0;34m:\u001b[0m \u001b[0mset\u001b[0m\u001b[0;34m[\u001b[0m\u001b[0mFuture\u001b[0m\u001b[0;34m]\u001b[0m \u001b[0;34m=\u001b[0m \u001b[0mset\u001b[0m\u001b[0;34m(\u001b[0m\u001b[0;34m)\u001b[0m\u001b[0;34m\u001b[0m\u001b[0;34m\u001b[0m\u001b[0m\n\u001b[1;32m     80\u001b[0m \u001b[0;34m\u001b[0m\u001b[0m\n\u001b[0;32m---> 81\u001b[0;31m             \u001b[0;32mwith\u001b[0m \u001b[0mThreadPoolExecutor\u001b[0m\u001b[0;34m(\u001b[0m\u001b[0mmax_workers\u001b[0m\u001b[0;34m=\u001b[0m\u001b[0mn_jobs\u001b[0m\u001b[0;34m)\u001b[0m \u001b[0;32mas\u001b[0m \u001b[0mexecutor\u001b[0m\u001b[0;34m:\u001b[0m\u001b[0;34m\u001b[0m\u001b[0;34m\u001b[0m\u001b[0m\n\u001b[0m\u001b[1;32m     82\u001b[0m                 \u001b[0;32mfor\u001b[0m \u001b[0mn_submitted_trials\u001b[0m \u001b[0;32min\u001b[0m \u001b[0mitertools\u001b[0m\u001b[0;34m.\u001b[0m\u001b[0mcount\u001b[0m\u001b[0;34m(\u001b[0m\u001b[0;34m)\u001b[0m\u001b[0;34m:\u001b[0m\u001b[0;34m\u001b[0m\u001b[0;34m\u001b[0m\u001b[0m\n\u001b[1;32m     83\u001b[0m                     \u001b[0;32mif\u001b[0m \u001b[0mstudy\u001b[0m\u001b[0;34m.\u001b[0m\u001b[0m_stop_flag\u001b[0m\u001b[0;34m:\u001b[0m\u001b[0;34m\u001b[0m\u001b[0;34m\u001b[0m\u001b[0m\n",
            "\u001b[0;32m/usr/lib/python3.10/concurrent/futures/_base.py\u001b[0m in \u001b[0;36m__exit__\u001b[0;34m(self, exc_type, exc_val, exc_tb)\u001b[0m\n\u001b[1;32m    647\u001b[0m \u001b[0;34m\u001b[0m\u001b[0m\n\u001b[1;32m    648\u001b[0m     \u001b[0;32mdef\u001b[0m \u001b[0m__exit__\u001b[0m\u001b[0;34m(\u001b[0m\u001b[0mself\u001b[0m\u001b[0;34m,\u001b[0m \u001b[0mexc_type\u001b[0m\u001b[0;34m,\u001b[0m \u001b[0mexc_val\u001b[0m\u001b[0;34m,\u001b[0m \u001b[0mexc_tb\u001b[0m\u001b[0;34m)\u001b[0m\u001b[0;34m:\u001b[0m\u001b[0;34m\u001b[0m\u001b[0;34m\u001b[0m\u001b[0m\n\u001b[0;32m--> 649\u001b[0;31m         \u001b[0mself\u001b[0m\u001b[0;34m.\u001b[0m\u001b[0mshutdown\u001b[0m\u001b[0;34m(\u001b[0m\u001b[0mwait\u001b[0m\u001b[0;34m=\u001b[0m\u001b[0;32mTrue\u001b[0m\u001b[0;34m)\u001b[0m\u001b[0;34m\u001b[0m\u001b[0;34m\u001b[0m\u001b[0m\n\u001b[0m\u001b[1;32m    650\u001b[0m         \u001b[0;32mreturn\u001b[0m \u001b[0;32mFalse\u001b[0m\u001b[0;34m\u001b[0m\u001b[0;34m\u001b[0m\u001b[0m\n\u001b[1;32m    651\u001b[0m \u001b[0;34m\u001b[0m\u001b[0m\n",
            "\u001b[0;32m/usr/lib/python3.10/concurrent/futures/thread.py\u001b[0m in \u001b[0;36mshutdown\u001b[0;34m(self, wait, cancel_futures)\u001b[0m\n\u001b[1;32m    233\u001b[0m         \u001b[0;32mif\u001b[0m \u001b[0mwait\u001b[0m\u001b[0;34m:\u001b[0m\u001b[0;34m\u001b[0m\u001b[0;34m\u001b[0m\u001b[0m\n\u001b[1;32m    234\u001b[0m             \u001b[0;32mfor\u001b[0m \u001b[0mt\u001b[0m \u001b[0;32min\u001b[0m \u001b[0mself\u001b[0m\u001b[0;34m.\u001b[0m\u001b[0m_threads\u001b[0m\u001b[0;34m:\u001b[0m\u001b[0;34m\u001b[0m\u001b[0;34m\u001b[0m\u001b[0m\n\u001b[0;32m--> 235\u001b[0;31m                 \u001b[0mt\u001b[0m\u001b[0;34m.\u001b[0m\u001b[0mjoin\u001b[0m\u001b[0;34m(\u001b[0m\u001b[0;34m)\u001b[0m\u001b[0;34m\u001b[0m\u001b[0;34m\u001b[0m\u001b[0m\n\u001b[0m\u001b[1;32m    236\u001b[0m     \u001b[0mshutdown\u001b[0m\u001b[0;34m.\u001b[0m\u001b[0m__doc__\u001b[0m \u001b[0;34m=\u001b[0m \u001b[0m_base\u001b[0m\u001b[0;34m.\u001b[0m\u001b[0mExecutor\u001b[0m\u001b[0;34m.\u001b[0m\u001b[0mshutdown\u001b[0m\u001b[0;34m.\u001b[0m\u001b[0m__doc__\u001b[0m\u001b[0;34m\u001b[0m\u001b[0;34m\u001b[0m\u001b[0m\n",
            "\u001b[0;32m/usr/lib/python3.10/threading.py\u001b[0m in \u001b[0;36mjoin\u001b[0;34m(self, timeout)\u001b[0m\n\u001b[1;32m   1094\u001b[0m \u001b[0;34m\u001b[0m\u001b[0m\n\u001b[1;32m   1095\u001b[0m         \u001b[0;32mif\u001b[0m \u001b[0mtimeout\u001b[0m \u001b[0;32mis\u001b[0m \u001b[0;32mNone\u001b[0m\u001b[0;34m:\u001b[0m\u001b[0;34m\u001b[0m\u001b[0;34m\u001b[0m\u001b[0m\n\u001b[0;32m-> 1096\u001b[0;31m             \u001b[0mself\u001b[0m\u001b[0;34m.\u001b[0m\u001b[0m_wait_for_tstate_lock\u001b[0m\u001b[0;34m(\u001b[0m\u001b[0;34m)\u001b[0m\u001b[0;34m\u001b[0m\u001b[0;34m\u001b[0m\u001b[0m\n\u001b[0m\u001b[1;32m   1097\u001b[0m         \u001b[0;32melse\u001b[0m\u001b[0;34m:\u001b[0m\u001b[0;34m\u001b[0m\u001b[0;34m\u001b[0m\u001b[0m\n\u001b[1;32m   1098\u001b[0m             \u001b[0;31m# the behavior of a negative timeout isn't documented, but\u001b[0m\u001b[0;34m\u001b[0m\u001b[0;34m\u001b[0m\u001b[0m\n",
            "\u001b[0;32m/usr/lib/python3.10/threading.py\u001b[0m in \u001b[0;36m_wait_for_tstate_lock\u001b[0;34m(self, block, timeout)\u001b[0m\n\u001b[1;32m   1114\u001b[0m \u001b[0;34m\u001b[0m\u001b[0m\n\u001b[1;32m   1115\u001b[0m         \u001b[0;32mtry\u001b[0m\u001b[0;34m:\u001b[0m\u001b[0;34m\u001b[0m\u001b[0;34m\u001b[0m\u001b[0m\n\u001b[0;32m-> 1116\u001b[0;31m             \u001b[0;32mif\u001b[0m \u001b[0mlock\u001b[0m\u001b[0;34m.\u001b[0m\u001b[0macquire\u001b[0m\u001b[0;34m(\u001b[0m\u001b[0mblock\u001b[0m\u001b[0;34m,\u001b[0m \u001b[0mtimeout\u001b[0m\u001b[0;34m)\u001b[0m\u001b[0;34m:\u001b[0m\u001b[0;34m\u001b[0m\u001b[0;34m\u001b[0m\u001b[0m\n\u001b[0m\u001b[1;32m   1117\u001b[0m                 \u001b[0mlock\u001b[0m\u001b[0;34m.\u001b[0m\u001b[0mrelease\u001b[0m\u001b[0;34m(\u001b[0m\u001b[0;34m)\u001b[0m\u001b[0;34m\u001b[0m\u001b[0;34m\u001b[0m\u001b[0m\n\u001b[1;32m   1118\u001b[0m                 \u001b[0mself\u001b[0m\u001b[0;34m.\u001b[0m\u001b[0m_stop\u001b[0m\u001b[0;34m(\u001b[0m\u001b[0;34m)\u001b[0m\u001b[0;34m\u001b[0m\u001b[0;34m\u001b[0m\u001b[0m\n",
            "\u001b[0;31mKeyboardInterrupt\u001b[0m: "
          ]
        }
      ],
      "source": [
        "# tqdm進捗バーを表示するためのコールバック関数を定義\n",
        "import tqdm\n",
        "\n",
        "def tqdm_callback(study, trial):\n",
        "    bar.update(1)\n",
        "\n",
        "# 既存のコードをそのまま使用しますが、最後に`tqdm`を統合します。\n",
        "sampler = optuna.samplers.TPESampler(seed=123)\n",
        "study = optuna.create_study(sampler=sampler, direction=\"maximize\")\n",
        "\n",
        "# n_trialsの数だけ進捗バーが更新されるように設定\n",
        "with tqdm.tqdm(total=100) as bar:\n",
        "    study.optimize(objective, n_trials=100, callbacks=[tqdm_callback], n_jobs=-1)"
      ]
    },
    {
      "cell_type": "code",
      "execution_count": null,
      "metadata": {
        "id": "czkl4_Y_2f4g"
      },
      "outputs": [],
      "source": [
        "#探索結果の確認\n",
        "trial = study.best_trial\n",
        "print(\"acc(best)={:.4f}\".format(trial.value))\n",
        "display(trial.params)"
      ]
    },
    {
      "cell_type": "code",
      "execution_count": 50,
      "metadata": {
        "id": "DJU4Ro2gU9pE"
      },
      "outputs": [],
      "source": [
        "# データセットの作成\n",
        "x_test = test_processed.copy()\n",
        "id_test = test_processed[\"SK_ID_CURR\"].copy()\n",
        "\n",
        "# 存在するカラムのみをドロップ\n",
        "existing_cols = [col for col in low_importance_cols if col in x_test.columns]\n",
        "x_test.drop(columns=existing_cols, inplace=True)\n",
        "\n",
        "# カテゴリ変数をcategory型に変換\n",
        "for col in x_test.columns:\n",
        "    if x_test[col].dtype == \"O\":\n",
        "        x_test[col] = x_test[col].astype(\"category\")\n"
      ]
    },
    {
      "cell_type": "code",
      "execution_count": 51,
      "metadata": {
        "id": "NBYV9c7iiAx7",
        "colab": {
          "base_uri": "https://localhost:8080/",
          "height": 571
        },
        "outputId": "4503c025-32ca-4ded-f48d-9b840c7381fd"
      },
      "outputs": [
        {
          "output_type": "stream",
          "name": "stdout",
          "text": [
            "Training until validation scores don't improve for 30 rounds\n",
            "Early stopping, best iteration is:\n",
            "[330]\tvalid_0's auc: 0.769445\n",
            "Training until validation scores don't improve for 30 rounds\n",
            "Early stopping, best iteration is:\n",
            "[238]\tvalid_0's auc: 0.770074\n",
            "Training until validation scores don't improve for 30 rounds\n",
            "Early stopping, best iteration is:\n",
            "[436]\tvalid_0's auc: 0.772359\n",
            "Training until validation scores don't improve for 30 rounds\n",
            "Early stopping, best iteration is:\n",
            "[280]\tvalid_0's auc: 0.767929\n",
            "Training until validation scores don't improve for 30 rounds\n",
            "Early stopping, best iteration is:\n",
            "[238]\tvalid_0's auc: 0.76453\n",
            "-------------------- 0 --------------------\n",
            "-------------------- 1 --------------------\n",
            "-------------------- 2 --------------------\n",
            "-------------------- 3 --------------------\n",
            "-------------------- 4 --------------------\n",
            "(48744, 2)\n"
          ]
        },
        {
          "output_type": "display_data",
          "data": {
            "text/plain": [
              "   SK_ID_CURR    TARGET\n",
              "0      100001  0.029217\n",
              "1      100005  0.079674\n",
              "2      100013  0.013207\n",
              "3      100028  0.046737\n",
              "4      100038  0.166669"
            ],
            "text/html": [
              "\n",
              "  <div id=\"df-21aece96-3f8f-44df-8037-c8ce279921aa\" class=\"colab-df-container\">\n",
              "    <div>\n",
              "<style scoped>\n",
              "    .dataframe tbody tr th:only-of-type {\n",
              "        vertical-align: middle;\n",
              "    }\n",
              "\n",
              "    .dataframe tbody tr th {\n",
              "        vertical-align: top;\n",
              "    }\n",
              "\n",
              "    .dataframe thead th {\n",
              "        text-align: right;\n",
              "    }\n",
              "</style>\n",
              "<table border=\"1\" class=\"dataframe\">\n",
              "  <thead>\n",
              "    <tr style=\"text-align: right;\">\n",
              "      <th></th>\n",
              "      <th>SK_ID_CURR</th>\n",
              "      <th>TARGET</th>\n",
              "    </tr>\n",
              "  </thead>\n",
              "  <tbody>\n",
              "    <tr>\n",
              "      <th>0</th>\n",
              "      <td>100001</td>\n",
              "      <td>0.029217</td>\n",
              "    </tr>\n",
              "    <tr>\n",
              "      <th>1</th>\n",
              "      <td>100005</td>\n",
              "      <td>0.079674</td>\n",
              "    </tr>\n",
              "    <tr>\n",
              "      <th>2</th>\n",
              "      <td>100013</td>\n",
              "      <td>0.013207</td>\n",
              "    </tr>\n",
              "    <tr>\n",
              "      <th>3</th>\n",
              "      <td>100028</td>\n",
              "      <td>0.046737</td>\n",
              "    </tr>\n",
              "    <tr>\n",
              "      <th>4</th>\n",
              "      <td>100038</td>\n",
              "      <td>0.166669</td>\n",
              "    </tr>\n",
              "  </tbody>\n",
              "</table>\n",
              "</div>\n",
              "    <div class=\"colab-df-buttons\">\n",
              "\n",
              "  <div class=\"colab-df-container\">\n",
              "    <button class=\"colab-df-convert\" onclick=\"convertToInteractive('df-21aece96-3f8f-44df-8037-c8ce279921aa')\"\n",
              "            title=\"Convert this dataframe to an interactive table.\"\n",
              "            style=\"display:none;\">\n",
              "\n",
              "  <svg xmlns=\"http://www.w3.org/2000/svg\" height=\"24px\" viewBox=\"0 -960 960 960\">\n",
              "    <path d=\"M120-120v-720h720v720H120Zm60-500h600v-160H180v160Zm220 220h160v-160H400v160Zm0 220h160v-160H400v160ZM180-400h160v-160H180v160Zm440 0h160v-160H620v160ZM180-180h160v-160H180v160Zm440 0h160v-160H620v160Z\"/>\n",
              "  </svg>\n",
              "    </button>\n",
              "\n",
              "  <style>\n",
              "    .colab-df-container {\n",
              "      display:flex;\n",
              "      gap: 12px;\n",
              "    }\n",
              "\n",
              "    .colab-df-convert {\n",
              "      background-color: #E8F0FE;\n",
              "      border: none;\n",
              "      border-radius: 50%;\n",
              "      cursor: pointer;\n",
              "      display: none;\n",
              "      fill: #1967D2;\n",
              "      height: 32px;\n",
              "      padding: 0 0 0 0;\n",
              "      width: 32px;\n",
              "    }\n",
              "\n",
              "    .colab-df-convert:hover {\n",
              "      background-color: #E2EBFA;\n",
              "      box-shadow: 0px 1px 2px rgba(60, 64, 67, 0.3), 0px 1px 3px 1px rgba(60, 64, 67, 0.15);\n",
              "      fill: #174EA6;\n",
              "    }\n",
              "\n",
              "    .colab-df-buttons div {\n",
              "      margin-bottom: 4px;\n",
              "    }\n",
              "\n",
              "    [theme=dark] .colab-df-convert {\n",
              "      background-color: #3B4455;\n",
              "      fill: #D2E3FC;\n",
              "    }\n",
              "\n",
              "    [theme=dark] .colab-df-convert:hover {\n",
              "      background-color: #434B5C;\n",
              "      box-shadow: 0px 1px 3px 1px rgba(0, 0, 0, 0.15);\n",
              "      filter: drop-shadow(0px 1px 2px rgba(0, 0, 0, 0.3));\n",
              "      fill: #FFFFFF;\n",
              "    }\n",
              "  </style>\n",
              "\n",
              "    <script>\n",
              "      const buttonEl =\n",
              "        document.querySelector('#df-21aece96-3f8f-44df-8037-c8ce279921aa button.colab-df-convert');\n",
              "      buttonEl.style.display =\n",
              "        google.colab.kernel.accessAllowed ? 'block' : 'none';\n",
              "\n",
              "      async function convertToInteractive(key) {\n",
              "        const element = document.querySelector('#df-21aece96-3f8f-44df-8037-c8ce279921aa');\n",
              "        const dataTable =\n",
              "          await google.colab.kernel.invokeFunction('convertToInteractive',\n",
              "                                                    [key], {});\n",
              "        if (!dataTable) return;\n",
              "\n",
              "        const docLinkHtml = 'Like what you see? Visit the ' +\n",
              "          '<a target=\"_blank\" href=https://colab.research.google.com/notebooks/data_table.ipynb>data table notebook</a>'\n",
              "          + ' to learn more about interactive tables.';\n",
              "        element.innerHTML = '';\n",
              "        dataTable['output_type'] = 'display_data';\n",
              "        await google.colab.output.renderOutput(dataTable, element);\n",
              "        const docLink = document.createElement('div');\n",
              "        docLink.innerHTML = docLinkHtml;\n",
              "        element.appendChild(docLink);\n",
              "      }\n",
              "    </script>\n",
              "  </div>\n",
              "\n",
              "\n",
              "<div id=\"df-1a1a9788-b019-4183-a531-b159a6695b57\">\n",
              "  <button class=\"colab-df-quickchart\" onclick=\"quickchart('df-1a1a9788-b019-4183-a531-b159a6695b57')\"\n",
              "            title=\"Suggest charts\"\n",
              "            style=\"display:none;\">\n",
              "\n",
              "<svg xmlns=\"http://www.w3.org/2000/svg\" height=\"24px\"viewBox=\"0 0 24 24\"\n",
              "     width=\"24px\">\n",
              "    <g>\n",
              "        <path d=\"M19 3H5c-1.1 0-2 .9-2 2v14c0 1.1.9 2 2 2h14c1.1 0 2-.9 2-2V5c0-1.1-.9-2-2-2zM9 17H7v-7h2v7zm4 0h-2V7h2v10zm4 0h-2v-4h2v4z\"/>\n",
              "    </g>\n",
              "</svg>\n",
              "  </button>\n",
              "\n",
              "<style>\n",
              "  .colab-df-quickchart {\n",
              "      --bg-color: #E8F0FE;\n",
              "      --fill-color: #1967D2;\n",
              "      --hover-bg-color: #E2EBFA;\n",
              "      --hover-fill-color: #174EA6;\n",
              "      --disabled-fill-color: #AAA;\n",
              "      --disabled-bg-color: #DDD;\n",
              "  }\n",
              "\n",
              "  [theme=dark] .colab-df-quickchart {\n",
              "      --bg-color: #3B4455;\n",
              "      --fill-color: #D2E3FC;\n",
              "      --hover-bg-color: #434B5C;\n",
              "      --hover-fill-color: #FFFFFF;\n",
              "      --disabled-bg-color: #3B4455;\n",
              "      --disabled-fill-color: #666;\n",
              "  }\n",
              "\n",
              "  .colab-df-quickchart {\n",
              "    background-color: var(--bg-color);\n",
              "    border: none;\n",
              "    border-radius: 50%;\n",
              "    cursor: pointer;\n",
              "    display: none;\n",
              "    fill: var(--fill-color);\n",
              "    height: 32px;\n",
              "    padding: 0;\n",
              "    width: 32px;\n",
              "  }\n",
              "\n",
              "  .colab-df-quickchart:hover {\n",
              "    background-color: var(--hover-bg-color);\n",
              "    box-shadow: 0 1px 2px rgba(60, 64, 67, 0.3), 0 1px 3px 1px rgba(60, 64, 67, 0.15);\n",
              "    fill: var(--button-hover-fill-color);\n",
              "  }\n",
              "\n",
              "  .colab-df-quickchart-complete:disabled,\n",
              "  .colab-df-quickchart-complete:disabled:hover {\n",
              "    background-color: var(--disabled-bg-color);\n",
              "    fill: var(--disabled-fill-color);\n",
              "    box-shadow: none;\n",
              "  }\n",
              "\n",
              "  .colab-df-spinner {\n",
              "    border: 2px solid var(--fill-color);\n",
              "    border-color: transparent;\n",
              "    border-bottom-color: var(--fill-color);\n",
              "    animation:\n",
              "      spin 1s steps(1) infinite;\n",
              "  }\n",
              "\n",
              "  @keyframes spin {\n",
              "    0% {\n",
              "      border-color: transparent;\n",
              "      border-bottom-color: var(--fill-color);\n",
              "      border-left-color: var(--fill-color);\n",
              "    }\n",
              "    20% {\n",
              "      border-color: transparent;\n",
              "      border-left-color: var(--fill-color);\n",
              "      border-top-color: var(--fill-color);\n",
              "    }\n",
              "    30% {\n",
              "      border-color: transparent;\n",
              "      border-left-color: var(--fill-color);\n",
              "      border-top-color: var(--fill-color);\n",
              "      border-right-color: var(--fill-color);\n",
              "    }\n",
              "    40% {\n",
              "      border-color: transparent;\n",
              "      border-right-color: var(--fill-color);\n",
              "      border-top-color: var(--fill-color);\n",
              "    }\n",
              "    60% {\n",
              "      border-color: transparent;\n",
              "      border-right-color: var(--fill-color);\n",
              "    }\n",
              "    80% {\n",
              "      border-color: transparent;\n",
              "      border-right-color: var(--fill-color);\n",
              "      border-bottom-color: var(--fill-color);\n",
              "    }\n",
              "    90% {\n",
              "      border-color: transparent;\n",
              "      border-bottom-color: var(--fill-color);\n",
              "    }\n",
              "  }\n",
              "</style>\n",
              "\n",
              "  <script>\n",
              "    async function quickchart(key) {\n",
              "      const quickchartButtonEl =\n",
              "        document.querySelector('#' + key + ' button');\n",
              "      quickchartButtonEl.disabled = true;  // To prevent multiple clicks.\n",
              "      quickchartButtonEl.classList.add('colab-df-spinner');\n",
              "      try {\n",
              "        const charts = await google.colab.kernel.invokeFunction(\n",
              "            'suggestCharts', [key], {});\n",
              "      } catch (error) {\n",
              "        console.error('Error during call to suggestCharts:', error);\n",
              "      }\n",
              "      quickchartButtonEl.classList.remove('colab-df-spinner');\n",
              "      quickchartButtonEl.classList.add('colab-df-quickchart-complete');\n",
              "    }\n",
              "    (() => {\n",
              "      let quickchartButtonEl =\n",
              "        document.querySelector('#df-1a1a9788-b019-4183-a531-b159a6695b57 button');\n",
              "      quickchartButtonEl.style.display =\n",
              "        google.colab.kernel.accessAllowed ? 'block' : 'none';\n",
              "    })();\n",
              "  </script>\n",
              "</div>\n",
              "\n",
              "    </div>\n",
              "  </div>\n"
            ],
            "application/vnd.google.colaboratory.intrinsic+json": {
              "type": "dataframe",
              "summary": "{\n  \"name\": \"df_submit\",\n  \"rows\": 5,\n  \"fields\": [\n    {\n      \"column\": \"SK_ID_CURR\",\n      \"properties\": {\n        \"dtype\": \"number\",\n        \"std\": 15,\n        \"min\": 100001,\n        \"max\": 100038,\n        \"num_unique_values\": 5,\n        \"samples\": [\n          100005,\n          100038,\n          100013\n        ],\n        \"semantic_type\": \"\",\n        \"description\": \"\"\n      }\n    },\n    {\n      \"column\": \"TARGET\",\n      \"properties\": {\n        \"dtype\": \"number\",\n        \"std\": 0.06088143079456802,\n        \"min\": 0.01320725990644429,\n        \"max\": 0.16666869945425367,\n        \"num_unique_values\": 5,\n        \"samples\": [\n          0.079674342005182,\n          0.16666869945425367,\n          0.01320725990644429\n        ],\n        \"semantic_type\": \"\",\n        \"description\": \"\"\n      }\n    }\n  ]\n}"
            }
          },
          "metadata": {}
        }
      ],
      "source": [
        "# 最適なハイパーパラメータを取得\n",
        "best_params = study.best_params\n",
        "best_params.update(params_base)\n",
        "\n",
        "# モデルの再訓練\n",
        "cv = list(StratifiedKFold(n_splits=5, shuffle=True, random_state=123).split(X_train, y_train))\n",
        "for nfold in range(5):\n",
        "    idx_tr, idx_va = cv[nfold][0], cv[nfold][1]\n",
        "    x_tr, y_tr = X_train.loc[idx_tr, :], y_train[idx_tr]\n",
        "    x_va, y_va = X_train.loc[idx_va, :], y_train[idx_va]\n",
        "    x_tr.drop(columns=low_importance_cols, inplace=True)\n",
        "    x_va.drop(columns=low_importance_cols, inplace=True)\n",
        "    model = lgb.LGBMClassifier(**best_params)\n",
        "    model.fit(x_tr, y_tr,\n",
        "              eval_set=[(x_va, y_va)],\n",
        "              callbacks=[lgb.early_stopping(stopping_rounds=30, verbose=True)]\n",
        "             )\n",
        "    fname_lgb = \"model_lgb_fold{}.pickle\".format(nfold)\n",
        "    with open(fname_lgb, \"wb\") as f:\n",
        "        pickle.dump(model, f, protocol=4)\n",
        "\n",
        "list_nfold=[0,1,2,3,4]\n",
        "\n",
        "# テストデータで予測\n",
        "pred = np.zeros((len(x_test), len(cv)))\n",
        "for nfold in range(5):\n",
        "    print(\"-\"*20, nfold, \"-\"*20)\n",
        "    fname_lgb = \"model_lgb_fold{}.pickle\".format(nfold)\n",
        "    with open(fname_lgb, \"rb\") as f:\n",
        "        model = pickle.load(f)\n",
        "    pred[:, nfold] = model.predict_proba(x_test)[:, 1]\n",
        "\n",
        "# 平均予測の計算\n",
        "pred_lgb = pred.mean(axis=1)\n",
        "\n",
        "\n",
        "# 平均予測の計算\n",
        "pred = pd.concat([\n",
        "    id_test,\n",
        "    pd.DataFrame({\"pred\": pred.mean(axis=1)}),\n",
        "], axis=1)\n",
        "\n",
        "# 提出ファイルの作成\n",
        "df_submit = pred.rename(columns={\"pred\": \"TARGET\"})\n",
        "print(df_submit.shape)\n",
        "display(df_submit.head())\n",
        "\n",
        "# ファイル出力\n",
        "df_submit.to_csv(\"submission_baseline.csv\", index=None)\n"
      ]
    },
    {
      "cell_type": "code",
      "execution_count": 52,
      "metadata": {
        "id": "nWBLvC_Gi-eh",
        "colab": {
          "base_uri": "https://localhost:8080/",
          "height": 17
        },
        "outputId": "2c644ffa-8673-42a8-de80-1508cea36a58"
      },
      "outputs": [
        {
          "output_type": "display_data",
          "data": {
            "text/plain": [
              "<IPython.core.display.Javascript object>"
            ],
            "application/javascript": [
              "\n",
              "    async function download(id, filename, size) {\n",
              "      if (!google.colab.kernel.accessAllowed) {\n",
              "        return;\n",
              "      }\n",
              "      const div = document.createElement('div');\n",
              "      const label = document.createElement('label');\n",
              "      label.textContent = `Downloading \"${filename}\": `;\n",
              "      div.appendChild(label);\n",
              "      const progress = document.createElement('progress');\n",
              "      progress.max = size;\n",
              "      div.appendChild(progress);\n",
              "      document.body.appendChild(div);\n",
              "\n",
              "      const buffers = [];\n",
              "      let downloaded = 0;\n",
              "\n",
              "      const channel = await google.colab.kernel.comms.open(id);\n",
              "      // Send a message to notify the kernel that we're ready.\n",
              "      channel.send({})\n",
              "\n",
              "      for await (const message of channel.messages) {\n",
              "        // Send a message to notify the kernel that we're ready.\n",
              "        channel.send({})\n",
              "        if (message.buffers) {\n",
              "          for (const buffer of message.buffers) {\n",
              "            buffers.push(buffer);\n",
              "            downloaded += buffer.byteLength;\n",
              "            progress.value = downloaded;\n",
              "          }\n",
              "        }\n",
              "      }\n",
              "      const blob = new Blob(buffers, {type: 'application/binary'});\n",
              "      const a = document.createElement('a');\n",
              "      a.href = window.URL.createObjectURL(blob);\n",
              "      a.download = filename;\n",
              "      div.appendChild(a);\n",
              "      a.click();\n",
              "      div.remove();\n",
              "    }\n",
              "  "
            ]
          },
          "metadata": {}
        },
        {
          "output_type": "display_data",
          "data": {
            "text/plain": [
              "<IPython.core.display.Javascript object>"
            ],
            "application/javascript": [
              "download(\"download_38200e30-3817-4622-949f-fb8eee40ae02\", \"submission_baseline.csv\", 1322285)"
            ]
          },
          "metadata": {}
        }
      ],
      "source": [
        "from google.colab import files\n",
        "files.download('submission_baseline.csv')"
      ]
    },
    {
      "cell_type": "code",
      "execution_count": null,
      "metadata": {
        "id": "4BTq3keK6p5m"
      },
      "outputs": [],
      "source": [
        "X_train = train.drop([\"TARGET\"], axis=1)\n",
        "y_train = train[\"TARGET\"]\n",
        "\n",
        "id_train = train[[\"SK_ID_CURR\"]]\n",
        "for col in X_train.columns:\n",
        "    if X_train[col].dtype==\"O\":\n",
        "        X_train[col] = X_train[col].astype(\"category\")\n",
        "# データセットの作成\n",
        "x_test = test.copy()\n",
        "id_test = test[[\"SK_ID_CURR\"]].copy()\n",
        "#x_test.drop(columns=low_importance_cols, inplace=True)\n",
        "# カテゴリ変数をcategory型に変換\n",
        "for col in x_test.columns:\n",
        "    if x_test[col].dtype==\"O\":\n",
        "        x_test[col] = x_test[col].astype(\"category\")\n"
      ]
    },
    {
      "cell_type": "code",
      "execution_count": null,
      "metadata": {
        "id": "0Zu9cG2bZ0-0",
        "colab": {
          "base_uri": "https://localhost:8080/"
        },
        "outputId": "94cb5d84-6237-41e5-b4c3-513bcf76a5d8"
      },
      "outputs": [
        {
          "output_type": "stream",
          "name": "stdout",
          "text": [
            "(88454, 73)\n",
            "XGBoost AUC: 0.7510\n",
            "Test predictions (first 10): [0.0513533  0.24793787 0.21565157 0.17388137 0.28956205 0.05598103\n",
            " 0.24201037 0.08790964 0.21504192 0.15062656]\n"
          ]
        }
      ],
      "source": [
        "import xgboost as xgb\n",
        "from sklearn.metrics import roc_auc_score\n",
        "from sklearn.model_selection import train_test_split\n",
        "\n",
        "# モデルの設定\n",
        "xgb_params = {\n",
        "    'objective': 'binary:logistic',\n",
        "    'learning_rate': 0.05,\n",
        "    'n_estimators': 100,\n",
        "    'max_depth': 6,\n",
        "    'min_child_weight': 1,\n",
        "    'subsample': 0.8,\n",
        "    'colsample_bytree': 0.8,\n",
        "    'seed': 42,\n",
        "    'use_label_encoder': False  # ラベルエンコーダの警告を避けるために追加\n",
        "}\n",
        "\n",
        "x_tr, x_va, y_tr, y_va = train_test_split(X_train, y_train, test_size=0.2, random_state=42)\n",
        "print(x_tr.shape)\n",
        "\n",
        "# データをXGBoost用に変換\n",
        "dtrain = xgb.DMatrix(x_tr, label=y_tr, enable_categorical=True)\n",
        "dvalid = xgb.DMatrix(x_va, label=y_va, enable_categorical=True)\n",
        "\n",
        "\n",
        "# モデルの訓練\n",
        "xgb_model = xgb.train(xgb_params, dtrain, num_boost_round=100)\n",
        "\n",
        "# モデルの評価\n",
        "y_valid_pred = xgb_model.predict(dvalid)\n",
        "auc_score = roc_auc_score(y_va, y_valid_pred)\n",
        "print(\"XGBoost AUC: {:.4f}\".format(auc_score))\n",
        "\n",
        "# テストデータをXGBoost用に変換\n",
        "dtest = xgb.DMatrix(x_test, enable_categorical=True)\n",
        "# テストデータで予測\n",
        "pred_xgb = xgb_model.predict(dtest)\n",
        "\n",
        "# 結果の表示（例として先頭の10件を表示）\n",
        "print(\"Test predictions (first 10):\", pred_xgb[:10])"
      ]
    },
    {
      "cell_type": "code",
      "execution_count": null,
      "metadata": {
        "id": "tAYWzegbe9hT"
      },
      "outputs": [],
      "source": [
        "X_train = train_processed.copy()\n",
        "y_train = train[\"TARGET\"].copy()\n",
        "\n",
        "id_train = train_processed[[\"SK_ID_CURR\"]]\n",
        "for col in X_train.columns:\n",
        "    if X_train[col].dtype==\"O\":\n",
        "        X_train[col] = X_train[col].astype(\"category\")\n",
        "\n",
        "x_test = test_processed.copy()\n",
        "id_test = test[[\"SK_ID_CURR\"]].copy()\n",
        "# カテゴリ変数をcategory型に変換\n",
        "for col in x_test.columns:\n",
        "    if x_test[col].dtype==\"O\":\n",
        "        x_test[col] = x_test[col].astype(\"category\")"
      ]
    },
    {
      "cell_type": "code",
      "execution_count": null,
      "metadata": {
        "id": "ybq-hoJodUSC",
        "colab": {
          "base_uri": "https://localhost:8080/",
          "height": 1000
        },
        "outputId": "468aeb9b-e9fe-461c-c1e8-9ed6cade3242"
      },
      "outputs": [
        {
          "output_type": "stream",
          "name": "stdout",
          "text": [
            "Collecting catboost\n",
            "  Downloading catboost-1.2.5-cp310-cp310-manylinux2014_x86_64.whl (98.2 MB)\n",
            "\u001b[2K     \u001b[90m━━━━━━━━━━━━━━━━━━━━━━━━━━━━━━━━━━━━━━━━\u001b[0m \u001b[32m98.2/98.2 MB\u001b[0m \u001b[31m8.0 MB/s\u001b[0m eta \u001b[36m0:00:00\u001b[0m\n",
            "\u001b[?25hRequirement already satisfied: graphviz in /usr/local/lib/python3.10/dist-packages (from catboost) (0.20.3)\n",
            "Requirement already satisfied: matplotlib in /usr/local/lib/python3.10/dist-packages (from catboost) (3.7.1)\n",
            "Requirement already satisfied: numpy>=1.16.0 in /usr/local/lib/python3.10/dist-packages (from catboost) (1.25.2)\n",
            "Requirement already satisfied: pandas>=0.24 in /usr/local/lib/python3.10/dist-packages (from catboost) (2.0.3)\n",
            "Requirement already satisfied: scipy in /usr/local/lib/python3.10/dist-packages (from catboost) (1.11.4)\n",
            "Requirement already satisfied: plotly in /usr/local/lib/python3.10/dist-packages (from catboost) (5.15.0)\n",
            "Requirement already satisfied: six in /usr/local/lib/python3.10/dist-packages (from catboost) (1.16.0)\n",
            "Requirement already satisfied: python-dateutil>=2.8.2 in /usr/local/lib/python3.10/dist-packages (from pandas>=0.24->catboost) (2.8.2)\n",
            "Requirement already satisfied: pytz>=2020.1 in /usr/local/lib/python3.10/dist-packages (from pandas>=0.24->catboost) (2023.4)\n",
            "Requirement already satisfied: tzdata>=2022.1 in /usr/local/lib/python3.10/dist-packages (from pandas>=0.24->catboost) (2024.1)\n",
            "Requirement already satisfied: contourpy>=1.0.1 in /usr/local/lib/python3.10/dist-packages (from matplotlib->catboost) (1.2.1)\n",
            "Requirement already satisfied: cycler>=0.10 in /usr/local/lib/python3.10/dist-packages (from matplotlib->catboost) (0.12.1)\n",
            "Requirement already satisfied: fonttools>=4.22.0 in /usr/local/lib/python3.10/dist-packages (from matplotlib->catboost) (4.53.0)\n",
            "Requirement already satisfied: kiwisolver>=1.0.1 in /usr/local/lib/python3.10/dist-packages (from matplotlib->catboost) (1.4.5)\n",
            "Requirement already satisfied: packaging>=20.0 in /usr/local/lib/python3.10/dist-packages (from matplotlib->catboost) (24.1)\n",
            "Requirement already satisfied: pillow>=6.2.0 in /usr/local/lib/python3.10/dist-packages (from matplotlib->catboost) (9.4.0)\n",
            "Requirement already satisfied: pyparsing>=2.3.1 in /usr/local/lib/python3.10/dist-packages (from matplotlib->catboost) (3.1.2)\n",
            "Requirement already satisfied: tenacity>=6.2.0 in /usr/local/lib/python3.10/dist-packages (from plotly->catboost) (8.4.1)\n",
            "Installing collected packages: catboost\n",
            "Successfully installed catboost-1.2.5\n",
            "0:\ttest: 0.6899926\ttest1: 0.6924884\tbest: 0.6924884 (0)\ttotal: 99.5ms\tremaining: 49.6s\n",
            "10:\ttest: 0.7338240\ttest1: 0.7304320\tbest: 0.7304320 (10)\ttotal: 577ms\tremaining: 25.7s\n",
            "20:\ttest: 0.7419773\ttest1: 0.7361845\tbest: 0.7361845 (20)\ttotal: 1.07s\tremaining: 24.3s\n",
            "30:\ttest: 0.7477587\ttest1: 0.7400598\tbest: 0.7400598 (30)\ttotal: 1.58s\tremaining: 24s\n",
            "40:\ttest: 0.7533376\ttest1: 0.7442688\tbest: 0.7442688 (40)\ttotal: 2.48s\tremaining: 27.7s\n",
            "50:\ttest: 0.7572979\ttest1: 0.7462668\tbest: 0.7462668 (50)\ttotal: 3.26s\tremaining: 28.7s\n",
            "60:\ttest: 0.7604230\ttest1: 0.7478265\tbest: 0.7478265 (60)\ttotal: 3.74s\tremaining: 26.9s\n",
            "70:\ttest: 0.7632833\ttest1: 0.7485032\tbest: 0.7485032 (70)\ttotal: 4.2s\tremaining: 25.4s\n",
            "80:\ttest: 0.7662578\ttest1: 0.7497476\tbest: 0.7497476 (80)\ttotal: 4.68s\tremaining: 24.2s\n",
            "90:\ttest: 0.7685426\ttest1: 0.7502586\tbest: 0.7502638 (89)\ttotal: 5.15s\tremaining: 23.2s\n",
            "100:\ttest: 0.7707696\ttest1: 0.7507755\tbest: 0.7507755 (100)\ttotal: 5.64s\tremaining: 22.3s\n",
            "110:\ttest: 0.7731213\ttest1: 0.7513784\tbest: 0.7513784 (110)\ttotal: 6.12s\tremaining: 21.4s\n",
            "120:\ttest: 0.7754472\ttest1: 0.7525344\tbest: 0.7525344 (120)\ttotal: 6.59s\tremaining: 20.6s\n",
            "130:\ttest: 0.7775316\ttest1: 0.7530846\tbest: 0.7530846 (130)\ttotal: 7.1s\tremaining: 20s\n",
            "140:\ttest: 0.7796081\ttest1: 0.7533234\tbest: 0.7533853 (134)\ttotal: 7.57s\tremaining: 19.3s\n",
            "150:\ttest: 0.7816267\ttest1: 0.7538343\tbest: 0.7538343 (150)\ttotal: 8.4s\tremaining: 19.4s\n",
            "160:\ttest: 0.7841728\ttest1: 0.7543208\tbest: 0.7543265 (159)\ttotal: 9.32s\tremaining: 19.6s\n",
            "170:\ttest: 0.7864066\ttest1: 0.7542601\tbest: 0.7544310 (161)\ttotal: 10.3s\tremaining: 19.8s\n",
            "180:\ttest: 0.7885627\ttest1: 0.7546575\tbest: 0.7546575 (180)\ttotal: 11.2s\tremaining: 19.7s\n",
            "190:\ttest: 0.7905860\ttest1: 0.7548477\tbest: 0.7548477 (190)\ttotal: 12.1s\tremaining: 19.6s\n",
            "200:\ttest: 0.7924606\ttest1: 0.7550545\tbest: 0.7550545 (200)\ttotal: 12.6s\tremaining: 18.7s\n",
            "210:\ttest: 0.7944572\ttest1: 0.7553482\tbest: 0.7553482 (210)\ttotal: 13.1s\tremaining: 17.9s\n",
            "220:\ttest: 0.7964153\ttest1: 0.7555485\tbest: 0.7555485 (220)\ttotal: 13.5s\tremaining: 17.1s\n",
            "230:\ttest: 0.7982413\ttest1: 0.7556210\tbest: 0.7556210 (230)\ttotal: 14s\tremaining: 16.3s\n",
            "240:\ttest: 0.8003072\ttest1: 0.7561247\tbest: 0.7561247 (240)\ttotal: 14.5s\tremaining: 15.6s\n",
            "250:\ttest: 0.8019834\ttest1: 0.7563675\tbest: 0.7564720 (246)\ttotal: 15s\tremaining: 14.9s\n",
            "260:\ttest: 0.8036258\ttest1: 0.7566767\tbest: 0.7566767 (260)\ttotal: 15.4s\tremaining: 14.1s\n",
            "270:\ttest: 0.8055459\ttest1: 0.7569258\tbest: 0.7569622 (268)\ttotal: 15.9s\tremaining: 13.5s\n",
            "280:\ttest: 0.8073932\ttest1: 0.7568898\tbest: 0.7570640 (276)\ttotal: 16.4s\tremaining: 12.8s\n",
            "290:\ttest: 0.8091951\ttest1: 0.7565688\tbest: 0.7570640 (276)\ttotal: 16.9s\tremaining: 12.1s\n",
            "300:\ttest: 0.8112209\ttest1: 0.7564545\tbest: 0.7570640 (276)\ttotal: 17.4s\tremaining: 11.5s\n",
            "310:\ttest: 0.8128721\ttest1: 0.7565527\tbest: 0.7570640 (276)\ttotal: 17.8s\tremaining: 10.8s\n",
            "320:\ttest: 0.8143648\ttest1: 0.7565521\tbest: 0.7570640 (276)\ttotal: 18.3s\tremaining: 10.2s\n",
            "Stopped by overfitting detector  (50 iterations wait)\n",
            "\n",
            "bestTest = 0.757064018\n",
            "bestIteration = 276\n",
            "\n",
            "Shrink model to first 277 iterations.\n"
          ]
        },
        {
          "output_type": "display_data",
          "data": {
            "text/plain": [
              "<Figure size 1000x600 with 1 Axes>"
            ],
            "image/png": "[encoded data removed]"
          },
          "metadata": {}
        },
        {
          "output_type": "stream",
          "name": "stdout",
          "text": [
            "CatBoost Validation AUC: 0.7571\n"
          ]
        }
      ],
      "source": [
        "!pip install catboost\n",
        "from catboost import CatBoostClassifier, Pool\n",
        "from sklearn.metrics import roc_auc_score\n",
        "import matplotlib.pyplot as plt\n",
        "\n",
        "# モデルの設定\n",
        "cat_params = {\n",
        "    'iterations': 500,\n",
        "    'learning_rate': 0.1,\n",
        "    'depth': 6,\n",
        "    'loss_function': 'Logloss',\n",
        "    'eval_metric': 'AUC',\n",
        "    'verbose': 10,\n",
        "    'random_seed': 42\n",
        "}\n",
        "\n",
        "x_tr, x_va, y_tr, y_va = train_test_split(X_train, y_train, test_size=0.2, random_state=42)\n",
        "\n",
        "# データをCatBoost用に変換\n",
        "train_pool = Pool(data=x_tr, label=y_tr)\n",
        "valid_pool = Pool(data=x_va, label=y_va)\n",
        "\n",
        "# モデルの訓練\n",
        "cat_model = CatBoostClassifier(**cat_params)\n",
        "cat_model.fit(train_pool, eval_set=[(x_tr, y_tr), (x_va, y_va)], use_best_model=True, early_stopping_rounds=50)\n",
        "\n",
        "# 学習曲線のプロット\n",
        "evals_result = cat_model.get_evals_result()\n",
        "\n",
        "plt.figure(figsize=(10, 6))\n",
        "plt.plot(evals_result['validation_1']['AUC'], label='Validation AUC')\n",
        "plt.plot(evals_result['validation_0']['AUC'], label='Training AUC')\n",
        "plt.xlabel('Iterations')\n",
        "plt.ylabel('AUC')\n",
        "plt.title('Learning Curve')\n",
        "plt.legend()\n",
        "plt.show()\n",
        "\n",
        "# モデルの評価\n",
        "y_valid_pred = cat_model.predict_proba(x_va)[:, 1]\n",
        "auc_score = roc_auc_score(y_va, y_valid_pred)\n",
        "print(\"CatBoost Validation AUC: {:.4f}\".format(auc_score))"
      ]
    },
    {
      "cell_type": "code",
      "execution_count": null,
      "metadata": {
        "id": "6ElC6ndHdbfC",
        "colab": {
          "base_uri": "https://localhost:8080/"
        },
        "outputId": "72d02f69-d22c-4bce-eab2-5e2c7bb783f9"
      },
      "outputs": [
        {
          "output_type": "stream",
          "name": "stdout",
          "text": [
            "[0.04136156 0.30896819 0.25904955 ... 0.15314023 0.2032443  0.16949221]\n"
          ]
        }
      ],
      "source": [
        "# テストデータをCatBoost用に変換\n",
        "test_pool = Pool(data=x_test)\n",
        "\n",
        "# テストデータでの予測\n",
        "pred_cat = cat_model.predict_proba(test_pool)[:, 1]\n",
        "print(pred_cat)"
      ]
    },
    {
      "cell_type": "code",
      "execution_count": null,
      "metadata": {
        "id": "g2tI0WtnoNtV"
      },
      "outputs": [],
      "source": [
        "# すべてのモデルの予測を平均化\n",
        "#final_pred = (pred_lgb + pred_xgb + pred_cat) / 3\n",
        "final_pred = (pred_lgb + pred_cat) / 2"
      ]
    },
    {
      "cell_type": "code",
      "execution_count": null,
      "metadata": {
        "id": "DFlaDF-ozl3b",
        "colab": {
          "base_uri": "https://localhost:8080/",
          "height": 17
        },
        "outputId": "37fb4786-f3d6-44ca-deaf-9e914949dbdf"
      },
      "outputs": [
        {
          "output_type": "display_data",
          "data": {
            "text/plain": [
              "<IPython.core.display.Javascript object>"
            ],
            "application/javascript": [
              "\n",
              "    async function download(id, filename, size) {\n",
              "      if (!google.colab.kernel.accessAllowed) {\n",
              "        return;\n",
              "      }\n",
              "      const div = document.createElement('div');\n",
              "      const label = document.createElement('label');\n",
              "      label.textContent = `Downloading \"${filename}\": `;\n",
              "      div.appendChild(label);\n",
              "      const progress = document.createElement('progress');\n",
              "      progress.max = size;\n",
              "      div.appendChild(progress);\n",
              "      document.body.appendChild(div);\n",
              "\n",
              "      const buffers = [];\n",
              "      let downloaded = 0;\n",
              "\n",
              "      const channel = await google.colab.kernel.comms.open(id);\n",
              "      // Send a message to notify the kernel that we're ready.\n",
              "      channel.send({})\n",
              "\n",
              "      for await (const message of channel.messages) {\n",
              "        // Send a message to notify the kernel that we're ready.\n",
              "        channel.send({})\n",
              "        if (message.buffers) {\n",
              "          for (const buffer of message.buffers) {\n",
              "            buffers.push(buffer);\n",
              "            downloaded += buffer.byteLength;\n",
              "            progress.value = downloaded;\n",
              "          }\n",
              "        }\n",
              "      }\n",
              "      const blob = new Blob(buffers, {type: 'application/binary'});\n",
              "      const a = document.createElement('a');\n",
              "      a.href = window.URL.createObjectURL(blob);\n",
              "      a.download = filename;\n",
              "      div.appendChild(a);\n",
              "      a.click();\n",
              "      div.remove();\n",
              "    }\n",
              "  "
            ]
          },
          "metadata": {}
        },
        {
          "output_type": "display_data",
          "data": {
            "text/plain": [
              "<IPython.core.display.Javascript object>"
            ],
            "application/javascript": [
              "download(\"download_7ad05ab0-9434-4776-8777-176e285c8cff\", \"submission.csv\", 1653852)"
            ]
          },
          "metadata": {}
        }
      ],
      "source": [
        "# 提出ファイルの作成\n",
        "submission = pd.DataFrame({\n",
        "    'SK_ID_CURR': id_test['SK_ID_CURR'],\n",
        "    'TARGET': final_pred\n",
        "})\n",
        "\n",
        "# ファイルの保存\n",
        "submission.to_csv('submission.csv', index=False)\n",
        "from google.colab import files\n",
        "files.download('submission.csv')"
      ]
    },
    {
      "cell_type": "code",
      "source": [
        "print(submission)"
      ],
      "metadata": {
        "id": "w563LyQbm2Pa",
        "colab": {
          "base_uri": "https://localhost:8080/"
        },
        "outputId": "e6428852-6e6b-4562-fc89-6bb090e0bc67"
      },
      "execution_count": null,
      "outputs": [
        {
          "output_type": "stream",
          "name": "stdout",
          "text": [
            "       SK_ID_CURR    TARGET\n",
            "0          171202  0.044939\n",
            "1          171203  0.325630\n",
            "2          171204  0.258825\n",
            "3          171205  0.146678\n",
            "4          171206  0.279745\n",
            "...           ...       ...\n",
            "61495      232697  0.232991\n",
            "61496      232698  0.056339\n",
            "61497      232699  0.117874\n",
            "61498      232700  0.220518\n",
            "61499      232701  0.180078\n",
            "\n",
            "[61500 rows x 2 columns]\n"
          ]
        }
      ]
    },
    {
      "cell_type": "code",
      "source": [],
      "metadata": {
        "id": "QOFNbzR0RPdF"
      },
      "execution_count": null,
      "outputs": []
    }
  ],
  "metadata": {
    "colab": {
      "provenance": [],
      "authorship_tag": "ABX9TyMj6/LWNBBCdnc2wg0KNVON",
      "include_colab_link": true
    },
    "kernelspec": {
      "display_name": "Python 3",
      "name": "python3"
    },
    "language_info": {
      "name": "python"
    }
  },
  "nbformat": 4,
  "nbformat_minor": 0
}